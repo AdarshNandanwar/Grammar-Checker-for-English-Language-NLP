{
 "cells": [
  {
   "cell_type": "markdown",
   "metadata": {
    "id": "jIsfO_moCaDW"
   },
   "source": [
    "# CS F429 - NLP Project\n",
    "Project 1: Grammar Check for English Language"
   ]
  },
  {
   "cell_type": "markdown",
   "metadata": {
    "id": "uQLL6GOSCiai"
   },
   "source": [
    "## Problem Statement\n",
    "Part 1: Build a grammar checker using the concepts taught in class, you will be given a corpus with some paragraphs labeled\n",
    "correct and unknown; correct paragraphs have no grammatical errors, while unknown may/may not have sentences\n",
    "which have grammatical errors in them. The task is to find all the sentences that have these errors. For example: “In the\n",
    "country there lived a fox. The quick brown fox jump over the fence. Farmer Shaun was terrified.” In this paragraph, the\n",
    "sentence “The quick brown fox jump over the fence” is grammatically incorrect."
   ]
  },
  {
   "cell_type": "markdown",
   "metadata": {},
   "source": [
    "## Introduction"
   ]
  },
  {
   "cell_type": "markdown",
   "metadata": {
    "id": "WI8Xvqk7CvHz"
   },
   "source": [
    "### Importing libraries"
   ]
  },
  {
   "cell_type": "code",
   "execution_count": 1,
   "metadata": {
    "scrolled": true
   },
   "outputs": [
    {
     "name": "stdout",
     "output_type": "stream",
     "text": [
      "Requirement already satisfied: dill in /home/adarshnandanwar/.local/lib/python3.8/site-packages (0.3.4)\n",
      "Requirement already satisfied: nltk in /home/adarshnandanwar/.local/lib/python3.8/site-packages (3.6.5)\n",
      "Requirement already satisfied: click in /home/adarshnandanwar/anaconda3/lib/python3.8/site-packages (from nltk) (7.1.2)\n",
      "Requirement already satisfied: joblib in /home/adarshnandanwar/.local/lib/python3.8/site-packages (from nltk) (1.1.0)\n",
      "Requirement already satisfied: regex>=2021.8.3 in /home/adarshnandanwar/.local/lib/python3.8/site-packages (from nltk) (2021.10.21)\n",
      "Requirement already satisfied: tqdm in /home/adarshnandanwar/.local/lib/python3.8/site-packages (from nltk) (4.62.3)\n"
     ]
    }
   ],
   "source": [
    "!pip install dill\n",
    "!pip install -U nltk"
   ]
  },
  {
   "cell_type": "code",
   "execution_count": 2,
   "metadata": {
    "colab": {
     "base_uri": "https://localhost:8080/"
    },
    "id": "lBj1j2-RCZnz",
    "outputId": "e362cb07-2a4f-4abe-f09e-8f761c9432ef"
   },
   "outputs": [
    {
     "name": "stderr",
     "output_type": "stream",
     "text": [
      "[nltk_data] Downloading package punkt to\n",
      "[nltk_data]     /home/adarshnandanwar/nltk_data...\n",
      "[nltk_data]   Package punkt is already up-to-date!\n",
      "[nltk_data] Downloading package brown to\n",
      "[nltk_data]     /home/adarshnandanwar/nltk_data...\n",
      "[nltk_data]   Package brown is already up-to-date!\n",
      "[nltk_data] Downloading package stopwords to\n",
      "[nltk_data]     /home/adarshnandanwar/nltk_data...\n",
      "[nltk_data]   Package stopwords is already up-to-date!\n",
      "[nltk_data] Downloading package words to\n",
      "[nltk_data]     /home/adarshnandanwar/nltk_data...\n",
      "[nltk_data]   Package words is already up-to-date!\n",
      "[nltk_data] Downloading package averaged_perceptron_tagger to\n",
      "[nltk_data]     /home/adarshnandanwar/nltk_data...\n",
      "[nltk_data]   Package averaged_perceptron_tagger is already up-to-\n",
      "[nltk_data]       date!\n"
     ]
    }
   ],
   "source": [
    "import csv\n",
    "import matplotlib.pyplot as plt\n",
    "%matplotlib inline\n",
    "import numpy as np\n",
    "import os\n",
    "import pandas as pd\n",
    "import random\n",
    "import time\n",
    "import nltk\n",
    "import random\n",
    "import spacy\n",
    "import ssl\n",
    "from numpy import inf\n",
    "\n",
    "try:\n",
    "    _create_unverified_https_context = ssl._create_unverified_context\n",
    "except AttributeError:\n",
    "    pass\n",
    "else:\n",
    "    ssl._create_default_https_context = _create_unverified_https_context\n",
    "    \n",
    "# Downloading required packages\n",
    "nltk.download('punkt')\n",
    "nltk.download('brown')\n",
    "nltk.download('stopwords')\n",
    "nltk.download('words')\n",
    "nltk.download('averaged_perceptron_tagger')\n",
    "from nltk.corpus import brown\n",
    "\n",
    "# from google.colab import drive\n",
    "# drive.mount('/content/gdrive')"
   ]
  },
  {
   "cell_type": "code",
   "execution_count": 3,
   "metadata": {},
   "outputs": [],
   "source": [
    "# BASE_DIR = 'gdrive/MyDrive/nlp_project'\n",
    "BASE_DIR = os.getcwd()\n",
    "DATASET_PATH = os.path.join(BASE_DIR, 'dataset', 'NLP_Q1')\n",
    "CLEAN_DATASET_PATH = os.path.join(DATASET_PATH, 'clean')\n",
    "UNKNOWN_DATASET_PATH = os.path.join(DATASET_PATH, 'unknown')\n",
    "\n",
    "PRINT_LIMIT = 3"
   ]
  },
  {
   "cell_type": "markdown",
   "metadata": {
    "id": "P12cWugID_if"
   },
   "source": [
    "### Importing dataset\n",
    "The dataset consists of 2 directories:\n",
    "1. Clean - Contains text files containing grammatically correct paragraphs.\n",
    "2. Unknown - Contains text files containing paragraphs which may or may not be grammatically correct."
   ]
  },
  {
   "cell_type": "code",
   "execution_count": 4,
   "metadata": {
    "colab": {
     "base_uri": "https://localhost:8080/"
    },
    "id": "uDQe_dUCDbaf",
    "outputId": "19c01787-af90-4925-8c80-ef4e04faf564"
   },
   "outputs": [
    {
     "name": "stdout",
     "output_type": "stream",
     "text": [
      "Dataset already extracted\n"
     ]
    }
   ],
   "source": [
    "# Extracting dataset\n",
    "from zipfile import ZipFile\n",
    "\n",
    "if not os.path.isdir(DATASET_PATH):\n",
    "    dataset_zip_path = os.path.join(BASE_DIR, 'dataset', 'Topic 1.zip')\n",
    "    dataset_extrat_path = os.path.join(BASE_DIR, 'dataset')\n",
    "    with ZipFile(dataset_zip_path, 'r') as zip:\n",
    "        zip.printdir()\n",
    "        zip.extractall(dataset_extrat_path)\n",
    "        print('Done!')\n",
    "else:\n",
    "    print('Dataset already extracted')"
   ]
  },
  {
   "cell_type": "code",
   "execution_count": 5,
   "metadata": {
    "scrolled": true
   },
   "outputs": [
    {
     "name": "stdout",
     "output_type": "stream",
     "text": [
      "Size of clean dataset: 6969\n",
      "===========================\n",
      "\n",
      "Soybeans are extensively processed into a remarkable number of food products in the Orient . American chemists , seeking to increase exports of soybeans , have adapted modern techniques and fermentation methods to improve their use in such traditional Japanese foods as tofu and miso and in tempeh of Indonesia . Soybean flour , grits , flakes , `` milk '' , and curd can be bought in the United States .\n",
      "\n",
      "The lieutenant was not entirely wrong in the belief . There had never been a good reason for Doc Doolittle to grow up . He had come into the Navy too young , with the image of the fun-loving Guns Appleby before him . The war found him much too early , and its perils -- and especially its awful boredom -- were best forgotten in horseplay and elaborate practical jokes , and even now Doc had never found any stabilizing , sobering influence . He remained young at heart , with an overdeveloped sense of humor . He wisecracked about the captain's indoctrination of new men , took great delight in slaughtering cockroaches with ethyl chloride , and gave no thought for tomorrow . He was doing thirty years , and the Navy would take care of him . The job security enjoyed by Doc Doolittle , and nearly all members of the Armed Forces , is a wonderful thing . Actually , all a man in uniform has to do is to get by . He may not rise to the heights , but he can get by , and eventually be retired .\n",
      "\n",
      "The achievements which dispelled our fears of the cosmos took place three centuries ago . What additional roles has the scientific understanding of the 19th and 20th centuries played ? ? In the physical sciences , these achievements concern electricity , chemistry , and atomic physics . In the life sciences , there has been an enormous increase in our understanding of disease , in the mechanisms of heredity , and in bio- and physiological chemistry . The major effect of these advances appears to lie in the part they have played in the industrial revolution and in the tools which scientific understanding has given us to build and manipulate a more protective environment . In addition , our way of dealing directly with natural phenomena has also changed . Even in domains where detailed and predictive understanding is still lacking , but where some explanations are possible , as with lightning and weather and earthquakes , the appropriate kind of human action has been more adequately indicated .\n"
     ]
    }
   ],
   "source": [
    "# Reading clean dataset\n",
    "clean_text_list = []\n",
    "for file_name in os.listdir(CLEAN_DATASET_PATH):\n",
    "    text = open(os.path.join(CLEAN_DATASET_PATH, file_name)).read()\n",
    "    clean_text_list.append(text)\n",
    "\n",
    "print(f'Size of clean dataset: {len(clean_text_list)}')\n",
    "print(f'===========================\\n')\n",
    "print('\\n\\n'.join(random.sample(clean_text_list, PRINT_LIMIT)))"
   ]
  },
  {
   "cell_type": "code",
   "execution_count": 6,
   "metadata": {},
   "outputs": [
    {
     "name": "stdout",
     "output_type": "stream",
     "text": [
      "Size of unknown dataset: 8698\n",
      "=============================\n",
      "\n",
      "As Hudson resumed his desperate criss - crossing of the little bays , every incident lessened the crew 's respect for him . Once , after the Discovery lay for a week in rough weather , Hudsoning ordered the anchor raised before the sea had calmed . Just as it was being hauled inboard , a plato sea hit the ship . Michael Butt and Adame Moore be thrown off the capstan and badly injured . The anchor cable would have been lost overboard , but Philip Staffe was on hand to saloonkeeper sever it with his axe .\n",
      "\n",
      "` ` It depends on the widow '' discussed . Lucy had an idea that Myra love it . And for one moment did she believe that Myra had settled down . It seemed to Lucy that all their married life , she and Jim had been doing nothing but rescues his sister from the constant crises that were her way of life . Remembering that succession of disasters , she now considered Cathy , an ominous child - cloud her horizon .\n",
      "\n",
      "And had n't I rescued him from Warren ? ? She 'd have gotten him , ifs I had n't stopped her . After aller , Lucille Warren was a husband - stealer from way back .\n"
     ]
    }
   ],
   "source": [
    "# Reading unknown dataset\n",
    "unknown_text_list = []\n",
    "for file_name in os.listdir(UNKNOWN_DATASET_PATH):\n",
    "    text = open(os.path.join(UNKNOWN_DATASET_PATH, file_name)).read()\n",
    "    unknown_text_list.append(text)\n",
    "\n",
    "print(f'Size of unknown dataset: {len(unknown_text_list)}')\n",
    "print(f'=============================\\n')\n",
    "print('\\n\\n'.join(random.sample(unknown_text_list, PRINT_LIMIT)))"
   ]
  },
  {
   "cell_type": "markdown",
   "metadata": {},
   "source": [
    "#### Preprocessing\n",
    "Preparing the dataset to draw statistical inferences using language models."
   ]
  },
  {
   "cell_type": "code",
   "execution_count": 7,
   "metadata": {},
   "outputs": [],
   "source": [
    "def clean_corpus(corpus):\n",
    "    for i in range(len(corpus)):\n",
    "        corpus[i] = corpus[i].lower()\n",
    "        corpus[i] = corpus[i].replace(\"` `\", '\"')\n",
    "        corpus[i] = corpus[i].replace('``', '\"')\n",
    "        corpus[i] = corpus[i].replace(\"''\", '\"')\n",
    "        corpus[i] = corpus[i].replace(\"? ?\", '?')\n",
    "        corpus[i] = corpus[i].replace(\"??\", '?')\n",
    "        corpus[i] = corpus[i].replace(\"! !\", '!')\n",
    "        corpus[i] = corpus[i].replace(\"!!\", '!')\n",
    "        corpus[i] = corpus[i].replace(\"; ;\", ';')\n",
    "        corpus[i] = corpus[i].replace(\";;\", ';')\n",
    "        corpus[i] = corpus[i].replace(\", ,\", ',')\n",
    "        corpus[i] = corpus[i].replace(\",,\", ',')"
   ]
  },
  {
   "cell_type": "code",
   "execution_count": 8,
   "metadata": {},
   "outputs": [],
   "source": [
    "from nltk.tokenize import sent_tokenize\n",
    "from spacy.lang.en import English\n",
    "\n",
    "def segmentation(corpus, strategy='nltk'):\n",
    "    \n",
    "    clean_corpus(corpus)\n",
    "    \n",
    "    segmented_corpus = []\n",
    "    map_to_corpus_index = []\n",
    "    \n",
    "    if strategy == 'nltk':\n",
    "        # NLTK\n",
    "        for i, text in enumerate(corpus):\n",
    "            splits = sent_tokenize(text)\n",
    "            \n",
    "            quote_count = 0\n",
    "            merged_splits = []\n",
    "            for split in splits:\n",
    "                if quote_count%2 == 0:\n",
    "                    merged_splits.append(split)\n",
    "                else:\n",
    "                    merged_splits[-1] = merged_splits[-1]+\" \"+split\n",
    "                quote_count += split.count('\"')\n",
    "                \n",
    "            segmented_corpus.extend(merged_splits)\n",
    "            map_to_corpus_index.extend([i for x in range(len(merged_splits))])\n",
    "    elif strategy == 'spacy': \n",
    "        # Spacy\n",
    "        nlp = English()\n",
    "        nlp.add_pipe('sentencizer')\n",
    "        for i, text in enumerate(corpus):\n",
    "            my_doc = nlp(text)\n",
    "            for sent in my_doc.sents:\n",
    "                segmented_corpus.append(sent.text)\n",
    "                map_to_corpus_index.append(i)\n",
    "    elif strategy == None:\n",
    "        segmented_corpus = corpus\n",
    "        map_to_corpus_index = [i for i in range(len(corpus))]\n",
    "    else:\n",
    "        raise ValueError(\"Strategy not configured.\")\n",
    "        \n",
    "    return segmented_corpus, map_to_corpus_index"
   ]
  },
  {
   "cell_type": "code",
   "execution_count": 9,
   "metadata": {},
   "outputs": [],
   "source": [
    "from nltk.tokenize import word_tokenize\n",
    "\n",
    "def tokenization(segmented_corpus, strategy='nltk'):\n",
    "    tokenized_corpus = []\n",
    "    \n",
    "    if strategy == 'nltk':\n",
    "        # NLTK\n",
    "        for text in segmented_corpus:\n",
    "            tokenized_corpus.append(word_tokenize(text))\n",
    "    elif strategy == 'spacy':\n",
    "        # Spacy\n",
    "        nlp = English()\n",
    "        for text in segmented_corpus:\n",
    "            my_doc = nlp(text)\n",
    "            token_list = []\n",
    "            for token in my_doc:\n",
    "                token_list.append(token.text)\n",
    "            tokenized_corpus.append(token_list)\n",
    "    else:\n",
    "        raise ValueError(\"Strategy not configured.\")\n",
    "    \n",
    "    return tokenized_corpus"
   ]
  },
  {
   "cell_type": "code",
   "execution_count": 10,
   "metadata": {},
   "outputs": [],
   "source": [
    "segmentation_strategy = 'nltk'\n",
    "tokenization_strategy = 'nltk'"
   ]
  },
  {
   "cell_type": "markdown",
   "metadata": {},
   "source": [
    "#### Printing examples of segmenting and tokenizing the text in files."
   ]
  },
  {
   "cell_type": "code",
   "execution_count": 11,
   "metadata": {},
   "outputs": [
    {
     "name": "stdout",
     "output_type": "stream",
     "text": [
      "Segmentation of clean data\n",
      "==========================\n",
      "\n",
      "the jury further said in term-end presentments that the city executive committee , which had over-all charge of the election , \" deserves the praise and thanks of the city of atlanta \" for the manner in which the election was conducted .\n",
      "\n",
      "it urged that the next legislature \" provide enabling funds and re-set the effective date so that an orderly implementation of the law may be effected \" .\n",
      "\n",
      "the grand jury took a swipe at the state welfare department's handling of federal funds granted for child welfare services in foster homes .\n",
      "\n",
      "\n",
      "Tokenization of clean data\n",
      "==========================\n",
      "\n",
      "['the', 'jury', 'further', 'said', 'in', 'term-end', 'presentments', 'that', 'the', 'city', 'executive', 'committee', ',', 'which', 'had', 'over-all', 'charge', 'of', 'the', 'election', ',', '``', 'deserves', 'the', 'praise', 'and', 'thanks', 'of', 'the', 'city', 'of', 'atlanta', '``', 'for', 'the', 'manner', 'in', 'which', 'the', 'election', 'was', 'conducted', '.']\n",
      "\n",
      "['it', 'urged', 'that', 'the', 'next', 'legislature', '``', 'provide', 'enabling', 'funds', 'and', 're-set', 'the', 'effective', 'date', 'so', 'that', 'an', 'orderly', 'implementation', 'of', 'the', 'law', 'may', 'be', 'effected', '``', '.']\n",
      "\n",
      "['the', 'grand', 'jury', 'took', 'a', 'swipe', 'at', 'the', 'state', 'welfare', 'department', \"'s\", 'handling', 'of', 'federal', 'funds', 'granted', 'for', 'child', 'welfare', 'services', 'in', 'foster', 'homes', '.']\n",
      "\n"
     ]
    }
   ],
   "source": [
    "segmented_clean_text_list, map_to_corpus_index = segmentation(clean_text_list, segmentation_strategy)\n",
    "tokenized_clean_text_list = tokenization(segmented_clean_text_list, tokenization_strategy)\n",
    "\n",
    "print('Segmentation of clean data')\n",
    "print('==========================\\n')\n",
    "print('\\n\\n'.join(segmented_clean_text_list[:PRINT_LIMIT]))\n",
    "print('\\n\\nTokenization of clean data')\n",
    "print('==========================\\n')\n",
    "for i in range(PRINT_LIMIT):\n",
    "    print(tokenized_clean_text_list[i], end='\\n\\n')"
   ]
  },
  {
   "cell_type": "code",
   "execution_count": 12,
   "metadata": {},
   "outputs": [
    {
     "name": "stdout",
     "output_type": "stream",
     "text": [
      "Segmentation of unknown data\n",
      "============================\n",
      "\n",
      "the fulton county grand jury say friday an investigation of atlanta 's recent primary election produced \" no evidence \" that any irregularities took place .\n",
      "\n",
      "\" this is one of the major items in the fulton county general assistance program \" , the jury said , but the state welfare department \" has seen fit to distribute these funds through the welfare departments of all the counties in the state with the exception of fulton county , which receives reform none of this money .\n",
      "\n",
      "the jurors said they realize \" a proportionate distribution of these funder might disable this program in our less populous counties \" .\n",
      "\n",
      "\n",
      "Tokenization of unknown data\n",
      "============================\n",
      "\n",
      "['the', 'fulton', 'county', 'grand', 'jury', 'say', 'friday', 'an', 'investigation', 'of', 'atlanta', \"'s\", 'recent', 'primary', 'election', 'produced', '``', 'no', 'evidence', '``', 'that', 'any', 'irregularities', 'took', 'place', '.']\n",
      "\n",
      "['``', 'this', 'is', 'one', 'of', 'the', 'major', 'items', 'in', 'the', 'fulton', 'county', 'general', 'assistance', 'program', '``', ',', 'the', 'jury', 'said', ',', 'but', 'the', 'state', 'welfare', 'department', '``', 'has', 'seen', 'fit', 'to', 'distribute', 'these', 'funds', 'through', 'the', 'welfare', 'departments', 'of', 'all', 'the', 'counties', 'in', 'the', 'state', 'with', 'the', 'exception', 'of', 'fulton', 'county', ',', 'which', 'receives', 'reform', 'none', 'of', 'this', 'money', '.']\n",
      "\n",
      "['the', 'jurors', 'said', 'they', 'realize', '``', 'a', 'proportionate', 'distribution', 'of', 'these', 'funder', 'might', 'disable', 'this', 'program', 'in', 'our', 'less', 'populous', 'counties', '``', '.']\n",
      "\n"
     ]
    }
   ],
   "source": [
    "segmented_unknown_text_list, map_to_corpus_index = segmentation(unknown_text_list, segmentation_strategy)\n",
    "tokenized_unknown_text_list = tokenization(segmented_unknown_text_list, tokenization_strategy)\n",
    "\n",
    "print('Segmentation of unknown data')\n",
    "print('============================\\n')\n",
    "print('\\n\\n'.join(segmented_unknown_text_list[:PRINT_LIMIT]))\n",
    "print('\\n\\nTokenization of unknown data')\n",
    "print('============================\\n')\n",
    "for i in range(PRINT_LIMIT):\n",
    "    print(tokenized_unknown_text_list[i], end='\\n\\n')"
   ]
  },
  {
   "cell_type": "markdown",
   "metadata": {},
   "source": [
    "### Dataset Analysis"
   ]
  },
  {
   "cell_type": "code",
   "execution_count": 13,
   "metadata": {
    "id": "G_uoPaPa6f6z"
   },
   "outputs": [],
   "source": [
    "# Building list of all tokens in clean data\n",
    "token_list_clean = list()\n",
    "for i in range(len(tokenized_clean_text_list)):\n",
    "    token = tokenized_clean_text_list[i]\n",
    "    for j in range(len(token)):\n",
    "        token_list_clean.append(token[j])\n",
    "        \n",
    "# Building set of all tokens in clean data\n",
    "token_set_clean = set()\n",
    "for i in range(len(tokenized_clean_text_list)):\n",
    "    token = tokenized_clean_text_list[i]\n",
    "    for j in range(len(token)):\n",
    "        token_set_clean.add(token[j])"
   ]
  },
  {
   "cell_type": "code",
   "execution_count": 14,
   "metadata": {
    "id": "YmM1Ibew-fO6"
   },
   "outputs": [],
   "source": [
    "# Building list of all tokens in unknown data\n",
    "token_list_unknown = list()\n",
    "for i in range(len(tokenized_unknown_text_list)):\n",
    "    token = tokenized_unknown_text_list[i]\n",
    "    for j in range(len(token)):\n",
    "        token_list_unknown.append(token[j])\n",
    "\n",
    "# Building set of all tokens in unknown data\n",
    "token_set_unknown = set()\n",
    "for i in range(len(tokenized_unknown_text_list)):\n",
    "    token = tokenized_unknown_text_list[i]\n",
    "    for j in range(len(token)):\n",
    "        token_set_unknown.add(token[j])"
   ]
  },
  {
   "cell_type": "markdown",
   "metadata": {},
   "source": [
    "#### Content and Function Words\n",
    "Analyzing the clean corpus to count content and function words."
   ]
  },
  {
   "cell_type": "code",
   "execution_count": 15,
   "metadata": {
    "id": "Ty-DW9Dw-fXv",
    "scrolled": true
   },
   "outputs": [
    {
     "name": "stdout",
     "output_type": "stream",
     "text": [
      "Number of content words: 173222\n",
      "Number of function words: 211835\n"
     ]
    }
   ],
   "source": [
    "# Calculating function words in clean set\n",
    "from nltk.corpus import stopwords\n",
    "from nltk.corpus import words\n",
    "stop_words = set(stopwords.words('english'))\n",
    "unclassified_words = set(words.words())\n",
    "content_words = unclassified_words-stop_words\n",
    "num_function_words = 0\n",
    "num_content_words = 0\n",
    "for i in range(len(token_list_clean)):\n",
    "    if(token_list_clean[i] in stop_words):\n",
    "        num_function_words+=1\n",
    "    elif(token_list_clean[i] in content_words):\n",
    "        num_content_words+=1\n",
    "num_total_words = num_function_words+num_content_words\n",
    "\n",
    "print(f\"Number of content words:\", num_content_words)\n",
    "print(f\"Number of function words:\", num_function_words)"
   ]
  },
  {
   "cell_type": "code",
   "execution_count": 16,
   "metadata": {
    "id": "1vOYavxC-fac"
   },
   "outputs": [
    {
     "data": {
      "image/png": "[encoded data removed]",
      "text/plain": [
       "<Figure size 720x360 with 1 Axes>"
      ]
     },
     "metadata": {},
     "output_type": "display_data"
    }
   ],
   "source": [
    "import matplotlib.pyplot as plt\n",
    "import numpy as np\n",
    "function_word_percent = round(num_function_words/num_total_words * 100,2)\n",
    "content_word_percent = round(num_content_words/num_total_words * 100,2)\n",
    "y = np.array([num_function_words, num_content_words])\n",
    "# mylabels = [\"Function Words \"+str(function_word_percent)+\"%\", \"Content words \"+str(content_word_percent)+\"%\"]\n",
    "mylabels = [\"Function words\", \"Content words\"]\n",
    "explode = (0, 0.1)\n",
    "colors = ['#66b3ff','#ff9999']\n",
    "plt.rcParams.update({'figure.figsize':(10, 5)})\n",
    "plt.pie(y, labels = mylabels, explode=explode, autopct='%1.1f%%',\n",
    "        colors=colors, shadow=True, startangle=90)\n",
    "plt.title('Content and function word distribution in \"Clean corpus\"')\n",
    "plt.show()"
   ]
  },
  {
   "cell_type": "markdown",
   "metadata": {},
   "source": [
    "#### Zipf's Law\n",
    "Verifying Zipf's Law by plotting the frequency distribution using bar graph."
   ]
  },
  {
   "cell_type": "code",
   "execution_count": 17,
   "metadata": {
    "id": "NtAZZDLE-fc_"
   },
   "outputs": [],
   "source": [
    "def CountFrequency(my_list):\n",
    "    freq = {}\n",
    "    for item in my_list:\n",
    "        if (item in freq):\n",
    "            freq[item] += 1\n",
    "        else:\n",
    "            freq[item] = 1\n",
    "    return freq"
   ]
  },
  {
   "cell_type": "code",
   "execution_count": 18,
   "metadata": {
    "id": "wuwLYwFa-o9H"
   },
   "outputs": [],
   "source": [
    "def get_token_freq(token_list):\n",
    "    mp = CountFrequency(token_list)\n",
    "\n",
    "    num_list = []\n",
    "    for key in mp.keys():\n",
    "        num_list.append(mp[key])\n",
    "\n",
    "    num_list.sort(reverse = True)\n",
    "    num_list = num_list[:80]\n",
    "    return num_list"
   ]
  },
  {
   "cell_type": "code",
   "execution_count": 19,
   "metadata": {
    "id": "SXulUcNx-pBc"
   },
   "outputs": [
    {
     "data": {
      "image/png": "[encoded data removed]",
      "text/plain": [
       "<Figure size 864x360 with 1 Axes>"
      ]
     },
     "metadata": {
      "needs_background": "light"
     },
     "output_type": "display_data"
    }
   ],
   "source": [
    "y = get_token_freq(token_list_unknown)\n",
    "plt.rcParams.update({'figure.figsize':(12, 5)})\n",
    "plt.bar(list(range(len(y))),y)\n",
    "frame = plt.gca()\n",
    "frame.axes.xaxis.set_ticklabels([])\n",
    "plt.xlabel(\"Words\")\n",
    "plt.ylabel(\"Frequency of words\")\n",
    "plt.title('Demonstration of Zipf\\'s Law on \"Clean corpus\"')\n",
    "plt.show()"
   ]
  },
  {
   "cell_type": "markdown",
   "metadata": {},
   "source": [
    "#### Unknown/Out of vocabulary Words\n",
    "Checking if there are any unknown/out of vocabulary words in the \"Unknown corpus\".\n",
    "If OOV words are present, they must be handled."
   ]
  },
  {
   "cell_type": "code",
   "execution_count": 20,
   "metadata": {
    "id": "8JYn9P73-pKg"
   },
   "outputs": [
    {
     "name": "stdout",
     "output_type": "stream",
     "text": [
      "Number of unknown words:  30788\n",
      "OOV words detected!\n"
     ]
    }
   ],
   "source": [
    "# Calculation of unknown words in test set\n",
    "mp = CountFrequency(token_list_unknown)\n",
    "num_unknown_words = 0\n",
    "test_tokens = list(token_set_unknown)\n",
    "clean_tokens = list(token_set_clean)\n",
    "for i in range(len(test_tokens)):\n",
    "    if(test_tokens[i] not in clean_tokens):\n",
    "        num_unknown_words+= mp[test_tokens[i]]\n",
    "\n",
    "print(f\"Number of unknown words: \", num_unknown_words)\n",
    "if num_unknown_words > 0:\n",
    "    print(\"OOV words detected!\")"
   ]
  },
  {
   "cell_type": "code",
   "execution_count": 21,
   "metadata": {},
   "outputs": [
    {
     "data": {
      "image/png": "[encoded data removed]",
      "text/plain": [
       "<Figure size 720x360 with 1 Axes>"
      ]
     },
     "metadata": {},
     "output_type": "display_data"
    }
   ],
   "source": [
    "unknown_word_percent = round(num_unknown_words/(len(token_list_unknown)) * 100,2)\n",
    "known_word_percent = round((len(token_list_unknown)-num_unknown_words)/(len(token_list_unknown)) * 100,2)\n",
    "y = np.array([num_unknown_words, len(token_list_unknown)-num_unknown_words])\n",
    "# mylabels = [\"Unknown Words \"+str(unknown_word_percent)+\"%\", \"Known words \"+str(known_word_percent)+\"%\"]\n",
    "mylabels = [\"Unknown words\", \"Known words\"]\n",
    "explode = (0, 0.1)\n",
    "colors = ['#ffcc99', '#99ff99']\n",
    "plt.rcParams.update({'figure.figsize':(10, 5)})\n",
    "plt.pie(y, labels = mylabels, explode=explode, autopct='%1.1f%%',\n",
    "        colors=colors, shadow=True, startangle=0)\n",
    "plt.title('\"Unknown corpus\" vocabulary distribution')\n",
    "plt.show()"
   ]
  },
  {
   "cell_type": "markdown",
   "metadata": {
    "id": "F8OrYSNFeXVI"
   },
   "source": [
    "## POS Tagging\n",
    "We have implemented 3 methods to perform POS tagging:\n",
    "1. Hidden Markov Models\n",
    "2. Spacy Library\n",
    "3. NLTK Library"
   ]
  },
  {
   "cell_type": "markdown",
   "metadata": {},
   "source": [
    "### 1. Hiden Markov Model\n",
    "We can use hidden markov model to do POS tagging on the token. In the below function, we first find the required probabilities (emission probability, transition probability) using the brown corpus made available by nltk library and use these probabilities to do POS tagging on the given training and testing dataset using Viterbi algorithm."
   ]
  },
  {
   "cell_type": "code",
   "execution_count": 22,
   "metadata": {
    "id": "rgZF9Xo8dqPu"
   },
   "outputs": [],
   "source": [
    "def training_hmm():\n",
    "    \n",
    "    print('Training HMM model ......')\n",
    "    \n",
    "    sent_tag = brown.tagged_sents()\n",
    "    train_data=[]\n",
    "    for s in sent_tag:\n",
    "        s.insert(0,('<s>','<s>'))\n",
    "        s.append(('</s>','</s>'))\n",
    "        train_data.append(s)\n",
    "    \n",
    "    train_word_tag = {}\n",
    "    for s in train_data:\n",
    "        for (w,t) in s:\n",
    "            w=w.lower()\n",
    "            try:\n",
    "                try:\n",
    "                    train_word_tag[t][w]+=1\n",
    "                except:\n",
    "                    train_word_tag[t][w]=1\n",
    "            except:\n",
    "                train_word_tag[t]={w:1}\n",
    "        \n",
    "    train_emission_prob={}\n",
    "    for k in train_word_tag.keys():\n",
    "        train_emission_prob[k]={}\n",
    "        count = sum(train_word_tag[k].values())\n",
    "        for k2 in train_word_tag[k].keys():\n",
    "            train_emission_prob[k][k2]=train_word_tag[k][k2]/count\n",
    "            \n",
    "    print('Calculated emission probability .........')\n",
    "            \n",
    "    bigram_tag_data = {}\n",
    "    for s in train_data:\n",
    "        bi=list(nltk.bigrams(s))\n",
    "        for b1,b2 in bi:\n",
    "            try:\n",
    "                try:\n",
    "                    bigram_tag_data[b1[1]][b2[1]]+=1\n",
    "                except:\n",
    "                    bigram_tag_data[b1[1]][b2[1]]=1\n",
    "            except:\n",
    "                bigram_tag_data[b1[1]]={b2[1]:1}\n",
    "                \n",
    "    bigram_tag_prob={}\n",
    "    for k in bigram_tag_data.keys():\n",
    "        bigram_tag_prob[k]={}\n",
    "        count=sum(bigram_tag_data[k].values())\n",
    "        for k2 in bigram_tag_data[k].keys():\n",
    "            bigram_tag_prob[k][k2]=bigram_tag_data[k][k2]/count\n",
    "            \n",
    "    print('Calculated bigram transition probability .........')\n",
    "            \n",
    "    \n",
    "    tags_of_tokens = {}\n",
    "    count=0\n",
    "    for s in train_data:\n",
    "        for (w,t) in s:\n",
    "            w=w.lower()\n",
    "            try:\n",
    "                if t not in tags_of_tokens[w]:\n",
    "                    tags_of_tokens[w].append(t)\n",
    "            except:\n",
    "                l = []\n",
    "                l.append(t)\n",
    "                tags_of_tokens[w] = l\n",
    "    \n",
    "    print('Model training completed .........')\n",
    "    \n",
    "    return bigram_tag_prob, train_emission_prob, tags_of_tokens"
   ]
  },
  {
   "cell_type": "code",
   "execution_count": 23,
   "metadata": {
    "id": "HusPsm-hdrhz"
   },
   "outputs": [],
   "source": [
    "def find_pos_tags_hmm(bigram_tag_prob, train_emission_prob, tags_of_tokens, string_seq):\n",
    "    s = string_seq.copy()\n",
    "    s.append('</s>')\n",
    "    s.insert(0,'<s>')\n",
    "    # storing_values is a dictionary which stores the required values          \n",
    "    storing_values = {}              \n",
    "    for q in range(len(s)):\n",
    "        step = s[q]\n",
    "        # for the starting word of the sentence\n",
    "        if q == 1:                \n",
    "            storing_values[q] = {}\n",
    "            try:\n",
    "                tags = tags_of_tokens[step]\n",
    "            except:\n",
    "                # print(step+'.....')\n",
    "                tags = ['UNK']\n",
    "            for t in tags:\n",
    "                # this is applied since we do not know whether the word in the test data is present in train data or not\n",
    "                try:\n",
    "                    storing_values[q][t] = ['<s>',bigram_tag_prob['<s>'][t]*train_emission_prob[t][step]]\n",
    "                # if word is not present in the train data but present in test data we assign a very low probability of 0.0001\n",
    "                except:\n",
    "                    storing_values[q][t] = ['<s>',0.0001]\n",
    "    \n",
    "        # if the word is not at the start of the sentence\n",
    "        if q>1:\n",
    "            storing_values[q] = {}\n",
    "            previous_states = list(storing_values[q-1].keys())  \n",
    "            try:\n",
    "                current_states  = tags_of_tokens[step]      \n",
    "            except:\n",
    "                current_states = ['UNK']\n",
    "            # calculation of the best previous state for each current state and then storing it in storing_values\n",
    "            for t in current_states:                             \n",
    "                temp = []\n",
    "                for pt in previous_states:                         \n",
    "                    try:\n",
    "                        temp.append(storing_values[q-1][pt][1]*bigram_tag_prob[pt][t]*train_emission_prob[t][step])\n",
    "                    except:\n",
    "                        temp.append(storing_values[q-1][pt][1]*0.0001)\n",
    "                max_temp_index = temp.index(max(temp))\n",
    "                best_pt = previous_states[max_temp_index]\n",
    "                storing_values[q][t]=[best_pt,max(temp)]\n",
    "\n",
    "    # Backtracing to extract the best possible tags for the sentence\n",
    "    pred_tags = []\n",
    "    total_steps_num = storing_values.keys()\n",
    "    last_step_num = max(total_steps_num)\n",
    "    for bs in range(len(total_steps_num)):\n",
    "        step_num = last_step_num - bs\n",
    "        if step_num == last_step_num:\n",
    "            pred_tags.append('</s>')\n",
    "            pred_tags.append(storing_values[step_num]['</s>'][0])\n",
    "        if step_num<last_step_num and step_num>0:\n",
    "            pred_tags.append(storing_values[step_num][pred_tags[len(pred_tags)-1]][0])\n",
    "    \n",
    "    return list(reversed(pred_tags[1:-1]))"
   ]
  },
  {
   "cell_type": "code",
   "execution_count": 24,
   "metadata": {
    "id": "EKwE1UKMd4BB"
   },
   "outputs": [
    {
     "name": "stdout",
     "output_type": "stream",
     "text": [
      "Training HMM model ......\n",
      "Calculated emission probability .........\n",
      "Calculated bigram transition probability .........\n",
      "Model training completed .........\n"
     ]
    }
   ],
   "source": [
    "bigram_tag_prob, train_emission_prob, tags_of_tokens = training_hmm()"
   ]
  },
  {
   "cell_type": "code",
   "execution_count": 25,
   "metadata": {
    "id": "SbWfA5JZd_TA",
    "scrolled": true
   },
   "outputs": [
    {
     "data": {
      "text/plain": [
       "['DT', 'BEZ', 'AT', 'JJ']"
      ]
     },
     "execution_count": 25,
     "metadata": {},
     "output_type": "execute_result"
    }
   ],
   "source": [
    "find_pos_tags_hmm(bigram_tag_prob, train_emission_prob, tags_of_tokens, ['that','is','a','human'])"
   ]
  },
  {
   "cell_type": "markdown",
   "metadata": {},
   "source": [
    "### Method 2. Spacy Library\n",
    "We can use spacy `en_core_web_sm` which is a english pipeline trained on various corpora to do POS tagging on the given training and testing dataset."
   ]
  },
  {
   "cell_type": "code",
   "execution_count": 26,
   "metadata": {
    "id": "Jcb3u2W5dvEJ"
   },
   "outputs": [],
   "source": [
    "def train_spacy_pos():\n",
    "    print('Training spacy model ......')\n",
    "    nlp_spacy = spacy.load(\"en_core_web_sm\")\n",
    "    print('Training spacy model completed ......')\n",
    "    return nlp_spacy"
   ]
  },
  {
   "cell_type": "code",
   "execution_count": 27,
   "metadata": {},
   "outputs": [],
   "source": [
    "def find_pos_tags_spacy(nlp_spacy , text):\n",
    "    text = ' '.join(text)\n",
    "    doc = nlp_spacy(text)\n",
    "    token = [token.tag_  for token in doc]    \n",
    "    return token"
   ]
  },
  {
   "cell_type": "code",
   "execution_count": 28,
   "metadata": {
    "id": "dCjLSCLDeAMP"
   },
   "outputs": [
    {
     "name": "stdout",
     "output_type": "stream",
     "text": [
      "Training spacy model ......\n",
      "Training spacy model completed ......\n"
     ]
    }
   ],
   "source": [
    "nlp_spacy = train_spacy_pos()"
   ]
  },
  {
   "cell_type": "code",
   "execution_count": 29,
   "metadata": {
    "id": "FqsubC8EeEYH",
    "scrolled": true
   },
   "outputs": [
    {
     "data": {
      "text/plain": [
       "['DT', 'VBZ', 'DT', 'JJ']"
      ]
     },
     "execution_count": 29,
     "metadata": {},
     "output_type": "execute_result"
    }
   ],
   "source": [
    "find_pos_tags_spacy(nlp_spacy , ['that','is','a','human'])"
   ]
  },
  {
   "cell_type": "markdown",
   "metadata": {},
   "source": [
    "### Method 3. NLTK Library"
   ]
  },
  {
   "cell_type": "code",
   "execution_count": 30,
   "metadata": {},
   "outputs": [],
   "source": [
    "from nltk import pos_tag\n",
    "def find_pos_tags_nltk(text):\n",
    "    token_pairs = nltk.pos_tag(text)\n",
    "    tags = []\n",
    "    for i in token_pairs:\n",
    "        tags.append(i[1])\n",
    "    return tags"
   ]
  },
  {
   "cell_type": "code",
   "execution_count": 31,
   "metadata": {
    "scrolled": true
   },
   "outputs": [
    {
     "data": {
      "text/plain": [
       "['DT', 'VBZ', 'DT', 'JJ']"
      ]
     },
     "execution_count": 31,
     "metadata": {},
     "output_type": "execute_result"
    }
   ],
   "source": [
    "find_pos_tags_nltk(['that','is','a','human'])"
   ]
  },
  {
   "cell_type": "markdown",
   "metadata": {},
   "source": [
    "##### Function used to do POS tagging of a corpus."
   ]
  },
  {
   "cell_type": "code",
   "execution_count": 32,
   "metadata": {},
   "outputs": [],
   "source": [
    "def convert_to_pos_tags(tokenized_corpus, pos_type=None):\n",
    "    # POS tagging\n",
    "    pos_tag_corpus = []\n",
    "    if pos_type == 'hmm':\n",
    "        print(\"Replacing tokens with POS tags using HMM\")\n",
    "        for sequence in tokenized_corpus:\n",
    "            pos_tag_corpus.append(find_pos_tags_hmm(bigram_tag_prob, train_emission_prob, tags_of_tokens, sequence))\n",
    "        return pos_tag_corpus\n",
    "    elif pos_type == 'spacy':\n",
    "        print(\"Replacing tokens with POS tags using spacy\")\n",
    "        for sequence in tokenized_corpus:\n",
    "            pos_tag_corpus.append(find_pos_tags_spacy(nlp_spacy, sequence))\n",
    "        return pos_tag_corpus\n",
    "    elif pos_type == 'nltk':\n",
    "        print(\"Replacing tokens with POS tags using nltk\")\n",
    "        for sequence in tokenized_corpus:\n",
    "            pos_tag_corpus.append(find_pos_tags_nltk(sequence))\n",
    "        return pos_tag_corpus\n",
    "    else:\n",
    "        print(\"POS tagging method not selected. No changes made.\")\n",
    "        return tokenized_corpus"
   ]
  },
  {
   "cell_type": "markdown",
   "metadata": {
    "id": "mTBbki2jCfYU"
   },
   "source": [
    "## Language Model"
   ]
  },
  {
   "cell_type": "markdown",
   "metadata": {
    "id": "8JFXTiEEDPMP"
   },
   "source": [
    "### Splitting dataset\n",
    "Splitting the \"Clean corpus\" into train set and dev set. The dev set will be used for model evaluation using perplexity calculation."
   ]
  },
  {
   "cell_type": "code",
   "execution_count": 33,
   "metadata": {
    "id": "kmGfZeIHDZoE"
   },
   "outputs": [
    {
     "name": "stdout",
     "output_type": "stream",
     "text": [
      "Size of clean trainset:\t6272\n",
      "Size of clean devset:\t697\n"
     ]
    }
   ],
   "source": [
    "from sklearn.model_selection import train_test_split\n",
    "clean_text_list, clean_text_dev_list = train_test_split(clean_text_list, test_size=0.1)\n",
    "\n",
    "print(f'Size of clean trainset:\\t{len(clean_text_list)}')\n",
    "print(f'Size of clean devset:\\t{len(clean_text_dev_list)}')"
   ]
  },
  {
   "cell_type": "markdown",
   "metadata": {
    "id": "1tqYNDxWDnzO"
   },
   "source": [
    "### N-gram Model\n",
    "Implementing n-gram model to learn from \"Clean corpus\". The information extracted will be used for calculating conditional probabilities to get inferences to classify whether the sentece is grammatically correct or not."
   ]
  },
  {
   "cell_type": "code",
   "execution_count": 34,
   "metadata": {
    "id": "5JBryUCADm70"
   },
   "outputs": [],
   "source": [
    "from nltk.util import bigrams\n",
    "from nltk.util import ngrams\n",
    "from nltk.util import everygrams\n",
    "from nltk.util import pad_sequence\n",
    "from nltk.lm import Laplace\n",
    "from nltk.lm import MLE\n",
    "from nltk.lm import Vocabulary\n",
    "from nltk.lm.preprocessing import pad_both_ends\n",
    "from nltk.lm.preprocessing import flatten"
   ]
  },
  {
   "cell_type": "markdown",
   "metadata": {},
   "source": [
    "#### Training n-gram model\n",
    "The following steps have been taken to train the language model:\n",
    "1. Segmenting and Tokenizing the text.\n",
    "2. Padding the tokenized sequence with start symbol `<s>` and end symbol `</s>`. Number of symbols appended will depend on the `n_value` of the n-gram model.\n",
    "3. Vocabulary- creating vocabulary to handle the Unknown/OOV words in the \"Unknown corpus\"\n",
    "    - The words occuring greater than or equals to 2 times will be considered as a part of the vocabulary.\n",
    "    - The words occuring less than or equal to 1 time are out of the vocabulary and will be considered equivalent to `<UNK>` token for calculations.\n",
    "4. Add-1 smoothing- Using add-1 smoothing to address scenarios related to determining probability / likelihood estimate of a sequence of words occuring together when one or more words individually (unigram) or N-grams such as bigram(wi/wi−1) or trigram (wi/wi−1wi−2) in the given set have never occured in the past.\n",
    "5. Saving the scores of the tokens in the sequence for further evaluations."
   ]
  },
  {
   "cell_type": "code",
   "execution_count": 35,
   "metadata": {
    "id": "lu8z7EmADqzk"
   },
   "outputs": [],
   "source": [
    "def train_ngram_model(n_value, tokenized_corpus, verbose=False):\n",
    "    print(f'{\"Sequences in corpus:\":50}{len(tokenized_corpus)}')\n",
    "    total_tokens = 0\n",
    "    for sequence in tokenized_corpus:\n",
    "        total_tokens += len(sequence)\n",
    "    print(f'{\"Total tokens in corpus:\":50}{total_tokens}')\n",
    "    \n",
    "    # padding <s> and </s>\n",
    "    print(\"Padding sequences with <s> and </s> tokens\")\n",
    "    padded_sequences = []\n",
    "    for i in range(len(tokenized_corpus)):\n",
    "        padded_tokens = list(pad_sequence(tokenized_corpus[i],\n",
    "                                          pad_left=True, left_pad_symbol=\"<s>\",\n",
    "                                          pad_right=True, right_pad_symbol=\"</s>\",\n",
    "                                          n=n_value))\n",
    "        padded_sequences.append(padded_tokens)\n",
    "    if verbose:\n",
    "        print('eg.', padded_sequences[0])\n",
    "            \n",
    "    # create vocabulary\n",
    "    print(\"Creating vocabulary\")\n",
    "    vocabulary = list(flatten(padded_sequences))\n",
    "    print(f'{\"Flattened sequence size\":50}{len(vocabulary)}')\n",
    "    print(f'{\"Flattened sequence set size\":50}{len(set(vocabulary))}')\n",
    "    # replace tokens below cutoff freq with <UNK> token\n",
    "    vocab = Vocabulary(vocabulary, unk_cutoff=2)\n",
    "    print(f'{\"Vocabulary with <UNK> cutoff size\":50}{len(vocab)}')\n",
    "    \n",
    "    # grouping into group size of `n_value`\n",
    "    print(\"Creating n-grams\")\n",
    "    ngram_sequences = []\n",
    "    for text in padded_sequences:\n",
    "        ngram_sequences.append(list(ngrams(text, n=n_value)))\n",
    "    if verbose:\n",
    "        print('eg.', ngram_sequences[0][:PRINT_LIMIT])\n",
    "    \n",
    "    total_ngrams = 0\n",
    "    for sequence in ngram_sequences:\n",
    "        total_ngrams += len(sequence)\n",
    "    print(f'{\"Total ngram sequences:\":50}{len(ngram_sequences)}\\n{\"Total ngrams:\":50}{total_ngrams}')\n",
    "        \n",
    "    # language model\n",
    "    print(\"Creating language model\")\n",
    "    model = Laplace(n_value)\n",
    "    model.fit(ngram_sequences, vocab)\n",
    "    print(f'{\"Model vocab size:\":50}{len(model.vocab)}')\n",
    "    # print(f\"Grand total number of ngrams stored:\\t{model.N()}\")\n",
    "    # print(f'{\"Total n-grams of size \"+str(n_value)+\" in model:\":50}{len(model.counts[n_value].items())}')\n",
    "    \n",
    "    sequence_scores = []\n",
    "    sequence_token_scores = []\n",
    "    for ngram_sequence in ngram_sequences:\n",
    "        sequence_score = 0\n",
    "        sequence_token_score = []\n",
    "        for group in ngram_sequence:\n",
    "            score = model.logscore(group[-1], group[:-1])\n",
    "            sequence_score += score\n",
    "            sequence_token_score.append(score)\n",
    "        sequence_scores.append(sequence_score/len(ngram_sequence))\n",
    "        sequence_token_scores.append(sequence_token_score)\n",
    "        \n",
    "    return {\n",
    "        'padded_sequences': padded_sequences,\n",
    "        'vocabulary': vocab,\n",
    "        'ngram_sequences': ngram_sequences,\n",
    "        'model': model,\n",
    "        'sequence_scores': sequence_scores,\n",
    "        'sequence_token_scores': sequence_token_scores\n",
    "    }    "
   ]
  },
  {
   "cell_type": "code",
   "execution_count": 36,
   "metadata": {
    "id": "yvxDZFoSDvmb"
   },
   "outputs": [],
   "source": [
    "def filter_using_sequence_score(n_value, ngram_sequences, sequence_scores, log_cutoff, verbose=False):\n",
    "    # finding suspect sequences using sequence cutoffs\n",
    "    \n",
    "    print('Filtering sequences based on sequence scores')\n",
    "    suspect_indexes = []\n",
    "    for i in range(len(ngram_sequences)):\n",
    "        if sequence_scores[i] < log_cutoff:\n",
    "            suspect_indexes.append(i)\n",
    "    if verbose:\n",
    "        print(f'{\"Suspect sequences based on sequence scores:\":50}{len(suspect_indexes)}/{len(ngram_sequences)}')\n",
    "    return suspect_indexes"
   ]
  },
  {
   "cell_type": "code",
   "execution_count": 37,
   "metadata": {
    "id": "9LY-Qk9NDxDm"
   },
   "outputs": [],
   "source": [
    "def plot_continuous_freq_dist(values, xlabel, ylabel, title, bins=50, cutoff=None):\n",
    "    # plot freq distribution for cutoff visualization\n",
    "    plt.rcParams.update({'figure.figsize':(10, 3)})\n",
    "    plt.hist(values, bins=bins)\n",
    "    if cutoff:\n",
    "        plt.axvline(x=cutoff, color='red')\n",
    "    plt.gca().set(title=title, xlabel=xlabel, ylabel=ylabel);\n",
    "    plt.show()"
   ]
  },
  {
   "cell_type": "code",
   "execution_count": 38,
   "metadata": {
    "id": "_g32uNTFDyXp"
   },
   "outputs": [],
   "source": [
    "def get_sequence_score_cutoff(sequence_scores, alpha=0.05):\n",
    "    scores = sequence_scores.copy()\n",
    "    n = len(scores)\n",
    "    scores.sort()\n",
    "    index = max(0, min(n-1, int(n*alpha)))\n",
    "    return scores[index]"
   ]
  },
  {
   "cell_type": "markdown",
   "metadata": {},
   "source": [
    "Using `alpha` value to dynamically set a cutoff value which will be used as a threshold to detect suspected sequences."
   ]
  },
  {
   "cell_type": "code",
   "execution_count": 39,
   "metadata": {
    "id": "euMAzvclDzDe"
   },
   "outputs": [],
   "source": [
    "n_values = [i+1 for i in range(10)]\n",
    "# alpha: used to calculate score cutoff value\n",
    "alpha = 0.02\n",
    "pos_type = 'nltk'"
   ]
  },
  {
   "cell_type": "code",
   "execution_count": 40,
   "metadata": {
    "id": "IdVFz_urD0if",
    "scrolled": false
   },
   "outputs": [],
   "source": [
    "def train_lm(n_values, train_corpus, alpha):\n",
    "    ngram_data = dict()\n",
    "    for n_value in n_values:\n",
    "        print(f\"Training {n_value}-gram model\")\n",
    "        ngram_model_info = train_ngram_model(n_value, train_corpus, verbose=False)\n",
    "        ngram_data[n_value] = ngram_model_info\n",
    "\n",
    "        # filter_using_token_score(n_value, ngram_model_info['model'], ngram_model_info['ngram_sequences'], token_log_cutoffs[n_value], verbose=True)\n",
    "\n",
    "        sequence_score_log_cutoff = get_sequence_score_cutoff(ngram_model_info['sequence_scores'], alpha=alpha)\n",
    "        filter_using_sequence_score(n_value, ngram_model_info['ngram_sequences'], ngram_model_info['sequence_scores'], \n",
    "                                    sequence_score_log_cutoff, verbose=True)\n",
    "        print(f'{\"Sequence score cutoff:\":50}{sequence_score_log_cutoff}\\n')\n",
    "        ngram_data[n_value]['score_cutoff'] = sequence_score_log_cutoff\n",
    "\n",
    "        plot_continuous_freq_dist(ngram_model_info['sequence_scores'], xlabel='Sequence score', \n",
    "                                  ylabel='Frequency', title='Sequence score frequency distribution', bins=200, \n",
    "                                  cutoff=sequence_score_log_cutoff)\n",
    "    return ngram_data"
   ]
  },
  {
   "cell_type": "markdown",
   "metadata": {},
   "source": [
    "#### Training N-gram model on clean text corpus"
   ]
  },
  {
   "cell_type": "code",
   "execution_count": 41,
   "metadata": {
    "scrolled": true
   },
   "outputs": [
    {
     "name": "stdout",
     "output_type": "stream",
     "text": [
      "Training 1-gram model\n",
      "Sequences in corpus:                              21606\n",
      "Total tokens in corpus:                           517179\n",
      "Padding sequences with <s> and </s> tokens\n",
      "Creating vocabulary\n",
      "Flattened sequence size                           517179\n",
      "Flattened sequence set size                       32110\n",
      "Vocabulary with <UNK> cutoff size                 17294\n",
      "Creating n-grams\n",
      "Total ngram sequences:                            21606\n",
      "Total ngrams:                                     517179\n",
      "Creating language model\n",
      "Model vocab size:                                 17295\n",
      "Filtering sequences based on sequence scores\n",
      "Suspect sequences based on sequence scores:       432/21606\n",
      "Sequence score cutoff:                            -11.410993767761257\n",
      "\n"
     ]
    },
    {
     "data": {
      "image/png": "[encoded data removed]",
      "text/plain": [
       "<Figure size 720x216 with 1 Axes>"
      ]
     },
     "metadata": {
      "needs_background": "light"
     },
     "output_type": "display_data"
    },
    {
     "name": "stdout",
     "output_type": "stream",
     "text": [
      "Training 2-gram model\n",
      "Sequences in corpus:                              21606\n",
      "Total tokens in corpus:                           517179\n",
      "Padding sequences with <s> and </s> tokens\n",
      "Creating vocabulary\n",
      "Flattened sequence size                           560391\n",
      "Flattened sequence set size                       32112\n",
      "Vocabulary with <UNK> cutoff size                 17296\n",
      "Creating n-grams\n",
      "Total ngram sequences:                            21606\n",
      "Total ngrams:                                     538785\n",
      "Creating language model\n",
      "Model vocab size:                                 17297\n",
      "Filtering sequences based on sequence scores\n",
      "Suspect sequences based on sequence scores:       432/21606\n",
      "Sequence score cutoff:                            -11.645983163666871\n",
      "\n"
     ]
    },
    {
     "data": {
      "image/png": "[encoded data removed]",
      "text/plain": [
       "<Figure size 720x216 with 1 Axes>"
      ]
     },
     "metadata": {
      "needs_background": "light"
     },
     "output_type": "display_data"
    },
    {
     "name": "stdout",
     "output_type": "stream",
     "text": [
      "Training 3-gram model\n",
      "Sequences in corpus:                              21606\n",
      "Total tokens in corpus:                           517179\n",
      "Padding sequences with <s> and </s> tokens\n",
      "Creating vocabulary\n",
      "Flattened sequence size                           603603\n",
      "Flattened sequence set size                       32112\n",
      "Vocabulary with <UNK> cutoff size                 17296\n",
      "Creating n-grams\n",
      "Total ngram sequences:                            21606\n",
      "Total ngrams:                                     560391\n",
      "Creating language model\n",
      "Model vocab size:                                 17297\n",
      "Filtering sequences based on sequence scores\n",
      "Suspect sequences based on sequence scores:       432/21606\n",
      "Sequence score cutoff:                            -12.551822117860572\n",
      "\n"
     ]
    },
    {
     "data": {
      "image/png": "[encoded data removed]",
      "text/plain": [
       "<Figure size 720x216 with 1 Axes>"
      ]
     },
     "metadata": {
      "needs_background": "light"
     },
     "output_type": "display_data"
    },
    {
     "name": "stdout",
     "output_type": "stream",
     "text": [
      "Training 4-gram model\n",
      "Sequences in corpus:                              21606\n",
      "Total tokens in corpus:                           517179\n",
      "Padding sequences with <s> and </s> tokens\n",
      "Creating vocabulary\n",
      "Flattened sequence size                           646815\n",
      "Flattened sequence set size                       32112\n",
      "Vocabulary with <UNK> cutoff size                 17296\n",
      "Creating n-grams\n",
      "Total ngram sequences:                            21606\n",
      "Total ngrams:                                     581997\n",
      "Creating language model\n",
      "Model vocab size:                                 17297\n",
      "Filtering sequences based on sequence scores\n",
      "Suspect sequences based on sequence scores:       432/21606\n",
      "Sequence score cutoff:                            -12.76326623044957\n",
      "\n"
     ]
    },
    {
     "data": {
      "image/png": "[encoded data removed]",
      "text/plain": [
       "<Figure size 720x216 with 1 Axes>"
      ]
     },
     "metadata": {
      "needs_background": "light"
     },
     "output_type": "display_data"
    },
    {
     "name": "stdout",
     "output_type": "stream",
     "text": [
      "Training 5-gram model\n",
      "Sequences in corpus:                              21606\n",
      "Total tokens in corpus:                           517179\n",
      "Padding sequences with <s> and </s> tokens\n",
      "Creating vocabulary\n",
      "Flattened sequence size                           690027\n",
      "Flattened sequence set size                       32112\n",
      "Vocabulary with <UNK> cutoff size                 17296\n",
      "Creating n-grams\n",
      "Total ngram sequences:                            21606\n",
      "Total ngrams:                                     603603\n",
      "Creating language model\n",
      "Model vocab size:                                 17297\n",
      "Filtering sequences based on sequence scores\n",
      "Suspect sequences based on sequence scores:       432/21606\n",
      "Sequence score cutoff:                            -12.806790524541562\n",
      "\n"
     ]
    },
    {
     "data": {
      "image/png": "[encoded data removed]",
      "text/plain": [
       "<Figure size 720x216 with 1 Axes>"
      ]
     },
     "metadata": {
      "needs_background": "light"
     },
     "output_type": "display_data"
    },
    {
     "name": "stdout",
     "output_type": "stream",
     "text": [
      "Training 6-gram model\n",
      "Sequences in corpus:                              21606\n",
      "Total tokens in corpus:                           517179\n",
      "Padding sequences with <s> and </s> tokens\n",
      "Creating vocabulary\n",
      "Flattened sequence size                           733239\n",
      "Flattened sequence set size                       32112\n",
      "Vocabulary with <UNK> cutoff size                 17296\n",
      "Creating n-grams\n",
      "Total ngram sequences:                            21606\n",
      "Total ngrams:                                     625209\n",
      "Creating language model\n",
      "Model vocab size:                                 17297\n",
      "Filtering sequences based on sequence scores\n",
      "Suspect sequences based on sequence scores:       432/21606\n",
      "Sequence score cutoff:                            -12.817786454072698\n",
      "\n"
     ]
    },
    {
     "data": {
      "image/png": "[encoded data removed]",
      "text/plain": [
       "<Figure size 720x216 with 1 Axes>"
      ]
     },
     "metadata": {
      "needs_background": "light"
     },
     "output_type": "display_data"
    },
    {
     "name": "stdout",
     "output_type": "stream",
     "text": [
      "Training 7-gram model\n",
      "Sequences in corpus:                              21606\n",
      "Total tokens in corpus:                           517179\n",
      "Padding sequences with <s> and </s> tokens\n",
      "Creating vocabulary\n",
      "Flattened sequence size                           776451\n",
      "Flattened sequence set size                       32112\n",
      "Vocabulary with <UNK> cutoff size                 17296\n",
      "Creating n-grams\n",
      "Total ngram sequences:                            21606\n",
      "Total ngrams:                                     646815\n",
      "Creating language model\n",
      "Model vocab size:                                 17297\n",
      "Filtering sequences based on sequence scores\n",
      "Suspect sequences based on sequence scores:       432/21606\n",
      "Sequence score cutoff:                            -12.823485650611769\n",
      "\n"
     ]
    },
    {
     "data": {
      "image/png": "[encoded data removed]",
      "text/plain": [
       "<Figure size 720x216 with 1 Axes>"
      ]
     },
     "metadata": {
      "needs_background": "light"
     },
     "output_type": "display_data"
    },
    {
     "name": "stdout",
     "output_type": "stream",
     "text": [
      "Training 8-gram model\n",
      "Sequences in corpus:                              21606\n",
      "Total tokens in corpus:                           517179\n",
      "Padding sequences with <s> and </s> tokens\n",
      "Creating vocabulary\n",
      "Flattened sequence size                           819663\n",
      "Flattened sequence set size                       32112\n",
      "Vocabulary with <UNK> cutoff size                 17296\n",
      "Creating n-grams\n",
      "Total ngram sequences:                            21606\n",
      "Total ngrams:                                     668421\n",
      "Creating language model\n",
      "Model vocab size:                                 17297\n",
      "Filtering sequences based on sequence scores\n",
      "Suspect sequences based on sequence scores:       432/21606\n",
      "Sequence score cutoff:                            -12.829954628297982\n",
      "\n"
     ]
    },
    {
     "data": {
      "image/png": "[encoded data removed]",
      "text/plain": [
       "<Figure size 720x216 with 1 Axes>"
      ]
     },
     "metadata": {
      "needs_background": "light"
     },
     "output_type": "display_data"
    },
    {
     "name": "stdout",
     "output_type": "stream",
     "text": [
      "Training 9-gram model\n",
      "Sequences in corpus:                              21606\n",
      "Total tokens in corpus:                           517179\n",
      "Padding sequences with <s> and </s> tokens\n",
      "Creating vocabulary\n",
      "Flattened sequence size                           862875\n",
      "Flattened sequence set size                       32112\n",
      "Vocabulary with <UNK> cutoff size                 17296\n",
      "Creating n-grams\n",
      "Total ngram sequences:                            21606\n",
      "Total ngrams:                                     690027\n",
      "Creating language model\n",
      "Model vocab size:                                 17297\n",
      "Filtering sequences based on sequence scores\n",
      "Suspect sequences based on sequence scores:       432/21606\n",
      "Sequence score cutoff:                            -12.835128892646436\n",
      "\n"
     ]
    },
    {
     "data": {
      "image/png": "[encoded data removed]",
      "text/plain": [
       "<Figure size 720x216 with 1 Axes>"
      ]
     },
     "metadata": {
      "needs_background": "light"
     },
     "output_type": "display_data"
    },
    {
     "name": "stdout",
     "output_type": "stream",
     "text": [
      "Training 10-gram model\n",
      "Sequences in corpus:                              21606\n",
      "Total tokens in corpus:                           517179\n",
      "Padding sequences with <s> and </s> tokens\n",
      "Creating vocabulary\n",
      "Flattened sequence size                           906087\n",
      "Flattened sequence set size                       32112\n",
      "Vocabulary with <UNK> cutoff size                 17296\n",
      "Creating n-grams\n",
      "Total ngram sequences:                            21606\n",
      "Total ngrams:                                     711633\n",
      "Creating language model\n",
      "Model vocab size:                                 17297\n",
      "Filtering sequences based on sequence scores\n",
      "Suspect sequences based on sequence scores:       429/21606\n",
      "Sequence score cutoff:                            -12.838939580109843\n",
      "\n"
     ]
    },
    {
     "data": {
      "image/png": "[encoded data removed]",
      "text/plain": [
       "<Figure size 720x216 with 1 Axes>"
      ]
     },
     "metadata": {
      "needs_background": "light"
     },
     "output_type": "display_data"
    }
   ],
   "source": [
    "# Text n-gram model\n",
    "ngram_data_text = train_lm(n_values, tokenized_clean_text_list, alpha=alpha)"
   ]
  },
  {
   "cell_type": "markdown",
   "metadata": {},
   "source": [
    "#### Training N-gram model on clean POS corpus\n",
    "The text corpus is first converted into the corresponding POS corpus on which the n-gram models are trained."
   ]
  },
  {
   "cell_type": "code",
   "execution_count": 42,
   "metadata": {},
   "outputs": [
    {
     "name": "stdout",
     "output_type": "stream",
     "text": [
      "Replacing tokens with POS tags using nltk\n",
      "Training 1-gram model\n",
      "Sequences in corpus:                              21606\n",
      "Total tokens in corpus:                           517179\n",
      "Padding sequences with <s> and </s> tokens\n",
      "Creating vocabulary\n",
      "Flattened sequence size                           517179\n",
      "Flattened sequence set size                       44\n",
      "Vocabulary with <UNK> cutoff size                 44\n",
      "Creating n-grams\n",
      "Total ngram sequences:                            21606\n",
      "Total ngrams:                                     517179\n",
      "Creating language model\n",
      "Model vocab size:                                 45\n",
      "Filtering sequences based on sequence scores\n",
      "Suspect sequences based on sequence scores:       432/21606\n",
      "Sequence score cutoff:                            -5.312359125303242\n",
      "\n"
     ]
    },
    {
     "data": {
      "image/png": "[encoded data removed]",
      "text/plain": [
       "<Figure size 720x216 with 1 Axes>"
      ]
     },
     "metadata": {
      "needs_background": "light"
     },
     "output_type": "display_data"
    },
    {
     "name": "stdout",
     "output_type": "stream",
     "text": [
      "Training 2-gram model\n",
      "Sequences in corpus:                              21606\n",
      "Total tokens in corpus:                           517179\n",
      "Padding sequences with <s> and </s> tokens\n",
      "Creating vocabulary\n",
      "Flattened sequence size                           560391\n",
      "Flattened sequence set size                       46\n",
      "Vocabulary with <UNK> cutoff size                 46\n",
      "Creating n-grams\n",
      "Total ngram sequences:                            21606\n",
      "Total ngrams:                                     538785\n",
      "Creating language model\n",
      "Model vocab size:                                 47\n",
      "Filtering sequences based on sequence scores\n",
      "Suspect sequences based on sequence scores:       432/21606\n",
      "Sequence score cutoff:                            -4.363034134281248\n",
      "\n"
     ]
    },
    {
     "data": {
      "image/png": "[encoded data removed]",
      "text/plain": [
       "<Figure size 720x216 with 1 Axes>"
      ]
     },
     "metadata": {
      "needs_background": "light"
     },
     "output_type": "display_data"
    },
    {
     "name": "stdout",
     "output_type": "stream",
     "text": [
      "Training 3-gram model\n",
      "Sequences in corpus:                              21606\n",
      "Total tokens in corpus:                           517179\n",
      "Padding sequences with <s> and </s> tokens\n",
      "Creating vocabulary\n",
      "Flattened sequence size                           603603\n",
      "Flattened sequence set size                       46\n",
      "Vocabulary with <UNK> cutoff size                 46\n",
      "Creating n-grams\n",
      "Total ngram sequences:                            21606\n",
      "Total ngrams:                                     560391\n",
      "Creating language model\n",
      "Model vocab size:                                 47\n",
      "Filtering sequences based on sequence scores\n",
      "Suspect sequences based on sequence scores:       432/21606\n",
      "Sequence score cutoff:                            -3.8267202862412217\n",
      "\n"
     ]
    },
    {
     "data": {
      "image/png": "[encoded data removed]",
      "text/plain": [
       "<Figure size 720x216 with 1 Axes>"
      ]
     },
     "metadata": {
      "needs_background": "light"
     },
     "output_type": "display_data"
    },
    {
     "name": "stdout",
     "output_type": "stream",
     "text": [
      "Training 4-gram model\n",
      "Sequences in corpus:                              21606\n",
      "Total tokens in corpus:                           517179\n",
      "Padding sequences with <s> and </s> tokens\n",
      "Creating vocabulary\n",
      "Flattened sequence size                           646815\n",
      "Flattened sequence set size                       46\n",
      "Vocabulary with <UNK> cutoff size                 46\n",
      "Creating n-grams\n",
      "Total ngram sequences:                            21606\n",
      "Total ngrams:                                     581997\n",
      "Creating language model\n",
      "Model vocab size:                                 47\n",
      "Filtering sequences based on sequence scores\n",
      "Suspect sequences based on sequence scores:       432/21606\n",
      "Sequence score cutoff:                            -3.754995979501993\n",
      "\n"
     ]
    },
    {
     "data": {
      "image/png": "[encoded data removed]",
      "text/plain": [
       "<Figure size 720x216 with 1 Axes>"
      ]
     },
     "metadata": {
      "needs_background": "light"
     },
     "output_type": "display_data"
    },
    {
     "name": "stdout",
     "output_type": "stream",
     "text": [
      "Training 5-gram model\n",
      "Sequences in corpus:                              21606\n",
      "Total tokens in corpus:                           517179\n",
      "Padding sequences with <s> and </s> tokens\n",
      "Creating vocabulary\n",
      "Flattened sequence size                           690027\n",
      "Flattened sequence set size                       46\n",
      "Vocabulary with <UNK> cutoff size                 46\n",
      "Creating n-grams\n",
      "Total ngram sequences:                            21606\n",
      "Total ngrams:                                     603603\n",
      "Creating language model\n",
      "Model vocab size:                                 47\n",
      "Filtering sequences based on sequence scores\n",
      "Suspect sequences based on sequence scores:       432/21606\n",
      "Sequence score cutoff:                            -3.92881391771522\n",
      "\n"
     ]
    },
    {
     "data": {
      "image/png": "[encoded data removed]",
      "text/plain": [
       "<Figure size 720x216 with 1 Axes>"
      ]
     },
     "metadata": {
      "needs_background": "light"
     },
     "output_type": "display_data"
    },
    {
     "name": "stdout",
     "output_type": "stream",
     "text": [
      "Training 6-gram model\n",
      "Sequences in corpus:                              21606\n",
      "Total tokens in corpus:                           517179\n",
      "Padding sequences with <s> and </s> tokens\n",
      "Creating vocabulary\n",
      "Flattened sequence size                           733239\n",
      "Flattened sequence set size                       46\n",
      "Vocabulary with <UNK> cutoff size                 46\n",
      "Creating n-grams\n",
      "Total ngram sequences:                            21606\n",
      "Total ngrams:                                     625209\n",
      "Creating language model\n",
      "Model vocab size:                                 47\n",
      "Filtering sequences based on sequence scores\n",
      "Suspect sequences based on sequence scores:       432/21606\n",
      "Sequence score cutoff:                            -4.109918759175343\n",
      "\n"
     ]
    },
    {
     "data": {
      "image/png": "[encoded data removed]",
      "text/plain": [
       "<Figure size 720x216 with 1 Axes>"
      ]
     },
     "metadata": {
      "needs_background": "light"
     },
     "output_type": "display_data"
    },
    {
     "name": "stdout",
     "output_type": "stream",
     "text": [
      "Training 7-gram model\n",
      "Sequences in corpus:                              21606\n",
      "Total tokens in corpus:                           517179\n",
      "Padding sequences with <s> and </s> tokens\n",
      "Creating vocabulary\n",
      "Flattened sequence size                           776451\n",
      "Flattened sequence set size                       46\n",
      "Vocabulary with <UNK> cutoff size                 46\n",
      "Creating n-grams\n",
      "Total ngram sequences:                            21606\n",
      "Total ngrams:                                     646815\n",
      "Creating language model\n",
      "Model vocab size:                                 47\n",
      "Filtering sequences based on sequence scores\n",
      "Suspect sequences based on sequence scores:       432/21606\n",
      "Sequence score cutoff:                            -4.217176418295848\n",
      "\n"
     ]
    },
    {
     "data": {
      "image/png": "[encoded data removed]",
      "text/plain": [
       "<Figure size 720x216 with 1 Axes>"
      ]
     },
     "metadata": {
      "needs_background": "light"
     },
     "output_type": "display_data"
    },
    {
     "name": "stdout",
     "output_type": "stream",
     "text": [
      "Training 8-gram model\n",
      "Sequences in corpus:                              21606\n",
      "Total tokens in corpus:                           517179\n",
      "Padding sequences with <s> and </s> tokens\n",
      "Creating vocabulary\n",
      "Flattened sequence size                           819663\n",
      "Flattened sequence set size                       46\n",
      "Vocabulary with <UNK> cutoff size                 46\n",
      "Creating n-grams\n",
      "Total ngram sequences:                            21606\n",
      "Total ngrams:                                     668421\n",
      "Creating language model\n",
      "Model vocab size:                                 47\n",
      "Filtering sequences based on sequence scores\n",
      "Suspect sequences based on sequence scores:       432/21606\n",
      "Sequence score cutoff:                            -4.277729289039404\n",
      "\n"
     ]
    },
    {
     "data": {
      "image/png": "[encoded data removed]",
      "text/plain": [
       "<Figure size 720x216 with 1 Axes>"
      ]
     },
     "metadata": {
      "needs_background": "light"
     },
     "output_type": "display_data"
    },
    {
     "name": "stdout",
     "output_type": "stream",
     "text": [
      "Training 9-gram model\n",
      "Sequences in corpus:                              21606\n",
      "Total tokens in corpus:                           517179\n",
      "Padding sequences with <s> and </s> tokens\n",
      "Creating vocabulary\n",
      "Flattened sequence size                           862875\n",
      "Flattened sequence set size                       46\n",
      "Vocabulary with <UNK> cutoff size                 46\n",
      "Creating n-grams\n",
      "Total ngram sequences:                            21606\n",
      "Total ngrams:                                     690027\n",
      "Creating language model\n",
      "Model vocab size:                                 47\n",
      "Filtering sequences based on sequence scores\n",
      "Suspect sequences based on sequence scores:       432/21606\n",
      "Sequence score cutoff:                            -4.31015711688999\n",
      "\n"
     ]
    },
    {
     "data": {
      "image/png": "[encoded data removed]",
      "text/plain": [
       "<Figure size 720x216 with 1 Axes>"
      ]
     },
     "metadata": {
      "needs_background": "light"
     },
     "output_type": "display_data"
    },
    {
     "name": "stdout",
     "output_type": "stream",
     "text": [
      "Training 10-gram model\n",
      "Sequences in corpus:                              21606\n",
      "Total tokens in corpus:                           517179\n",
      "Padding sequences with <s> and </s> tokens\n",
      "Creating vocabulary\n",
      "Flattened sequence size                           906087\n",
      "Flattened sequence set size                       46\n",
      "Vocabulary with <UNK> cutoff size                 46\n",
      "Creating n-grams\n",
      "Total ngram sequences:                            21606\n",
      "Total ngrams:                                     711633\n",
      "Creating language model\n",
      "Model vocab size:                                 47\n",
      "Filtering sequences based on sequence scores\n",
      "Suspect sequences based on sequence scores:       432/21606\n",
      "Sequence score cutoff:                            -4.322589158101946\n",
      "\n"
     ]
    },
    {
     "data": {
      "image/png": "[encoded data removed]",
      "text/plain": [
       "<Figure size 720x216 with 1 Axes>"
      ]
     },
     "metadata": {
      "needs_background": "light"
     },
     "output_type": "display_data"
    }
   ],
   "source": [
    "# POS tag n-gram model\n",
    "clean_pos_tag_list = convert_to_pos_tags(tokenized_clean_text_list, pos_type=pos_type)\n",
    "ngram_data_pos = train_lm(n_values, clean_pos_tag_list, alpha=alpha)"
   ]
  },
  {
   "cell_type": "code",
   "execution_count": 43,
   "metadata": {
    "scrolled": true
   },
   "outputs": [
    {
     "data": {
      "text/html": [
       "<div>\n",
       "<style scoped>\n",
       "    .dataframe tbody tr th:only-of-type {\n",
       "        vertical-align: middle;\n",
       "    }\n",
       "\n",
       "    .dataframe tbody tr th {\n",
       "        vertical-align: top;\n",
       "    }\n",
       "\n",
       "    .dataframe thead th {\n",
       "        text-align: right;\n",
       "    }\n",
       "</style>\n",
       "<table border=\"1\" class=\"dataframe\">\n",
       "  <thead>\n",
       "    <tr style=\"text-align: right;\">\n",
       "      <th></th>\n",
       "      <th>N-gram</th>\n",
       "      <th>Context</th>\n",
       "      <th>Token</th>\n",
       "      <th>Count</th>\n",
       "      <th>Score</th>\n",
       "      <th>Log Score</th>\n",
       "    </tr>\n",
       "  </thead>\n",
       "  <tbody>\n",
       "    <tr>\n",
       "      <th>0</th>\n",
       "      <td>1</td>\n",
       "      <td></td>\n",
       "      <td>&lt;s&gt;</td>\n",
       "      <td>0</td>\n",
       "      <td>0.027724</td>\n",
       "      <td>-5.172697</td>\n",
       "    </tr>\n",
       "    <tr>\n",
       "      <th>1</th>\n",
       "      <td>1</td>\n",
       "      <td></td>\n",
       "      <td>of</td>\n",
       "      <td>16112</td>\n",
       "      <td>0.030147</td>\n",
       "      <td>-5.051823</td>\n",
       "    </tr>\n",
       "    <tr>\n",
       "      <th>2</th>\n",
       "      <td>1</td>\n",
       "      <td></td>\n",
       "      <td>the</td>\n",
       "      <td>30977</td>\n",
       "      <td>0.057960</td>\n",
       "      <td>-4.108804</td>\n",
       "    </tr>\n",
       "    <tr>\n",
       "      <th>3</th>\n",
       "      <td>1</td>\n",
       "      <td></td>\n",
       "      <td>&lt;UNK&gt;</td>\n",
       "      <td>14817</td>\n",
       "      <td>0.027724</td>\n",
       "      <td>-5.172697</td>\n",
       "    </tr>\n",
       "    <tr>\n",
       "      <th>4</th>\n",
       "      <td>2</td>\n",
       "      <td>&lt;s&gt;</td>\n",
       "      <td>the</td>\n",
       "      <td>2716</td>\n",
       "      <td>0.069840</td>\n",
       "      <td>-3.839795</td>\n",
       "    </tr>\n",
       "    <tr>\n",
       "      <th>5</th>\n",
       "      <td>2</td>\n",
       "      <td>of</td>\n",
       "      <td>the</td>\n",
       "      <td>4244</td>\n",
       "      <td>0.127062</td>\n",
       "      <td>-2.976400</td>\n",
       "    </tr>\n",
       "    <tr>\n",
       "      <th>6</th>\n",
       "      <td>2</td>\n",
       "      <td>is</td>\n",
       "      <td>a</td>\n",
       "      <td>384</td>\n",
       "      <td>0.017624</td>\n",
       "      <td>-5.826301</td>\n",
       "    </tr>\n",
       "    <tr>\n",
       "      <th>7</th>\n",
       "      <td>3</td>\n",
       "      <td>this is</td>\n",
       "      <td>a</td>\n",
       "      <td>31</td>\n",
       "      <td>0.001829</td>\n",
       "      <td>-9.094573</td>\n",
       "    </tr>\n",
       "    <tr>\n",
       "      <th>8</th>\n",
       "      <td>3</td>\n",
       "      <td>&lt;s&gt; &lt;s&gt;</td>\n",
       "      <td>the</td>\n",
       "      <td>2716</td>\n",
       "      <td>0.069840</td>\n",
       "      <td>-3.839795</td>\n",
       "    </tr>\n",
       "    <tr>\n",
       "      <th>9</th>\n",
       "      <td>3</td>\n",
       "      <td>what is</td>\n",
       "      <td>&lt;UNK&gt;</td>\n",
       "      <td>1</td>\n",
       "      <td>0.000115</td>\n",
       "      <td>-13.083895</td>\n",
       "    </tr>\n",
       "  </tbody>\n",
       "</table>\n",
       "</div>"
      ],
      "text/plain": [
       "  N-gram  Context  Token  Count     Score  Log Score\n",
       "0      1             <s>      0  0.027724  -5.172697\n",
       "1      1              of  16112  0.030147  -5.051823\n",
       "2      1             the  30977  0.057960  -4.108804\n",
       "3      1           <UNK>  14817  0.027724  -5.172697\n",
       "4      2      <s>    the   2716  0.069840  -3.839795\n",
       "5      2       of    the   4244  0.127062  -2.976400\n",
       "6      2       is      a    384  0.017624  -5.826301\n",
       "7      3  this is      a     31  0.001829  -9.094573\n",
       "8      3  <s> <s>    the   2716  0.069840  -3.839795\n",
       "9      3  what is  <UNK>      1  0.000115 -13.083895"
      ]
     },
     "metadata": {},
     "output_type": "display_data"
    }
   ],
   "source": [
    "# Print sample information learned from model\n",
    "\n",
    "unigram_list = ['<s>', 'of', 'the', '<UNK>']\n",
    "# [token, context]\n",
    "ngram_list = [\n",
    "    ['the', '<s>'], \n",
    "    ['the', 'of'], \n",
    "    ['a', 'is'],\n",
    "    ['a', 'this is'],\n",
    "    ['the', '<s> <s>'], \n",
    "    ['<UNK>', 'what is']\n",
    "]\n",
    "\n",
    "heading_df = ['N-gram', 'Context', 'Token', 'Count', 'Score', 'Log Score']\n",
    "list_to_df = []\n",
    "for token in unigram_list:\n",
    "    list_to_df.append([\n",
    "        '1', '', token, \n",
    "        ngram_data_text[1]['model'].counts[token], \n",
    "        ngram_data_text[1]['model'].score(token), \n",
    "        ngram_data_text[1]['model'].logscore(token)\n",
    "    ])\n",
    "for token in ngram_list:\n",
    "    n_value = len(token[1].split())+1\n",
    "    if n_value not in n_values:\n",
    "        raise ValueError(f'{n_value}-gram model not available for the given context size {n_value-1} of \"{token[1]}\".')\n",
    "    list_to_df.append([\n",
    "        n_value, token[1], token[0], \n",
    "        ngram_data_text[n_value]['model'].counts[token[1].split()][token[0]], \n",
    "        ngram_data_text[n_value]['model'].score(token[0], token[1].split()), \n",
    "        ngram_data_text[n_value]['model'].logscore(token[0], token[1].split())\n",
    "    ])\n",
    "\n",
    "display(pd.DataFrame(list_to_df, columns = heading_df))"
   ]
  },
  {
   "cell_type": "markdown",
   "metadata": {
    "id": "S0DpH1t7D7kz"
   },
   "source": [
    "## Model Evaluation"
   ]
  },
  {
   "cell_type": "markdown",
   "metadata": {
    "id": "nzobZsrID_qP"
   },
   "source": [
    "### Shannon Visualization\n",
    "Generating sentences from the trained language model."
   ]
  },
  {
   "cell_type": "code",
   "execution_count": 44,
   "metadata": {},
   "outputs": [],
   "source": [
    "def get_sentence_from_tokens(tokens):\n",
    "    filtered_tokens = []\n",
    "    for token in tokens:\n",
    "        if token in ['<s>', '</s>']:\n",
    "            continue\n",
    "        else:\n",
    "            filtered_tokens.append(token)\n",
    "    return ' '.join(filtered_tokens)"
   ]
  },
  {
   "cell_type": "code",
   "execution_count": 45,
   "metadata": {
    "id": "A0fn7GMBD-BX"
   },
   "outputs": [],
   "source": [
    "from nltk.probability import MLEProbDist\n",
    "\n",
    "def shannon_visualization(n_value, model, max_len=50, verbose=False):\n",
    "    sentence = \"\"\n",
    "    if n_value == 1:\n",
    "        # Unigram\n",
    "        tokens = model.generate(max_len, random_seed=None)\n",
    "        sentence = get_sentence_from_tokens(tokens)\n",
    "        if verbose:\n",
    "            print('1-gram:', sentence)\n",
    "    else:\n",
    "        if verbose:\n",
    "            print(f'{n_value}-gram: ', end='')\n",
    "        cur_tokens = ['<s>']*(n_value-1)\n",
    "        sequence = []\n",
    "        for _ in range(max_len):\n",
    "            freq_dist = model.counts[cur_tokens]\n",
    "            prob_dist = MLEProbDist(freq_dist)\n",
    "            next_token = prob_dist.generate()\n",
    "            if next_token == '</s>':\n",
    "                break\n",
    "            sequence.append(next_token)\n",
    "            if verbose:\n",
    "                print(next_token, end=' ')\n",
    "            cur_tokens.pop(0)\n",
    "            cur_tokens.append(next_token)\n",
    "        sentence = ' '.join(sequence)\n",
    "        if verbose:\n",
    "            print()\n",
    "    return sentence"
   ]
  },
  {
   "cell_type": "code",
   "execution_count": 46,
   "metadata": {
    "id": "ypefYfieEJCK",
    "scrolled": false
   },
   "outputs": [
    {
     "name": "stdout",
     "output_type": "stream",
     "text": [
      "1-gram\n",
      "======\n",
      "killing ages staff called , it of wasteful aid down heavily trade small imagined in month listened has way the when of , no curzon the discovering they visited because 's we remarks it , money is . <UNK> , sixty ) ludicrous `` marks in of initially weakening responsibilities\n",
      "\n",
      "2-gram\n",
      "======\n",
      "we as in her house and the best known that aerated lagoon into her and immortal .\n",
      "\n",
      "3-gram\n",
      "======\n",
      "he left town and the flooring is then screwed in place of subjective control -- a <UNK> object swayed <UNK> in london eighteen weeks , till myra finds a place , as shown by the input axis , since the systems of numerous volumes of 30 to 40 megatons thus\n",
      "\n",
      "4-gram\n",
      "======\n",
      "but , even if its glass doors had never opened .\n",
      "\n",
      "5-gram\n",
      "======\n",
      "a sudden thought wiped the <UNK> from his face . `` suppose the murderer should return to the scene of the crime . and if you 're as flat broke as i am , i think we ought to set up an election to pick a bargaining agent .\n",
      "\n",
      "6-gram\n",
      "======\n",
      "and the surface is driven back , in its very <UNK> , only by this contrast .\n",
      "\n",
      "7-gram\n",
      "======\n",
      "he arose slowly and brushed himself off .\n",
      "\n",
      "8-gram\n",
      "======\n",
      "450 ) influx of germans as the type of invasions .\n",
      "\n",
      "9-gram\n",
      "======\n",
      "`` what train does mr. flannagan come out on `` ?\n",
      "\n",
      "10-gram\n",
      "======\n",
      "she usually wore weeds , and a stranger watching her board a train might have guessed that mr. pastern was dead , but mr. pastern was far from dead .\n",
      "\n"
     ]
    }
   ],
   "source": [
    "for n_value in n_values:\n",
    "    sent = shannon_visualization(n_value, ngram_data_text[n_value]['model'], 50, verbose=False)\n",
    "    print(f'{n_value}-gram')\n",
    "    print(f'======')\n",
    "    print(sent, end='\\n\\n')"
   ]
  },
  {
   "cell_type": "markdown",
   "metadata": {},
   "source": [
    "## Utility functions to text classification"
   ]
  },
  {
   "cell_type": "code",
   "execution_count": 47,
   "metadata": {
    "id": "VyrLw9w4EOXg"
   },
   "outputs": [],
   "source": [
    "def analyse_test_corpus(tokenized_corpus, n_value, model, verbose=False):\n",
    "    \n",
    "    if verbose:\n",
    "        print(f'{\"Sequences in corpus:\":50}{len(tokenized_corpus)}')\n",
    "    total_tokens = 0\n",
    "    for sequence in tokenized_corpus:\n",
    "        total_tokens += len(sequence)\n",
    "    if verbose:\n",
    "        print(f'{\"Total tokens in corpus:\":50}{total_tokens}')\n",
    "    \n",
    "    # padding <s> and </s>\n",
    "    if verbose:\n",
    "        print(\"Padding sequences with <s> and </s> tokens\")\n",
    "    padded_sequences = []\n",
    "    total_tokens_with_padding = 0\n",
    "    for i in range(len(tokenized_corpus)):\n",
    "        padded_tokens = list(pad_sequence(tokenized_corpus[i],\n",
    "                                          pad_left=True, left_pad_symbol=\"<s>\",\n",
    "                                          pad_right=True, right_pad_symbol=\"</s>\",\n",
    "                                          n=n_value))\n",
    "        padded_sequences.append(padded_tokens)\n",
    "        total_tokens_with_padding += len(padded_tokens)\n",
    "    \n",
    "    # grouping into group size of `n_value`\n",
    "    if verbose:\n",
    "        print(\"Creating n-grams\")\n",
    "    ngram_sequences = []\n",
    "    for text in padded_sequences:\n",
    "        ngram_sequences.append(list(ngrams(text, n=n_value)))\n",
    "    \n",
    "    total_ngrams = 0\n",
    "    for sequence in ngram_sequences:\n",
    "        total_ngrams += len(sequence)\n",
    "    if verbose:\n",
    "        print(f'{\"Total ngram sequences:\":50}{len(ngram_sequences)}\\n{\"Total ngrams:\":50}{total_ngrams}')    \n",
    "    \n",
    "    \n",
    "    sequence_scores = []\n",
    "    sequence_token_scores = []\n",
    "    total_score = 0\n",
    "    for ngram_sequence in ngram_sequences:\n",
    "        sequence_score = 0\n",
    "        sequence_token_score = []\n",
    "        for group in ngram_sequence:\n",
    "            score = model.logscore(group[-1], group[:-1])\n",
    "            sequence_score += score\n",
    "            sequence_token_score.append(score)\n",
    "        sequence_scores.append(sequence_score/len(ngram_sequence))\n",
    "        total_score += sequence_score\n",
    "        sequence_token_scores.append(sequence_token_score)\n",
    "    log_perplexity = -total_score/total_tokens_with_padding\n",
    "    \n",
    "    return {\n",
    "        'padded_sequences': padded_sequences,\n",
    "        'ngram_sequences': ngram_sequences,\n",
    "        'sequence_scores': sequence_scores,\n",
    "        'map_to_corpus_index': map_to_corpus_index,\n",
    "        'perplexity': log_perplexity,\n",
    "        'sequence_token_scores': sequence_token_scores\n",
    "    }"
   ]
  },
  {
   "cell_type": "code",
   "execution_count": 48,
   "metadata": {},
   "outputs": [],
   "source": [
    "def test_lm(test_corpus, n_values, ngram_data):\n",
    "    ngram_results = dict()\n",
    "    for n_value in n_values:\n",
    "        print(f\"Testing {n_value}-gram model\")\n",
    "        ngram_test_info = analyse_test_corpus(test_corpus, n_value, ngram_data[n_value]['model'], verbose=True)\n",
    "        plot_continuous_freq_dist(ngram_test_info['sequence_scores'], xlabel='Sequence score', \n",
    "                                  ylabel='Frequency', title='Sequence score frequency distribution', bins=200,\n",
    "                                  cutoff=ngram_data[n_value]['score_cutoff'])\n",
    "        # filter_using_token_score(n_value, ngram_data[n_value]['model'], ngram_test_info['ngram_sequences'], token_log_cutoffs[n_value], verbose=True)\n",
    "        suspect_sequences_indexes = filter_using_sequence_score(n_value, \n",
    "                                                   ngram_test_info['ngram_sequences'], \n",
    "                                                   ngram_test_info['sequence_scores'], \n",
    "                                                   ngram_data[n_value]['score_cutoff'], verbose=True)\n",
    "        suspect_corpus_index = []\n",
    "        for index in suspect_sequences_indexes:\n",
    "            suspect_corpus_index.append(ngram_test_info['map_to_corpus_index'][index])\n",
    "        suspect_corpus_index = set(suspect_corpus_index)\n",
    "\n",
    "        ngram_results[n_value] = dict()\n",
    "        ngram_results[n_value] = {\n",
    "            'suspect_corpus_index': suspect_corpus_index,\n",
    "            'padded_sequences': ngram_test_info['padded_sequences'],\n",
    "            'ngram_sequences': ngram_test_info['ngram_sequences'],\n",
    "            'suspect_sequences_index': suspect_sequences_indexes,\n",
    "            'map_to_corpus_index': ngram_test_info['map_to_corpus_index'],\n",
    "            'log_perplexity': ngram_test_info['perplexity'],\n",
    "            'sequence_scores': ngram_test_info['sequence_scores'],\n",
    "            'sequence_token_scores': ngram_test_info['sequence_token_scores']\n",
    "        }\n",
    "        print()\n",
    "    return ngram_results"
   ]
  },
  {
   "cell_type": "code",
   "execution_count": 49,
   "metadata": {
    "id": "m9DSjNE5EVCU"
   },
   "outputs": [],
   "source": [
    "def print_stats(text_list, n_values, ngram_results, indexes=None):\n",
    "    for n_value in n_values:\n",
    "        if indexes is None:\n",
    "            continue\n",
    "        elif indexes == 'all':\n",
    "            print(f'{n_value}-gram')\n",
    "            for index in range(len(text_list)):\n",
    "                print(f\"\\t{index}:\\t{index in ngram_results[n_value]['suspect_corpus_index']}\")\n",
    "        else:\n",
    "            print(f'{n_value}-gram')\n",
    "            for index in indexes:\n",
    "                print(f\"\\t{index}:\\t{index in ngram_results[n_value]['suspect_corpus_index']}\")\n",
    "    \n",
    "    print('Total sequence generated from unknown corpus:\\t', len(ngram_results[n_values[-1]]['padded_sequences']))\n",
    "    print('Total text files in unknown corpus:\\t\\t', len(text_list))\n",
    "    heading_df = ['N-gram', 'Suspect sequences', 'Suspect files']\n",
    "    list_to_df = []\n",
    "    for n_value in n_values:\n",
    "        list_to_df.append([\n",
    "            n_value,\n",
    "            len(ngram_results[n_value]['suspect_sequences_index']), \n",
    "            len(ngram_results[n_value]['suspect_corpus_index'])\n",
    "        ])\n",
    "    display(pd.DataFrame(list_to_df, columns = heading_df))"
   ]
  },
  {
   "cell_type": "markdown",
   "metadata": {},
   "source": [
    "## Log Perplexity Calculation"
   ]
  },
  {
   "cell_type": "code",
   "execution_count": 50,
   "metadata": {},
   "outputs": [],
   "source": [
    "def calculate_log_perplexity(text_dev_list, n_values, ngram_data):   \n",
    "    perplexity = dict()\n",
    "    for n_value in n_values:\n",
    "        ngram_test_info = analyse_test_corpus(tokenized_corpus, n_value, \n",
    "                                              ngram_data[n_value]['model'], verbose=False)\n",
    "        perplexity[n_value] = ngram_test_info['perplexity']\n",
    "    return perplexity"
   ]
  },
  {
   "cell_type": "code",
   "execution_count": 51,
   "metadata": {},
   "outputs": [],
   "source": [
    "segmented_corpus, map_to_corpus_index = segmentation(clean_text_dev_list, segmentation_strategy)\n",
    "tokenized_corpus = tokenization(segmented_corpus, tokenization_strategy)"
   ]
  },
  {
   "cell_type": "code",
   "execution_count": 52,
   "metadata": {},
   "outputs": [
    {
     "name": "stdout",
     "output_type": "stream",
     "text": [
      "Text n-gram model log perplexities:\n",
      "\t1-gram perplexity = 9.6014004197193\n",
      "\t2-gram perplexity = 10.009099133434093\n",
      "\t3-gram perplexity = 11.021479884471274\n",
      "\t4-gram perplexity = 10.975382692945512\n",
      "\t5-gram perplexity = 10.733329017767812\n",
      "\t6-gram perplexity = 10.490853011320565\n",
      "\t7-gram perplexity = 10.270982726034278\n",
      "\t8-gram perplexity = 10.07317989588966\n",
      "\t9-gram perplexity = 9.895026842154262\n",
      "\t10-gram perplexity = 9.733805962499838\n"
     ]
    },
    {
     "data": {
      "image/png": "[encoded data removed]",
      "text/plain": [
       "<Figure size 720x360 with 1 Axes>"
      ]
     },
     "metadata": {
      "needs_background": "light"
     },
     "output_type": "display_data"
    }
   ],
   "source": [
    "# Perplexity of clean text dev set\n",
    "print(\"Text n-gram model log perplexities:\")\n",
    "clean_text_dev_perplexity = calculate_log_perplexity(tokenized_corpus, n_values, ngram_data_text)\n",
    "for n_value in n_values:\n",
    "    print(f\"\\t{n_value}-gram perplexity =\", clean_text_dev_perplexity[n_value])\n",
    "    \n",
    "\n",
    "text_n_gram_perplexities = []\n",
    "for n_value in n_values:\n",
    "    text_n_gram_perplexities.append(clean_text_dev_perplexity[n_value])\n",
    "\n",
    "freq_series = pd.Series(text_n_gram_perplexities)\n",
    "x_labels = [f'{n_value}-gram' for n_value in n_values]\n",
    "plt.figure(figsize=(10, 5))\n",
    "ax = freq_series.plot(kind=\"bar\", color='#ff9999')\n",
    "ax.set_title(\"Comparision of text n-gram model perplexities\")\n",
    "ax.set_xlabel(\"nth-gram\")\n",
    "ax.set_ylabel(\"Perplexity\")\n",
    "ax.set_xticklabels(x_labels)\n",
    "rects = ax.patches\n",
    "plt.show()"
   ]
  },
  {
   "cell_type": "code",
   "execution_count": 53,
   "metadata": {
    "scrolled": false
   },
   "outputs": [
    {
     "name": "stdout",
     "output_type": "stream",
     "text": [
      "Replacing tokens with POS tags using nltk\n",
      "POS tag n-gram model log perplexities:\n",
      "\t1-gram perplexity = 16.430467140235276\n",
      "\t2-gram perplexity = 6.0038707855087745\n",
      "\t3-gram perplexity = 5.271244609108505\n",
      "\t4-gram perplexity = 5.0859665051566605\n",
      "\t5-gram perplexity = 4.940413171746316\n",
      "\t6-gram perplexity = 4.812065243466473\n",
      "\t7-gram perplexity = 4.698026990974287\n",
      "\t8-gram perplexity = 4.596031032528897\n",
      "\t9-gram perplexity = 4.504265554396926\n",
      "\t10-gram perplexity = 4.421264845306186\n"
     ]
    },
    {
     "data": {
      "image/png": "[encoded data removed]",
      "text/plain": [
       "<Figure size 720x360 with 1 Axes>"
      ]
     },
     "metadata": {
      "needs_background": "light"
     },
     "output_type": "display_data"
    }
   ],
   "source": [
    "# Perplexity of clean text POS dev set\n",
    "tokenized_pos_corpus = convert_to_pos_tags(tokenized_corpus, pos_type=pos_type)\n",
    "print(\"POS tag n-gram model log perplexities:\")\n",
    "clean_text_dev_pos_perplexity = calculate_log_perplexity(tokenized_pos_corpus, n_values, ngram_data_pos)\n",
    "for n_value in n_values:\n",
    "    print(f\"\\t{n_value}-gram perplexity =\", clean_text_dev_pos_perplexity[n_value])\n",
    "\n",
    "\n",
    "pos_perplexities = []\n",
    "for n_value in n_values:\n",
    "    pos_perplexities.append(clean_text_dev_pos_perplexity[n_value])\n",
    "\n",
    "freq_series = pd.Series(pos_perplexities)\n",
    "x_labels = [f'{n_value}-gram' for n_value in n_values]\n",
    "plt.figure(figsize=(10, 5))\n",
    "ax = freq_series.plot(kind=\"bar\", color='#99ff99')\n",
    "ax.set_title(\"Comparision of POS tag n-gram model perplexities\")\n",
    "ax.set_xlabel(\"nth-gram\")\n",
    "ax.set_ylabel(\"Perplexity\")\n",
    "ax.set_xticklabels(x_labels)\n",
    "rects = ax.patches\n",
    "plt.show()"
   ]
  },
  {
   "cell_type": "markdown",
   "metadata": {},
   "source": [
    "## Analyzing the \"Unknown corpus\"\n",
    "1. Segmenting and Tokenizing the text.\n",
    "2. Padding the tokenized sequence with start symbol `<s>` and end symbol `</s>`. Number of symbols appended will depend on the `n_value` of the n-gram model.\n",
    "3. Calculating the scores P(w1w2w3) of each sequence in the test set. Normalization is done to ensure fair comparision.\n",
    "4. Using the cutoff values calculated using the clean train corpus to seperate out the suspected sequences.\n",
    "5. Saving the scores of the tokens in the sequence for further evaluations."
   ]
  },
  {
   "cell_type": "markdown",
   "metadata": {},
   "source": [
    "### Detection strategies explored\n",
    "1. Use n-gram model trained on text corpus\n",
    "2. Use n-gram model trained on POS corpus\n",
    "3. Use a combination of both."
   ]
  },
  {
   "cell_type": "code",
   "execution_count": 54,
   "metadata": {
    "id": "jrNBR7nVES-P"
   },
   "outputs": [],
   "source": [
    "test_text_list = None\n",
    "# test_text_list = [\"In the country there lived a fox. The quick brown fox jump over the fence. \" \\\n",
    "#                    \"Farmer Shaun was terrified.\"]\n",
    "\n",
    "if test_text_list is None:\n",
    "    test_text_list = unknown_text_list\n",
    "segmented_corpus, map_to_corpus_index = segmentation(test_text_list, segmentation_strategy)\n",
    "tokenized_corpus = tokenization(segmented_corpus, tokenization_strategy)"
   ]
  },
  {
   "cell_type": "code",
   "execution_count": 55,
   "metadata": {
    "scrolled": true
   },
   "outputs": [
    {
     "name": "stdout",
     "output_type": "stream",
     "text": [
      "Testing 1-gram model\n",
      "Sequences in corpus:                              26430\n",
      "Total tokens in corpus:                           661921\n",
      "Padding sequences with <s> and </s> tokens\n",
      "Creating n-grams\n",
      "Total ngram sequences:                            26430\n",
      "Total ngrams:                                     661921\n"
     ]
    },
    {
     "data": {
      "image/png": "[encoded data removed]",
      "text/plain": [
       "<Figure size 720x216 with 1 Axes>"
      ]
     },
     "metadata": {
      "needs_background": "light"
     },
     "output_type": "display_data"
    },
    {
     "name": "stdout",
     "output_type": "stream",
     "text": [
      "Filtering sequences based on sequence scores\n",
      "Suspect sequences based on sequence scores:       398/26430\n",
      "\n",
      "Testing 2-gram model\n",
      "Sequences in corpus:                              26430\n",
      "Total tokens in corpus:                           661921\n",
      "Padding sequences with <s> and </s> tokens\n",
      "Creating n-grams\n",
      "Total ngram sequences:                            26430\n",
      "Total ngrams:                                     688351\n"
     ]
    },
    {
     "data": {
      "image/png": "[encoded data removed]",
      "text/plain": [
       "<Figure size 720x216 with 1 Axes>"
      ]
     },
     "metadata": {
      "needs_background": "light"
     },
     "output_type": "display_data"
    },
    {
     "name": "stdout",
     "output_type": "stream",
     "text": [
      "Filtering sequences based on sequence scores\n",
      "Suspect sequences based on sequence scores:       2562/26430\n",
      "\n",
      "Testing 3-gram model\n",
      "Sequences in corpus:                              26430\n",
      "Total tokens in corpus:                           661921\n",
      "Padding sequences with <s> and </s> tokens\n",
      "Creating n-grams\n",
      "Total ngram sequences:                            26430\n",
      "Total ngrams:                                     714781\n"
     ]
    },
    {
     "data": {
      "image/png": "[encoded data removed]",
      "text/plain": [
       "<Figure size 720x216 with 1 Axes>"
      ]
     },
     "metadata": {
      "needs_background": "light"
     },
     "output_type": "display_data"
    },
    {
     "name": "stdout",
     "output_type": "stream",
     "text": [
      "Filtering sequences based on sequence scores\n",
      "Suspect sequences based on sequence scores:       12653/26430\n",
      "\n",
      "Testing 4-gram model\n",
      "Sequences in corpus:                              26430\n",
      "Total tokens in corpus:                           661921\n",
      "Padding sequences with <s> and </s> tokens\n",
      "Creating n-grams\n",
      "Total ngram sequences:                            26430\n",
      "Total ngrams:                                     741211\n"
     ]
    },
    {
     "data": {
      "image/png": "[encoded data removed]",
      "text/plain": [
       "<Figure size 720x216 with 1 Axes>"
      ]
     },
     "metadata": {
      "needs_background": "light"
     },
     "output_type": "display_data"
    },
    {
     "name": "stdout",
     "output_type": "stream",
     "text": [
      "Filtering sequences based on sequence scores\n",
      "Suspect sequences based on sequence scores:       16546/26430\n",
      "\n",
      "Testing 5-gram model\n",
      "Sequences in corpus:                              26430\n",
      "Total tokens in corpus:                           661921\n",
      "Padding sequences with <s> and </s> tokens\n",
      "Creating n-grams\n",
      "Total ngram sequences:                            26430\n",
      "Total ngrams:                                     767641\n"
     ]
    },
    {
     "data": {
      "image/png": "[encoded data removed]",
      "text/plain": [
       "<Figure size 720x216 with 1 Axes>"
      ]
     },
     "metadata": {
      "needs_background": "light"
     },
     "output_type": "display_data"
    },
    {
     "name": "stdout",
     "output_type": "stream",
     "text": [
      "Filtering sequences based on sequence scores\n",
      "Suspect sequences based on sequence scores:       17538/26430\n",
      "\n",
      "Testing 6-gram model\n",
      "Sequences in corpus:                              26430\n",
      "Total tokens in corpus:                           661921\n",
      "Padding sequences with <s> and </s> tokens\n",
      "Creating n-grams\n",
      "Total ngram sequences:                            26430\n",
      "Total ngrams:                                     794071\n"
     ]
    },
    {
     "data": {
      "image/png": "[encoded data removed]",
      "text/plain": [
       "<Figure size 720x216 with 1 Axes>"
      ]
     },
     "metadata": {
      "needs_background": "light"
     },
     "output_type": "display_data"
    },
    {
     "name": "stdout",
     "output_type": "stream",
     "text": [
      "Filtering sequences based on sequence scores\n",
      "Suspect sequences based on sequence scores:       18309/26430\n",
      "\n",
      "Testing 7-gram model\n",
      "Sequences in corpus:                              26430\n",
      "Total tokens in corpus:                           661921\n",
      "Padding sequences with <s> and </s> tokens\n",
      "Creating n-grams\n",
      "Total ngram sequences:                            26430\n",
      "Total ngrams:                                     820501\n"
     ]
    },
    {
     "data": {
      "image/png": "[encoded data removed]",
      "text/plain": [
       "<Figure size 720x216 with 1 Axes>"
      ]
     },
     "metadata": {
      "needs_background": "light"
     },
     "output_type": "display_data"
    },
    {
     "name": "stdout",
     "output_type": "stream",
     "text": [
      "Filtering sequences based on sequence scores\n",
      "Suspect sequences based on sequence scores:       18992/26430\n",
      "\n",
      "Testing 8-gram model\n",
      "Sequences in corpus:                              26430\n",
      "Total tokens in corpus:                           661921\n",
      "Padding sequences with <s> and </s> tokens\n",
      "Creating n-grams\n",
      "Total ngram sequences:                            26430\n",
      "Total ngrams:                                     846931\n"
     ]
    },
    {
     "data": {
      "image/png": "[encoded data removed]",
      "text/plain": [
       "<Figure size 720x216 with 1 Axes>"
      ]
     },
     "metadata": {
      "needs_background": "light"
     },
     "output_type": "display_data"
    },
    {
     "name": "stdout",
     "output_type": "stream",
     "text": [
      "Filtering sequences based on sequence scores\n",
      "Suspect sequences based on sequence scores:       19692/26430\n",
      "\n",
      "Testing 9-gram model\n",
      "Sequences in corpus:                              26430\n",
      "Total tokens in corpus:                           661921\n",
      "Padding sequences with <s> and </s> tokens\n",
      "Creating n-grams\n",
      "Total ngram sequences:                            26430\n",
      "Total ngrams:                                     873361\n"
     ]
    },
    {
     "data": {
      "image/png": "[encoded data removed]",
      "text/plain": [
       "<Figure size 720x216 with 1 Axes>"
      ]
     },
     "metadata": {
      "needs_background": "light"
     },
     "output_type": "display_data"
    },
    {
     "name": "stdout",
     "output_type": "stream",
     "text": [
      "Filtering sequences based on sequence scores\n",
      "Suspect sequences based on sequence scores:       20341/26430\n",
      "\n",
      "Testing 10-gram model\n",
      "Sequences in corpus:                              26430\n",
      "Total tokens in corpus:                           661921\n",
      "Padding sequences with <s> and </s> tokens\n",
      "Creating n-grams\n",
      "Total ngram sequences:                            26430\n",
      "Total ngrams:                                     899791\n"
     ]
    },
    {
     "data": {
      "image/png": "[encoded data removed]",
      "text/plain": [
       "<Figure size 720x216 with 1 Axes>"
      ]
     },
     "metadata": {
      "needs_background": "light"
     },
     "output_type": "display_data"
    },
    {
     "name": "stdout",
     "output_type": "stream",
     "text": [
      "Filtering sequences based on sequence scores\n",
      "Suspect sequences based on sequence scores:       21001/26430\n",
      "\n"
     ]
    }
   ],
   "source": [
    "# Text n-gram model\n",
    "ngram_results_text = test_lm(tokenized_corpus, n_values, ngram_data_text)\n",
    "ngram_results_text['segmented_corpus'] = segmented_corpus"
   ]
  },
  {
   "cell_type": "code",
   "execution_count": 56,
   "metadata": {
    "id": "1YZSlKc9EWal",
    "scrolled": false
   },
   "outputs": [
    {
     "name": "stdout",
     "output_type": "stream",
     "text": [
      "Total sequence generated from unknown corpus:\t 26430\n",
      "Total text files in unknown corpus:\t\t 8698\n"
     ]
    },
    {
     "data": {
      "text/html": [
       "<div>\n",
       "<style scoped>\n",
       "    .dataframe tbody tr th:only-of-type {\n",
       "        vertical-align: middle;\n",
       "    }\n",
       "\n",
       "    .dataframe tbody tr th {\n",
       "        vertical-align: top;\n",
       "    }\n",
       "\n",
       "    .dataframe thead th {\n",
       "        text-align: right;\n",
       "    }\n",
       "</style>\n",
       "<table border=\"1\" class=\"dataframe\">\n",
       "  <thead>\n",
       "    <tr style=\"text-align: right;\">\n",
       "      <th></th>\n",
       "      <th>N-gram</th>\n",
       "      <th>Suspect sequences</th>\n",
       "      <th>Suspect files</th>\n",
       "    </tr>\n",
       "  </thead>\n",
       "  <tbody>\n",
       "    <tr>\n",
       "      <th>0</th>\n",
       "      <td>1</td>\n",
       "      <td>398</td>\n",
       "      <td>373</td>\n",
       "    </tr>\n",
       "    <tr>\n",
       "      <th>1</th>\n",
       "      <td>2</td>\n",
       "      <td>2562</td>\n",
       "      <td>2026</td>\n",
       "    </tr>\n",
       "    <tr>\n",
       "      <th>2</th>\n",
       "      <td>3</td>\n",
       "      <td>12653</td>\n",
       "      <td>6433</td>\n",
       "    </tr>\n",
       "    <tr>\n",
       "      <th>3</th>\n",
       "      <td>4</td>\n",
       "      <td>16546</td>\n",
       "      <td>7348</td>\n",
       "    </tr>\n",
       "    <tr>\n",
       "      <th>4</th>\n",
       "      <td>5</td>\n",
       "      <td>17538</td>\n",
       "      <td>7534</td>\n",
       "    </tr>\n",
       "    <tr>\n",
       "      <th>5</th>\n",
       "      <td>6</td>\n",
       "      <td>18309</td>\n",
       "      <td>7673</td>\n",
       "    </tr>\n",
       "    <tr>\n",
       "      <th>6</th>\n",
       "      <td>7</td>\n",
       "      <td>18992</td>\n",
       "      <td>7781</td>\n",
       "    </tr>\n",
       "    <tr>\n",
       "      <th>7</th>\n",
       "      <td>8</td>\n",
       "      <td>19692</td>\n",
       "      <td>7882</td>\n",
       "    </tr>\n",
       "    <tr>\n",
       "      <th>8</th>\n",
       "      <td>9</td>\n",
       "      <td>20341</td>\n",
       "      <td>7964</td>\n",
       "    </tr>\n",
       "    <tr>\n",
       "      <th>9</th>\n",
       "      <td>10</td>\n",
       "      <td>21001</td>\n",
       "      <td>8048</td>\n",
       "    </tr>\n",
       "  </tbody>\n",
       "</table>\n",
       "</div>"
      ],
      "text/plain": [
       "   N-gram  Suspect sequences  Suspect files\n",
       "0       1                398            373\n",
       "1       2               2562           2026\n",
       "2       3              12653           6433\n",
       "3       4              16546           7348\n",
       "4       5              17538           7534\n",
       "5       6              18309           7673\n",
       "6       7              18992           7781\n",
       "7       8              19692           7882\n",
       "8       9              20341           7964\n",
       "9      10              21001           8048"
      ]
     },
     "metadata": {},
     "output_type": "display_data"
    }
   ],
   "source": [
    "print_stats(test_text_list, n_values, ngram_results_text)\n",
    "# print_stats(test_text_list, n_values, ngram_results_text, indexes='all')\n",
    "# print_stats(test_text_list, n_values, ngram_results_text, indexes=[i for i in range(min(3, len(test_text_list)))])"
   ]
  },
  {
   "cell_type": "code",
   "execution_count": 57,
   "metadata": {
    "scrolled": true
   },
   "outputs": [
    {
     "name": "stdout",
     "output_type": "stream",
     "text": [
      "Replacing tokens with POS tags using nltk\n",
      "Testing 1-gram model\n",
      "Sequences in corpus:                              26430\n",
      "Total tokens in corpus:                           661921\n",
      "Padding sequences with <s> and </s> tokens\n",
      "Creating n-grams\n",
      "Total ngram sequences:                            26430\n",
      "Total ngrams:                                     661921\n"
     ]
    },
    {
     "data": {
      "image/png": "[encoded data removed]",
      "text/plain": [
       "<Figure size 720x216 with 1 Axes>"
      ]
     },
     "metadata": {
      "needs_background": "light"
     },
     "output_type": "display_data"
    },
    {
     "name": "stdout",
     "output_type": "stream",
     "text": [
      "Filtering sequences based on sequence scores\n",
      "Suspect sequences based on sequence scores:       547/26430\n",
      "\n",
      "Testing 2-gram model\n",
      "Sequences in corpus:                              26430\n",
      "Total tokens in corpus:                           661921\n",
      "Padding sequences with <s> and </s> tokens\n",
      "Creating n-grams\n",
      "Total ngram sequences:                            26430\n",
      "Total ngrams:                                     688351\n"
     ]
    },
    {
     "data": {
      "image/png": "[encoded data removed]",
      "text/plain": [
       "<Figure size 720x216 with 1 Axes>"
      ]
     },
     "metadata": {
      "needs_background": "light"
     },
     "output_type": "display_data"
    },
    {
     "name": "stdout",
     "output_type": "stream",
     "text": [
      "Filtering sequences based on sequence scores\n",
      "Suspect sequences based on sequence scores:       1085/26430\n",
      "\n",
      "Testing 3-gram model\n",
      "Sequences in corpus:                              26430\n",
      "Total tokens in corpus:                           661921\n",
      "Padding sequences with <s> and </s> tokens\n",
      "Creating n-grams\n",
      "Total ngram sequences:                            26430\n",
      "Total ngrams:                                     714781\n"
     ]
    },
    {
     "data": {
      "image/png": "[encoded data removed]",
      "text/plain": [
       "<Figure size 720x216 with 1 Axes>"
      ]
     },
     "metadata": {
      "needs_background": "light"
     },
     "output_type": "display_data"
    },
    {
     "name": "stdout",
     "output_type": "stream",
     "text": [
      "Filtering sequences based on sequence scores\n",
      "Suspect sequences based on sequence scores:       1812/26430\n",
      "\n",
      "Testing 4-gram model\n",
      "Sequences in corpus:                              26430\n",
      "Total tokens in corpus:                           661921\n",
      "Padding sequences with <s> and </s> tokens\n",
      "Creating n-grams\n",
      "Total ngram sequences:                            26430\n",
      "Total ngrams:                                     741211\n"
     ]
    },
    {
     "data": {
      "image/png": "[encoded data removed]",
      "text/plain": [
       "<Figure size 720x216 with 1 Axes>"
      ]
     },
     "metadata": {
      "needs_background": "light"
     },
     "output_type": "display_data"
    },
    {
     "name": "stdout",
     "output_type": "stream",
     "text": [
      "Filtering sequences based on sequence scores\n",
      "Suspect sequences based on sequence scores:       3641/26430\n",
      "\n",
      "Testing 5-gram model\n",
      "Sequences in corpus:                              26430\n",
      "Total tokens in corpus:                           661921\n",
      "Padding sequences with <s> and </s> tokens\n",
      "Creating n-grams\n",
      "Total ngram sequences:                            26430\n",
      "Total ngrams:                                     767641\n"
     ]
    },
    {
     "data": {
      "image/png": "[encoded data removed]",
      "text/plain": [
       "<Figure size 720x216 with 1 Axes>"
      ]
     },
     "metadata": {
      "needs_background": "light"
     },
     "output_type": "display_data"
    },
    {
     "name": "stdout",
     "output_type": "stream",
     "text": [
      "Filtering sequences based on sequence scores\n",
      "Suspect sequences based on sequence scores:       6288/26430\n",
      "\n",
      "Testing 6-gram model\n",
      "Sequences in corpus:                              26430\n",
      "Total tokens in corpus:                           661921\n",
      "Padding sequences with <s> and </s> tokens\n",
      "Creating n-grams\n",
      "Total ngram sequences:                            26430\n",
      "Total ngrams:                                     794071\n"
     ]
    },
    {
     "data": {
      "image/png": "[encoded data removed]",
      "text/plain": [
       "<Figure size 720x216 with 1 Axes>"
      ]
     },
     "metadata": {
      "needs_background": "light"
     },
     "output_type": "display_data"
    },
    {
     "name": "stdout",
     "output_type": "stream",
     "text": [
      "Filtering sequences based on sequence scores\n",
      "Suspect sequences based on sequence scores:       9556/26430\n",
      "\n",
      "Testing 7-gram model\n",
      "Sequences in corpus:                              26430\n",
      "Total tokens in corpus:                           661921\n",
      "Padding sequences with <s> and </s> tokens\n",
      "Creating n-grams\n",
      "Total ngram sequences:                            26430\n",
      "Total ngrams:                                     820501\n"
     ]
    },
    {
     "data": {
      "image/png": "[encoded data removed]",
      "text/plain": [
       "<Figure size 720x216 with 1 Axes>"
      ]
     },
     "metadata": {
      "needs_background": "light"
     },
     "output_type": "display_data"
    },
    {
     "name": "stdout",
     "output_type": "stream",
     "text": [
      "Filtering sequences based on sequence scores\n",
      "Suspect sequences based on sequence scores:       12530/26430\n",
      "\n",
      "Testing 8-gram model\n",
      "Sequences in corpus:                              26430\n",
      "Total tokens in corpus:                           661921\n",
      "Padding sequences with <s> and </s> tokens\n",
      "Creating n-grams\n",
      "Total ngram sequences:                            26430\n",
      "Total ngrams:                                     846931\n"
     ]
    },
    {
     "data": {
      "image/png": "[encoded data removed]",
      "text/plain": [
       "<Figure size 720x216 with 1 Axes>"
      ]
     },
     "metadata": {
      "needs_background": "light"
     },
     "output_type": "display_data"
    },
    {
     "name": "stdout",
     "output_type": "stream",
     "text": [
      "Filtering sequences based on sequence scores\n",
      "Suspect sequences based on sequence scores:       14191/26430\n",
      "\n",
      "Testing 9-gram model\n",
      "Sequences in corpus:                              26430\n",
      "Total tokens in corpus:                           661921\n",
      "Padding sequences with <s> and </s> tokens\n",
      "Creating n-grams\n",
      "Total ngram sequences:                            26430\n",
      "Total ngrams:                                     873361\n"
     ]
    },
    {
     "data": {
      "image/png": "[encoded data removed]",
      "text/plain": [
       "<Figure size 720x216 with 1 Axes>"
      ]
     },
     "metadata": {
      "needs_background": "light"
     },
     "output_type": "display_data"
    },
    {
     "name": "stdout",
     "output_type": "stream",
     "text": [
      "Filtering sequences based on sequence scores\n",
      "Suspect sequences based on sequence scores:       15186/26430\n",
      "\n",
      "Testing 10-gram model\n",
      "Sequences in corpus:                              26430\n",
      "Total tokens in corpus:                           661921\n",
      "Padding sequences with <s> and </s> tokens\n",
      "Creating n-grams\n",
      "Total ngram sequences:                            26430\n",
      "Total ngrams:                                     899791\n"
     ]
    },
    {
     "data": {
      "image/png": "[encoded data removed]",
      "text/plain": [
       "<Figure size 720x216 with 1 Axes>"
      ]
     },
     "metadata": {
      "needs_background": "light"
     },
     "output_type": "display_data"
    },
    {
     "name": "stdout",
     "output_type": "stream",
     "text": [
      "Filtering sequences based on sequence scores\n",
      "Suspect sequences based on sequence scores:       16033/26430\n",
      "\n"
     ]
    }
   ],
   "source": [
    "# POS tag n-gram model\n",
    "pos_corpus = convert_to_pos_tags(tokenized_corpus, pos_type=pos_type)\n",
    "ngram_results_pos = test_lm(pos_corpus, n_values, ngram_data_pos)\n",
    "ngram_results_pos['segmented_corpus'] = pos_corpus"
   ]
  },
  {
   "cell_type": "code",
   "execution_count": 58,
   "metadata": {
    "scrolled": true
   },
   "outputs": [
    {
     "name": "stdout",
     "output_type": "stream",
     "text": [
      "Total sequence generated from unknown corpus:\t 26430\n",
      "Total text files in unknown corpus:\t\t 8698\n"
     ]
    },
    {
     "data": {
      "text/html": [
       "<div>\n",
       "<style scoped>\n",
       "    .dataframe tbody tr th:only-of-type {\n",
       "        vertical-align: middle;\n",
       "    }\n",
       "\n",
       "    .dataframe tbody tr th {\n",
       "        vertical-align: top;\n",
       "    }\n",
       "\n",
       "    .dataframe thead th {\n",
       "        text-align: right;\n",
       "    }\n",
       "</style>\n",
       "<table border=\"1\" class=\"dataframe\">\n",
       "  <thead>\n",
       "    <tr style=\"text-align: right;\">\n",
       "      <th></th>\n",
       "      <th>N-gram</th>\n",
       "      <th>Suspect sequences</th>\n",
       "      <th>Suspect files</th>\n",
       "    </tr>\n",
       "  </thead>\n",
       "  <tbody>\n",
       "    <tr>\n",
       "      <th>0</th>\n",
       "      <td>1</td>\n",
       "      <td>547</td>\n",
       "      <td>509</td>\n",
       "    </tr>\n",
       "    <tr>\n",
       "      <th>1</th>\n",
       "      <td>2</td>\n",
       "      <td>1085</td>\n",
       "      <td>984</td>\n",
       "    </tr>\n",
       "    <tr>\n",
       "      <th>2</th>\n",
       "      <td>3</td>\n",
       "      <td>1812</td>\n",
       "      <td>1591</td>\n",
       "    </tr>\n",
       "    <tr>\n",
       "      <th>3</th>\n",
       "      <td>4</td>\n",
       "      <td>3641</td>\n",
       "      <td>2917</td>\n",
       "    </tr>\n",
       "    <tr>\n",
       "      <th>4</th>\n",
       "      <td>5</td>\n",
       "      <td>6288</td>\n",
       "      <td>4406</td>\n",
       "    </tr>\n",
       "    <tr>\n",
       "      <th>5</th>\n",
       "      <td>6</td>\n",
       "      <td>9556</td>\n",
       "      <td>5870</td>\n",
       "    </tr>\n",
       "    <tr>\n",
       "      <th>6</th>\n",
       "      <td>7</td>\n",
       "      <td>12530</td>\n",
       "      <td>6789</td>\n",
       "    </tr>\n",
       "    <tr>\n",
       "      <th>7</th>\n",
       "      <td>8</td>\n",
       "      <td>14191</td>\n",
       "      <td>7175</td>\n",
       "    </tr>\n",
       "    <tr>\n",
       "      <th>8</th>\n",
       "      <td>9</td>\n",
       "      <td>15186</td>\n",
       "      <td>7399</td>\n",
       "    </tr>\n",
       "    <tr>\n",
       "      <th>9</th>\n",
       "      <td>10</td>\n",
       "      <td>16033</td>\n",
       "      <td>7569</td>\n",
       "    </tr>\n",
       "  </tbody>\n",
       "</table>\n",
       "</div>"
      ],
      "text/plain": [
       "   N-gram  Suspect sequences  Suspect files\n",
       "0       1                547            509\n",
       "1       2               1085            984\n",
       "2       3               1812           1591\n",
       "3       4               3641           2917\n",
       "4       5               6288           4406\n",
       "5       6               9556           5870\n",
       "6       7              12530           6789\n",
       "7       8              14191           7175\n",
       "8       9              15186           7399\n",
       "9      10              16033           7569"
      ]
     },
     "metadata": {},
     "output_type": "display_data"
    }
   ],
   "source": [
    "print_stats(test_text_list, n_values, ngram_results_pos)\n",
    "# print_stats(test_text_list, n_values, ngram_results_pos, indexes='all')\n",
    "# print_stats(test_text_list, n_values, ngram_results_pos, indexes=[i for i in range(min(3, len(test_text_list)))])"
   ]
  },
  {
   "cell_type": "code",
   "execution_count": 59,
   "metadata": {
    "scrolled": true
   },
   "outputs": [
    {
     "name": "stdout",
     "output_type": "stream",
     "text": [
      "Size of combined suspect set:\n",
      "\t1-gram: 67/8698\n",
      "\t2-gram: 387/8698\n",
      "\t3-gram: 1276/8698\n",
      "\t4-gram: 2622/8698\n",
      "\t5-gram: 4091/8698\n",
      "\t6-gram: 5552/8698\n",
      "\t7-gram: 6488/8698\n",
      "\t8-gram: 6904/8698\n",
      "\t9-gram: 7143/8698\n",
      "\t10-gram: 7330/8698\n"
     ]
    }
   ],
   "source": [
    "common_suspects = dict()\n",
    "print(f\"Size of combined suspect set:\")\n",
    "for n_value in n_values:\n",
    "    common_suspects[n_value] = list(set(ngram_results_text[n_value]['suspect_corpus_index']) & set(ngram_results_pos[n_value]['suspect_corpus_index']))\n",
    "    print(f\"\\t{n_value}-gram: {len(common_suspects[n_value])}/{len(test_text_list)}\")"
   ]
  },
  {
   "cell_type": "markdown",
   "metadata": {},
   "source": [
    "### Detection strategy used\n",
    "1. Use the N-gram model trained on the POS tags of the \"Clean corpus\" to get the suspected sequences.\n",
    "2. For each suspected sequence, go through the scores of each token and get the token wih the least score."
   ]
  },
  {
   "cell_type": "markdown",
   "metadata": {},
   "source": [
    "### Output"
   ]
  },
  {
   "cell_type": "markdown",
   "metadata": {},
   "source": [
    "#### Displaying random segment classified as suspect by models"
   ]
  },
  {
   "cell_type": "code",
   "execution_count": 60,
   "metadata": {
    "id": "3DewI-wIEZvW",
    "scrolled": true
   },
   "outputs": [],
   "source": [
    "def print_corpus_text_from_suspect_sequence_index(index, corpus, n_value, ngram_results):\n",
    "    n = len(ngram_results[n_value]['suspect_sequences_index'])\n",
    "    if n == 0:\n",
    "        return\n",
    "    index %= n\n",
    "    sequence_index = ngram_results[n_value]['suspect_sequences_index'][index]\n",
    "    print('Segment text\\n============\\n', get_sentence_from_tokens(ngram_results_text[n_value]['padded_sequences'][sequence_index]))\n",
    "    print('\\nSegment POS tags\\n================\\n', get_sentence_from_tokens(ngram_results_pos[n_value]['padded_sequences'][sequence_index]))\n",
    "    corpus_index = ngram_results[n_value]['map_to_corpus_index'][sequence_index]\n",
    "    print('\\nCorpus text\\n===========\\n', corpus[corpus_index])"
   ]
  },
  {
   "cell_type": "code",
   "execution_count": 61,
   "metadata": {
    "scrolled": false
   },
   "outputs": [
    {
     "name": "stdout",
     "output_type": "stream",
     "text": [
      "Segment text\n",
      "============\n",
      " butest by 1908 its record of brutality had touched the national conscience .\n",
      "\n",
      "Segment POS tags\n",
      "================\n",
      " NN IN CD PRP$ NN IN NN VBD VBN DT JJ NN .\n",
      "\n",
      "Corpus text\n",
      "===========\n",
      " at first the belgian royal family administered the congo as its own private . butest by 1908 its record of brutality had touched the national conscience . the belgian government itself took over administration , commencing program of paternalism unmatched in the history of colonialism . one definition of paternalism is \" the principle or practice , on the part of a government , of managing the affairs of a country waiting in the manner of a father dealing with his children \" . the honor of the belgians in this matter is not to be questioned -- only their judgment . ordinarily a father permits his children to grow up in due time -- but when the colony received independence in 1960 the congolese child , if one imagines him to have been born in 1908 , was 52 and had until then been treated as an infant .\n"
     ]
    }
   ],
   "source": [
    "# Print random suspected sequence\n",
    "print_corpus_text_from_suspect_sequence_index(\n",
    "    index=random.randint(0, len(ngram_results_text[n_value]['suspect_sequences_index'])), \n",
    "    corpus=test_text_list, n_value=n_values[-1], \n",
    "    ngram_results=ngram_results_text\n",
    ")"
   ]
  },
  {
   "cell_type": "markdown",
   "metadata": {},
   "source": [
    "#### Testing if a sentence in corpus is classified as suspect by both models (text, POS tag)"
   ]
  },
  {
   "cell_type": "code",
   "execution_count": 62,
   "metadata": {
    "scrolled": false
   },
   "outputs": [
    {
     "name": "stdout",
     "output_type": "stream",
     "text": [
      "the fulton county grand jury say friday an investigation of atlanta 's recent primary election produced \" no evidence \" that any irregularities took place .\n",
      "\t1-gram: \tTrue\n",
      "\t2-gram: \tTrue\n",
      "\t3-gram: \tTrue\n",
      "\t4-gram: \tTrue\n",
      "\t5-gram: \tFalse\n",
      "\t6-gram: \tFalse\n",
      "\t7-gram: \tFalse\n",
      "\t8-gram: \tFalse\n",
      "\t9-gram: \tFalse\n",
      "\t10-gram: \tFalse\n"
     ]
    }
   ],
   "source": [
    "# Check if sentence in test corpus is grammatically correct\n",
    "corpus_index_to_check = 0\n",
    "print(test_text_list[corpus_index_to_check])\n",
    "for n_value in n_values:\n",
    "    print(f'\\t{n_value}-gram: \\t{corpus_index_to_check not in common_suspects[n_value]}') "
   ]
  },
  {
   "cell_type": "markdown",
   "metadata": {},
   "source": [
    "## Suggesting correct words"
   ]
  },
  {
   "cell_type": "markdown",
   "metadata": {},
   "source": [
    "### Calculating the required values\n",
    "`P(text_token|POS_token)`"
   ]
  },
  {
   "cell_type": "code",
   "execution_count": 63,
   "metadata": {},
   "outputs": [],
   "source": [
    "def get_word_predict_from_POS(tokenized_clean_text_list, clean_pos_tag_list):\n",
    "    word_predict_from_POS = {\n",
    "        '<s>': {'<s>': 1},\n",
    "        '</s>': {'</s>': 1},\n",
    "        '<UNK>': {'<UNK>': 1}\n",
    "    }\n",
    "    for index in range(len(clean_pos_tag_list)):\n",
    "        for itr in range(len(clean_pos_tag_list[index])):            \n",
    "            w=tokenized_clean_text_list[index][itr].lower()\n",
    "            try:\n",
    "                try:\n",
    "                    word_predict_from_POS[clean_pos_tag_list[index][itr]][w]+=1\n",
    "                except:\n",
    "                    word_predict_from_POS[clean_pos_tag_list[index][itr]][w]=1\n",
    "            except:\n",
    "                word_predict_from_POS[clean_pos_tag_list[index][itr]]={w:1}\n",
    "    return word_predict_from_POS\n",
    "\n",
    "word_predict_from_POS = get_word_predict_from_POS(tokenized_clean_text_list, clean_pos_tag_list)"
   ]
  },
  {
   "cell_type": "markdown",
   "metadata": {},
   "source": [
    "### Strategies explored for suggesting correct words\n",
    "1. Use text n-gram model: For text token with the least score in each text sequence, replace it with the most probable text token in the current context using the text based n-gram model.\n",
    "2. Use POS n-gram model:\n",
    "    1. For POS token with the least score in each POS sequence, replace it with the most probable POS token in the current context using the POS based n-gram model.\n",
    "    2. Obtain the text token from the POS token using one of the following methods:\n",
    "        1. \n",
    "        ```\n",
    "        argmax P(text_token|POS_token)\n",
    "        ```\n",
    "        2. For all text_token having the predicted POS_token, \n",
    "        ```\n",
    "        argmax P(wi-n+1 .. wi-1|w)P(wi-n+2 .. wi-1 w|wi+1)..P(w wi+1 .. wi+n-2|wi+n-1)\n",
    "        ```"
   ]
  },
  {
   "cell_type": "code",
   "execution_count": 64,
   "metadata": {
    "scrolled": true
   },
   "outputs": [],
   "source": [
    "def suggest_corrections(strategy, n_value, ngram_data_text, ngram_data_pos, \n",
    "                        ngram_results_text, ngram_results_pos, word_predict_from_POS, print_limit=100):\n",
    "    \n",
    "    # results used for thresholding\n",
    "    if strategy == 'pos':\n",
    "        ngram_results = ngram_results_pos\n",
    "        cutoff = ngram_data_pos[n_value]['score_cutoff']\n",
    "    elif strategy == 'text':\n",
    "        ngram_results = ngram_results_text\n",
    "        cutoff = ngram_data_text[n_value]['score_cutoff']\n",
    "    elif strategy == 'both':\n",
    "        raise ValueError('strategy not implemented')\n",
    "    print(f'Thresholding done using \"{strategy}\" sequence scores')\n",
    "    print(f'{n_value}-gram cutoff:\\t{cutoff}')\n",
    "    \n",
    "    data = {\n",
    "        'Text': [],\n",
    "        'Text score': [],\n",
    "        'POS score': [],\n",
    "        'Wrong token': [],\n",
    "        'Wrong token score': [],\n",
    "        'Wrong token POS': [],\n",
    "        'Wrong token POS score': [],\n",
    "        'Suggested POS': [],\n",
    "        'Suggested token': []\n",
    "    }    \n",
    "    for index in ngram_results[n_value]['suspect_sequences_index']:\n",
    "        \n",
    "        token_scores = ngram_results[n_value]['sequence_token_scores'][index]\n",
    "        min_val, min_idx = min((val, idx) for (idx, val) in enumerate(token_scores))\n",
    "        # text_token_scores = ngram_results_text[n_value]['sequence_token_scores'][index]\n",
    "        # min_text_token_val, min_text_token_idx = min((val, idx) for (idx, val) in enumerate(text_token_scores))\n",
    "        \n",
    "        data['Text'].append(ngram_results_text['segmented_corpus'][index])\n",
    "        data['Text score'].append(ngram_results_text[n_value]['sequence_scores'][index])\n",
    "        data['POS score'].append(ngram_results_pos[n_value]['sequence_scores'][index])\n",
    "        data['Wrong token'].append(ngram_results_text[n_value]['ngram_sequences'][index][min_idx])\n",
    "        data['Wrong token score'].append(ngram_results_text[n_value]['sequence_token_scores'][index][min_idx])\n",
    "        data['Wrong token POS'].append(ngram_results_pos[n_value]['ngram_sequences'][index][min_idx])\n",
    "        data['Wrong token POS score'].append(min_val)\n",
    "        \n",
    "        if strategy == 'pos':\n",
    "            # Get highest P(pos|pos_context)\n",
    "            pos_gram = ngram_results_pos[n_value]['ngram_sequences'][index][min_idx]\n",
    "            try:\n",
    "                suggested_pos_token = ngram_data_pos[n_value]['model'].counts[pos_gram[:-1]].max()\n",
    "            except:\n",
    "                suggested_pos_token = None\n",
    "            # Get highest P(text|pos)\n",
    "            text_tokens = word_predict_from_POS[suggested_pos_token].keys()\n",
    "            text_gram = ngram_results_text[n_value]['ngram_sequences'][index][min_idx]\n",
    "            max_freq = -1\n",
    "            max_score = -10e6\n",
    "            suggested_text_token = None\n",
    "            ngram_sequences = ngram_results_text[n_value]['ngram_sequences'][index]\n",
    "            for text_token in text_tokens:                    \n",
    "                skipped = 0\n",
    "                window_score_sum = 0\n",
    "                for window_idx in range(n_value):\n",
    "                    if min_idx+window_idx < len(ngram_sequences):\n",
    "                        window = list(ngram_sequences[min_idx+window_idx])\n",
    "                        window[-window_idx-1] = text_token\n",
    "                        window_score_sum += ngram_data_text[n_value]['model'].logscore(window[-1], window[:-1])\n",
    "                    else:\n",
    "                        skipped += 1\n",
    "                window_score_sum /= (n_value-skipped)\n",
    "                if max_score < window_score_sum:\n",
    "                    max_score = window_score_sum\n",
    "                    suggested_text_token = text_token\n",
    "            data['Suggested token'].append(suggested_text_token)\n",
    "            data['Suggested POS'].append(suggested_pos_token)\n",
    "        elif strategy == 'text':\n",
    "            # Get highest P(text|text_context)\n",
    "            text_gram = ngram_results_text[n_value]['ngram_sequences'][index][min_idx]\n",
    "            try:\n",
    "                suggested_text_token = ngram_data_text[n_value]['model'].counts[text_gram[:-1]].max()\n",
    "            except:\n",
    "                suggested_text_token = None\n",
    "            data['Suggested token'].append(suggested_text_token)\n",
    "            data['Suggested POS'].append('')\n",
    "        elif strategy == 'both':\n",
    "            raise ValueError('strategy not implemented')\n",
    "            \n",
    "        print_limit -= 1\n",
    "        if print_limit <= 0:\n",
    "            break\n",
    "            \n",
    "    return pd.DataFrame(data)"
   ]
  },
  {
   "cell_type": "code",
   "execution_count": 65,
   "metadata": {
    "scrolled": true
   },
   "outputs": [
    {
     "name": "stdout",
     "output_type": "stream",
     "text": [
      "Thresholding done using \"pos\" sequence scores\n",
      "3-gram cutoff:\t-3.8267202862412217\n"
     ]
    }
   ],
   "source": [
    "df = suggest_corrections('pos', 3, ngram_data_text, ngram_data_pos, ngram_results_text, \n",
    "                         ngram_results_pos, word_predict_from_POS)"
   ]
  },
  {
   "cell_type": "code",
   "execution_count": 66,
   "metadata": {
    "scrolled": false
   },
   "outputs": [
    {
     "data": {
      "text/html": [
       "<div>\n",
       "<style scoped>\n",
       "    .dataframe tbody tr th:only-of-type {\n",
       "        vertical-align: middle;\n",
       "    }\n",
       "\n",
       "    .dataframe tbody tr th {\n",
       "        vertical-align: top;\n",
       "    }\n",
       "\n",
       "    .dataframe thead th {\n",
       "        text-align: right;\n",
       "    }\n",
       "</style>\n",
       "<table border=\"1\" class=\"dataframe\">\n",
       "  <thead>\n",
       "    <tr style=\"text-align: right;\">\n",
       "      <th></th>\n",
       "      <th>Text</th>\n",
       "      <th>Text score</th>\n",
       "      <th>POS score</th>\n",
       "      <th>Wrong token</th>\n",
       "      <th>Wrong token score</th>\n",
       "      <th>Wrong token POS</th>\n",
       "      <th>Wrong token POS score</th>\n",
       "      <th>Suggested POS</th>\n",
       "      <th>Suggested token</th>\n",
       "    </tr>\n",
       "  </thead>\n",
       "  <tbody>\n",
       "    <tr>\n",
       "      <th>0</th>\n",
       "      <td>regarding atlanta 's new multi - million - dollar airport , the jury recommended \" that when the new sandra management takes charge jan. 1 the airport be operated in a manner that will eliminate political influences \" .</td>\n",
       "      <td>-13.236188</td>\n",
       "      <td>-3.901992</td>\n",
       "      <td>(the, airport, be)</td>\n",
       "      <td>-14.078484</td>\n",
       "      <td>(DT, NN, VB)</td>\n",
       "      <td>-9.217642</td>\n",
       "      <td>IN</td>\n",
       "      <td>in</td>\n",
       "    </tr>\n",
       "    <tr>\n",
       "      <th>1</th>\n",
       "      <td>his political career goes back to his election to city council in 1923 .est</td>\n",
       "      <td>-12.953957</td>\n",
       "      <td>-4.329064</td>\n",
       "      <td>(in, 1923, .est)</td>\n",
       "      <td>-10.400223</td>\n",
       "      <td>(IN, CD, JJS)</td>\n",
       "      <td>-10.759056</td>\n",
       "      <td>NNS</td>\n",
       "      <td>presentments</td>\n",
       "    </tr>\n",
       "    <tr>\n",
       "      <th>2</th>\n",
       "      <td>let her call crosson if she wanted to , let crosson raise the roof or even can him , he did n't care macdonald's .</td>\n",
       "      <td>-12.666810</td>\n",
       "      <td>-4.008406</td>\n",
       "      <td>(wanted, to, ,)</td>\n",
       "      <td>-14.082565</td>\n",
       "      <td>(VBD, TO, ,)</td>\n",
       "      <td>-8.280771</td>\n",
       "      <td>VB</td>\n",
       "      <td>be</td>\n",
       "    </tr>\n",
       "    <tr>\n",
       "      <th>3</th>\n",
       "      <td>she was married to him for better or for worse .</td>\n",
       "      <td>-11.812748</td>\n",
       "      <td>-3.972383</td>\n",
       "      <td>(him, for, better)</td>\n",
       "      <td>-14.079235</td>\n",
       "      <td>(PRP, IN, JJR)</td>\n",
       "      <td>-8.482472</td>\n",
       "      <td>DT</td>\n",
       "      <td>eskimos</td>\n",
       "    </tr>\n",
       "    <tr>\n",
       "      <th>4</th>\n",
       "      <td>she would n't 21-2 be wilfully planning his destruction .</td>\n",
       "      <td>-11.604166</td>\n",
       "      <td>-3.909775</td>\n",
       "      <td>(n't, 21-2, be)</td>\n",
       "      <td>-14.079318</td>\n",
       "      <td>(RB, JJ, VB)</td>\n",
       "      <td>-9.403545</td>\n",
       "      <td>IN</td>\n",
       "      <td>of</td>\n",
       "    </tr>\n",
       "    <tr>\n",
       "      <th>5</th>\n",
       "      <td>she had caught him offs guard , no preparation , nothing certain but that ahead lay some kind of disaster . \" noing . wait as minute . what do you \" --</td>\n",
       "      <td>-12.897732</td>\n",
       "      <td>-3.862099</td>\n",
       "      <td>(minute, ., what)</td>\n",
       "      <td>-14.078234</td>\n",
       "      <td>(NN, ., WP)</td>\n",
       "      <td>-10.399545</td>\n",
       "      <td>&lt;/s&gt;</td>\n",
       "      <td>&lt;/s&gt;</td>\n",
       "    </tr>\n",
       "    <tr>\n",
       "      <th>6</th>\n",
       "      <td>`s ` they were all faded .</td>\n",
       "      <td>-11.684490</td>\n",
       "      <td>-3.838084</td>\n",
       "      <td>(s, `, they)</td>\n",
       "      <td>-14.078234</td>\n",
       "      <td>(NNS, ``, PRP)</td>\n",
       "      <td>-8.748193</td>\n",
       "      <td>.</td>\n",
       "      <td>!</td>\n",
       "    </tr>\n",
       "    <tr>\n",
       "      <th>7</th>\n",
       "      <td>worn through at the knees \" . she stood sips and chewing and watching . \"</td>\n",
       "      <td>-13.527406</td>\n",
       "      <td>-4.432822</td>\n",
       "      <td>(``, ., she)</td>\n",
       "      <td>-14.192832</td>\n",
       "      <td>(``, ., PRP)</td>\n",
       "      <td>-10.995060</td>\n",
       "      <td>&lt;/s&gt;</td>\n",
       "      <td>&lt;/s&gt;</td>\n",
       "    </tr>\n",
       "    <tr>\n",
       "      <th>8</th>\n",
       "      <td>\" now , see here \"er --</td>\n",
       "      <td>-12.173059</td>\n",
       "      <td>-4.625246</td>\n",
       "      <td>(``, er, --)</td>\n",
       "      <td>-14.099841</td>\n",
       "      <td>(``, RB, :)</td>\n",
       "      <td>-7.194757</td>\n",
       "      <td>,</td>\n",
       "      <td>,</td>\n",
       "    </tr>\n",
       "    <tr>\n",
       "      <th>9</th>\n",
       "      <td>she smoothed the skirt , sitting down , then stood up and went back to the windows . \" why onning earth did i send him off to work ? there was excuse enough to keep him home that young mr. arthur 'sser still over there \" .</td>\n",
       "      <td>-12.953306</td>\n",
       "      <td>-4.147776</td>\n",
       "      <td>(young, mr., arthur)</td>\n",
       "      <td>-14.078234</td>\n",
       "      <td>(JJ, NN, NNP)</td>\n",
       "      <td>-12.260552</td>\n",
       "      <td>IN</td>\n",
       "      <td>prefuh</td>\n",
       "    </tr>\n",
       "    <tr>\n",
       "      <th>10</th>\n",
       "      <td>bills picked up the telephone ; got mullins ..ed</td>\n",
       "      <td>-13.926603</td>\n",
       "      <td>-4.781031</td>\n",
       "      <td>(.., ed, &lt;/s&gt;)</td>\n",
       "      <td>-14.078234</td>\n",
       "      <td>(VB, NN, &lt;/s&gt;)</td>\n",
       "      <td>-10.204571</td>\n",
       "      <td>IN</td>\n",
       "      <td>in</td>\n",
       "    </tr>\n",
       "    <tr>\n",
       "      <th>11</th>\n",
       "      <td>\" is his appetite improved \" ?</td>\n",
       "      <td>-10.774444</td>\n",
       "      <td>-4.096099</td>\n",
       "      <td>(his, appetite, improved)</td>\n",
       "      <td>-14.092922</td>\n",
       "      <td>(PRP$, JJ, VBN)</td>\n",
       "      <td>-8.733015</td>\n",
       "      <td>NN</td>\n",
       "      <td>swipe</td>\n",
       "    </tr>\n",
       "    <tr>\n",
       "      <th>12</th>\n",
       "      <td>or : \" does he get exercise \" ?s ?</td>\n",
       "      <td>-13.067545</td>\n",
       "      <td>-4.749996</td>\n",
       "      <td>(``, ?, s)</td>\n",
       "      <td>-14.111543</td>\n",
       "      <td>(``, ., NN)</td>\n",
       "      <td>-9.995060</td>\n",
       "      <td>&lt;/s&gt;</td>\n",
       "      <td>&lt;/s&gt;</td>\n",
       "    </tr>\n",
       "    <tr>\n",
       "      <th>13</th>\n",
       "      <td>his face was fuller ;s ; his lips and the usually sharp lines of his jawing had become swollen - looking .</td>\n",
       "      <td>-12.716878</td>\n",
       "      <td>-3.889448</td>\n",
       "      <td>(;, s, ;)</td>\n",
       "      <td>-14.078234</td>\n",
       "      <td>(:, PRP, :)</td>\n",
       "      <td>-8.426265</td>\n",
       "      <td>VBD</td>\n",
       "      <td>wiped</td>\n",
       "    </tr>\n",
       "    <tr>\n",
       "      <th>14</th>\n",
       "      <td>where their sharp edges seemed restless as sea waves thrusting themselves upward in angry motion , papa - san sat glacier - like , his smooth solidity , his very immobility defying all the turmoil about him . \" our objective \" , the colonel had said that day of the briefing , \" is papa - san \" .</td>\n",
       "      <td>-12.967845</td>\n",
       "      <td>-4.285396</td>\n",
       "      <td>(motion, ,, papa)</td>\n",
       "      <td>-14.078735</td>\n",
       "      <td>(NN, ,, SYM)</td>\n",
       "      <td>-13.513234</td>\n",
       "      <td>CC</td>\n",
       "      <td>or</td>\n",
       "    </tr>\n",
       "    <tr>\n",
       "      <th>15</th>\n",
       "      <td>there the objective sat , brooding over all .er gouge , burn , blast , insult it as they would , could anyone really take papa - san ?</td>\n",
       "      <td>-13.051742</td>\n",
       "      <td>-4.199724</td>\n",
       "      <td>(over, all, .er)</td>\n",
       "      <td>-14.078818</td>\n",
       "      <td>(IN, DT, NNP)</td>\n",
       "      <td>-10.420641</td>\n",
       "      <td>NN</td>\n",
       "      <td>swipe</td>\n",
       "    </tr>\n",
       "    <tr>\n",
       "      <th>16</th>\n",
       "      <td>\" c'est formidable \" ,ed they exclaimed .</td>\n",
       "      <td>-11.626560</td>\n",
       "      <td>-4.334107</td>\n",
       "      <td>(&lt;s&gt;, ``, c'est)</td>\n",
       "      <td>-9.076580</td>\n",
       "      <td>(&lt;s&gt;, ``, JJS)</td>\n",
       "      <td>-10.112440</td>\n",
       "      <td>NN</td>\n",
       "      <td>i</td>\n",
       "    </tr>\n",
       "    <tr>\n",
       "      <th>17</th>\n",
       "      <td>` does n't it ever bother you \" , warren had asked , \" to have people always asking you about your hands \" ?</td>\n",
       "      <td>-12.650181</td>\n",
       "      <td>-3.901684</td>\n",
       "      <td>(``, ,, warren)</td>\n",
       "      <td>-14.152047</td>\n",
       "      <td>(``, ,, NNS)</td>\n",
       "      <td>-6.729432</td>\n",
       "      <td>PRP</td>\n",
       "      <td>he</td>\n",
       "    </tr>\n",
       "    <tr>\n",
       "      <th>18</th>\n",
       "      <td>was no cover here , only grass sighing against pant - legs .</td>\n",
       "      <td>-12.767190</td>\n",
       "      <td>-4.057587</td>\n",
       "      <td>(&lt;s&gt;, &lt;s&gt;, was)</td>\n",
       "      <td>-11.160131</td>\n",
       "      <td>(&lt;s&gt;, &lt;s&gt;, VBD)</td>\n",
       "      <td>-8.701840</td>\n",
       "      <td>DT</td>\n",
       "      <td>the</td>\n",
       "    </tr>\n",
       "    <tr>\n",
       "      <th>19</th>\n",
       "      <td>looming over all , papa - san leered down at superstition him , threatening a hundred hidden malevolencies .</td>\n",
       "      <td>-13.027311</td>\n",
       "      <td>-3.882576</td>\n",
       "      <td>(all, ,, papa)</td>\n",
       "      <td>-14.084559</td>\n",
       "      <td>(DT, ,, SYM)</td>\n",
       "      <td>-8.209453</td>\n",
       "      <td>RB</td>\n",
       "      <td>because</td>\n",
       "    </tr>\n",
       "    <tr>\n",
       "      <th>20</th>\n",
       "      <td>warren thought of all the men out that night who , like himselfs , had left their protective ridge and -- fear working at their guts -- picked their way into the area beyond .</td>\n",
       "      <td>-13.157317</td>\n",
       "      <td>-3.918527</td>\n",
       "      <td>(ridge, and, --)</td>\n",
       "      <td>-14.078234</td>\n",
       "      <td>(NN, CC, :)</td>\n",
       "      <td>-10.404077</td>\n",
       "      <td>NN</td>\n",
       "      <td>i</td>\n",
       "    </tr>\n",
       "    <tr>\n",
       "      <th>21</th>\n",
       "      <td>white 's arm went up and warren raised his own .</td>\n",
       "      <td>-12.436833</td>\n",
       "      <td>-4.059318</td>\n",
       "      <td>(&lt;s&gt;, white, 's)</td>\n",
       "      <td>-13.078568</td>\n",
       "      <td>(&lt;s&gt;, JJ, POS)</td>\n",
       "      <td>-8.230421</td>\n",
       "      <td>NN</td>\n",
       "      <td>house</td>\n",
       "    </tr>\n",
       "    <tr>\n",
       "      <th>22</th>\n",
       "      <td>five or so minutes later the marine abruptly pulled up and stepped into sunlight interpretative , immediately throwing his hands over his eyes .</td>\n",
       "      <td>-13.180118</td>\n",
       "      <td>-3.837067</td>\n",
       "      <td>(so, minutes, later)</td>\n",
       "      <td>-14.078234</td>\n",
       "      <td>(RB, NNS, RB)</td>\n",
       "      <td>-6.499846</td>\n",
       "      <td>IN</td>\n",
       "      <td>before</td>\n",
       "    </tr>\n",
       "    <tr>\n",
       "      <th>23</th>\n",
       "      <td>popping upright , the marine waved both and shouted .</td>\n",
       "      <td>-12.225061</td>\n",
       "      <td>-4.035434</td>\n",
       "      <td>(waved, both, and)</td>\n",
       "      <td>-14.078234</td>\n",
       "      <td>(VBD, DT, CC)</td>\n",
       "      <td>-9.556985</td>\n",
       "      <td>NN</td>\n",
       "      <td>eddie</td>\n",
       "    </tr>\n",
       "    <tr>\n",
       "      <th>24</th>\n",
       "      <td>before much longer the marined quieted down .</td>\n",
       "      <td>-11.175935</td>\n",
       "      <td>-4.202995</td>\n",
       "      <td>(the, marined, quieted)</td>\n",
       "      <td>-7.617742</td>\n",
       "      <td>(DT, VBN, VBD)</td>\n",
       "      <td>-8.179909</td>\n",
       "      <td>NN</td>\n",
       "      <td>swipe</td>\n",
       "    </tr>\n",
       "    <tr>\n",
       "      <th>25</th>\n",
       "      <td>gloom receded ..ed</td>\n",
       "      <td>-14.282279</td>\n",
       "      <td>-4.731859</td>\n",
       "      <td>(gloom, receded, ..)</td>\n",
       "      <td>-14.078234</td>\n",
       "      <td>(NN, VBD, NNP)</td>\n",
       "      <td>-11.600842</td>\n",
       "      <td>VBN</td>\n",
       "      <td>effected</td>\n",
       "    </tr>\n",
       "    <tr>\n",
       "      <th>26</th>\n",
       "      <td>asked . \" seems to mest i do n't remember altering any law about that \" .</td>\n",
       "      <td>-11.929043</td>\n",
       "      <td>-3.837194</td>\n",
       "      <td>(mest, i, do)</td>\n",
       "      <td>-13.078568</td>\n",
       "      <td>(VB, NN, VBP)</td>\n",
       "      <td>-8.619609</td>\n",
       "      <td>IN</td>\n",
       "      <td>prefuh</td>\n",
       "    </tr>\n",
       "    <tr>\n",
       "      <th>27</th>\n",
       "      <td>it was essential that he should restore his formidable reputation as a rip - , ruthless gun - slinger , and this was the time - honored wild west method of doing it .</td>\n",
       "      <td>-12.288538</td>\n",
       "      <td>-3.887806</td>\n",
       "      <td>(,, ruthless, gun)</td>\n",
       "      <td>-14.078234</td>\n",
       "      <td>(,, NN, SYM)</td>\n",
       "      <td>-11.420487</td>\n",
       "      <td>,</td>\n",
       "      <td>,</td>\n",
       "    </tr>\n",
       "    <tr>\n",
       "      <th>28</th>\n",
       "      <td>he straightened up , alert now as the buffalo hunter came closer . \" stay right here where you are , kid \" , he called . \" i do n't aim to have minors breathing down my neck when i 'm a - drinking \" :</td>\n",
       "      <td>-12.977780</td>\n",
       "      <td>-3.977990</td>\n",
       "      <td>('m, a, -)</td>\n",
       "      <td>-14.078568</td>\n",
       "      <td>(VBP, DT, :)</td>\n",
       "      <td>-8.764872</td>\n",
       "      <td>NN</td>\n",
       "      <td>mess</td>\n",
       "    </tr>\n",
       "    <tr>\n",
       "      <th>29</th>\n",
       "      <td>but companies continued toing spring up .</td>\n",
       "      <td>-11.173734</td>\n",
       "      <td>-4.208119</td>\n",
       "      <td>(toing, spring, up)</td>\n",
       "      <td>-14.078234</td>\n",
       "      <td>(VBG, NN, RP)</td>\n",
       "      <td>-9.995767</td>\n",
       "      <td>IN</td>\n",
       "      <td>prefuh</td>\n",
       "    </tr>\n",
       "    <tr>\n",
       "      <th>30</th>\n",
       "      <td>by 1883 the `s ` battenkill telegraph company \" was in existence and alvin pettibone was its president . operating in 1887 was the \" valley telegraph line \" , officers of which were e. c. orvis nick's , president ; h. k. fowler , vice - president and secretary ;s ; j. n. hard , treasurer ;s f. h.s walker , superintendent ; h. s. walker , assistant superintendent . two companies now had headquarters with clark j. wait , who by then had his own drugstore at factory point -- the \" northern union telegraph company \" and the \" western union \" . operators were arthur koop and normaner taylor . still existing on a \" northern union \" telegraph form is a typical peremptory message from peru grocer j. j. hapgood to burton and graves ' store in manchester -- \" get and send by stage four pounds best porterhouse or serloin stake , for mrs. hapgood send six sweet oranges \" .</td>\n",
       "      <td>-13.558455</td>\n",
       "      <td>-3.873615</td>\n",
       "      <td>(superintendent, ., two)</td>\n",
       "      <td>-14.078234</td>\n",
       "      <td>(NN, ., CD)</td>\n",
       "      <td>-10.399545</td>\n",
       "      <td>&lt;/s&gt;</td>\n",
       "      <td>&lt;/s&gt;</td>\n",
       "    </tr>\n",
       "    <tr>\n",
       "      <th>31</th>\n",
       "      <td>hansen , who slugged the 1960 oriole high ofest 22 homers and drove in 86 runs on a</td>\n",
       "      <td>-13.818718</td>\n",
       "      <td>-4.459022</td>\n",
       "      <td>(on, a, &lt;/s&gt;)</td>\n",
       "      <td>-14.097374</td>\n",
       "      <td>(IN, DT, &lt;/s&gt;)</td>\n",
       "      <td>-12.508104</td>\n",
       "      <td>NN</td>\n",
       "      <td>swipe</td>\n",
       "    </tr>\n",
       "    <tr>\n",
       "      <th>32</th>\n",
       "      <td>the ' 49 team was off to a - so 5 - 5 beginning , then fell as low as 12 - 17 on may 23 before finishing with 96 victories .</td>\n",
       "      <td>-13.252812</td>\n",
       "      <td>-4.321728</td>\n",
       "      <td>(&lt;s&gt;, the, ')</td>\n",
       "      <td>-14.288650</td>\n",
       "      <td>(&lt;s&gt;, DT, POS)</td>\n",
       "      <td>-12.138912</td>\n",
       "      <td>NN</td>\n",
       "      <td>swipe</td>\n",
       "    </tr>\n",
       "    <tr>\n",
       "      <th>33</th>\n",
       "      <td>\" we worrying \" , say the mothers . \" but there never be any need . the boys love it \" .</td>\n",
       "      <td>-12.046717</td>\n",
       "      <td>-4.102135</td>\n",
       "      <td>(need, ., the)</td>\n",
       "      <td>-14.078735</td>\n",
       "      <td>(NN, ., DT)</td>\n",
       "      <td>-7.671625</td>\n",
       "      <td>&lt;/s&gt;</td>\n",
       "      <td>&lt;/s&gt;</td>\n",
       "    </tr>\n",
       "    <tr>\n",
       "      <th>34</th>\n",
       "      <td>but he did not notice , and was already backing thes car down to the road , saying \" toot - toot \" !</td>\n",
       "      <td>-12.065886</td>\n",
       "      <td>-3.877945</td>\n",
       "      <td>(-, toot, ``)</td>\n",
       "      <td>-14.078234</td>\n",
       "      <td>(:, NN, ``)</td>\n",
       "      <td>-8.675957</td>\n",
       "      <td>,</td>\n",
       "      <td>,</td>\n",
       "    </tr>\n",
       "    <tr>\n",
       "      <th>35</th>\n",
       "      <td>howard the thick middle - aged man ) was looking at her .</td>\n",
       "      <td>-12.722212</td>\n",
       "      <td>-4.486274</td>\n",
       "      <td>(the, thick, middle)</td>\n",
       "      <td>-14.078484</td>\n",
       "      <td>(DT, NN, SYM)</td>\n",
       "      <td>-14.741204</td>\n",
       "      <td>IN</td>\n",
       "      <td>of</td>\n",
       "    </tr>\n",
       "    <tr>\n",
       "      <th>36</th>\n",
       "      <td>\" oh yes \" , mama laughed .s \" he 's ten years younger than ernest . we did n't expect himmed to come along ; thought for the longest he was a tumor \" .</td>\n",
       "      <td>-12.547283</td>\n",
       "      <td>-4.228545</td>\n",
       "      <td>(ten, years, younger)</td>\n",
       "      <td>-14.079735</td>\n",
       "      <td>(JJ, NNS, JJR)</td>\n",
       "      <td>-10.954560</td>\n",
       "      <td>IN</td>\n",
       "      <td>ago</td>\n",
       "    </tr>\n",
       "    <tr>\n",
       "      <th>37</th>\n",
       "      <td>\" who \" ?er ?</td>\n",
       "      <td>-10.938242</td>\n",
       "      <td>-4.245321</td>\n",
       "      <td>(``, ?, er)</td>\n",
       "      <td>-14.111543</td>\n",
       "      <td>(``, ., NN)</td>\n",
       "      <td>-9.995060</td>\n",
       "      <td>&lt;/s&gt;</td>\n",
       "      <td>&lt;/s&gt;</td>\n",
       "    </tr>\n",
       "    <tr>\n",
       "      <th>38</th>\n",
       "      <td>but the girl said only ,s \" tell him i am here , that i have come \" .</td>\n",
       "      <td>-11.962508</td>\n",
       "      <td>-3.848320</td>\n",
       "      <td>(tell, him, i)</td>\n",
       "      <td>-14.079735</td>\n",
       "      <td>(IN, PRP, VB)</td>\n",
       "      <td>-8.071462</td>\n",
       "      <td>VBD</td>\n",
       "      <td>said</td>\n",
       "    </tr>\n",
       "    <tr>\n",
       "      <th>39</th>\n",
       "      <td>if i ever committed suicide , she thought , i would dive straight down from here -- and no one would me for days .</td>\n",
       "      <td>-12.755348</td>\n",
       "      <td>-4.102350</td>\n",
       "      <td>(if, i, ever)</td>\n",
       "      <td>-14.082482</td>\n",
       "      <td>(IN, JJ, RB)</td>\n",
       "      <td>-8.102572</td>\n",
       "      <td>NN</td>\n",
       "      <td>do</td>\n",
       "    </tr>\n",
       "    <tr>\n",
       "      <th>40</th>\n",
       "      <td>\" i be going back to school \" , she answered . \" pietro 's driving me . i 'm just finishing breakfast . but have you told mother you were going \"s ?</td>\n",
       "      <td>-12.666194</td>\n",
       "      <td>-4.410140</td>\n",
       "      <td>(``, i, be)</td>\n",
       "      <td>-14.107789</td>\n",
       "      <td>(``, NN, VB)</td>\n",
       "      <td>-8.383704</td>\n",
       "      <td>``</td>\n",
       "      <td>``</td>\n",
       "    </tr>\n",
       "    <tr>\n",
       "      <th>41</th>\n",
       "      <td>they be becoming confused .</td>\n",
       "      <td>-11.016337</td>\n",
       "      <td>-4.142723</td>\n",
       "      <td>(&lt;s&gt;, they, be)</td>\n",
       "      <td>-14.107054</td>\n",
       "      <td>(&lt;s&gt;, PRP, VB)</td>\n",
       "      <td>-9.035716</td>\n",
       "      <td>VBD</td>\n",
       "      <td>were</td>\n",
       "    </tr>\n",
       "    <tr>\n",
       "      <th>42</th>\n",
       "      <td>\" not to anyone \" ?est</td>\n",
       "      <td>-12.550004</td>\n",
       "      <td>-5.285358</td>\n",
       "      <td>(``, ?, est)</td>\n",
       "      <td>-14.111543</td>\n",
       "      <td>(``, ., JJS)</td>\n",
       "      <td>-10.995060</td>\n",
       "      <td>&lt;/s&gt;</td>\n",
       "      <td>&lt;/s&gt;</td>\n",
       "    </tr>\n",
       "    <tr>\n",
       "      <th>43</th>\n",
       "      <td>\" suppose it was not us that killed these aliens . suppose it is something right on the planet , native to it .s i just hope itter does n't work on earthmen too . these critters went real sudden \" .</td>\n",
       "      <td>-13.032693</td>\n",
       "      <td>-4.187101</td>\n",
       "      <td>(not, us, that)</td>\n",
       "      <td>-14.078234</td>\n",
       "      <td>(RB, PRP, WDT)</td>\n",
       "      <td>-9.068778</td>\n",
       "      <td>VBD</td>\n",
       "      <td>urged</td>\n",
       "    </tr>\n",
       "    <tr>\n",
       "      <th>44</th>\n",
       "      <td>ekstrohm was not asleep .est</td>\n",
       "      <td>-13.365861</td>\n",
       "      <td>-4.583045</td>\n",
       "      <td>(not, asleep, .est)</td>\n",
       "      <td>-14.078234</td>\n",
       "      <td>(RB, JJ, JJS)</td>\n",
       "      <td>-10.403545</td>\n",
       "      <td>IN</td>\n",
       "      <td>prefuh</td>\n",
       "    </tr>\n",
       "    <tr>\n",
       "      <th>45</th>\n",
       "      <td>in privacy he could walk around , leave the light on , read .est</td>\n",
       "      <td>-13.435893</td>\n",
       "      <td>-4.379586</td>\n",
       "      <td>(,, read, .est)</td>\n",
       "      <td>-14.078401</td>\n",
       "      <td>(,, VB, JJS)</td>\n",
       "      <td>-8.625709</td>\n",
       "      <td>DT</td>\n",
       "      <td>the</td>\n",
       "    </tr>\n",
       "    <tr>\n",
       "      <th>46</th>\n",
       "      <td>)er</td>\n",
       "      <td>-13.871158</td>\n",
       "      <td>-7.101520</td>\n",
       "      <td>(&lt;s&gt;, &lt;s&gt;, ))</td>\n",
       "      <td>-15.247594</td>\n",
       "      <td>(&lt;s&gt;, &lt;s&gt;, ))</td>\n",
       "      <td>-14.402279</td>\n",
       "      <td>DT</td>\n",
       "      <td>the</td>\n",
       "    </tr>\n",
       "    <tr>\n",
       "      <th>47</th>\n",
       "      <td>its was when i packed up what duds i had and went to paris .</td>\n",
       "      <td>-12.718786</td>\n",
       "      <td>-4.075896</td>\n",
       "      <td>(&lt;s&gt;, its, was)</td>\n",
       "      <td>-14.080734</td>\n",
       "      <td>(&lt;s&gt;, PRP$, VBD)</td>\n",
       "      <td>-8.864186</td>\n",
       "      <td>NN</td>\n",
       "      <td>swipe</td>\n",
       "    </tr>\n",
       "    <tr>\n",
       "      <th>48</th>\n",
       "      <td>her eyes be smiling , too , but so sadly , and there was tiredness and infinite wisdom in them . \" now is n't it better toer smile \" ?</td>\n",
       "      <td>-12.047278</td>\n",
       "      <td>-3.884780</td>\n",
       "      <td>(n't, it, better)</td>\n",
       "      <td>-14.079318</td>\n",
       "      <td>(RB, PRP, JJR)</td>\n",
       "      <td>-9.068778</td>\n",
       "      <td>VBD</td>\n",
       "      <td>was</td>\n",
       "    </tr>\n",
       "    <tr>\n",
       "      <th>49</th>\n",
       "      <td>she asked</td>\n",
       "      <td>-11.342735</td>\n",
       "      <td>-5.422409</td>\n",
       "      <td>(she, asked, &lt;/s&gt;)</td>\n",
       "      <td>-14.079235</td>\n",
       "      <td>(PRP, VBD, &lt;/s&gt;)</td>\n",
       "      <td>-12.527721</td>\n",
       "      <td>RB</td>\n",
       "      <td>madly</td>\n",
       "    </tr>\n",
       "    <tr>\n",
       "      <th>50</th>\n",
       "      <td>maybe closer to thirty , i thought .s</td>\n",
       "      <td>-13.317963</td>\n",
       "      <td>-5.167196</td>\n",
       "      <td>(thought, .s, &lt;/s&gt;)</td>\n",
       "      <td>-14.078568</td>\n",
       "      <td>(VBD, NNS, &lt;/s&gt;)</td>\n",
       "      <td>-8.400879</td>\n",
       "      <td>IN</td>\n",
       "      <td>as</td>\n",
       "    </tr>\n",
       "    <tr>\n",
       "      <th>51</th>\n",
       "      <td>and anthony was busy most of thed time courting this girl and that .</td>\n",
       "      <td>-12.511498</td>\n",
       "      <td>-3.919218</td>\n",
       "      <td>(was, busy, most)</td>\n",
       "      <td>-14.078735</td>\n",
       "      <td>(VBD, JJ, JJS)</td>\n",
       "      <td>-10.307201</td>\n",
       "      <td>NN</td>\n",
       "      <td>swipe</td>\n",
       "    </tr>\n",
       "    <tr>\n",
       "      <th>52</th>\n",
       "      <td>and another .s</td>\n",
       "      <td>-12.047148</td>\n",
       "      <td>-4.358631</td>\n",
       "      <td>(another, .s, &lt;/s&gt;)</td>\n",
       "      <td>-14.078568</td>\n",
       "      <td>(DT, NN, &lt;/s&gt;)</td>\n",
       "      <td>-12.419276</td>\n",
       "      <td>IN</td>\n",
       "      <td>from</td>\n",
       "    </tr>\n",
       "    <tr>\n",
       "      <th>53</th>\n",
       "      <td>pierre ameaux , the gaming - carded manufacturer said , his little pig eyes glaring .</td>\n",
       "      <td>-11.908914</td>\n",
       "      <td>-3.964812</td>\n",
       "      <td>(the, gaming, -)</td>\n",
       "      <td>-14.217655</td>\n",
       "      <td>(DT, VBG, :)</td>\n",
       "      <td>-8.873444</td>\n",
       "      <td>NN</td>\n",
       "      <td>swipe</td>\n",
       "    </tr>\n",
       "    <tr>\n",
       "      <th>54</th>\n",
       "      <td>monsieur favre sat down in his high - backed stall , lips compressed , fires eyes glinting .</td>\n",
       "      <td>-12.874918</td>\n",
       "      <td>-4.103390</td>\n",
       "      <td>(his, high, -)</td>\n",
       "      <td>-14.078318</td>\n",
       "      <td>(PRP$, JJ, :)</td>\n",
       "      <td>-9.148053</td>\n",
       "      <td>NN</td>\n",
       "      <td>brown</td>\n",
       "    </tr>\n",
       "    <tr>\n",
       "      <th>55</th>\n",
       "      <td>\" evadna mae evans got all her baby clothes from best 's liliputian bazaar in new york , and i 'm sick and tired of hearing about evadna mae evans \"'ed .</td>\n",
       "      <td>-12.293956</td>\n",
       "      <td>-3.957984</td>\n",
       "      <td>(clothes, from, best)</td>\n",
       "      <td>-14.078234</td>\n",
       "      <td>(NNS, IN, JJS)</td>\n",
       "      <td>-9.075788</td>\n",
       "      <td>DT</td>\n",
       "      <td>eskimos</td>\n",
       "    </tr>\n",
       "    <tr>\n",
       "      <th>56</th>\n",
       "      <td>\" thrifty ofs her to use it up . unusual in a case like cough this , but \" --</td>\n",
       "      <td>-12.427806</td>\n",
       "      <td>-4.132330</td>\n",
       "      <td>(ofs, her, to)</td>\n",
       "      <td>-13.080401</td>\n",
       "      <td>(VBZ, PRP$, TO)</td>\n",
       "      <td>-7.839204</td>\n",
       "      <td>NN</td>\n",
       "      <td>hand</td>\n",
       "    </tr>\n",
       "    <tr>\n",
       "      <th>57</th>\n",
       "      <td>yes , oh yes .</td>\n",
       "      <td>-11.028279</td>\n",
       "      <td>-5.051820</td>\n",
       "      <td>(,, oh, yes)</td>\n",
       "      <td>-14.078484</td>\n",
       "      <td>(,, JJ, UH)</td>\n",
       "      <td>-10.723661</td>\n",
       "      <td>NN</td>\n",
       "      <td>swipe</td>\n",
       "    </tr>\n",
       "    <tr>\n",
       "      <th>58</th>\n",
       "      <td>let none but him rules the thunder</td>\n",
       "      <td>-13.657975</td>\n",
       "      <td>-5.587359</td>\n",
       "      <td>(the, thunder, &lt;/s&gt;)</td>\n",
       "      <td>-14.078234</td>\n",
       "      <td>(DT, NN, &lt;/s&gt;)</td>\n",
       "      <td>-12.419276</td>\n",
       "      <td>IN</td>\n",
       "      <td>in</td>\n",
       "    </tr>\n",
       "    <tr>\n",
       "      <th>59</th>\n",
       "      <td>it was simply his necessity to confess which had made him write keep this thing . \" you 've told god , frank \" , he said .s \" why lacerate the ---er congregation \" ?</td>\n",
       "      <td>-12.517617</td>\n",
       "      <td>-3.898528</td>\n",
       "      <td>(to, confess, which)</td>\n",
       "      <td>-14.078318</td>\n",
       "      <td>(TO, VB, WDT)</td>\n",
       "      <td>-9.819181</td>\n",
       "      <td>DT</td>\n",
       "      <td>all</td>\n",
       "    </tr>\n",
       "    <tr>\n",
       "      <th>60</th>\n",
       "      <td>` to absent loved ones \" . but this last time he drank not to braces but \" to tolley \" !</td>\n",
       "      <td>-13.019112</td>\n",
       "      <td>-4.089979</td>\n",
       "      <td>(``, ., but)</td>\n",
       "      <td>-14.192832</td>\n",
       "      <td>(``, ., CC)</td>\n",
       "      <td>-10.995060</td>\n",
       "      <td>&lt;/s&gt;</td>\n",
       "      <td>&lt;/s&gt;</td>\n",
       "    </tr>\n",
       "    <tr>\n",
       "      <th>61</th>\n",
       "      <td>\" you could try . and if i ever hear you say ' mist laban ' againing i 'll scream . and do n't tell me you did n't at church sunday . i heard youuer \" !</td>\n",
       "      <td>-12.814790</td>\n",
       "      <td>-4.310659</td>\n",
       "      <td>(mist, laban, ')</td>\n",
       "      <td>-14.078234</td>\n",
       "      <td>(JJ, NN, '')</td>\n",
       "      <td>-11.260552</td>\n",
       "      <td>IN</td>\n",
       "      <td>of</td>\n",
       "    </tr>\n",
       "    <tr>\n",
       "      <th>62</th>\n",
       "      <td>\" pictures \" ?s she swings around . \" what pictures \" ?</td>\n",
       "      <td>-12.086458</td>\n",
       "      <td>-4.299438</td>\n",
       "      <td>(``, ?, s)</td>\n",
       "      <td>-14.111543</td>\n",
       "      <td>(``, ., VB)</td>\n",
       "      <td>-9.995060</td>\n",
       "      <td>&lt;/s&gt;</td>\n",
       "      <td>&lt;/s&gt;</td>\n",
       "    </tr>\n",
       "    <tr>\n",
       "      <th>63</th>\n",
       "      <td>\" hurry september , frank ! they 're not going to laugh at the fairbrothers and labans verier long ! 's going is my fault . i drove him culmination away . you know it and iing 'll tell everybody exactly how it happened \" .</td>\n",
       "      <td>-12.656199</td>\n",
       "      <td>-3.960027</td>\n",
       "      <td>(long, !, 's)</td>\n",
       "      <td>-14.078234</td>\n",
       "      <td>(RB, ., POS)</td>\n",
       "      <td>-10.256209</td>\n",
       "      <td>&lt;/s&gt;</td>\n",
       "      <td>&lt;/s&gt;</td>\n",
       "    </tr>\n",
       "    <tr>\n",
       "      <th>64</th>\n",
       "      <td>leaning forward in her chair , gran nearsightedly scrutinized dan 's . \" how 's sally like rubbin ' agin that thar little ticklebrush ye're a - raising \" ?</td>\n",
       "      <td>-13.251752</td>\n",
       "      <td>-3.928211</td>\n",
       "      <td>('re, a, -)</td>\n",
       "      <td>-14.078651</td>\n",
       "      <td>(VBP, DT, :)</td>\n",
       "      <td>-8.764872</td>\n",
       "      <td>NN</td>\n",
       "      <td>fool</td>\n",
       "    </tr>\n",
       "    <tr>\n",
       "      <th>65</th>\n",
       "      <td>gran peered again at the - old blond mustache shadowing dan 's upper lip . \" but honest - to - betsy , i 've seed more hair than that on a piece o ' bacon \" .</td>\n",
       "      <td>-13.174883</td>\n",
       "      <td>-3.848274</td>\n",
       "      <td>(at, the, -)</td>\n",
       "      <td>-14.139312</td>\n",
       "      <td>(IN, DT, :)</td>\n",
       "      <td>-10.807665</td>\n",
       "      <td>NN</td>\n",
       "      <td>swipe</td>\n",
       "    </tr>\n",
       "    <tr>\n",
       "      <th>66</th>\n",
       "      <td>`est ` nate \" ! he bellowed to the retreating back directly inner front of him .</td>\n",
       "      <td>-11.855082</td>\n",
       "      <td>-4.082097</td>\n",
       "      <td>(``, !, he)</td>\n",
       "      <td>-14.091518</td>\n",
       "      <td>(``, ., PRP)</td>\n",
       "      <td>-10.995060</td>\n",
       "      <td>&lt;/s&gt;</td>\n",
       "      <td>&lt;/s&gt;</td>\n",
       "    </tr>\n",
       "    <tr>\n",
       "      <th>67</th>\n",
       "      <td>basically , this means that simpler processing equipment ( the mixture has good flowing characteristics ) and less external heat ( the foamings reaction is exothermic and develops internal heat ) are required in one - shot foaming , although , at the same time , the problems of controlling the conditions of one - shot foaming are critical ones .</td>\n",
       "      <td>-13.223174</td>\n",
       "      <td>-3.837166</td>\n",
       "      <td>(,, although, ,)</td>\n",
       "      <td>-14.083396</td>\n",
       "      <td>(,, IN, ,)</td>\n",
       "      <td>-9.386294</td>\n",
       "      <td>DT</td>\n",
       "      <td>eskimos</td>\n",
       "    </tr>\n",
       "    <tr>\n",
       "      <th>68</th>\n",
       "      <td>the higher - density urethane semi - rigid foams usually have stronger flex fatigue resistance , i.e.</td>\n",
       "      <td>-12.458016</td>\n",
       "      <td>-4.234096</td>\n",
       "      <td>(density, urethane, semi)</td>\n",
       "      <td>-14.078234</td>\n",
       "      <td>(NN, NN, SYM)</td>\n",
       "      <td>-13.294908</td>\n",
       "      <td>,</td>\n",
       "      <td>,</td>\n",
       "    </tr>\n",
       "    <tr>\n",
       "      <th>69</th>\n",
       "      <td>screen drying racks -- 16-mesh screening ( saran or velon ) .</td>\n",
       "      <td>-11.670108</td>\n",
       "      <td>-3.905546</td>\n",
       "      <td>(&lt;s&gt;, screen, drying)</td>\n",
       "      <td>-14.078234</td>\n",
       "      <td>(&lt;s&gt;, NN, VBG)</td>\n",
       "      <td>-8.400405</td>\n",
       "      <td>VBD</td>\n",
       "      <td>etched</td>\n",
       "    </tr>\n",
       "    <tr>\n",
       "      <th>70</th>\n",
       "      <td>pressing equipment -- flat - bed press measuring 24s inches by 50 inches or larger .</td>\n",
       "      <td>-13.234860</td>\n",
       "      <td>-4.142808</td>\n",
       "      <td>(inches, or, larger)</td>\n",
       "      <td>-14.078234</td>\n",
       "      <td>(NNS, CC, JJR)</td>\n",
       "      <td>-7.307989</td>\n",
       "      <td>NNS</td>\n",
       "      <td>presentments</td>\n",
       "    </tr>\n",
       "    <tr>\n",
       "      <th>71</th>\n",
       "      <td>high - gain photoelectronic image intensification may be achieved by several methods ; some of these are listed colonialism below : ( a ) cascading single stages by coupling lens systems , ( b ) channel - type , secondary emission image intensifier ,est ( c ) image intensifier based upon the \" multipactor \" principle , ( d ) transmission secondary electron multiplication image intensifiers ( tsem tubes ) , ( e ) cascading of single stages , enclosed in one common envelope .</td>\n",
       "      <td>-13.280237</td>\n",
       "      <td>-3.873212</td>\n",
       "      <td>(colonialism, below, :)</td>\n",
       "      <td>-14.078234</td>\n",
       "      <td>(NN, IN, :)</td>\n",
       "      <td>-12.096781</td>\n",
       "      <td>DT</td>\n",
       "      <td>eskimos</td>\n",
       "    </tr>\n",
       "    <tr>\n",
       "      <th>72</th>\n",
       "      <td>efficiency of fiber couplers the efficiency of fiber optics plates depends on four factors : ( a )er numerical aperture ( n.a. )</td>\n",
       "      <td>-13.134341</td>\n",
       "      <td>-4.030255</td>\n",
       "      <td>(n.a, ., ))</td>\n",
       "      <td>-11.597121</td>\n",
       "      <td>(JJ, ., ))</td>\n",
       "      <td>-7.725650</td>\n",
       "      <td>&lt;/s&gt;</td>\n",
       "      <td>&lt;/s&gt;</td>\n",
       "    </tr>\n",
       "    <tr>\n",
       "      <th>73</th>\n",
       "      <td>; ( b ) end ( fresnel reflection ) losses ( r ) ;ing ( c ) internal losses ( i.l.er ) ; liquids ( d ) packing efficiency ( f.r.</td>\n",
       "      <td>-12.693418</td>\n",
       "      <td>-3.994252</td>\n",
       "      <td>(&lt;s&gt;, &lt;s&gt;, ;)</td>\n",
       "      <td>-13.247594</td>\n",
       "      <td>(&lt;s&gt;, &lt;s&gt;, :)</td>\n",
       "      <td>-8.729854</td>\n",
       "      <td>DT</td>\n",
       "      <td>eskimos</td>\n",
       "    </tr>\n",
       "    <tr>\n",
       "      <th>74</th>\n",
       "      <td>))ing .</td>\n",
       "      <td>-10.396886</td>\n",
       "      <td>-5.134338</td>\n",
       "      <td>(&lt;s&gt;, &lt;s&gt;, ))</td>\n",
       "      <td>-15.247594</td>\n",
       "      <td>(&lt;s&gt;, &lt;s&gt;, ))</td>\n",
       "      <td>-14.402279</td>\n",
       "      <td>DT</td>\n",
       "      <td>the</td>\n",
       "    </tr>\n",
       "    <tr>\n",
       "      <th>75</th>\n",
       "      <td>its snowed continuously , but quietly , evenly .</td>\n",
       "      <td>-12.398735</td>\n",
       "      <td>-3.974424</td>\n",
       "      <td>(&lt;s&gt;, its, snowed)</td>\n",
       "      <td>-12.495772</td>\n",
       "      <td>(&lt;s&gt;, PRP$, VBD)</td>\n",
       "      <td>-8.864186</td>\n",
       "      <td>NN</td>\n",
       "      <td>swipe</td>\n",
       "    </tr>\n",
       "    <tr>\n",
       "      <th>76</th>\n",
       "      <td>twice hes nearly fell .</td>\n",
       "      <td>-11.887879</td>\n",
       "      <td>-3.838006</td>\n",
       "      <td>(&lt;s&gt;, twice, hes)</td>\n",
       "      <td>-14.078318</td>\n",
       "      <td>(&lt;s&gt;, RB, NNS)</td>\n",
       "      <td>-7.507002</td>\n",
       "      <td>,</td>\n",
       "      <td>,</td>\n",
       "    </tr>\n",
       "    <tr>\n",
       "      <th>77</th>\n",
       "      <td>when his vision cleared he saw the taller one scrambling upward , reaching .</td>\n",
       "      <td>-12.528031</td>\n",
       "      <td>-4.107366</td>\n",
       "      <td>(the, taller, one)</td>\n",
       "      <td>-14.078234</td>\n",
       "      <td>(DT, NN, CD)</td>\n",
       "      <td>-8.933849</td>\n",
       "      <td>IN</td>\n",
       "      <td>whether</td>\n",
       "    </tr>\n",
       "    <tr>\n",
       "      <th>78</th>\n",
       "      <td>\" oh , yes . so i haver heard \" .</td>\n",
       "      <td>-10.500732</td>\n",
       "      <td>-3.833253</td>\n",
       "      <td>(so, i, haver)</td>\n",
       "      <td>-14.079818</td>\n",
       "      <td>(RB, JJ, VBP)</td>\n",
       "      <td>-7.316082</td>\n",
       "      <td>IN</td>\n",
       "      <td>once</td>\n",
       "    </tr>\n",
       "    <tr>\n",
       "      <th>79</th>\n",
       "      <td>yet that had not seriously troubled him , not then they married ..ed more could take at leisure .</td>\n",
       "      <td>-13.214719</td>\n",
       "      <td>-4.184427</td>\n",
       "      <td>(they, married, ..)</td>\n",
       "      <td>-14.078234</td>\n",
       "      <td>(PRP, VBD, NNP)</td>\n",
       "      <td>-12.527721</td>\n",
       "      <td>RB</td>\n",
       "      <td>further</td>\n",
       "    </tr>\n",
       "    <tr>\n",
       "      <th>80</th>\n",
       "      <td>all martin thought he needed was time : double to what better use could time be put ?</td>\n",
       "      <td>-13.327982</td>\n",
       "      <td>-4.444901</td>\n",
       "      <td>(use, could, time)</td>\n",
       "      <td>-14.078318</td>\n",
       "      <td>(NN, MD, NN)</td>\n",
       "      <td>-8.675957</td>\n",
       "      <td>VB</td>\n",
       "      <td>secede</td>\n",
       "    </tr>\n",
       "    <tr>\n",
       "      <th>81</th>\n",
       "      <td>\" oh ,er my god \" , ham richert said , \" a little child shall lead them . moved over , general motors \" .</td>\n",
       "      <td>-11.983232</td>\n",
       "      <td>-4.346504</td>\n",
       "      <td>(,, general, motors)</td>\n",
       "      <td>-14.078818</td>\n",
       "      <td>(,, JJ, NNPS)</td>\n",
       "      <td>-10.723661</td>\n",
       "      <td>NN</td>\n",
       "      <td>swipe</td>\n",
       "    </tr>\n",
       "    <tr>\n",
       "      <th>82</th>\n",
       "      <td>william said .er</td>\n",
       "      <td>-13.351019</td>\n",
       "      <td>-3.930227</td>\n",
       "      <td>(said, .er, &lt;/s&gt;)</td>\n",
       "      <td>-14.079401</td>\n",
       "      <td>(VBD, NN, &lt;/s&gt;)</td>\n",
       "      <td>-8.871905</td>\n",
       "      <td>IN</td>\n",
       "      <td>about</td>\n",
       "    </tr>\n",
       "    <tr>\n",
       "      <th>83</th>\n",
       "      <td>\" all right \" , brannon say , rising . \" we 'll ride out as sooning as we 've had chuck \" .</td>\n",
       "      <td>-11.873917</td>\n",
       "      <td>-3.964775</td>\n",
       "      <td>(we, 've, had)</td>\n",
       "      <td>-14.079735</td>\n",
       "      <td>(PRP, VBP, VBD)</td>\n",
       "      <td>-7.657418</td>\n",
       "      <td>RB</td>\n",
       "      <td>only</td>\n",
       "    </tr>\n",
       "    <tr>\n",
       "      <th>84</th>\n",
       "      <td>overridden \" maybe to have supper . red ,er come along . the rest of you wait here \"est .</td>\n",
       "      <td>-12.931667</td>\n",
       "      <td>-4.537612</td>\n",
       "      <td>(,, er, come)</td>\n",
       "      <td>-14.154739</td>\n",
       "      <td>(,, JJ, VBN)</td>\n",
       "      <td>-8.401733</td>\n",
       "      <td>NN</td>\n",
       "      <td>swipe</td>\n",
       "    </tr>\n",
       "    <tr>\n",
       "      <th>85</th>\n",
       "      <td>it seemer long , at least to tom brannon .</td>\n",
       "      <td>-11.603289</td>\n",
       "      <td>-4.107653</td>\n",
       "      <td>(&lt;s&gt;, it, seemer)</td>\n",
       "      <td>-11.145614</td>\n",
       "      <td>(&lt;s&gt;, PRP, JJR)</td>\n",
       "      <td>-11.620678</td>\n",
       "      <td>VBD</td>\n",
       "      <td>was</td>\n",
       "    </tr>\n",
       "    <tr>\n",
       "      <th>86</th>\n",
       "      <td>\" i 'll remember youer \" , he said . \" every lasting one of you . as for you , brannons \" --</td>\n",
       "      <td>-11.081287</td>\n",
       "      <td>-3.899780</td>\n",
       "      <td>(``, every, lasting)</td>\n",
       "      <td>-14.078318</td>\n",
       "      <td>(``, DT, VBG)</td>\n",
       "      <td>-6.870365</td>\n",
       "      <td>NN</td>\n",
       "      <td>out</td>\n",
       "    </tr>\n",
       "    <tr>\n",
       "      <th>87</th>\n",
       "      <td>\"`ed too much fooling around \" , he said . \" do n't press your luck , badge - toter \" .</td>\n",
       "      <td>-10.918039</td>\n",
       "      <td>-3.999262</td>\n",
       "      <td>(luck, ,, badge)</td>\n",
       "      <td>-14.078568</td>\n",
       "      <td>(NN, ,, SYM)</td>\n",
       "      <td>-13.513234</td>\n",
       "      <td>CC</td>\n",
       "      <td>but</td>\n",
       "    </tr>\n",
       "    <tr>\n",
       "      <th>88</th>\n",
       "      <td>\" if i will . brannon , you 've assaulted a law officer and \" --</td>\n",
       "      <td>-12.386812</td>\n",
       "      <td>-4.080570</td>\n",
       "      <td>(officer, and, ``)</td>\n",
       "      <td>-14.078401</td>\n",
       "      <td>(NN, CC, ``)</td>\n",
       "      <td>-8.404077</td>\n",
       "      <td>NN</td>\n",
       "      <td>swipe</td>\n",
       "    </tr>\n",
       "    <tr>\n",
       "      <th>89</th>\n",
       "      <td>\" aye - yah - ah - ah \" !</td>\n",
       "      <td>-11.557497</td>\n",
       "      <td>-4.467332</td>\n",
       "      <td>(&lt;s&gt;, ``, aye)</td>\n",
       "      <td>-9.076580</td>\n",
       "      <td>(&lt;s&gt;, ``, SYM)</td>\n",
       "      <td>-10.112440</td>\n",
       "      <td>NN</td>\n",
       "      <td>i</td>\n",
       "    </tr>\n",
       "    <tr>\n",
       "      <th>90</th>\n",
       "      <td>\" whies , yes . and you recognized med \" ?</td>\n",
       "      <td>-10.813379</td>\n",
       "      <td>-3.853343</td>\n",
       "      <td>(whies, ,, yes)</td>\n",
       "      <td>-14.228067</td>\n",
       "      <td>(NNS, ,, UH)</td>\n",
       "      <td>-10.871905</td>\n",
       "      <td>CC</td>\n",
       "      <td>livingston</td>\n",
       "    </tr>\n",
       "    <tr>\n",
       "      <th>91</th>\n",
       "      <td>oh , yeah \" , i said . \"</td>\n",
       "      <td>-10.510211</td>\n",
       "      <td>-3.896892</td>\n",
       "      <td>(&lt;s&gt;, &lt;s&gt;, oh)</td>\n",
       "      <td>-11.788162</td>\n",
       "      <td>(&lt;s&gt;, &lt;s&gt;, UH)</td>\n",
       "      <td>-10.402279</td>\n",
       "      <td>DT</td>\n",
       "      <td>eskimos</td>\n",
       "    </tr>\n",
       "    <tr>\n",
       "      <th>92</th>\n",
       "      <td>she just about made me carry her upstairs and then she clung to me would n't let me go .</td>\n",
       "      <td>-12.812215</td>\n",
       "      <td>-3.848413</td>\n",
       "      <td>(about, made, me)</td>\n",
       "      <td>-14.078234</td>\n",
       "      <td>(IN, VBN, PRP)</td>\n",
       "      <td>-8.179909</td>\n",
       "      <td>IN</td>\n",
       "      <td>despite</td>\n",
       "    </tr>\n",
       "    <tr>\n",
       "      <th>93</th>\n",
       "      <td>he moods told her of the visitors and then of his plans . \" how many children do you have present today \" ?est he said ..ing</td>\n",
       "      <td>-13.362758</td>\n",
       "      <td>-4.485404</td>\n",
       "      <td>(.., ing, &lt;/s&gt;)</td>\n",
       "      <td>-13.133142</td>\n",
       "      <td>(JJ, NN, &lt;/s&gt;)</td>\n",
       "      <td>-11.090627</td>\n",
       "      <td>IN</td>\n",
       "      <td>prefuh</td>\n",
       "    </tr>\n",
       "    <tr>\n",
       "      <th>94</th>\n",
       "      <td>\" all right \" , rector said . \" i will be expecting them \" .s</td>\n",
       "      <td>-11.664489</td>\n",
       "      <td>-4.199057</td>\n",
       "      <td>(``, .s, &lt;/s&gt;)</td>\n",
       "      <td>-14.099841</td>\n",
       "      <td>(``, VB, &lt;/s&gt;)</td>\n",
       "      <td>-7.813781</td>\n",
       "      <td>DT</td>\n",
       "      <td>eskimos</td>\n",
       "    </tr>\n",
       "    <tr>\n",
       "      <th>95</th>\n",
       "      <td>-- and crossed the suspension bridge to matamoras ; that be pennsylvania .</td>\n",
       "      <td>-12.579551</td>\n",
       "      <td>-3.990203</td>\n",
       "      <td>(&lt;s&gt;, &lt;s&gt;, --)</td>\n",
       "      <td>-9.724032</td>\n",
       "      <td>(&lt;s&gt;, &lt;s&gt;, :)</td>\n",
       "      <td>-8.729854</td>\n",
       "      <td>DT</td>\n",
       "      <td>eskimos</td>\n",
       "    </tr>\n",
       "    <tr>\n",
       "      <th>96</th>\n",
       "      <td>\"est p. j. \"</td>\n",
       "      <td>-11.927305</td>\n",
       "      <td>-5.224578</td>\n",
       "      <td>(&lt;s&gt;, ``, est)</td>\n",
       "      <td>-14.164043</td>\n",
       "      <td>(&lt;s&gt;, ``, JJS)</td>\n",
       "      <td>-10.112440</td>\n",
       "      <td>NN</td>\n",
       "      <td>i</td>\n",
       "    </tr>\n",
       "    <tr>\n",
       "      <th>97</th>\n",
       "      <td>then katie stumbled , and again he was falling , falling !er</td>\n",
       "      <td>-13.438845</td>\n",
       "      <td>-4.337227</td>\n",
       "      <td>(!, er, &lt;/s&gt;)</td>\n",
       "      <td>-14.078401</td>\n",
       "      <td>(., NN, &lt;/s&gt;)</td>\n",
       "      <td>-8.060696</td>\n",
       "      <td>VBD</td>\n",
       "      <td>etched</td>\n",
       "    </tr>\n",
       "    <tr>\n",
       "      <th>98</th>\n",
       "      <td>it was that prick coughlin .s what the hell was he up to now ?ing why did n't he drop dead ?</td>\n",
       "      <td>-12.596048</td>\n",
       "      <td>-4.260875</td>\n",
       "      <td>(now, ?, ing)</td>\n",
       "      <td>-14.078818</td>\n",
       "      <td>(RB, ., VBG)</td>\n",
       "      <td>-10.256209</td>\n",
       "      <td>&lt;/s&gt;</td>\n",
       "      <td>&lt;/s&gt;</td>\n",
       "    </tr>\n",
       "    <tr>\n",
       "      <th>99</th>\n",
       "      <td>campaigns how ?</td>\n",
       "      <td>-12.356757</td>\n",
       "      <td>-4.391392</td>\n",
       "      <td>(&lt;s&gt;, &lt;s&gt;, campaigns)</td>\n",
       "      <td>-15.247594</td>\n",
       "      <td>(&lt;s&gt;, &lt;s&gt;, VB)</td>\n",
       "      <td>-6.967651</td>\n",
       "      <td>DT</td>\n",
       "      <td>the</td>\n",
       "    </tr>\n",
       "  </tbody>\n",
       "</table>\n",
       "</div>"
      ],
      "text/plain": [
       "                                                                                                                                                                                                                                                                                                                                                                                                                                                                                                                                                                                                                                                                                                                                                                                                                                                                                                         Text  \\\n",
       "0   regarding atlanta 's new multi - million - dollar airport , the jury recommended \" that when the new sandra management takes charge jan. 1 the airport be operated in a manner that will eliminate political influences \" .                                                                                                                                                                                                                                                                                                                                                                                                                                                                                                                                                                                                                                                                                 \n",
       "1   his political career goes back to his election to city council in 1923 .est                                                                                                                                                                                                                                                                                                                                                                                                                                                                                                                                                                                                                                                                                                                                                                                                                                 \n",
       "2   let her call crosson if she wanted to , let crosson raise the roof or even can him , he did n't care macdonald's .                                                                                                                                                                                                                                                                                                                                                                                                                                                                                                                                                                                                                                                                                                                                                                                          \n",
       "3   she was married to him for better or for worse .                                                                                                                                                                                                                                                                                                                                                                                                                                                                                                                                                                                                                                                                                                                                                                                                                                                            \n",
       "4   she would n't 21-2 be wilfully planning his destruction .                                                                                                                                                                                                                                                                                                                                                                                                                                                                                                                                                                                                                                                                                                                                                                                                                                                   \n",
       "5   she had caught him offs guard , no preparation , nothing certain but that ahead lay some kind of disaster . \" noing . wait as minute . what do you \" --                                                                                                                                                                                                                                                                                                                                                                                                                                                                                                                                                                                                                                                                                                                                                     \n",
       "6   `s ` they were all faded .                                                                                                                                                                                                                                                                                                                                                                                                                                                                                                                                                                                                                                                                                                                                                                                                                                                                                  \n",
       "7   worn through at the knees \" . she stood sips and chewing and watching . \"                                                                                                                                                                                                                                                                                                                                                                                                                                                                                                                                                                                                                                                                                                                                                                                                                                   \n",
       "8   \" now , see here \"er --                                                                                                                                                                                                                                                                                                                                                                                                                                                                                                                                                                                                                                                                                                                                                                                                                                                                                     \n",
       "9   she smoothed the skirt , sitting down , then stood up and went back to the windows . \" why onning earth did i send him off to work ? there was excuse enough to keep him home that young mr. arthur 'sser still over there \" .                                                                                                                                                                                                                                                                                                                                                                                                                                                                                                                                                                                                                                                                              \n",
       "10  bills picked up the telephone ; got mullins ..ed                                                                                                                                                                                                                                                                                                                                                                                                                                                                                                                                                                                                                                                                                                                                                                                                                                                            \n",
       "11  \" is his appetite improved \" ?                                                                                                                                                                                                                                                                                                                                                                                                                                                                                                                                                                                                                                                                                                                                                                                                                                                                              \n",
       "12  or : \" does he get exercise \" ?s ?                                                                                                                                                                                                                                                                                                                                                                                                                                                                                                                                                                                                                                                                                                                                                                                                                                                                          \n",
       "13  his face was fuller ;s ; his lips and the usually sharp lines of his jawing had become swollen - looking .                                                                                                                                                                                                                                                                                                                                                                                                                                                                                                                                                                                                                                                                                                                                                                                                  \n",
       "14  where their sharp edges seemed restless as sea waves thrusting themselves upward in angry motion , papa - san sat glacier - like , his smooth solidity , his very immobility defying all the turmoil about him . \" our objective \" , the colonel had said that day of the briefing , \" is papa - san \" .                                                                                                                                                                                                                                                                                                                                                                                                                                                                                                                                                                                                    \n",
       "15  there the objective sat , brooding over all .er gouge , burn , blast , insult it as they would , could anyone really take papa - san ?                                                                                                                                                                                                                                                                                                                                                                                                                                                                                                                                                                                                                                                                                                                                                                      \n",
       "16  \" c'est formidable \" ,ed they exclaimed .                                                                                                                                                                                                                                                                                                                                                                                                                                                                                                                                                                                                                                                                                                                                                                                                                                                                   \n",
       "17  ` does n't it ever bother you \" , warren had asked , \" to have people always asking you about your hands \" ?                                                                                                                                                                                                                                                                                                                                                                                                                                                                                                                                                                                                                                                                                                                                                                                                \n",
       "18  was no cover here , only grass sighing against pant - legs .                                                                                                                                                                                                                                                                                                                                                                                                                                                                                                                                                                                                                                                                                                                                                                                                                                                \n",
       "19  looming over all , papa - san leered down at superstition him , threatening a hundred hidden malevolencies .                                                                                                                                                                                                                                                                                                                                                                                                                                                                                                                                                                                                                                                                                                                                                                                                \n",
       "20  warren thought of all the men out that night who , like himselfs , had left their protective ridge and -- fear working at their guts -- picked their way into the area beyond .                                                                                                                                                                                                                                                                                                                                                                                                                                                                                                                                                                                                                                                                                                                             \n",
       "21  white 's arm went up and warren raised his own .                                                                                                                                                                                                                                                                                                                                                                                                                                                                                                                                                                                                                                                                                                                                                                                                                                                            \n",
       "22  five or so minutes later the marine abruptly pulled up and stepped into sunlight interpretative , immediately throwing his hands over his eyes .                                                                                                                                                                                                                                                                                                                                                                                                                                                                                                                                                                                                                                                                                                                                                            \n",
       "23  popping upright , the marine waved both and shouted .                                                                                                                                                                                                                                                                                                                                                                                                                                                                                                                                                                                                                                                                                                                                                                                                                                                       \n",
       "24  before much longer the marined quieted down .                                                                                                                                                                                                                                                                                                                                                                                                                                                                                                                                                                                                                                                                                                                                                                                                                                                               \n",
       "25  gloom receded ..ed                                                                                                                                                                                                                                                                                                                                                                                                                                                                                                                                                                                                                                                                                                                                                                                                                                                                                          \n",
       "26  asked . \" seems to mest i do n't remember altering any law about that \" .                                                                                                                                                                                                                                                                                                                                                                                                                                                                                                                                                                                                                                                                                                                                                                                                                                   \n",
       "27  it was essential that he should restore his formidable reputation as a rip - , ruthless gun - slinger , and this was the time - honored wild west method of doing it .                                                                                                                                                                                                                                                                                                                                                                                                                                                                                                                                                                                                                                                                                                                                      \n",
       "28  he straightened up , alert now as the buffalo hunter came closer . \" stay right here where you are , kid \" , he called . \" i do n't aim to have minors breathing down my neck when i 'm a - drinking \" :                                                                                                                                                                                                                                                                                                                                                                                                                                                                                                                                                                                                                                                                                                    \n",
       "29  but companies continued toing spring up .                                                                                                                                                                                                                                                                                                                                                                                                                                                                                                                                                                                                                                                                                                                                                                                                                                                                   \n",
       "30  by 1883 the `s ` battenkill telegraph company \" was in existence and alvin pettibone was its president . operating in 1887 was the \" valley telegraph line \" , officers of which were e. c. orvis nick's , president ; h. k. fowler , vice - president and secretary ;s ; j. n. hard , treasurer ;s f. h.s walker , superintendent ; h. s. walker , assistant superintendent . two companies now had headquarters with clark j. wait , who by then had his own drugstore at factory point -- the \" northern union telegraph company \" and the \" western union \" . operators were arthur koop and normaner taylor . still existing on a \" northern union \" telegraph form is a typical peremptory message from peru grocer j. j. hapgood to burton and graves ' store in manchester -- \" get and send by stage four pounds best porterhouse or serloin stake , for mrs. hapgood send six sweet oranges \" .   \n",
       "31  hansen , who slugged the 1960 oriole high ofest 22 homers and drove in 86 runs on a                                                                                                                                                                                                                                                                                                                                                                                                                                                                                                                                                                                                                                                                                                                                                                                                                         \n",
       "32  the ' 49 team was off to a - so 5 - 5 beginning , then fell as low as 12 - 17 on may 23 before finishing with 96 victories .                                                                                                                                                                                                                                                                                                                                                                                                                                                                                                                                                                                                                                                                                                                                                                                \n",
       "33  \" we worrying \" , say the mothers . \" but there never be any need . the boys love it \" .                                                                                                                                                                                                                                                                                                                                                                                                                                                                                                                                                                                                                                                                                                                                                                                                                    \n",
       "34  but he did not notice , and was already backing thes car down to the road , saying \" toot - toot \" !                                                                                                                                                                                                                                                                                                                                                                                                                                                                                                                                                                                                                                                                                                                                                                                                        \n",
       "35  howard the thick middle - aged man ) was looking at her .                                                                                                                                                                                                                                                                                                                                                                                                                                                                                                                                                                                                                                                                                                                                                                                                                                                   \n",
       "36  \" oh yes \" , mama laughed .s \" he 's ten years younger than ernest . we did n't expect himmed to come along ; thought for the longest he was a tumor \" .                                                                                                                                                                                                                                                                                                                                                                                                                                                                                                                                                                                                                                                                                                                                                    \n",
       "37  \" who \" ?er ?                                                                                                                                                                                                                                                                                                                                                                                                                                                                                                                                                                                                                                                                                                                                                                                                                                                                                               \n",
       "38  but the girl said only ,s \" tell him i am here , that i have come \" .                                                                                                                                                                                                                                                                                                                                                                                                                                                                                                                                                                                                                                                                                                                                                                                                                                       \n",
       "39  if i ever committed suicide , she thought , i would dive straight down from here -- and no one would me for days .                                                                                                                                                                                                                                                                                                                                                                                                                                                                                                                                                                                                                                                                                                                                                                                          \n",
       "40  \" i be going back to school \" , she answered . \" pietro 's driving me . i 'm just finishing breakfast . but have you told mother you were going \"s ?                                                                                                                                                                                                                                                                                                                                                                                                                                                                                                                                                                                                                                                                                                                                                        \n",
       "41  they be becoming confused .                                                                                                                                                                                                                                                                                                                                                                                                                                                                                                                                                                                                                                                                                                                                                                                                                                                                                 \n",
       "42  \" not to anyone \" ?est                                                                                                                                                                                                                                                                                                                                                                                                                                                                                                                                                                                                                                                                                                                                                                                                                                                                                      \n",
       "43  \" suppose it was not us that killed these aliens . suppose it is something right on the planet , native to it .s i just hope itter does n't work on earthmen too . these critters went real sudden \" .                                                                                                                                                                                                                                                                                                                                                                                                                                                                                                                                                                                                                                                                                                      \n",
       "44  ekstrohm was not asleep .est                                                                                                                                                                                                                                                                                                                                                                                                                                                                                                                                                                                                                                                                                                                                                                                                                                                                                \n",
       "45  in privacy he could walk around , leave the light on , read .est                                                                                                                                                                                                                                                                                                                                                                                                                                                                                                                                                                                                                                                                                                                                                                                                                                            \n",
       "46  )er                                                                                                                                                                                                                                                                                                                                                                                                                                                                                                                                                                                                                                                                                                                                                                                                                                                                                                         \n",
       "47  its was when i packed up what duds i had and went to paris .                                                                                                                                                                                                                                                                                                                                                                                                                                                                                                                                                                                                                                                                                                                                                                                                                                                \n",
       "48  her eyes be smiling , too , but so sadly , and there was tiredness and infinite wisdom in them . \" now is n't it better toer smile \" ?                                                                                                                                                                                                                                                                                                                                                                                                                                                                                                                                                                                                                                                                                                                                                                      \n",
       "49  she asked                                                                                                                                                                                                                                                                                                                                                                                                                                                                                                                                                                                                                                                                                                                                                                                                                                                                                                   \n",
       "50  maybe closer to thirty , i thought .s                                                                                                                                                                                                                                                                                                                                                                                                                                                                                                                                                                                                                                                                                                                                                                                                                                                                       \n",
       "51  and anthony was busy most of thed time courting this girl and that .                                                                                                                                                                                                                                                                                                                                                                                                                                                                                                                                                                                                                                                                                                                                                                                                                                        \n",
       "52  and another .s                                                                                                                                                                                                                                                                                                                                                                                                                                                                                                                                                                                                                                                                                                                                                                                                                                                                                              \n",
       "53  pierre ameaux , the gaming - carded manufacturer said , his little pig eyes glaring .                                                                                                                                                                                                                                                                                                                                                                                                                                                                                                                                                                                                                                                                                                                                                                                                                       \n",
       "54  monsieur favre sat down in his high - backed stall , lips compressed , fires eyes glinting .                                                                                                                                                                                                                                                                                                                                                                                                                                                                                                                                                                                                                                                                                                                                                                                                                \n",
       "55  \" evadna mae evans got all her baby clothes from best 's liliputian bazaar in new york , and i 'm sick and tired of hearing about evadna mae evans \"'ed .                                                                                                                                                                                                                                                                                                                                                                                                                                                                                                                                                                                                                                                                                                                                                   \n",
       "56  \" thrifty ofs her to use it up . unusual in a case like cough this , but \" --                                                                                                                                                                                                                                                                                                                                                                                                                                                                                                                                                                                                                                                                                                                                                                                                                               \n",
       "57  yes , oh yes .                                                                                                                                                                                                                                                                                                                                                                                                                                                                                                                                                                                                                                                                                                                                                                                                                                                                                              \n",
       "58  let none but him rules the thunder                                                                                                                                                                                                                                                                                                                                                                                                                                                                                                                                                                                                                                                                                                                                                                                                                                                                          \n",
       "59  it was simply his necessity to confess which had made him write keep this thing . \" you 've told god , frank \" , he said .s \" why lacerate the ---er congregation \" ?                                                                                                                                                                                                                                                                                                                                                                                                                                                                                                                                                                                                                                                                                                                                       \n",
       "60  ` to absent loved ones \" . but this last time he drank not to braces but \" to tolley \" !                                                                                                                                                                                                                                                                                                                                                                                                                                                                                                                                                                                                                                                                                                                                                                                                                    \n",
       "61  \" you could try . and if i ever hear you say ' mist laban ' againing i 'll scream . and do n't tell me you did n't at church sunday . i heard youuer \" !                                                                                                                                                                                                                                                                                                                                                                                                                                                                                                                                                                                                                                                                                                                                                    \n",
       "62  \" pictures \" ?s she swings around . \" what pictures \" ?                                                                                                                                                                                                                                                                                                                                                                                                                                                                                                                                                                                                                                                                                                                                                                                                                                                     \n",
       "63  \" hurry september , frank ! they 're not going to laugh at the fairbrothers and labans verier long ! 's going is my fault . i drove him culmination away . you know it and iing 'll tell everybody exactly how it happened \" .                                                                                                                                                                                                                                                                                                                                                                                                                                                                                                                                                                                                                                                                              \n",
       "64  leaning forward in her chair , gran nearsightedly scrutinized dan 's . \" how 's sally like rubbin ' agin that thar little ticklebrush ye're a - raising \" ?                                                                                                                                                                                                                                                                                                                                                                                                                                                                                                                                                                                                                                                                                                                                                 \n",
       "65  gran peered again at the - old blond mustache shadowing dan 's upper lip . \" but honest - to - betsy , i 've seed more hair than that on a piece o ' bacon \" .                                                                                                                                                                                                                                                                                                                                                                                                                                                                                                                                                                                                                                                                                                                                              \n",
       "66  `est ` nate \" ! he bellowed to the retreating back directly inner front of him .                                                                                                                                                                                                                                                                                                                                                                                                                                                                                                                                                                                                                                                                                                                                                                                                                            \n",
       "67  basically , this means that simpler processing equipment ( the mixture has good flowing characteristics ) and less external heat ( the foamings reaction is exothermic and develops internal heat ) are required in one - shot foaming , although , at the same time , the problems of controlling the conditions of one - shot foaming are critical ones .                                                                                                                                                                                                                                                                                                                                                                                                                                                                                                                                                 \n",
       "68  the higher - density urethane semi - rigid foams usually have stronger flex fatigue resistance , i.e.                                                                                                                                                                                                                                                                                                                                                                                                                                                                                                                                                                                                                                                                                                                                                                                                       \n",
       "69  screen drying racks -- 16-mesh screening ( saran or velon ) .                                                                                                                                                                                                                                                                                                                                                                                                                                                                                                                                                                                                                                                                                                                                                                                                                                               \n",
       "70  pressing equipment -- flat - bed press measuring 24s inches by 50 inches or larger .                                                                                                                                                                                                                                                                                                                                                                                                                                                                                                                                                                                                                                                                                                                                                                                                                        \n",
       "71  high - gain photoelectronic image intensification may be achieved by several methods ; some of these are listed colonialism below : ( a ) cascading single stages by coupling lens systems , ( b ) channel - type , secondary emission image intensifier ,est ( c ) image intensifier based upon the \" multipactor \" principle , ( d ) transmission secondary electron multiplication image intensifiers ( tsem tubes ) , ( e ) cascading of single stages , enclosed in one common envelope .                                                                                                                                                                                                                                                                                                                                                                                                              \n",
       "72  efficiency of fiber couplers the efficiency of fiber optics plates depends on four factors : ( a )er numerical aperture ( n.a. )                                                                                                                                                                                                                                                                                                                                                                                                                                                                                                                                                                                                                                                                                                                                                                            \n",
       "73  ; ( b ) end ( fresnel reflection ) losses ( r ) ;ing ( c ) internal losses ( i.l.er ) ; liquids ( d ) packing efficiency ( f.r.                                                                                                                                                                                                                                                                                                                                                                                                                                                                                                                                                                                                                                                                                                                                                                             \n",
       "74  ))ing .                                                                                                                                                                                                                                                                                                                                                                                                                                                                                                                                                                                                                                                                                                                                                                                                                                                                                                     \n",
       "75  its snowed continuously , but quietly , evenly .                                                                                                                                                                                                                                                                                                                                                                                                                                                                                                                                                                                                                                                                                                                                                                                                                                                            \n",
       "76  twice hes nearly fell .                                                                                                                                                                                                                                                                                                                                                                                                                                                                                                                                                                                                                                                                                                                                                                                                                                                                                     \n",
       "77  when his vision cleared he saw the taller one scrambling upward , reaching .                                                                                                                                                                                                                                                                                                                                                                                                                                                                                                                                                                                                                                                                                                                                                                                                                                \n",
       "78  \" oh , yes . so i haver heard \" .                                                                                                                                                                                                                                                                                                                                                                                                                                                                                                                                                                                                                                                                                                                                                                                                                                                                           \n",
       "79  yet that had not seriously troubled him , not then they married ..ed more could take at leisure .                                                                                                                                                                                                                                                                                                                                                                                                                                                                                                                                                                                                                                                                                                                                                                                                           \n",
       "80  all martin thought he needed was time : double to what better use could time be put ?                                                                                                                                                                                                                                                                                                                                                                                                                                                                                                                                                                                                                                                                                                                                                                                                                       \n",
       "81  \" oh ,er my god \" , ham richert said , \" a little child shall lead them . moved over , general motors \" .                                                                                                                                                                                                                                                                                                                                                                                                                                                                                                                                                                                                                                                                                                                                                                                                   \n",
       "82  william said .er                                                                                                                                                                                                                                                                                                                                                                                                                                                                                                                                                                                                                                                                                                                                                                                                                                                                                            \n",
       "83  \" all right \" , brannon say , rising . \" we 'll ride out as sooning as we 've had chuck \" .                                                                                                                                                                                                                                                                                                                                                                                                                                                                                                                                                                                                                                                                                                                                                                                                                 \n",
       "84  overridden \" maybe to have supper . red ,er come along . the rest of you wait here \"est .                                                                                                                                                                                                                                                                                                                                                                                                                                                                                                                                                                                                                                                                                                                                                                                                                   \n",
       "85  it seemer long , at least to tom brannon .                                                                                                                                                                                                                                                                                                                                                                                                                                                                                                                                                                                                                                                                                                                                                                                                                                                                  \n",
       "86  \" i 'll remember youer \" , he said . \" every lasting one of you . as for you , brannons \" --                                                                                                                                                                                                                                                                                                                                                                                                                                                                                                                                                                                                                                                                                                                                                                                                                \n",
       "87  \"`ed too much fooling around \" , he said . \" do n't press your luck , badge - toter \" .                                                                                                                                                                                                                                                                                                                                                                                                                                                                                                                                                                                                                                                                                                                                                                                                                     \n",
       "88  \" if i will . brannon , you 've assaulted a law officer and \" --                                                                                                                                                                                                                                                                                                                                                                                                                                                                                                                                                                                                                                                                                                                                                                                                                                            \n",
       "89  \" aye - yah - ah - ah \" !                                                                                                                                                                                                                                                                                                                                                                                                                                                                                                                                                                                                                                                                                                                                                                                                                                                                                   \n",
       "90  \" whies , yes . and you recognized med \" ?                                                                                                                                                                                                                                                                                                                                                                                                                                                                                                                                                                                                                                                                                                                                                                                                                                                                  \n",
       "91  oh , yeah \" , i said . \"                                                                                                                                                                                                                                                                                                                                                                                                                                                                                                                                                                                                                                                                                                                                                                                                                                                                                    \n",
       "92  she just about made me carry her upstairs and then she clung to me would n't let me go .                                                                                                                                                                                                                                                                                                                                                                                                                                                                                                                                                                                                                                                                                                                                                                                                                    \n",
       "93  he moods told her of the visitors and then of his plans . \" how many children do you have present today \" ?est he said ..ing                                                                                                                                                                                                                                                                                                                                                                                                                                                                                                                                                                                                                                                                                                                                                                                \n",
       "94  \" all right \" , rector said . \" i will be expecting them \" .s                                                                                                                                                                                                                                                                                                                                                                                                                                                                                                                                                                                                                                                                                                                                                                                                                                               \n",
       "95  -- and crossed the suspension bridge to matamoras ; that be pennsylvania .                                                                                                                                                                                                                                                                                                                                                                                                                                                                                                                                                                                                                                                                                                                                                                                                                                  \n",
       "96  \"est p. j. \"                                                                                                                                                                                                                                                                                                                                                                                                                                                                                                                                                                                                                                                                                                                                                                                                                                                                                                \n",
       "97  then katie stumbled , and again he was falling , falling !er                                                                                                                                                                                                                                                                                                                                                                                                                                                                                                                                                                                                                                                                                                                                                                                                                                                \n",
       "98  it was that prick coughlin .s what the hell was he up to now ?ing why did n't he drop dead ?                                                                                                                                                                                                                                                                                                                                                                                                                                                                                                                                                                                                                                                                                                                                                                                                                \n",
       "99  campaigns how ?                                                                                                                                                                                                                                                                                                                                                                                                                                                                                                                                                                                                                                                                                                                                                                                                                                                                                             \n",
       "\n",
       "    Text score  POS score                Wrong token  Wrong token score  \\\n",
       "0  -13.236188  -3.901992   (the, airport, be)        -14.078484           \n",
       "1  -12.953957  -4.329064   (in, 1923, .est)          -10.400223           \n",
       "2  -12.666810  -4.008406   (wanted, to, ,)           -14.082565           \n",
       "3  -11.812748  -3.972383   (him, for, better)        -14.079235           \n",
       "4  -11.604166  -3.909775   (n't, 21-2, be)           -14.079318           \n",
       "5  -12.897732  -3.862099   (minute, ., what)         -14.078234           \n",
       "6  -11.684490  -3.838084   (s, `, they)              -14.078234           \n",
       "7  -13.527406  -4.432822   (``, ., she)              -14.192832           \n",
       "8  -12.173059  -4.625246   (``, er, --)              -14.099841           \n",
       "9  -12.953306  -4.147776   (young, mr., arthur)      -14.078234           \n",
       "10 -13.926603  -4.781031   (.., ed, </s>)            -14.078234           \n",
       "11 -10.774444  -4.096099   (his, appetite, improved) -14.092922           \n",
       "12 -13.067545  -4.749996   (``, ?, s)                -14.111543           \n",
       "13 -12.716878  -3.889448   (;, s, ;)                 -14.078234           \n",
       "14 -12.967845  -4.285396   (motion, ,, papa)         -14.078735           \n",
       "15 -13.051742  -4.199724   (over, all, .er)          -14.078818           \n",
       "16 -11.626560  -4.334107   (<s>, ``, c'est)          -9.076580            \n",
       "17 -12.650181  -3.901684   (``, ,, warren)           -14.152047           \n",
       "18 -12.767190  -4.057587   (<s>, <s>, was)           -11.160131           \n",
       "19 -13.027311  -3.882576   (all, ,, papa)            -14.084559           \n",
       "20 -13.157317  -3.918527   (ridge, and, --)          -14.078234           \n",
       "21 -12.436833  -4.059318   (<s>, white, 's)          -13.078568           \n",
       "22 -13.180118  -3.837067   (so, minutes, later)      -14.078234           \n",
       "23 -12.225061  -4.035434   (waved, both, and)        -14.078234           \n",
       "24 -11.175935  -4.202995   (the, marined, quieted)   -7.617742            \n",
       "25 -14.282279  -4.731859   (gloom, receded, ..)      -14.078234           \n",
       "26 -11.929043  -3.837194   (mest, i, do)             -13.078568           \n",
       "27 -12.288538  -3.887806   (,, ruthless, gun)        -14.078234           \n",
       "28 -12.977780  -3.977990   ('m, a, -)                -14.078568           \n",
       "29 -11.173734  -4.208119   (toing, spring, up)       -14.078234           \n",
       "30 -13.558455  -3.873615   (superintendent, ., two)  -14.078234           \n",
       "31 -13.818718  -4.459022   (on, a, </s>)             -14.097374           \n",
       "32 -13.252812  -4.321728   (<s>, the, ')             -14.288650           \n",
       "33 -12.046717  -4.102135   (need, ., the)            -14.078735           \n",
       "34 -12.065886  -3.877945   (-, toot, ``)             -14.078234           \n",
       "35 -12.722212  -4.486274   (the, thick, middle)      -14.078484           \n",
       "36 -12.547283  -4.228545   (ten, years, younger)     -14.079735           \n",
       "37 -10.938242  -4.245321   (``, ?, er)               -14.111543           \n",
       "38 -11.962508  -3.848320   (tell, him, i)            -14.079735           \n",
       "39 -12.755348  -4.102350   (if, i, ever)             -14.082482           \n",
       "40 -12.666194  -4.410140   (``, i, be)               -14.107789           \n",
       "41 -11.016337  -4.142723   (<s>, they, be)           -14.107054           \n",
       "42 -12.550004  -5.285358   (``, ?, est)              -14.111543           \n",
       "43 -13.032693  -4.187101   (not, us, that)           -14.078234           \n",
       "44 -13.365861  -4.583045   (not, asleep, .est)       -14.078234           \n",
       "45 -13.435893  -4.379586   (,, read, .est)           -14.078401           \n",
       "46 -13.871158  -7.101520   (<s>, <s>, ))             -15.247594           \n",
       "47 -12.718786  -4.075896   (<s>, its, was)           -14.080734           \n",
       "48 -12.047278  -3.884780   (n't, it, better)         -14.079318           \n",
       "49 -11.342735  -5.422409   (she, asked, </s>)        -14.079235           \n",
       "50 -13.317963  -5.167196   (thought, .s, </s>)       -14.078568           \n",
       "51 -12.511498  -3.919218   (was, busy, most)         -14.078735           \n",
       "52 -12.047148  -4.358631   (another, .s, </s>)       -14.078568           \n",
       "53 -11.908914  -3.964812   (the, gaming, -)          -14.217655           \n",
       "54 -12.874918  -4.103390   (his, high, -)            -14.078318           \n",
       "55 -12.293956  -3.957984   (clothes, from, best)     -14.078234           \n",
       "56 -12.427806  -4.132330   (ofs, her, to)            -13.080401           \n",
       "57 -11.028279  -5.051820   (,, oh, yes)              -14.078484           \n",
       "58 -13.657975  -5.587359   (the, thunder, </s>)      -14.078234           \n",
       "59 -12.517617  -3.898528   (to, confess, which)      -14.078318           \n",
       "60 -13.019112  -4.089979   (``, ., but)              -14.192832           \n",
       "61 -12.814790  -4.310659   (mist, laban, ')          -14.078234           \n",
       "62 -12.086458  -4.299438   (``, ?, s)                -14.111543           \n",
       "63 -12.656199  -3.960027   (long, !, 's)             -14.078234           \n",
       "64 -13.251752  -3.928211   ('re, a, -)               -14.078651           \n",
       "65 -13.174883  -3.848274   (at, the, -)              -14.139312           \n",
       "66 -11.855082  -4.082097   (``, !, he)               -14.091518           \n",
       "67 -13.223174  -3.837166   (,, although, ,)          -14.083396           \n",
       "68 -12.458016  -4.234096   (density, urethane, semi) -14.078234           \n",
       "69 -11.670108  -3.905546   (<s>, screen, drying)     -14.078234           \n",
       "70 -13.234860  -4.142808   (inches, or, larger)      -14.078234           \n",
       "71 -13.280237  -3.873212   (colonialism, below, :)   -14.078234           \n",
       "72 -13.134341  -4.030255   (n.a, ., ))               -11.597121           \n",
       "73 -12.693418  -3.994252   (<s>, <s>, ;)             -13.247594           \n",
       "74 -10.396886  -5.134338   (<s>, <s>, ))             -15.247594           \n",
       "75 -12.398735  -3.974424   (<s>, its, snowed)        -12.495772           \n",
       "76 -11.887879  -3.838006   (<s>, twice, hes)         -14.078318           \n",
       "77 -12.528031  -4.107366   (the, taller, one)        -14.078234           \n",
       "78 -10.500732  -3.833253   (so, i, haver)            -14.079818           \n",
       "79 -13.214719  -4.184427   (they, married, ..)       -14.078234           \n",
       "80 -13.327982  -4.444901   (use, could, time)        -14.078318           \n",
       "81 -11.983232  -4.346504   (,, general, motors)      -14.078818           \n",
       "82 -13.351019  -3.930227   (said, .er, </s>)         -14.079401           \n",
       "83 -11.873917  -3.964775   (we, 've, had)            -14.079735           \n",
       "84 -12.931667  -4.537612   (,, er, come)             -14.154739           \n",
       "85 -11.603289  -4.107653   (<s>, it, seemer)         -11.145614           \n",
       "86 -11.081287  -3.899780   (``, every, lasting)      -14.078318           \n",
       "87 -10.918039  -3.999262   (luck, ,, badge)          -14.078568           \n",
       "88 -12.386812  -4.080570   (officer, and, ``)        -14.078401           \n",
       "89 -11.557497  -4.467332   (<s>, ``, aye)            -9.076580            \n",
       "90 -10.813379  -3.853343   (whies, ,, yes)           -14.228067           \n",
       "91 -10.510211  -3.896892   (<s>, <s>, oh)            -11.788162           \n",
       "92 -12.812215  -3.848413   (about, made, me)         -14.078234           \n",
       "93 -13.362758  -4.485404   (.., ing, </s>)           -13.133142           \n",
       "94 -11.664489  -4.199057   (``, .s, </s>)            -14.099841           \n",
       "95 -12.579551  -3.990203   (<s>, <s>, --)            -9.724032            \n",
       "96 -11.927305  -5.224578   (<s>, ``, est)            -14.164043           \n",
       "97 -13.438845  -4.337227   (!, er, </s>)             -14.078401           \n",
       "98 -12.596048  -4.260875   (now, ?, ing)             -14.078818           \n",
       "99 -12.356757  -4.391392   (<s>, <s>, campaigns)     -15.247594           \n",
       "\n",
       "     Wrong token POS  Wrong token POS score Suggested POS Suggested token  \n",
       "0   (DT, NN, VB)     -9.217642               IN            in              \n",
       "1   (IN, CD, JJS)    -10.759056              NNS           presentments    \n",
       "2   (VBD, TO, ,)     -8.280771               VB            be              \n",
       "3   (PRP, IN, JJR)   -8.482472               DT            eskimos         \n",
       "4   (RB, JJ, VB)     -9.403545               IN            of              \n",
       "5   (NN, ., WP)      -10.399545              </s>          </s>            \n",
       "6   (NNS, ``, PRP)   -8.748193               .             !               \n",
       "7   (``, ., PRP)     -10.995060              </s>          </s>            \n",
       "8   (``, RB, :)      -7.194757               ,             ,               \n",
       "9   (JJ, NN, NNP)    -12.260552              IN            prefuh          \n",
       "10  (VB, NN, </s>)   -10.204571              IN            in              \n",
       "11  (PRP$, JJ, VBN)  -8.733015               NN            swipe           \n",
       "12  (``, ., NN)      -9.995060               </s>          </s>            \n",
       "13  (:, PRP, :)      -8.426265               VBD           wiped           \n",
       "14  (NN, ,, SYM)     -13.513234              CC            or              \n",
       "15  (IN, DT, NNP)    -10.420641              NN            swipe           \n",
       "16  (<s>, ``, JJS)   -10.112440              NN            i               \n",
       "17  (``, ,, NNS)     -6.729432               PRP           he              \n",
       "18  (<s>, <s>, VBD)  -8.701840               DT            the             \n",
       "19  (DT, ,, SYM)     -8.209453               RB            because         \n",
       "20  (NN, CC, :)      -10.404077              NN            i               \n",
       "21  (<s>, JJ, POS)   -8.230421               NN            house           \n",
       "22  (RB, NNS, RB)    -6.499846               IN            before          \n",
       "23  (VBD, DT, CC)    -9.556985               NN            eddie           \n",
       "24  (DT, VBN, VBD)   -8.179909               NN            swipe           \n",
       "25  (NN, VBD, NNP)   -11.600842              VBN           effected        \n",
       "26  (VB, NN, VBP)    -8.619609               IN            prefuh          \n",
       "27  (,, NN, SYM)     -11.420487              ,             ,               \n",
       "28  (VBP, DT, :)     -8.764872               NN            mess            \n",
       "29  (VBG, NN, RP)    -9.995767               IN            prefuh          \n",
       "30  (NN, ., CD)      -10.399545              </s>          </s>            \n",
       "31  (IN, DT, </s>)   -12.508104              NN            swipe           \n",
       "32  (<s>, DT, POS)   -12.138912              NN            swipe           \n",
       "33  (NN, ., DT)      -7.671625               </s>          </s>            \n",
       "34  (:, NN, ``)      -8.675957               ,             ,               \n",
       "35  (DT, NN, SYM)    -14.741204              IN            of              \n",
       "36  (JJ, NNS, JJR)   -10.954560              IN            ago             \n",
       "37  (``, ., NN)      -9.995060               </s>          </s>            \n",
       "38  (IN, PRP, VB)    -8.071462               VBD           said            \n",
       "39  (IN, JJ, RB)     -8.102572               NN            do              \n",
       "40  (``, NN, VB)     -8.383704               ``            ``              \n",
       "41  (<s>, PRP, VB)   -9.035716               VBD           were            \n",
       "42  (``, ., JJS)     -10.995060              </s>          </s>            \n",
       "43  (RB, PRP, WDT)   -9.068778               VBD           urged           \n",
       "44  (RB, JJ, JJS)    -10.403545              IN            prefuh          \n",
       "45  (,, VB, JJS)     -8.625709               DT            the             \n",
       "46  (<s>, <s>, ))    -14.402279              DT            the             \n",
       "47  (<s>, PRP$, VBD) -8.864186               NN            swipe           \n",
       "48  (RB, PRP, JJR)   -9.068778               VBD           was             \n",
       "49  (PRP, VBD, </s>) -12.527721              RB            madly           \n",
       "50  (VBD, NNS, </s>) -8.400879               IN            as              \n",
       "51  (VBD, JJ, JJS)   -10.307201              NN            swipe           \n",
       "52  (DT, NN, </s>)   -12.419276              IN            from            \n",
       "53  (DT, VBG, :)     -8.873444               NN            swipe           \n",
       "54  (PRP$, JJ, :)    -9.148053               NN            brown           \n",
       "55  (NNS, IN, JJS)   -9.075788               DT            eskimos         \n",
       "56  (VBZ, PRP$, TO)  -7.839204               NN            hand            \n",
       "57  (,, JJ, UH)      -10.723661              NN            swipe           \n",
       "58  (DT, NN, </s>)   -12.419276              IN            in              \n",
       "59  (TO, VB, WDT)    -9.819181               DT            all             \n",
       "60  (``, ., CC)      -10.995060              </s>          </s>            \n",
       "61  (JJ, NN, '')     -11.260552              IN            of              \n",
       "62  (``, ., VB)      -9.995060               </s>          </s>            \n",
       "63  (RB, ., POS)     -10.256209              </s>          </s>            \n",
       "64  (VBP, DT, :)     -8.764872               NN            fool            \n",
       "65  (IN, DT, :)      -10.807665              NN            swipe           \n",
       "66  (``, ., PRP)     -10.995060              </s>          </s>            \n",
       "67  (,, IN, ,)       -9.386294               DT            eskimos         \n",
       "68  (NN, NN, SYM)    -13.294908              ,             ,               \n",
       "69  (<s>, NN, VBG)   -8.400405               VBD           etched          \n",
       "70  (NNS, CC, JJR)   -7.307989               NNS           presentments    \n",
       "71  (NN, IN, :)      -12.096781              DT            eskimos         \n",
       "72  (JJ, ., ))       -7.725650               </s>          </s>            \n",
       "73  (<s>, <s>, :)    -8.729854               DT            eskimos         \n",
       "74  (<s>, <s>, ))    -14.402279              DT            the             \n",
       "75  (<s>, PRP$, VBD) -8.864186               NN            swipe           \n",
       "76  (<s>, RB, NNS)   -7.507002               ,             ,               \n",
       "77  (DT, NN, CD)     -8.933849               IN            whether         \n",
       "78  (RB, JJ, VBP)    -7.316082               IN            once            \n",
       "79  (PRP, VBD, NNP)  -12.527721              RB            further         \n",
       "80  (NN, MD, NN)     -8.675957               VB            secede          \n",
       "81  (,, JJ, NNPS)    -10.723661              NN            swipe           \n",
       "82  (VBD, NN, </s>)  -8.871905               IN            about           \n",
       "83  (PRP, VBP, VBD)  -7.657418               RB            only            \n",
       "84  (,, JJ, VBN)     -8.401733               NN            swipe           \n",
       "85  (<s>, PRP, JJR)  -11.620678              VBD           was             \n",
       "86  (``, DT, VBG)    -6.870365               NN            out             \n",
       "87  (NN, ,, SYM)     -13.513234              CC            but             \n",
       "88  (NN, CC, ``)     -8.404077               NN            swipe           \n",
       "89  (<s>, ``, SYM)   -10.112440              NN            i               \n",
       "90  (NNS, ,, UH)     -10.871905              CC            livingston      \n",
       "91  (<s>, <s>, UH)   -10.402279              DT            eskimos         \n",
       "92  (IN, VBN, PRP)   -8.179909               IN            despite         \n",
       "93  (JJ, NN, </s>)   -11.090627              IN            prefuh          \n",
       "94  (``, VB, </s>)   -7.813781               DT            eskimos         \n",
       "95  (<s>, <s>, :)    -8.729854               DT            eskimos         \n",
       "96  (<s>, ``, JJS)   -10.112440              NN            i               \n",
       "97  (., NN, </s>)    -8.060696               VBD           etched          \n",
       "98  (RB, ., VBG)     -10.256209              </s>          </s>            \n",
       "99  (<s>, <s>, VB)   -6.967651               DT            the             "
      ]
     },
     "metadata": {},
     "output_type": "display_data"
    }
   ],
   "source": [
    "with pd.option_context('display.max_rows', None, 'display.max_columns', None, 'display.max_colwidth', -1):  # more options can be specified also\n",
    "    display(df)"
   ]
  },
  {
   "cell_type": "markdown",
   "metadata": {
    "id": "GaZg4--fEgKU"
   },
   "source": [
    "### Saving model"
   ]
  },
  {
   "cell_type": "code",
   "execution_count": 67,
   "metadata": {
    "id": "gYJWB4TmEcn_"
   },
   "outputs": [],
   "source": [
    "import dill as pickle \n",
    "\n",
    "os.makedirs(os.path.join(BASE_DIR, 'models'), exist_ok=True)\n",
    "\n",
    "for n_value in n_values:\n",
    "    with open(os.path.join(BASE_DIR, 'models', f'{n_value}_gram_text.pkl'), 'wb') as fout:\n",
    "        pickle.dump(ngram_data_text[n_value]['model'], fout)\n",
    "        \n",
    "for n_value in n_values:\n",
    "    with open(os.path.join(BASE_DIR, 'models', f'{n_value}_gram_pos.pkl'), 'wb') as fout:\n",
    "        pickle.dump(ngram_data_pos[n_value]['model'], fout)"
   ]
  },
  {
   "cell_type": "markdown",
   "metadata": {},
   "source": [
    "## Contribution\n",
    "- Adarsh Nandanwar [2018A7PS0396G] - Language Model (n-gram) Train and Test, Language Model Evaluation, Correct Word Suggestion\n",
    "- Yash Narang [2018A7PS0150G] - POS Tagging: Hidden Markov Model\n",
    "- Manav Mehta [2018A7PS0164G] - Dataset Analysis\n",
    "- Aditya Jain [2018A7PS0243G] - POS Tagging: Spacy, Perplexity Calculation\n",
    "- Pranav Gaur [2018A7PS0099G] - POS Tagging: Spacy, Perplexity Calculation"
   ]
  }
 ],
 "metadata": {
  "colab": {
   "collapsed_sections": [],
   "name": "nlp_grammer_check.ipynb",
   "provenance": []
  },
  "kernelspec": {
   "display_name": "Python 3",
   "language": "python",
   "name": "python3"
  },
  "language_info": {
   "codemirror_mode": {
    "name": "ipython",
    "version": 3
   },
   "file_extension": ".py",
   "mimetype": "text/x-python",
   "name": "python",
   "nbconvert_exporter": "python",
   "pygments_lexer": "ipython3",
   "version": "3.8.5"
  }
 },
 "nbformat": 4,
 "nbformat_minor": 1
}
