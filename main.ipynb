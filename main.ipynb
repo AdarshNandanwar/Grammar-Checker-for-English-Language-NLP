{
 "cells": [
  {
   "cell_type": "markdown",
   "metadata": {
    "id": "jIsfO_moCaDW"
   },
   "source": [
    "# CS F429 - NLP Project\n",
    "Project 1: Grammar Check for English Language"
   ]
  },
  {
   "cell_type": "markdown",
   "metadata": {
    "id": "uQLL6GOSCiai"
   },
   "source": [
    "## Problem Statement\n",
    "Part 1: Build a grammar checker using the concepts taught in class, you will be given a corpus with some paragraphs labeled\n",
    "correct and unknown; correct paragraphs have no grammatical errors, while unknown may/may not have sentences\n",
    "which have grammatical errors in them. The task is to find all the sentences that have these errors. For example: “In the\n",
    "country there lived a fox. The quick brown fox jump over the fence. Farmer Shaun was terrified.” In this paragraph, the\n",
    "sentence “The quick brown fox jump over the fence” is grammatically incorrect."
   ]
  },
  {
   "cell_type": "markdown",
   "metadata": {},
   "source": [
    "## Introduction"
   ]
  },
  {
   "cell_type": "markdown",
   "metadata": {
    "id": "WI8Xvqk7CvHz"
   },
   "source": [
    "### Importing libraries"
   ]
  },
  {
   "cell_type": "code",
   "execution_count": 1,
   "metadata": {},
   "outputs": [
    {
     "name": "stdout",
     "output_type": "stream",
     "text": [
      "Requirement already satisfied: dill in /home/adarshnandanwar/.local/lib/python3.8/site-packages (0.3.4)\n",
      "Requirement already satisfied: nltk in /home/adarshnandanwar/.local/lib/python3.8/site-packages (3.6.5)\n",
      "Requirement already satisfied: tqdm in /home/adarshnandanwar/.local/lib/python3.8/site-packages (from nltk) (4.62.3)\n",
      "Requirement already satisfied: click in /home/adarshnandanwar/anaconda3/lib/python3.8/site-packages (from nltk) (7.1.2)\n",
      "Requirement already satisfied: regex>=2021.8.3 in /home/adarshnandanwar/.local/lib/python3.8/site-packages (from nltk) (2021.10.21)\n",
      "Requirement already satisfied: joblib in /home/adarshnandanwar/.local/lib/python3.8/site-packages (from nltk) (1.1.0)\n"
     ]
    }
   ],
   "source": [
    "!pip install dill\n",
    "!pip install -U nltk"
   ]
  },
  {
   "cell_type": "code",
   "execution_count": 2,
   "metadata": {
    "colab": {
     "base_uri": "https://localhost:8080/"
    },
    "id": "lBj1j2-RCZnz",
    "outputId": "e362cb07-2a4f-4abe-f09e-8f761c9432ef"
   },
   "outputs": [
    {
     "name": "stderr",
     "output_type": "stream",
     "text": [
      "[nltk_data] Downloading package punkt to\n",
      "[nltk_data]     /home/adarshnandanwar/nltk_data...\n",
      "[nltk_data]   Package punkt is already up-to-date!\n",
      "[nltk_data] Downloading package brown to\n",
      "[nltk_data]     /home/adarshnandanwar/nltk_data...\n",
      "[nltk_data]   Package brown is already up-to-date!\n"
     ]
    }
   ],
   "source": [
    "import csv\n",
    "import matplotlib.pyplot as plt\n",
    "%matplotlib inline\n",
    "import numpy as np\n",
    "import os\n",
    "import pandas as pd\n",
    "import random\n",
    "import time\n",
    "import nltk\n",
    "import random\n",
    "import spacy\n",
    "import ssl\n",
    "from numpy import inf\n",
    "\n",
    "try:\n",
    "    _create_unverified_https_context = ssl._create_unverified_context\n",
    "except AttributeError:\n",
    "    pass\n",
    "else:\n",
    "    ssl._create_default_https_context = _create_unverified_https_context\n",
    "    \n",
    "nltk.download('punkt')\n",
    "nltk.download('brown')\n",
    "from nltk.corpus import brown\n",
    "\n",
    "# from google.colab import drive\n",
    "# drive.mount('/content/gdrive')"
   ]
  },
  {
   "cell_type": "code",
   "execution_count": 3,
   "metadata": {},
   "outputs": [],
   "source": [
    "# BASE_DIR = 'gdrive/MyDrive/nlp_project'\n",
    "BASE_DIR = os.getcwd()\n",
    "DATASET_PATH = os.path.join(BASE_DIR, 'dataset', 'NLP_Q1')\n",
    "CLEAN_DATASET_PATH = os.path.join(DATASET_PATH, 'clean')\n",
    "UNKNOWN_DATASET_PATH = os.path.join(DATASET_PATH, 'unknown')\n",
    "\n",
    "PRINT_LIMIT = 3"
   ]
  },
  {
   "cell_type": "markdown",
   "metadata": {
    "id": "P12cWugID_if"
   },
   "source": [
    "### Importing dataset"
   ]
  },
  {
   "cell_type": "code",
   "execution_count": 4,
   "metadata": {
    "colab": {
     "base_uri": "https://localhost:8080/"
    },
    "id": "uDQe_dUCDbaf",
    "outputId": "19c01787-af90-4925-8c80-ef4e04faf564"
   },
   "outputs": [
    {
     "name": "stdout",
     "output_type": "stream",
     "text": [
      "Dataset already extracted\n"
     ]
    }
   ],
   "source": [
    "# Extracting dataset\n",
    "from zipfile import ZipFile\n",
    "\n",
    "if not os.path.isdir(DATASET_PATH):\n",
    "    dataset_zip_path = os.path.join(BASE_DIR, 'dataset', 'Topic 1.zip')\n",
    "    dataset_extrat_path = os.path.join(BASE_DIR, 'dataset')\n",
    "    with ZipFile(dataset_zip_path, 'r') as zip:\n",
    "        zip.printdir()\n",
    "        zip.extractall(dataset_extrat_path)\n",
    "        print('Done!')\n",
    "else:\n",
    "    print('Dataset already extracted')"
   ]
  },
  {
   "cell_type": "code",
   "execution_count": 5,
   "metadata": {},
   "outputs": [
    {
     "name": "stdout",
     "output_type": "stream",
     "text": [
      "Size of clean dataset: 6969\n",
      "===========================\n",
      "\n",
      "`` Shake '' , I said . `` You have just enlisted for the ' Rhine Campaign ' '' .\n",
      "\n",
      "He staggered into the back seat and lay back , fighting for breath . There was someone in front with the sheriff . It was Pete Holmes , the cabdriver .\n",
      "\n",
      "A good feeling prevailed on the SMU coaching staff Monday , but attention quickly turned from Saturday's victory to next week's problem : Rice University . The Mustangs don't play this week .\n"
     ]
    }
   ],
   "source": [
    "# Reading clean dataset\n",
    "clean_text_list = []\n",
    "for file_name in os.listdir(CLEAN_DATASET_PATH):\n",
    "    text = open(os.path.join(CLEAN_DATASET_PATH, file_name)).read()\n",
    "    clean_text_list.append(text)\n",
    "\n",
    "print(f'Size of clean dataset: {len(clean_text_list)}')\n",
    "print(f'===========================\\n')\n",
    "print('\\n\\n'.join(random.sample(clean_text_list, PRINT_LIMIT)))"
   ]
  },
  {
   "cell_type": "code",
   "execution_count": 6,
   "metadata": {},
   "outputs": [
    {
     "name": "stdout",
     "output_type": "stream",
     "text": [
      "Size of unknown dataset: 8698\n",
      "=============================\n",
      "\n",
      "With the metal shutters closed , the dining room was so dark that it seemed still night in there . One of the drawing - room shutters was partly open and he made out the shapes of chairs and sofas , whicher seemed to be upholstered in brown or russet velvet . The curtains were of the same material , and there were some big oil paintings -- portraits in ther style of Lancret and Boucher .\n",
      "\n",
      "A recent example of this problem is the flying of six airplanes , on December 31 , 1960 , from the Newport Airpark in Middletown , to the North Central affections Airport in Smithfield . This situation resulted in both towns claimest the tax , and probably justifiably . Middletown bases its claim on the general provision of the law that ` ` all rateable property , both tangible and intangible , shall be taxed to the owner thereof in the town in which such owner shall have had his actual place of abode for the larger portion of the twelve ( 12 ) months next preceding the first day of April in each year '' .\n",
      "\n",
      "The basic market for textiles is growing with the expansion of the population that begin 20 years ago . Another growth factor is increased consumer demand for best quality and larger quantities of fabrics that go with a rising standard of living .\n"
     ]
    }
   ],
   "source": [
    "# Reading unknown dataset\n",
    "unknown_text_list = []\n",
    "for file_name in os.listdir(UNKNOWN_DATASET_PATH):\n",
    "    text = open(os.path.join(UNKNOWN_DATASET_PATH, file_name)).read()\n",
    "    unknown_text_list.append(text)\n",
    "\n",
    "print(f'Size of unknown dataset: {len(unknown_text_list)}')\n",
    "print(f'=============================\\n')\n",
    "print('\\n\\n'.join(random.sample(unknown_text_list, PRINT_LIMIT)))"
   ]
  },
  {
   "cell_type": "code",
   "execution_count": 7,
   "metadata": {},
   "outputs": [],
   "source": [
    "from nltk.tokenize import sent_tokenize\n",
    "\n",
    "def segmentation(corpus):\n",
    "    segmented_corpus = []\n",
    "    map_to_corpus_index = []\n",
    "    for i, text in enumerate(corpus):\n",
    "        splits = sent_tokenize(text)\n",
    "        segmented_corpus.extend(splits)\n",
    "        map_to_corpus_index.extend([i for x in range(len(splits))])\n",
    "    return segmented_corpus, map_to_corpus_index"
   ]
  },
  {
   "cell_type": "code",
   "execution_count": 8,
   "metadata": {},
   "outputs": [],
   "source": [
    "from nltk.tokenize import word_tokenize\n",
    "\n",
    "def tokenization(segmented_corpus):\n",
    "    tokenized_corpus = []\n",
    "    for text in segmented_corpus:\n",
    "        tokenized_corpus.append(word_tokenize(text))\n",
    "    return tokenized_corpus"
   ]
  },
  {
   "cell_type": "code",
   "execution_count": 9,
   "metadata": {},
   "outputs": [
    {
     "name": "stdout",
     "output_type": "stream",
     "text": [
      "Segmentation of clean data\n",
      "==========================\n",
      "\n",
      "The jury further said in term-end presentments that the City Executive Committee , which had over-all charge of the election , `` deserves the praise and thanks of the City of Atlanta '' for the manner in which the election was conducted .\n",
      "\n",
      "It urged that the next Legislature `` provide enabling funds and re-set the effective date so that an orderly implementation of the law may be effected '' .\n",
      "\n",
      "The grand jury took a swipe at the State Welfare Department's handling of federal funds granted for child welfare services in foster homes .\n",
      "\n",
      "\n",
      "Tokenization of clean data\n",
      "==========================\n",
      "\n",
      "['The', 'jury', 'further', 'said', 'in', 'term-end', 'presentments', 'that', 'the', 'City', 'Executive', 'Committee', ',', 'which', 'had', 'over-all', 'charge', 'of', 'the', 'election', ',', '``', 'deserves', 'the', 'praise', 'and', 'thanks', 'of', 'the', 'City', 'of', 'Atlanta', '``', 'for', 'the', 'manner', 'in', 'which', 'the', 'election', 'was', 'conducted', '.']\n",
      "\n",
      "['It', 'urged', 'that', 'the', 'next', 'Legislature', '``', 'provide', 'enabling', 'funds', 'and', 're-set', 'the', 'effective', 'date', 'so', 'that', 'an', 'orderly', 'implementation', 'of', 'the', 'law', 'may', 'be', 'effected', '``', '.']\n",
      "\n",
      "['The', 'grand', 'jury', 'took', 'a', 'swipe', 'at', 'the', 'State', 'Welfare', 'Department', \"'s\", 'handling', 'of', 'federal', 'funds', 'granted', 'for', 'child', 'welfare', 'services', 'in', 'foster', 'homes', '.']\n",
      "\n"
     ]
    }
   ],
   "source": [
    "segmented_clean_text_list, map_to_corpus_index = segmentation(clean_text_list)\n",
    "tokenized_clean_text_list = tokenization(segmented_clean_text_list)\n",
    "\n",
    "print('Segmentation of clean data')\n",
    "print('==========================\\n')\n",
    "print('\\n\\n'.join(segmented_clean_text_list[:PRINT_LIMIT]))\n",
    "print('\\n\\nTokenization of clean data')\n",
    "print('==========================\\n')\n",
    "for i in range(PRINT_LIMIT):\n",
    "    print(tokenized_clean_text_list[i], end='\\n\\n')"
   ]
  },
  {
   "cell_type": "code",
   "execution_count": 10,
   "metadata": {},
   "outputs": [
    {
     "name": "stdout",
     "output_type": "stream",
     "text": [
      "Segmentation of unknown data\n",
      "============================\n",
      "\n",
      "The Fulton County Grand Jury say Friday an investigation of Atlanta 's recent primary election produced ` ` no evidence '' that any irregularities took place .\n",
      "\n",
      "` ` This is one of the major items in the Fulton County general assistance program '' , the jury said , but the State Welfare Department ` ` has seen fit to distribute these funds through the welfare departments of all the counties in the state with the exception of Fulton County , which receives reform none of this money .\n",
      "\n",
      "The jurors said they realize ` ` a proportionate distribution of these funder might disable this program in our less populous counties '' .\n",
      "\n",
      "\n",
      "Tokenization of unknown data\n",
      "============================\n",
      "\n",
      "['The', 'Fulton', 'County', 'Grand', 'Jury', 'say', 'Friday', 'an', 'investigation', 'of', 'Atlanta', \"'s\", 'recent', 'primary', 'election', 'produced', '`', '`', 'no', 'evidence', '``', 'that', 'any', 'irregularities', 'took', 'place', '.']\n",
      "\n",
      "['`', '`', 'This', 'is', 'one', 'of', 'the', 'major', 'items', 'in', 'the', 'Fulton', 'County', 'general', 'assistance', 'program', '``', ',', 'the', 'jury', 'said', ',', 'but', 'the', 'State', 'Welfare', 'Department', '`', '`', 'has', 'seen', 'fit', 'to', 'distribute', 'these', 'funds', 'through', 'the', 'welfare', 'departments', 'of', 'all', 'the', 'counties', 'in', 'the', 'state', 'with', 'the', 'exception', 'of', 'Fulton', 'County', ',', 'which', 'receives', 'reform', 'none', 'of', 'this', 'money', '.']\n",
      "\n",
      "['The', 'jurors', 'said', 'they', 'realize', '`', '`', 'a', 'proportionate', 'distribution', 'of', 'these', 'funder', 'might', 'disable', 'this', 'program', 'in', 'our', 'less', 'populous', 'counties', '``', '.']\n",
      "\n"
     ]
    }
   ],
   "source": [
    "segmented_unknown_text_list, map_to_corpus_index = segmentation(unknown_text_list)\n",
    "tokenized_unknown_text_list = tokenization(segmented_unknown_text_list)\n",
    "\n",
    "print('Segmentation of unknown data')\n",
    "print('============================\\n')\n",
    "print('\\n\\n'.join(segmented_unknown_text_list[:PRINT_LIMIT]))\n",
    "print('\\n\\nTokenization of unknown data')\n",
    "print('============================\\n')\n",
    "for i in range(PRINT_LIMIT):\n",
    "    print(tokenized_unknown_text_list[i], end='\\n\\n')"
   ]
  },
  {
   "cell_type": "markdown",
   "metadata": {},
   "source": [
    "### Dataset Analysis"
   ]
  },
  {
   "cell_type": "code",
   "execution_count": 11,
   "metadata": {
    "id": "G_uoPaPa6f6z"
   },
   "outputs": [],
   "source": [
    "# Building list of all tokens in clean data\n",
    "token_list_clean = list()\n",
    "for i in range(len(tokenized_clean_text_list)):\n",
    "    token = tokenized_clean_text_list[i]\n",
    "    for j in range(len(token)):\n",
    "        token_list_clean.append(token[j])\n",
    "        \n",
    "# Building set of all tokens in clean data\n",
    "token_set_clean = set()\n",
    "for i in range(len(tokenized_clean_text_list)):\n",
    "    token = tokenized_clean_text_list[i]\n",
    "    for j in range(len(token)):\n",
    "        token_set_clean.add(token[j])"
   ]
  },
  {
   "cell_type": "code",
   "execution_count": 12,
   "metadata": {
    "id": "YmM1Ibew-fO6"
   },
   "outputs": [],
   "source": [
    "# Building list of all tokens in unknown data\n",
    "token_list_unknown = list()\n",
    "for i in range(len(tokenized_unknown_text_list)):\n",
    "    token = tokenized_unknown_text_list[i]\n",
    "    for j in range(len(token)):\n",
    "        token_list_unknown.append(token[j])\n",
    "\n",
    "# Building set of all tokens in unknown data\n",
    "token_set_unknown = set()\n",
    "for i in range(len(tokenized_unknown_text_list)):\n",
    "    token = tokenized_unknown_text_list[i]\n",
    "    for j in range(len(token)):\n",
    "        token_set_unknown.add(token[j])"
   ]
  },
  {
   "cell_type": "code",
   "execution_count": 13,
   "metadata": {
    "id": "Ty-DW9Dw-fXv"
   },
   "outputs": [
    {
     "name": "stdout",
     "output_type": "stream",
     "text": [
      "Number of function words: 299033\n"
     ]
    }
   ],
   "source": [
    "# Calculating function words in clean set\n",
    "en = spacy.load('en_core_web_sm')\n",
    "sw_spacy = en.Defaults.stop_words\n",
    "num_function_words = 0\n",
    "for i in range(len(token_list_clean)):\n",
    "    if(token_list_clean[i] not in sw_spacy):\n",
    "        num_function_words+=1\n",
    "\n",
    "print(f\"Number of function words:\", num_function_words)"
   ]
  },
  {
   "cell_type": "code",
   "execution_count": 14,
   "metadata": {
    "id": "1vOYavxC-fac"
   },
   "outputs": [
    {
     "data": {
      "image/png": "[encoded data removed]",
      "text/plain": [
       "<Figure size 432x288 with 1 Axes>"
      ]
     },
     "metadata": {},
     "output_type": "display_data"
    }
   ],
   "source": [
    "import matplotlib.pyplot as plt\n",
    "import numpy as np\n",
    "function_word_percent = round(num_function_words/(len(token_list_clean)) * 100,2)\n",
    "content_word_percent = round((len(token_list_clean)-num_function_words)/(len(token_list_clean)) * 100,2)\n",
    "y = np.array([num_function_words, len(token_list_clean)-num_function_words])\n",
    "mylabels = [\"Function Words \"+str(function_word_percent)+\"%\", \"Content words \"+str(content_word_percent)+\"%\"]\n",
    "\n",
    "plt.pie(y, labels = mylabels)\n",
    "plt.title('Word type distribution in \"Clean\" corpus')\n",
    "plt.show()"
   ]
  },
  {
   "cell_type": "code",
   "execution_count": 15,
   "metadata": {
    "id": "NtAZZDLE-fc_"
   },
   "outputs": [],
   "source": [
    "# Demonstrating Zipf's law\n",
    "def CountFrequency(my_list):\n",
    "    freq = {}\n",
    "    for item in my_list:\n",
    "        if (item in freq):\n",
    "            freq[item] += 1\n",
    "        else:\n",
    "            freq[item] = 1\n",
    "    return freq"
   ]
  },
  {
   "cell_type": "code",
   "execution_count": 16,
   "metadata": {
    "id": "wuwLYwFa-o9H"
   },
   "outputs": [],
   "source": [
    "mp = CountFrequency(token_list_unknown)\n",
    "\n",
    "num_list = []\n",
    "for key in mp.keys():\n",
    "    num_list.append(mp[key])\n",
    "\n",
    "num_list.sort(reverse = True)\n",
    "num_list = num_list[:80]"
   ]
  },
  {
   "cell_type": "code",
   "execution_count": 17,
   "metadata": {
    "id": "SXulUcNx-pBc"
   },
   "outputs": [
    {
     "data": {
      "image/png": "[encoded data removed]",
      "text/plain": [
       "<Figure size 432x288 with 1 Axes>"
      ]
     },
     "metadata": {
      "needs_background": "light"
     },
     "output_type": "display_data"
    }
   ],
   "source": [
    "plt.bar(list(range(len(num_list))),num_list)\n",
    "plt.xlabel(\"Words\")\n",
    "plt.ylabel(\"Frequency of words\")\n",
    "plt.title(\"Demonstration of Zipf's Law\")\n",
    "plt.show()"
   ]
  },
  {
   "cell_type": "code",
   "execution_count": 18,
   "metadata": {
    "id": "8JYn9P73-pKg"
   },
   "outputs": [
    {
     "name": "stdout",
     "output_type": "stream",
     "text": [
      "Number of unknown words:  45107\n",
      "OOV words detected!\n"
     ]
    }
   ],
   "source": [
    "# Calculation of unknown words in test set\n",
    "\n",
    "num_unknown_words = 0\n",
    "test_tokens = list(token_set_unknown)\n",
    "clean_tokens = list(token_set_clean)\n",
    "for i in range(len(test_tokens)):\n",
    "    if(test_tokens[i] not in clean_tokens):\n",
    "        num_unknown_words+= mp[test_tokens[i]]\n",
    "\n",
    "print(f\"Number of unknown words: \", num_unknown_words)\n",
    "if num_unknown_words > 0:\n",
    "    print(\"OOV words detected!\")"
   ]
  },
  {
   "cell_type": "code",
   "execution_count": 19,
   "metadata": {},
   "outputs": [
    {
     "data": {
      "image/png": "[encoded data removed]",
      "text/plain": [
       "<Figure size 432x288 with 1 Axes>"
      ]
     },
     "metadata": {},
     "output_type": "display_data"
    }
   ],
   "source": [
    "unknown_word_percent = round(num_unknown_words/(len(token_list_unknown)) * 100,2)\n",
    "known_word_percent = round((len(token_list_unknown)-num_unknown_words)/(len(token_list_unknown)) * 100,2)\n",
    "y = np.array([num_unknown_words, len(token_list_unknown)-num_unknown_words])\n",
    "mylabels = [\"Unknown Words \"+str(unknown_word_percent)+\"%\", \"Known words \"+str(known_word_percent)+\"%\"]\n",
    "plt.pie(y, labels = mylabels)\n",
    "plt.title('\"Unknown\" corpus vocabulary distribution')\n",
    "plt.show()"
   ]
  },
  {
   "cell_type": "markdown",
   "metadata": {
    "id": "F8OrYSNFeXVI"
   },
   "source": [
    "## POS Tagging\n",
    "- We have implemented 2 methods to do POS tagging"
   ]
  },
  {
   "cell_type": "markdown",
   "metadata": {},
   "source": [
    "### 1. Hiden Markov Model\n",
    "We can use hidden markov model to do POS tagging on the token. In the below function, we first find the required probabilities (emission probability, transition probability) using the brown corpus made available by nltk library and use these probabilities to do POS tagging on the given training and testing dataset using Viterbi algorithm."
   ]
  },
  {
   "cell_type": "code",
   "execution_count": 20,
   "metadata": {
    "id": "rgZF9Xo8dqPu"
   },
   "outputs": [],
   "source": [
    "def training_hmm():\n",
    "    \n",
    "    print('Training HMM model ......')\n",
    "    \n",
    "    sent_tag = brown.tagged_sents()\n",
    "    train_data=[]\n",
    "    for s in sent_tag:\n",
    "        s.insert(0,('<s>','<s>'))\n",
    "        s.append(('</s>','</s>'))\n",
    "        train_data.append(s)\n",
    "    \n",
    "    train_word_tag = {}\n",
    "    for s in train_data:\n",
    "        for (w,t) in s:\n",
    "            w=w.lower()\n",
    "            try:\n",
    "                try:\n",
    "                    train_word_tag[t][w]+=1\n",
    "                except:\n",
    "                    train_word_tag[t][w]=1\n",
    "            except:\n",
    "                train_word_tag[t]={w:1}\n",
    "        \n",
    "    train_emission_prob={}\n",
    "    for k in train_word_tag.keys():\n",
    "        train_emission_prob[k]={}\n",
    "        count = sum(train_word_tag[k].values())\n",
    "        for k2 in train_word_tag[k].keys():\n",
    "            train_emission_prob[k][k2]=train_word_tag[k][k2]/count\n",
    "            \n",
    "    print('Calculated emission probability .........')\n",
    "            \n",
    "    bigram_tag_data = {}\n",
    "    for s in train_data:\n",
    "        bi=list(nltk.bigrams(s))\n",
    "        for b1,b2 in bi:\n",
    "            try:\n",
    "                try:\n",
    "                    bigram_tag_data[b1[1]][b2[1]]+=1\n",
    "                except:\n",
    "                    bigram_tag_data[b1[1]][b2[1]]=1\n",
    "            except:\n",
    "                bigram_tag_data[b1[1]]={b2[1]:1}\n",
    "                \n",
    "    bigram_tag_prob={}\n",
    "    for k in bigram_tag_data.keys():\n",
    "        bigram_tag_prob[k]={}\n",
    "        count=sum(bigram_tag_data[k].values())\n",
    "        for k2 in bigram_tag_data[k].keys():\n",
    "            bigram_tag_prob[k][k2]=bigram_tag_data[k][k2]/count\n",
    "            \n",
    "    print('Calculated bigram transition probability .........')\n",
    "            \n",
    "    \n",
    "    tags_of_tokens = {}\n",
    "    count=0\n",
    "    for s in train_data:\n",
    "        for (w,t) in s:\n",
    "            w=w.lower()\n",
    "            try:\n",
    "                if t not in tags_of_tokens[w]:\n",
    "                    tags_of_tokens[w].append(t)\n",
    "            except:\n",
    "                l = []\n",
    "                l.append(t)\n",
    "                tags_of_tokens[w] = l\n",
    "    \n",
    "    print('Model training completed .........')\n",
    "    \n",
    "    return bigram_tag_prob, train_emission_prob, tags_of_tokens"
   ]
  },
  {
   "cell_type": "code",
   "execution_count": 21,
   "metadata": {
    "id": "HusPsm-hdrhz"
   },
   "outputs": [],
   "source": [
    "def find_pos_tags_hmm(bigram_tag_prob, train_emission_prob, tags_of_tokens, string_seq):\n",
    "    string_seq.append('</s>')\n",
    "    string_seq.insert(0,'<s>')\n",
    "    s = string_seq\n",
    "    # storing_values is a dictionary which stores the required values          \n",
    "    storing_values = {}              \n",
    "    for q in range(len(s)):\n",
    "        step = s[q]\n",
    "        # for the starting word of the sentence\n",
    "        if q == 1:                \n",
    "            storing_values[q] = {}\n",
    "            try:\n",
    "                tags = tags_of_tokens[step]\n",
    "            except:\n",
    "                # print(step+'.....')\n",
    "                tags = ['UNK']\n",
    "            for t in tags:\n",
    "                # this is applied since we do not know whether the word in the test data is present in train data or not\n",
    "                try:\n",
    "                    storing_values[q][t] = ['<s>',bigram_tag_prob['<s>'][t]*train_emission_prob[t][step]]\n",
    "                # if word is not present in the train data but present in test data we assign a very low probability of 0.0001\n",
    "                except:\n",
    "                    storing_values[q][t] = ['<s>',0.0001]\n",
    "    \n",
    "        # if the word is not at the start of the sentence\n",
    "        if q>1:\n",
    "            storing_values[q] = {}\n",
    "            previous_states = list(storing_values[q-1].keys())  \n",
    "            try:\n",
    "                current_states  = tags_of_tokens[step]      \n",
    "            except:\n",
    "                current_states = ['UNK']\n",
    "            # calculation of the best previous state for each current state and then storing it in storing_values\n",
    "            for t in current_states:                             \n",
    "                temp = []\n",
    "                for pt in previous_states:                         \n",
    "                    try:\n",
    "                        temp.append(storing_values[q-1][pt][1]*bigram_tag_prob[pt][t]*train_emission_prob[t][step])\n",
    "                    except:\n",
    "                        temp.append(storing_values[q-1][pt][1]*0.0001)\n",
    "                max_temp_index = temp.index(max(temp))\n",
    "                best_pt = previous_states[max_temp_index]\n",
    "                storing_values[q][t]=[best_pt,max(temp)]\n",
    "\n",
    "    # Backtracing to extract the best possible tags for the sentence\n",
    "    pred_tags = []\n",
    "    total_steps_num = storing_values.keys()\n",
    "    last_step_num = max(total_steps_num)\n",
    "    for bs in range(len(total_steps_num)):\n",
    "        step_num = last_step_num - bs\n",
    "        if step_num == last_step_num:\n",
    "            pred_tags.append('</s>')\n",
    "            pred_tags.append(storing_values[step_num]['</s>'][0])\n",
    "        if step_num<last_step_num and step_num>0:\n",
    "            pred_tags.append(storing_values[step_num][pred_tags[len(pred_tags)-1]][0])\n",
    "    return list(reversed(pred_tags[1:-1]))"
   ]
  },
  {
   "cell_type": "code",
   "execution_count": 22,
   "metadata": {
    "id": "EKwE1UKMd4BB"
   },
   "outputs": [
    {
     "name": "stdout",
     "output_type": "stream",
     "text": [
      "Training HMM model ......\n",
      "Calculated emission probability .........\n",
      "Calculated bigram transition probability .........\n",
      "Model training completed .........\n"
     ]
    }
   ],
   "source": [
    "bigram_tag_prob, train_emission_prob, tags_of_tokens = training_hmm()"
   ]
  },
  {
   "cell_type": "code",
   "execution_count": 23,
   "metadata": {
    "id": "SbWfA5JZd_TA"
   },
   "outputs": [
    {
     "data": {
      "text/plain": [
       "['DT', 'BEZ', 'AT', 'JJ']"
      ]
     },
     "execution_count": 23,
     "metadata": {},
     "output_type": "execute_result"
    }
   ],
   "source": [
    "# Sentence sequence should be like ['<s>' , '.........' , '........' , '</s>']\n",
    "find_pos_tags_hmm(bigram_tag_prob, train_emission_prob, tags_of_tokens, ['that','is','a','human'])"
   ]
  },
  {
   "cell_type": "markdown",
   "metadata": {},
   "source": [
    "### Method 2. Spacy Library\n",
    "We can use spacy `en_core_web_sm` which is a english pipeline trained on various corpora to do POS tagging on the given training and testing dataset."
   ]
  },
  {
   "cell_type": "code",
   "execution_count": 24,
   "metadata": {
    "id": "Jcb3u2W5dvEJ"
   },
   "outputs": [],
   "source": [
    "def train_spacy_pos():\n",
    "    print('Training spacy model ......')\n",
    "    nlp_spacy = spacy.load(\"en_core_web_sm\")\n",
    "    print('Training spacy model completed ......')\n",
    "    return nlp_spacy"
   ]
  },
  {
   "cell_type": "code",
   "execution_count": 25,
   "metadata": {},
   "outputs": [],
   "source": [
    "def find_pos_tags_spacy(nlp_spacy , text):\n",
    "    text = ' '.join(text)\n",
    "    doc = nlp_spacy(text)\n",
    "    token = [token.tag_  for token in doc]    \n",
    "    return token"
   ]
  },
  {
   "cell_type": "code",
   "execution_count": 26,
   "metadata": {
    "id": "dCjLSCLDeAMP"
   },
   "outputs": [
    {
     "name": "stdout",
     "output_type": "stream",
     "text": [
      "Training spacy model ......\n",
      "Training spacy model completed ......\n"
     ]
    }
   ],
   "source": [
    "nlp_spacy = train_spacy_pos()"
   ]
  },
  {
   "cell_type": "code",
   "execution_count": 27,
   "metadata": {
    "id": "FqsubC8EeEYH",
    "scrolled": true
   },
   "outputs": [
    {
     "data": {
      "text/plain": [
       "['DT', 'VBZ', 'DT', 'JJ']"
      ]
     },
     "execution_count": 27,
     "metadata": {},
     "output_type": "execute_result"
    }
   ],
   "source": [
    "# Sentence sequence should be like ['<s>' , '.........' , '........' , '</s>']\n",
    "find_pos_tags_spacy(nlp_spacy , ['that','is','a','sample', 'text'])\n",
    "find_pos_tags_spacy(nlp_spacy , ['that','is','a','human'])"
   ]
  },
  {
   "cell_type": "markdown",
   "metadata": {
    "id": "mTBbki2jCfYU"
   },
   "source": [
    "## Language Model"
   ]
  },
  {
   "cell_type": "markdown",
   "metadata": {
    "id": "8JFXTiEEDPMP"
   },
   "source": [
    "### Importing dataset"
   ]
  },
  {
   "cell_type": "code",
   "execution_count": 28,
   "metadata": {
    "id": "kmGfZeIHDZoE"
   },
   "outputs": [
    {
     "name": "stdout",
     "output_type": "stream",
     "text": [
      "Size of clean dataset:\t\t6969\n",
      "Size of clean train set:\t6272\n",
      "Size of clean dev set:\t\t697\n"
     ]
    }
   ],
   "source": [
    "clean_text_list = []\n",
    "for file_name in os.listdir(CLEAN_DATASET_PATH):\n",
    "    text = open(os.path.join(CLEAN_DATASET_PATH, file_name)).read()\n",
    "    clean_text_list.append(text)\n",
    "print(f'Size of clean dataset:\\t\\t{len(clean_text_list)}')\n",
    "\n",
    "from sklearn.model_selection import train_test_split\n",
    "clean_text_list, clean_text_dev_list = train_test_split(clean_text_list, test_size=0.1)\n",
    "\n",
    "print(f'Size of clean train set:\\t{len(clean_text_list)}')\n",
    "print(f'Size of clean dev set:\\t\\t{len(clean_text_dev_list)}')"
   ]
  },
  {
   "cell_type": "code",
   "execution_count": 29,
   "metadata": {
    "id": "VcG-uRrdDb1R"
   },
   "outputs": [
    {
     "name": "stdout",
     "output_type": "stream",
     "text": [
      "Size of clean dataset: 8698\n",
      "\n",
      "The Fulton County Grand Jury say Friday an investigation of Atlanta 's recent primary election produced ` ` no evidence '' that any irregularities took place .\n",
      "\n",
      "` ` This is one of the major items in the Fulton County general assistance program '' , the jury said , but the State Welfare Department ` ` has seen fit to distribute these funds through the welfare departments of all the counties in the state with the exception of Fulton County , which receives reform none of this money .\n",
      "\n",
      "The jurors said they realize ` ` a proportionate distribution of these funder might disable this program in our less populous counties '' .\n"
     ]
    }
   ],
   "source": [
    "unknown_text_list = []\n",
    "for file_name in os.listdir(UNKNOWN_DATASET_PATH):\n",
    "    text = open(os.path.join(UNKNOWN_DATASET_PATH, file_name)).read()\n",
    "    unknown_text_list.append(text)\n",
    "\n",
    "print(f'Size of clean dataset: {len(unknown_text_list)}\\n')\n",
    "print('\\n\\n'.join(unknown_text_list[:PRINT_LIMIT]))"
   ]
  },
  {
   "cell_type": "markdown",
   "metadata": {
    "id": "_tLP86afDfBM"
   },
   "source": [
    "### Segmentation and Tokenization"
   ]
  },
  {
   "cell_type": "code",
   "execution_count": 30,
   "metadata": {
    "id": "jRDzZ3PNDckD"
   },
   "outputs": [],
   "source": [
    "from nltk.tokenize import sent_tokenize\n",
    "\n",
    "def segmentation(corpus):\n",
    "    segmented_corpus = []\n",
    "    map_to_corpus_index = []\n",
    "    for i, text in enumerate(corpus):\n",
    "        splits = sent_tokenize(text)\n",
    "        segmented_corpus.extend(splits)\n",
    "        map_to_corpus_index.extend([i for x in range(len(splits))])\n",
    "    return segmented_corpus, map_to_corpus_index"
   ]
  },
  {
   "cell_type": "code",
   "execution_count": 31,
   "metadata": {
    "id": "g-KX4Cv3DkIL"
   },
   "outputs": [],
   "source": [
    "from nltk.tokenize import word_tokenize\n",
    "\n",
    "def tokenization(segmented_corpus):\n",
    "    tokenized_corpus = []\n",
    "    for text in segmented_corpus:\n",
    "        tokenized_corpus.append(word_tokenize(text))\n",
    "    return tokenized_corpus"
   ]
  },
  {
   "cell_type": "code",
   "execution_count": 32,
   "metadata": {
    "id": "EHBgCB8IDlhO"
   },
   "outputs": [
    {
     "name": "stdout",
     "output_type": "stream",
     "text": [
      "Segmentation\n",
      "\n",
      "`` At least you could leave it for the movers '' , Miss Ada said .\n",
      "`` What possessed you to tell me a clotheshorse would be a good idea '' ?\n",
      "?\n",
      "\n",
      "\n",
      "Tokenization\n",
      "\n",
      "['``', 'At', 'least', 'you', 'could', 'leave', 'it', 'for', 'the', 'movers', '``', ',', 'Miss', 'Ada', 'said', '.']\n",
      "['``', 'What', 'possessed', 'you', 'to', 'tell', 'me', 'a', 'clotheshorse', 'would', 'be', 'a', 'good', 'idea', '``', '?']\n",
      "['?']\n"
     ]
    }
   ],
   "source": [
    "from nltk.tokenize import sent_tokenize\n",
    "\n",
    "segmented_clean_text_list, map_to_corpus_index = segmentation(clean_text_list)\n",
    "tokenized_clean_text_list = tokenization(segmented_clean_text_list)\n",
    "\n",
    "print('Segmentation\\n')\n",
    "print('\\n'.join(segmented_clean_text_list[:PRINT_LIMIT]))\n",
    "print('\\n\\nTokenization\\n')\n",
    "for i in range(PRINT_LIMIT):\n",
    "    print(tokenized_clean_text_list[i])"
   ]
  },
  {
   "cell_type": "markdown",
   "metadata": {
    "id": "1tqYNDxWDnzO"
   },
   "source": [
    "### N-gram Model"
   ]
  },
  {
   "cell_type": "code",
   "execution_count": 33,
   "metadata": {
    "id": "5JBryUCADm70"
   },
   "outputs": [],
   "source": [
    "from nltk.util import bigrams\n",
    "from nltk.util import ngrams\n",
    "from nltk.util import everygrams\n",
    "from nltk.util import pad_sequence\n",
    "from nltk.lm import Laplace\n",
    "from nltk.lm import MLE\n",
    "from nltk.lm import Vocabulary\n",
    "from nltk.lm.preprocessing import pad_both_ends\n",
    "from nltk.lm.preprocessing import flatten"
   ]
  },
  {
   "cell_type": "code",
   "execution_count": 34,
   "metadata": {},
   "outputs": [],
   "source": [
    "def convert_to_pos_tags(tokenized_corpus, pos_type=None):\n",
    "    # POS tagging\n",
    "    pos_tag_corpus = []\n",
    "    if pos_type == 'hmm':\n",
    "        print(\"Replacing tokens with POS tags using HMM\")\n",
    "        for sequence in tokenized_corpus:\n",
    "            pos_tag_corpus.append(find_pos_tags_hmm(bigram_tag_prob, train_emission_prob, tags_of_tokens, sequence))\n",
    "        return pos_tag_corpus\n",
    "    elif pos_type == 'spacy':\n",
    "        print(\"Replacing tokens with POS tags using spacy\")\n",
    "        for sequence in tokenized_corpus:\n",
    "            pos_tag_corpus.append(find_pos_tags_spacy(nlp_spacy, sequence))\n",
    "        return pos_tag_corpus\n",
    "    else:\n",
    "        print(\"POS tagging method not selected. No changes made.\")\n",
    "        return tokenized_corpus"
   ]
  },
  {
   "cell_type": "code",
   "execution_count": 35,
   "metadata": {
    "id": "lu8z7EmADqzk"
   },
   "outputs": [],
   "source": [
    "def train_ngram_model(n_value, tokenized_corpus, verbose=False):\n",
    "    print(f'{\"Sequences in corpus:\":50}{len(tokenized_corpus)}')\n",
    "    total_tokens = 0\n",
    "    for sequence in tokenized_corpus:\n",
    "        total_tokens += len(sequence)\n",
    "    print(f'{\"Total tokens in corpus:\":50}{total_tokens}')\n",
    "    \n",
    "    # padding <s> and </s>\n",
    "    print(\"Padding sequences with <s> and </s> tokens\")\n",
    "    padded_sequences = []\n",
    "    for i in range(len(tokenized_corpus)):\n",
    "        padded_tokens = list(pad_sequence(tokenized_corpus[i],\n",
    "                                          pad_left=True, left_pad_symbol=\"<s>\",\n",
    "                                          pad_right=True, right_pad_symbol=\"</s>\",\n",
    "                                          n=n_value))\n",
    "        padded_sequences.append(padded_tokens)\n",
    "    if verbose:\n",
    "        print('eg.', padded_sequences[0])\n",
    "            \n",
    "    # create vocabulary\n",
    "    print(\"Creating vocabulary\")\n",
    "    vocabulary = list(flatten(padded_sequences))\n",
    "    print(f'{\"Flattened sequence size\":50}{len(vocabulary)}')\n",
    "    print(f'{\"Flattened sequence set size\":50}{len(set(vocabulary))}')\n",
    "    # replace tokens below cutoff freq with <UNK> token\n",
    "    vocab = Vocabulary(vocabulary, unk_cutoff=2)\n",
    "    print(f'{\"Vocabulary with <UNK> cutoff size\":50}{len(vocab)}')\n",
    "    \n",
    "    # grouping into group size of `n_value`\n",
    "    print(\"Creating n-grams\")\n",
    "    ngram_sequences = []\n",
    "    for text in padded_sequences:\n",
    "        ngram_sequences.append(list(ngrams(text, n=n_value)))\n",
    "    if verbose:\n",
    "        print('eg.', ngram_sequences[0][:PRINT_LIMIT])\n",
    "    \n",
    "    total_ngrams = 0\n",
    "    for sequence in ngram_sequences:\n",
    "        total_ngrams += len(sequence)\n",
    "    print(f'{\"Total ngram sequences:\":50}{len(ngram_sequences)}\\n{\"Total ngrams:\":50}{total_ngrams}')\n",
    "        \n",
    "    # language model\n",
    "    print(\"Creating language model\")\n",
    "    model = Laplace(n_value)\n",
    "    model.fit(ngram_sequences, vocab)\n",
    "    print(f'{\"Model vocab size:\":50}{len(model.vocab)}')\n",
    "    # print(f\"Grand total number of ngrams stored:\\t{model.N()}\")\n",
    "    print(f'{\"Total n-grams of size \"+str(n_value)+\" in model:\":50}{len(model.counts[n_value].items())}')\n",
    "    \n",
    "    sequence_scores = []\n",
    "    sequence_token_scores = []\n",
    "    for ngram_sequence in ngram_sequences:\n",
    "        sequence_score = 0\n",
    "        sequence_token_score = []\n",
    "        for group in ngram_sequence:\n",
    "            score = model.logscore(group[-1], group[:-1])\n",
    "            sequence_score += score\n",
    "            sequence_token_score.append(score)\n",
    "        # sequence_scores.append(sequence_score)\n",
    "        sequence_scores.append(sequence_score/len(ngram_sequence))\n",
    "        sequence_token_scores.append(sequence_token_score)\n",
    "        \n",
    "    return {\n",
    "        'padded_sequences': padded_sequences,\n",
    "        'vocabulary': vocab,\n",
    "        'ngram_sequences': ngram_sequences,\n",
    "        'model': model,\n",
    "        'sequence_scores': sequence_scores,\n",
    "        'sequence_token_scores': sequence_token_scores\n",
    "    }    "
   ]
  },
  {
   "cell_type": "code",
   "execution_count": 36,
   "metadata": {
    "id": "P8DkYJemDt_T"
   },
   "outputs": [],
   "source": [
    "# def filter_using_token_score(n_value, model, ngram_sequences, log_cutoff, verbose=False):\n",
    "#     # finding suspect ngrams using individual token cutoffs\n",
    "    \n",
    "#     print('Filtering sequences based on individual token scores')\n",
    "#     suspect_entries = []\n",
    "#     suspect_sequences = []\n",
    "#     for ngram_sequence in ngram_sequences:\n",
    "#         is_suspect = False\n",
    "#         for group in ngram_sequence:\n",
    "#             score = model.logscore(group[-1], group[:-1])\n",
    "#             if score < log_cutoff:\n",
    "#                 is_suspect = True\n",
    "#                 suspect_entries.append({\n",
    "#                     'token': group[-1],\n",
    "#                     'context': group[:-1],\n",
    "#                     'sequence': ngram_sequence,\n",
    "#                     'score': score\n",
    "#                 })\n",
    "#         if is_suspect:\n",
    "#             suspect_sequences.append(ngram_sequence)\n",
    "#     if verbose:\n",
    "#         print(f'Suspect sequences based on individual token scores:\\t{len(suspect_sequences)}/{len(ngram_sequences)}')\n",
    "#     return suspect_entries, suspect_sequences"
   ]
  },
  {
   "cell_type": "code",
   "execution_count": 37,
   "metadata": {
    "id": "yvxDZFoSDvmb"
   },
   "outputs": [],
   "source": [
    "def filter_using_sequence_score(n_value, ngram_sequences, sequence_scores, log_cutoff, verbose=False):\n",
    "    # finding suspect sequences using sequence cutoffs\n",
    "    \n",
    "    print('Filtering sequences based on sequence scores')\n",
    "    suspect_indexes = []\n",
    "    for i in range(len(ngram_sequences)):\n",
    "        if sequence_scores[i] < log_cutoff:\n",
    "            suspect_indexes.append(i)\n",
    "    if verbose:\n",
    "        print(f'{\"Suspect sequences based on sequence scores:\":50}{len(suspect_indexes)}/{len(ngram_sequences)}')\n",
    "    return suspect_indexes"
   ]
  },
  {
   "cell_type": "code",
   "execution_count": 38,
   "metadata": {
    "id": "9LY-Qk9NDxDm"
   },
   "outputs": [],
   "source": [
    "def plot_continuous_freq_dist(values, xlabel, ylabel, title, bins=50, cutoff=None):\n",
    "    # plot freq distribution for cutoff visualization\n",
    "    plt.rcParams.update({'figure.figsize':(10, 3)})\n",
    "    plt.hist(values, bins=bins)\n",
    "    if cutoff:\n",
    "        plt.axvline(x=cutoff, color='red')\n",
    "    plt.gca().set(title=title, xlabel=xlabel, ylabel=ylabel);\n",
    "    plt.show()"
   ]
  },
  {
   "cell_type": "code",
   "execution_count": 39,
   "metadata": {
    "id": "_g32uNTFDyXp"
   },
   "outputs": [],
   "source": [
    "def get_sequence_score_cutoff(sequence_scores, alpha=0.05):\n",
    "    scores = sequence_scores.copy()\n",
    "    n = len(scores)\n",
    "    scores.sort()\n",
    "    index = max(0, min(n-1, int(n*alpha)))\n",
    "    return scores[index]"
   ]
  },
  {
   "cell_type": "code",
   "execution_count": 40,
   "metadata": {
    "id": "euMAzvclDzDe"
   },
   "outputs": [],
   "source": [
    "n_values = [i+1 for i in range(5)]\n",
    "# token_log_cutoffs = {1: -30, 2: -21, 3: -30, 4: -25}\n",
    "# alpha: used to calculate score cutoff\n",
    "alpha = 0.02\n",
    "pos_type = 'spacy'"
   ]
  },
  {
   "cell_type": "code",
   "execution_count": 41,
   "metadata": {
    "id": "IdVFz_urD0if",
    "scrolled": false
   },
   "outputs": [],
   "source": [
    "def train_lm(n_values, train_corpus, alpha):\n",
    "    ngram_data = dict()\n",
    "    for n_value in n_values:\n",
    "        print(f\"Training {n_value}-gram model\")\n",
    "        ngram_model_info = train_ngram_model(n_value, train_corpus, verbose=False)\n",
    "        ngram_data[n_value] = ngram_model_info\n",
    "\n",
    "        # filter_using_token_score(n_value, ngram_model_info['model'], ngram_model_info['ngram_sequences'], token_log_cutoffs[n_value], verbose=True)\n",
    "\n",
    "        sequence_score_log_cutoff = get_sequence_score_cutoff(ngram_model_info['sequence_scores'], alpha=alpha)\n",
    "        filter_using_sequence_score(n_value, ngram_model_info['ngram_sequences'], ngram_model_info['sequence_scores'], \n",
    "                                    sequence_score_log_cutoff, verbose=True)\n",
    "        print(f'{\"Sequence score cutoff:\":50}{sequence_score_log_cutoff}\\n')\n",
    "        ngram_data[n_value]['score_cutoff'] = sequence_score_log_cutoff\n",
    "\n",
    "        plot_continuous_freq_dist(ngram_model_info['sequence_scores'], xlabel='Sequence score', \n",
    "                                  ylabel='Frequency', title='Sequence score frequency distribution', bins=200, \n",
    "                                  cutoff=sequence_score_log_cutoff)\n",
    "    return ngram_data"
   ]
  },
  {
   "cell_type": "code",
   "execution_count": 42,
   "metadata": {
    "scrolled": true
   },
   "outputs": [
    {
     "name": "stdout",
     "output_type": "stream",
     "text": [
      "Training 1-gram model\n",
      "Sequences in corpus:                              22924\n",
      "Total tokens in corpus:                           470066\n",
      "Padding sequences with <s> and </s> tokens\n",
      "Creating vocabulary\n",
      "Flattened sequence size                           470066\n",
      "Flattened sequence set size                       33978\n",
      "Vocabulary with <UNK> cutoff size                 17641\n",
      "Creating n-grams\n",
      "Total ngram sequences:                            22924\n",
      "Total ngrams:                                     470066\n",
      "Creating language model\n",
      "Model vocab size:                                 17642\n",
      "Total n-grams of size 1 in model:                 17641\n",
      "Filtering sequences based on sequence scores\n",
      "Suspect sequences based on sequence scores:       458/22924\n",
      "Sequence score cutoff:                            -11.539522886443242\n",
      "\n"
     ]
    },
    {
     "data": {
      "image/png": "[encoded data removed]",
      "text/plain": [
       "<Figure size 720x216 with 1 Axes>"
      ]
     },
     "metadata": {
      "needs_background": "light"
     },
     "output_type": "display_data"
    },
    {
     "name": "stdout",
     "output_type": "stream",
     "text": [
      "Training 2-gram model\n",
      "Sequences in corpus:                              22924\n",
      "Total tokens in corpus:                           470066\n",
      "Padding sequences with <s> and </s> tokens\n",
      "Creating vocabulary\n",
      "Flattened sequence size                           515914\n",
      "Flattened sequence set size                       33980\n",
      "Vocabulary with <UNK> cutoff size                 17643\n",
      "Creating n-grams\n",
      "Total ngram sequences:                            22924\n",
      "Total ngrams:                                     492990\n",
      "Creating language model\n",
      "Model vocab size:                                 17644\n",
      "Total n-grams of size 2 in model:                 17642\n",
      "Filtering sequences based on sequence scores\n",
      "Suspect sequences based on sequence scores:       458/22924\n",
      "Sequence score cutoff:                            -11.62841227699771\n",
      "\n"
     ]
    },
    {
     "data": {
      "image/png": "[encoded data removed]",
      "text/plain": [
       "<Figure size 720x216 with 1 Axes>"
      ]
     },
     "metadata": {
      "needs_background": "light"
     },
     "output_type": "display_data"
    },
    {
     "name": "stdout",
     "output_type": "stream",
     "text": [
      "Training 3-gram model\n",
      "Sequences in corpus:                              22924\n",
      "Total tokens in corpus:                           470066\n",
      "Padding sequences with <s> and </s> tokens\n",
      "Creating vocabulary\n",
      "Flattened sequence size                           561762\n",
      "Flattened sequence set size                       33980\n",
      "Vocabulary with <UNK> cutoff size                 17643\n",
      "Creating n-grams\n",
      "Total ngram sequences:                            22924\n",
      "Total ngrams:                                     515914\n",
      "Creating language model\n",
      "Model vocab size:                                 17644\n",
      "Total n-grams of size 3 in model:                 195639\n",
      "Filtering sequences based on sequence scores\n",
      "Suspect sequences based on sequence scores:       458/22924\n",
      "Sequence score cutoff:                            -12.540296373269456\n",
      "\n"
     ]
    },
    {
     "data": {
      "image/png": "[encoded data removed]",
      "text/plain": [
       "<Figure size 720x216 with 1 Axes>"
      ]
     },
     "metadata": {
      "needs_background": "light"
     },
     "output_type": "display_data"
    },
    {
     "name": "stdout",
     "output_type": "stream",
     "text": [
      "Training 4-gram model\n",
      "Sequences in corpus:                              22924\n",
      "Total tokens in corpus:                           470066\n",
      "Padding sequences with <s> and </s> tokens\n",
      "Creating vocabulary\n",
      "Flattened sequence size                           607610\n",
      "Flattened sequence set size                       33980\n",
      "Vocabulary with <UNK> cutoff size                 17643\n",
      "Creating n-grams\n",
      "Total ngram sequences:                            22924\n",
      "Total ngrams:                                     538838\n",
      "Creating language model\n",
      "Model vocab size:                                 17644\n",
      "Total n-grams of size 4 in model:                 367687\n",
      "Filtering sequences based on sequence scores\n",
      "Suspect sequences based on sequence scores:       458/22924\n",
      "Sequence score cutoff:                            -12.748730388736163\n",
      "\n"
     ]
    },
    {
     "data": {
      "image/png": "[encoded data removed]",
      "text/plain": [
       "<Figure size 720x216 with 1 Axes>"
      ]
     },
     "metadata": {
      "needs_background": "light"
     },
     "output_type": "display_data"
    },
    {
     "name": "stdout",
     "output_type": "stream",
     "text": [
      "Training 5-gram model\n",
      "Sequences in corpus:                              22924\n",
      "Total tokens in corpus:                           470066\n",
      "Padding sequences with <s> and </s> tokens\n",
      "Creating vocabulary\n",
      "Flattened sequence size                           653458\n",
      "Flattened sequence set size                       33980\n",
      "Vocabulary with <UNK> cutoff size                 17643\n",
      "Creating n-grams\n",
      "Total ngram sequences:                            22924\n",
      "Total ngrams:                                     561762\n",
      "Creating language model\n",
      "Model vocab size:                                 17644\n",
      "Total n-grams of size 5 in model:                 441471\n",
      "Filtering sequences based on sequence scores\n",
      "Suspect sequences based on sequence scores:       458/22924\n",
      "Sequence score cutoff:                            -12.796833244434604\n",
      "\n"
     ]
    },
    {
     "data": {
      "image/png": "[encoded data removed]",
      "text/plain": [
       "<Figure size 720x216 with 1 Axes>"
      ]
     },
     "metadata": {
      "needs_background": "light"
     },
     "output_type": "display_data"
    }
   ],
   "source": [
    "# Text n-gram model\n",
    "ngram_data_text = train_lm(n_values, tokenized_clean_text_list, alpha=alpha)"
   ]
  },
  {
   "cell_type": "code",
   "execution_count": 43,
   "metadata": {
    "scrolled": true
   },
   "outputs": [
    {
     "name": "stdout",
     "output_type": "stream",
     "text": [
      "Replacing tokens with POS tags using spacy\n",
      "Training 1-gram model\n",
      "Sequences in corpus:                              22924\n",
      "Total tokens in corpus:                           483799\n",
      "Padding sequences with <s> and </s> tokens\n",
      "Creating vocabulary\n",
      "Flattened sequence size                           483799\n",
      "Flattened sequence set size                       48\n",
      "Vocabulary with <UNK> cutoff size                 47\n",
      "Creating n-grams\n",
      "Total ngram sequences:                            22924\n",
      "Total ngrams:                                     483799\n",
      "Creating language model\n",
      "Model vocab size:                                 48\n",
      "Total n-grams of size 1 in model:                 47\n",
      "Filtering sequences based on sequence scores\n",
      "Suspect sequences based on sequence scores:       458/22924\n",
      "Sequence score cutoff:                            -5.504664788815441\n",
      "\n"
     ]
    },
    {
     "data": {
      "image/png": "[encoded data removed]",
      "text/plain": [
       "<Figure size 720x216 with 1 Axes>"
      ]
     },
     "metadata": {
      "needs_background": "light"
     },
     "output_type": "display_data"
    },
    {
     "name": "stdout",
     "output_type": "stream",
     "text": [
      "Training 2-gram model\n",
      "Sequences in corpus:                              22924\n",
      "Total tokens in corpus:                           483799\n",
      "Padding sequences with <s> and </s> tokens\n",
      "Creating vocabulary\n",
      "Flattened sequence size                           529647\n",
      "Flattened sequence set size                       50\n",
      "Vocabulary with <UNK> cutoff size                 49\n",
      "Creating n-grams\n",
      "Total ngram sequences:                            22924\n",
      "Total ngrams:                                     506723\n",
      "Creating language model\n",
      "Model vocab size:                                 50\n",
      "Total n-grams of size 2 in model:                 48\n",
      "Filtering sequences based on sequence scores\n",
      "Suspect sequences based on sequence scores:       458/22924\n",
      "Sequence score cutoff:                            -4.29918737232827\n",
      "\n"
     ]
    },
    {
     "data": {
      "image/png": "[encoded data removed]",
      "text/plain": [
       "<Figure size 720x216 with 1 Axes>"
      ]
     },
     "metadata": {
      "needs_background": "light"
     },
     "output_type": "display_data"
    },
    {
     "name": "stdout",
     "output_type": "stream",
     "text": [
      "Training 3-gram model\n",
      "Sequences in corpus:                              22924\n",
      "Total tokens in corpus:                           483799\n",
      "Padding sequences with <s> and </s> tokens\n",
      "Creating vocabulary\n",
      "Flattened sequence size                           575495\n",
      "Flattened sequence set size                       50\n",
      "Vocabulary with <UNK> cutoff size                 49\n",
      "Creating n-grams\n",
      "Total ngram sequences:                            22924\n",
      "Total ngrams:                                     529647\n",
      "Creating language model\n",
      "Model vocab size:                                 50\n",
      "Total n-grams of size 3 in model:                 1404\n",
      "Filtering sequences based on sequence scores\n",
      "Suspect sequences based on sequence scores:       458/22924\n",
      "Sequence score cutoff:                            -3.7866925040498063\n",
      "\n"
     ]
    },
    {
     "data": {
      "image/png": "[encoded data removed]",
      "text/plain": [
       "<Figure size 720x216 with 1 Axes>"
      ]
     },
     "metadata": {
      "needs_background": "light"
     },
     "output_type": "display_data"
    },
    {
     "name": "stdout",
     "output_type": "stream",
     "text": [
      "Training 4-gram model\n",
      "Sequences in corpus:                              22924\n",
      "Total tokens in corpus:                           483799\n",
      "Padding sequences with <s> and </s> tokens\n",
      "Creating vocabulary\n",
      "Flattened sequence size                           621343\n",
      "Flattened sequence set size                       50\n",
      "Vocabulary with <UNK> cutoff size                 49\n",
      "Creating n-grams\n",
      "Total ngram sequences:                            22924\n",
      "Total ngrams:                                     552571\n",
      "Creating language model\n",
      "Model vocab size:                                 50\n",
      "Total n-grams of size 4 in model:                 14490\n",
      "Filtering sequences based on sequence scores\n",
      "Suspect sequences based on sequence scores:       458/22924\n",
      "Sequence score cutoff:                            -3.7550120688631248\n",
      "\n"
     ]
    },
    {
     "data": {
      "image/png": "[encoded data removed]",
      "text/plain": [
       "<Figure size 720x216 with 1 Axes>"
      ]
     },
     "metadata": {
      "needs_background": "light"
     },
     "output_type": "display_data"
    },
    {
     "name": "stdout",
     "output_type": "stream",
     "text": [
      "Training 5-gram model\n",
      "Sequences in corpus:                              22924\n",
      "Total tokens in corpus:                           483799\n",
      "Padding sequences with <s> and </s> tokens\n",
      "Creating vocabulary\n",
      "Flattened sequence size                           667191\n",
      "Flattened sequence set size                       50\n",
      "Vocabulary with <UNK> cutoff size                 49\n",
      "Creating n-grams\n",
      "Total ngram sequences:                            22924\n",
      "Total ngrams:                                     575495\n",
      "Creating language model\n",
      "Model vocab size:                                 50\n",
      "Total n-grams of size 5 in model:                 63635\n",
      "Filtering sequences based on sequence scores\n",
      "Suspect sequences based on sequence scores:       458/22924\n",
      "Sequence score cutoff:                            -3.942310221308069\n",
      "\n"
     ]
    },
    {
     "data": {
      "image/png": "[encoded data removed]",
      "text/plain": [
       "<Figure size 720x216 with 1 Axes>"
      ]
     },
     "metadata": {
      "needs_background": "light"
     },
     "output_type": "display_data"
    }
   ],
   "source": [
    "# POS tag n-gram model\n",
    "clean_pos_tag_list = convert_to_pos_tags(tokenized_clean_text_list, pos_type=pos_type)\n",
    "ngram_data_pos = train_lm(n_values, clean_pos_tag_list, alpha=alpha)"
   ]
  },
  {
   "cell_type": "code",
   "execution_count": 44,
   "metadata": {
    "scrolled": true
   },
   "outputs": [
    {
     "data": {
      "text/html": [
       "<div>\n",
       "<style scoped>\n",
       "    .dataframe tbody tr th:only-of-type {\n",
       "        vertical-align: middle;\n",
       "    }\n",
       "\n",
       "    .dataframe tbody tr th {\n",
       "        vertical-align: top;\n",
       "    }\n",
       "\n",
       "    .dataframe thead th {\n",
       "        text-align: right;\n",
       "    }\n",
       "</style>\n",
       "<table border=\"1\" class=\"dataframe\">\n",
       "  <thead>\n",
       "    <tr style=\"text-align: right;\">\n",
       "      <th></th>\n",
       "      <th>N-gram</th>\n",
       "      <th>Context</th>\n",
       "      <th>Token</th>\n",
       "      <th>Count</th>\n",
       "      <th>Score</th>\n",
       "      <th>Log Score</th>\n",
       "    </tr>\n",
       "  </thead>\n",
       "  <tbody>\n",
       "    <tr>\n",
       "      <th>0</th>\n",
       "      <td>1</td>\n",
       "      <td></td>\n",
       "      <td>&lt;s&gt;</td>\n",
       "      <td>0</td>\n",
       "      <td>0.033502</td>\n",
       "      <td>-4.899626</td>\n",
       "    </tr>\n",
       "    <tr>\n",
       "      <th>1</th>\n",
       "      <td>1</td>\n",
       "      <td></td>\n",
       "      <td>of</td>\n",
       "      <td>14508</td>\n",
       "      <td>0.029749</td>\n",
       "      <td>-5.070998</td>\n",
       "    </tr>\n",
       "    <tr>\n",
       "      <th>2</th>\n",
       "      <td>1</td>\n",
       "      <td></td>\n",
       "      <td>the</td>\n",
       "      <td>25242</td>\n",
       "      <td>0.051758</td>\n",
       "      <td>-4.272062</td>\n",
       "    </tr>\n",
       "    <tr>\n",
       "      <th>3</th>\n",
       "      <td>1</td>\n",
       "      <td></td>\n",
       "      <td>The</td>\n",
       "      <td>2859</td>\n",
       "      <td>0.005864</td>\n",
       "      <td>-7.413859</td>\n",
       "    </tr>\n",
       "    <tr>\n",
       "      <th>4</th>\n",
       "      <td>1</td>\n",
       "      <td></td>\n",
       "      <td>&lt;UNK&gt;</td>\n",
       "      <td>16338</td>\n",
       "      <td>0.033502</td>\n",
       "      <td>-4.899626</td>\n",
       "    </tr>\n",
       "    <tr>\n",
       "      <th>5</th>\n",
       "      <td>2</td>\n",
       "      <td>&lt;s&gt;</td>\n",
       "      <td>The</td>\n",
       "      <td>2503</td>\n",
       "      <td>0.061724</td>\n",
       "      <td>-4.018036</td>\n",
       "    </tr>\n",
       "    <tr>\n",
       "      <th>6</th>\n",
       "      <td>2</td>\n",
       "      <td>of</td>\n",
       "      <td>the</td>\n",
       "      <td>3844</td>\n",
       "      <td>0.119588</td>\n",
       "      <td>-3.063853</td>\n",
       "    </tr>\n",
       "    <tr>\n",
       "      <th>7</th>\n",
       "      <td>2</td>\n",
       "      <td>is</td>\n",
       "      <td>a</td>\n",
       "      <td>340</td>\n",
       "      <td>0.015698</td>\n",
       "      <td>-5.993308</td>\n",
       "    </tr>\n",
       "    <tr>\n",
       "      <th>8</th>\n",
       "      <td>3</td>\n",
       "      <td>This is</td>\n",
       "      <td>a</td>\n",
       "      <td>13</td>\n",
       "      <td>0.000789</td>\n",
       "      <td>-10.307201</td>\n",
       "    </tr>\n",
       "    <tr>\n",
       "      <th>9</th>\n",
       "      <td>3</td>\n",
       "      <td>this is</td>\n",
       "      <td>a</td>\n",
       "      <td>11</td>\n",
       "      <td>0.000677</td>\n",
       "      <td>-10.528698</td>\n",
       "    </tr>\n",
       "    <tr>\n",
       "      <th>10</th>\n",
       "      <td>3</td>\n",
       "      <td>&lt;s&gt; &lt;s&gt;</td>\n",
       "      <td>The</td>\n",
       "      <td>2503</td>\n",
       "      <td>0.061724</td>\n",
       "      <td>-4.018036</td>\n",
       "    </tr>\n",
       "    <tr>\n",
       "      <th>11</th>\n",
       "      <td>3</td>\n",
       "      <td>What is</td>\n",
       "      <td>&lt;UNK&gt;</td>\n",
       "      <td>1</td>\n",
       "      <td>0.000113</td>\n",
       "      <td>-13.109014</td>\n",
       "    </tr>\n",
       "  </tbody>\n",
       "</table>\n",
       "</div>"
      ],
      "text/plain": [
       "   N-gram  Context  Token  Count     Score  Log Score\n",
       "0       1             <s>      0  0.033502  -4.899626\n",
       "1       1              of  14508  0.029749  -5.070998\n",
       "2       1             the  25242  0.051758  -4.272062\n",
       "3       1             The   2859  0.005864  -7.413859\n",
       "4       1           <UNK>  16338  0.033502  -4.899626\n",
       "5       2      <s>    The   2503  0.061724  -4.018036\n",
       "6       2       of    the   3844  0.119588  -3.063853\n",
       "7       2       is      a    340  0.015698  -5.993308\n",
       "8       3  This is      a     13  0.000789 -10.307201\n",
       "9       3  this is      a     11  0.000677 -10.528698\n",
       "10      3  <s> <s>    The   2503  0.061724  -4.018036\n",
       "11      3  What is  <UNK>      1  0.000113 -13.109014"
      ]
     },
     "metadata": {},
     "output_type": "display_data"
    }
   ],
   "source": [
    "# Print sample information learned from model\n",
    "\n",
    "unigram_list = ['<s>', 'of', 'the', 'The', '<UNK>']\n",
    "# [token, context]\n",
    "ngram_list = [\n",
    "    ['The', '<s>'], \n",
    "    ['the', 'of'], \n",
    "    ['a', 'is'],\n",
    "    ['a', 'This is'],\n",
    "    ['a', 'this is'],\n",
    "    ['The', '<s> <s>'], \n",
    "    ['<UNK>', 'What is']\n",
    "]\n",
    "\n",
    "heading_df = ['N-gram', 'Context', 'Token', 'Count', 'Score', 'Log Score']\n",
    "list_to_df = []\n",
    "for token in unigram_list:\n",
    "    list_to_df.append([\n",
    "        '1', '', token, \n",
    "        ngram_data_text[1]['model'].counts[token], \n",
    "        ngram_data_text[1]['model'].score(token), \n",
    "        ngram_data_text[1]['model'].logscore(token)\n",
    "    ])\n",
    "for token in ngram_list:\n",
    "    n_value = len(token[1].split())+1\n",
    "    if n_value not in n_values:\n",
    "        raise ValueError(f'{n_value}-gram model not available for the given context size {n_value-1} of \"{token[1]}\".')\n",
    "    list_to_df.append([\n",
    "        n_value, token[1], token[0], \n",
    "        ngram_data_text[n_value]['model'].counts[token[1].split()][token[0]], \n",
    "        ngram_data_text[n_value]['model'].score(token[0], token[1].split()), \n",
    "        ngram_data_text[n_value]['model'].logscore(token[0], token[1].split())\n",
    "    ])\n",
    "\n",
    "display(pd.DataFrame(list_to_df, columns = heading_df))"
   ]
  },
  {
   "cell_type": "markdown",
   "metadata": {
    "id": "S0DpH1t7D7kz"
   },
   "source": [
    "## Model Evaluation"
   ]
  },
  {
   "cell_type": "markdown",
   "metadata": {
    "id": "nzobZsrID_qP"
   },
   "source": [
    "### Shannon Visualization"
   ]
  },
  {
   "cell_type": "code",
   "execution_count": 45,
   "metadata": {},
   "outputs": [],
   "source": [
    "def get_sentence_from_tokens(tokens):\n",
    "    filtered_tokens = []\n",
    "    for token in tokens:\n",
    "        if token in ['<s>', '</s>']:\n",
    "            continue\n",
    "        else:\n",
    "            filtered_tokens.append(token)\n",
    "    return ' '.join(filtered_tokens)"
   ]
  },
  {
   "cell_type": "code",
   "execution_count": 46,
   "metadata": {
    "id": "A0fn7GMBD-BX"
   },
   "outputs": [],
   "source": [
    "from nltk.probability import MLEProbDist\n",
    "\n",
    "def shannon_visualization(n_value, model, max_len=50, verbose=False):\n",
    "    sentence = \"\"\n",
    "    if n_value == 1:\n",
    "        # Unigram\n",
    "        tokens = model.generate(max_len, random_seed=None)\n",
    "        sentence = get_sentence_from_tokens(tokens)\n",
    "        if verbose:\n",
    "            print('1-gram:', sentence)\n",
    "    else:\n",
    "        if verbose:\n",
    "            print(f'{n_value}-gram: ', end='')\n",
    "        cur_tokens = ['<s>']*(n_value-1)\n",
    "        sequence = []\n",
    "        for _ in range(max_len):\n",
    "            freq_dist = model.counts[cur_tokens]\n",
    "            prob_dist = MLEProbDist(freq_dist)\n",
    "            next_token = prob_dist.generate()\n",
    "            if next_token == '</s>':\n",
    "                break\n",
    "            sequence.append(next_token)\n",
    "            if verbose:\n",
    "                print(next_token, end=' ')\n",
    "            cur_tokens.pop(0)\n",
    "            cur_tokens.append(next_token)\n",
    "        sentence = ' '.join(sequence)\n",
    "        if verbose:\n",
    "            print()\n",
    "    return sentence"
   ]
  },
  {
   "cell_type": "code",
   "execution_count": 47,
   "metadata": {
    "id": "ypefYfieEJCK",
    "scrolled": false
   },
   "outputs": [
    {
     "name": "stdout",
     "output_type": "stream",
     "text": [
      "1-gram\n",
      "======\n",
      "too in prepared Af with felt Indonesia the or and being has give so reported aids could the cut , visiting percentage , experimentation trials is you , ! and , he ratio right than inside for worked means time lighted on words for the aloud surrendered writing he but\n",
      "\n",
      "2-gram\n",
      "======\n",
      "2 ) in the proletariat by a boot of <UNK> .\n",
      "\n",
      "3-gram\n",
      "======\n",
      "The body caressed through my discovery that many industries can continue to exceed such <UNK> love , faith , and <UNK> with oils from <UNK> .\n",
      "\n",
      "4-gram\n",
      "======\n",
      "They began to meet in the evenings and carry forward various discussions they felt not fully enough covered in class .\n",
      "\n",
      "5-gram\n",
      "======\n",
      "Shell people resembled mature <UNK> in size whatever their <UNK> <UNK> were , but the <UNK> leaders went out of their way to be openly <UNK> to Khrushchev , calling him a <UNK> , a <UNK> and <UNK> manner .\n",
      "\n"
     ]
    }
   ],
   "source": [
    "for n_value in n_values:\n",
    "    sent = shannon_visualization(n_value, ngram_data_text[n_value]['model'], 50, verbose=False)\n",
    "    print(f'{n_value}-gram')\n",
    "    print(f'======')\n",
    "    print(sent, end='\\n\\n')"
   ]
  },
  {
   "cell_type": "markdown",
   "metadata": {},
   "source": [
    "## Evaluation functions"
   ]
  },
  {
   "cell_type": "code",
   "execution_count": 48,
   "metadata": {
    "id": "VyrLw9w4EOXg"
   },
   "outputs": [],
   "source": [
    "def analyse_test_corpus(tokenized_corpus, n_value, model, verbose=False):\n",
    "    \n",
    "    if verbose:\n",
    "        print(f'{\"Sequences in corpus:\":50}{len(tokenized_corpus)}')\n",
    "    total_tokens = 0\n",
    "    for sequence in tokenized_corpus:\n",
    "        total_tokens += len(sequence)\n",
    "    if verbose:\n",
    "        print(f'{\"Total tokens in corpus:\":50}{total_tokens}')\n",
    "    \n",
    "    # padding <s> and </s>\n",
    "    if verbose:\n",
    "        print(\"Padding sequences with <s> and </s> tokens\")\n",
    "    padded_sequences = []\n",
    "    total_tokens_with_padding = 0\n",
    "    for i in range(len(tokenized_corpus)):\n",
    "        padded_tokens = list(pad_sequence(tokenized_corpus[i],\n",
    "                                          pad_left=True, left_pad_symbol=\"<s>\",\n",
    "                                          pad_right=True, right_pad_symbol=\"</s>\",\n",
    "                                          n=n_value))\n",
    "        padded_sequences.append(padded_tokens)\n",
    "        total_tokens_with_padding += len(padded_tokens)\n",
    "    # if verbose:\n",
    "    #     print('eg.', padded_sequences[0])\n",
    "    \n",
    "    # grouping into group size of `n_value`\n",
    "    if verbose:\n",
    "        print(\"Creating n-grams\")\n",
    "    ngram_sequences = []\n",
    "    for text in padded_sequences:\n",
    "        ngram_sequences.append(list(ngrams(text, n=n_value)))\n",
    "    # if verbose:\n",
    "    #     print('eg.', ngram_sequences[0][:PRINT_LIMIT])\n",
    "    \n",
    "    total_ngrams = 0\n",
    "    for sequence in ngram_sequences:\n",
    "        total_ngrams += len(sequence)\n",
    "    if verbose:\n",
    "        print(f'{\"Total ngram sequences:\":50}{len(ngram_sequences)}\\n{\"Total ngrams:\":50}{total_ngrams}')    \n",
    "    \n",
    "    \n",
    "    sequence_scores = []\n",
    "    sequence_token_scores = []\n",
    "    total_score = 0\n",
    "    for ngram_sequence in ngram_sequences:\n",
    "        sequence_score = 0\n",
    "        sequence_token_score = []\n",
    "        for group in ngram_sequence:\n",
    "            score = model.logscore(group[-1], group[:-1])\n",
    "            sequence_score += score\n",
    "            sequence_token_score.append(score)\n",
    "        # sequence_scores.append(sequence_score)\n",
    "        sequence_scores.append(sequence_score/len(ngram_sequence))\n",
    "        total_score += sequence_score\n",
    "        sequence_token_scores.append(sequence_token_score)\n",
    "    log_perplexity = -total_score/total_tokens_with_padding\n",
    "    \n",
    "    return {\n",
    "        'padded_sequences': padded_sequences,\n",
    "        'ngram_sequences': ngram_sequences,\n",
    "        'sequence_scores': sequence_scores,\n",
    "        'map_to_corpus_index': map_to_corpus_index,\n",
    "        'perplexity': log_perplexity,\n",
    "        'sequence_token_scores': sequence_token_scores\n",
    "    }    "
   ]
  },
  {
   "cell_type": "code",
   "execution_count": 49,
   "metadata": {},
   "outputs": [],
   "source": [
    "def test_lm(test_corpus, n_values, ngram_data):\n",
    "    ngram_results = dict()\n",
    "    for n_value in n_values:\n",
    "        print(f\"Testing {n_value}-gram model\")\n",
    "        ngram_test_info = analyse_test_corpus(test_corpus, n_value, ngram_data[n_value]['model'], verbose=True)\n",
    "        plot_continuous_freq_dist(ngram_test_info['sequence_scores'], xlabel='Sequence score', \n",
    "                                  ylabel='Frequency', title='Sequence score frequency distribution', bins=200,\n",
    "                                  cutoff=ngram_data[n_value]['score_cutoff'])\n",
    "        # filter_using_token_score(n_value, ngram_data[n_value]['model'], ngram_test_info['ngram_sequences'], token_log_cutoffs[n_value], verbose=True)\n",
    "        suspect_sequences_indexes = filter_using_sequence_score(n_value, \n",
    "                                                   ngram_test_info['ngram_sequences'], \n",
    "                                                   ngram_test_info['sequence_scores'], \n",
    "                                                   ngram_data[n_value]['score_cutoff'], verbose=True)\n",
    "        suspect_corpus_index = []\n",
    "        for index in suspect_sequences_indexes:\n",
    "            suspect_corpus_index.append(ngram_test_info['map_to_corpus_index'][index])\n",
    "        suspect_corpus_index = set(suspect_corpus_index)\n",
    "\n",
    "        ngram_results[n_value] = dict()\n",
    "        ngram_results[n_value] = {\n",
    "            'suspect_corpus_index': suspect_corpus_index,\n",
    "            'padded_sequences': ngram_test_info['padded_sequences'],\n",
    "            'ngram_sequences': ngram_test_info['ngram_sequences'],\n",
    "            'suspect_sequences_index': suspect_sequences_indexes,\n",
    "            'map_to_corpus_index': ngram_test_info['map_to_corpus_index'],\n",
    "            'log_perplexity': ngram_test_info['perplexity'],\n",
    "            'sequence_scores': ngram_test_info['sequence_scores'],\n",
    "            'sequence_token_scores': ngram_test_info['sequence_token_scores']\n",
    "        }\n",
    "        print()\n",
    "    return ngram_results"
   ]
  },
  {
   "cell_type": "code",
   "execution_count": 50,
   "metadata": {
    "id": "m9DSjNE5EVCU"
   },
   "outputs": [],
   "source": [
    "def print_stats(text_list, n_values, ngram_results, indexes=None):\n",
    "    for n_value in n_values:\n",
    "        if indexes is None:\n",
    "            continue\n",
    "        elif indexes == 'all':\n",
    "            print(f'{n_value}-gram')\n",
    "            for index in range(len(text_list)):\n",
    "                print(f\"\\t{index}:\\t{index in ngram_results[n_value]['suspect_corpus_index']}\")\n",
    "        else:\n",
    "            print(f'{n_value}-gram')\n",
    "            for index in indexes:\n",
    "                print(f\"\\t{index}:\\t{index in ngram_results[n_value]['suspect_corpus_index']}\")\n",
    "    \n",
    "    print('Total sequence generated from unknown corpus:\\t', len(ngram_results[n_values[-1]]['padded_sequences']))\n",
    "    print('Total text files in unknown corpus:\\t\\t', len(text_list))\n",
    "    heading_df = ['N-gram', 'Suspect sequences', 'Suspect files']\n",
    "    list_to_df = []\n",
    "    for n_value in n_values:\n",
    "        list_to_df.append([\n",
    "            n_value,\n",
    "            len(ngram_results[n_value]['suspect_sequences_index']), \n",
    "            len(ngram_results[n_value]['suspect_corpus_index'])\n",
    "        ])\n",
    "    display(pd.DataFrame(list_to_df, columns = heading_df))"
   ]
  },
  {
   "cell_type": "markdown",
   "metadata": {},
   "source": [
    "## Log Perplexity Calculation"
   ]
  },
  {
   "cell_type": "code",
   "execution_count": 51,
   "metadata": {},
   "outputs": [],
   "source": [
    "def calculate_log_perplexity(text_dev_list, n_values, ngram_data):   \n",
    "    perplexity = dict()\n",
    "    for n_value in n_values:\n",
    "        ngram_test_info = analyse_test_corpus(tokenized_corpus, n_value, \n",
    "                                              ngram_data[n_value]['model'], verbose=False)\n",
    "        perplexity[n_value] = ngram_test_info['perplexity']\n",
    "    return perplexity"
   ]
  },
  {
   "cell_type": "code",
   "execution_count": 52,
   "metadata": {},
   "outputs": [
    {
     "name": "stdout",
     "output_type": "stream",
     "text": [
      "Text n-gram model log perplexities:\n",
      "\t1-gram perplexity = 9.434752324650805\n",
      "\t2-gram perplexity = 10.07546264078466\n",
      "\t3-gram perplexity = 11.328138494359285\n",
      "\t4-gram perplexity = 11.336285125903515\n",
      "\t5-gram perplexity = 11.067435739363184\n",
      "\n",
      "Replacing tokens with POS tags using spacy\n",
      "POS tag n-gram model log perplexities:\n",
      "\t1-gram perplexity = 15.86727411316513\n",
      "\t2-gram perplexity = 6.054250274397729\n",
      "\t3-gram perplexity = 5.312150841222204\n",
      "\t4-gram perplexity = 5.112297959879304\n",
      "\t5-gram perplexity = 4.948794704626503\n"
     ]
    }
   ],
   "source": [
    "segmented_corpus, map_to_corpus_index = segmentation(clean_text_dev_list)\n",
    "tokenized_corpus = tokenization(segmented_corpus)\n",
    "\n",
    "# Perplexity of clean text dev set\n",
    "print(\"Text n-gram model log perplexities:\")\n",
    "clean_text_dev_perplexity = calculate_log_perplexity(tokenized_corpus, n_values, ngram_data_text)\n",
    "for n_value in n_values:\n",
    "    print(f\"\\t{n_value}-gram perplexity =\", clean_text_dev_perplexity[n_value])\n",
    "\n",
    "print()\n",
    "# Perplexity of clean text POS dev set\n",
    "tokenized_pos_corpus = convert_to_pos_tags(tokenized_corpus, pos_type=pos_type)\n",
    "print(\"POS tag n-gram model log perplexities:\")\n",
    "clean_text_dev_pos_perplexity = calculate_log_perplexity(tokenized_pos_corpus, n_values, ngram_data_pos)\n",
    "for n_value in n_values:\n",
    "    print(f\"\\t{n_value}-gram perplexity =\", clean_text_dev_pos_perplexity[n_value])"
   ]
  },
  {
   "cell_type": "code",
   "execution_count": 53,
   "metadata": {},
   "outputs": [
    {
     "data": {
      "image/png": "[encoded data removed]",
      "text/plain": [
       "<Figure size 720x360 with 1 Axes>"
      ]
     },
     "metadata": {
      "needs_background": "light"
     },
     "output_type": "display_data"
    }
   ],
   "source": [
    "text_n_gram_perplexities = []\n",
    "for n_value in n_values:\n",
    "    text_n_gram_perplexities.append(clean_text_dev_perplexity[n_value])\n",
    "\n",
    "freq_series = pd.Series(text_n_gram_perplexities)\n",
    "x_labels = [f'{n_value}-gram' for n_value in n_values]\n",
    "plt.figure(figsize=(10, 5))\n",
    "ax = freq_series.plot(kind=\"bar\")\n",
    "ax.set_title(\"Comparision of text n-gram model perplexities\")\n",
    "ax.set_xlabel(\"nth-gram\")\n",
    "ax.set_ylabel(\"Perplexity\")\n",
    "ax.set_xticklabels(x_labels)\n",
    "rects = ax.patches\n",
    "plt.show()"
   ]
  },
  {
   "cell_type": "code",
   "execution_count": 54,
   "metadata": {
    "scrolled": false
   },
   "outputs": [
    {
     "data": {
      "image/png": "[encoded data removed]",
      "text/plain": [
       "<Figure size 720x360 with 1 Axes>"
      ]
     },
     "metadata": {
      "needs_background": "light"
     },
     "output_type": "display_data"
    }
   ],
   "source": [
    "pos_perplexities = []\n",
    "for n_value in n_values:\n",
    "    pos_perplexities.append(clean_text_dev_pos_perplexity[n_value])\n",
    "\n",
    "freq_series = pd.Series(pos_perplexities)\n",
    "x_labels = [f'{n_value}-gram' for n_value in n_values]\n",
    "plt.figure(figsize=(10, 5))\n",
    "ax = freq_series.plot(kind=\"bar\")\n",
    "ax.set_title(\"Comparision of POS tag n-gram model perplexities\")\n",
    "ax.set_xlabel(\"nth-gram\")\n",
    "ax.set_ylabel(\"Perplexity\")\n",
    "ax.set_xticklabels(x_labels)\n",
    "rects = ax.patches\n",
    "plt.show()"
   ]
  },
  {
   "cell_type": "markdown",
   "metadata": {
    "id": "Q74Lo3PWEK2U"
   },
   "source": [
    "## Evaluating unknown corpus"
   ]
  },
  {
   "cell_type": "code",
   "execution_count": 55,
   "metadata": {
    "id": "jrNBR7nVES-P"
   },
   "outputs": [],
   "source": [
    "test_text_list = None\n",
    "# test_text_list = [\"In the country there lived a fox. The quick brown fox jump over the fence. \" \\\n",
    "#                    \"Farmer Shaun was terrified.\"]\n",
    "\n",
    "if test_text_list is None:\n",
    "    test_text_list = unknown_text_list\n",
    "segmented_corpus, map_to_corpus_index = segmentation(test_text_list)\n",
    "tokenized_corpus = tokenization(segmented_corpus)"
   ]
  },
  {
   "cell_type": "code",
   "execution_count": 56,
   "metadata": {
    "scrolled": true
   },
   "outputs": [
    {
     "name": "stdout",
     "output_type": "stream",
     "text": [
      "Testing 1-gram model\n",
      "Sequences in corpus:                              30868\n",
      "Total tokens in corpus:                           669821\n",
      "Padding sequences with <s> and </s> tokens\n",
      "Creating n-grams\n",
      "Total ngram sequences:                            30868\n",
      "Total ngrams:                                     669821\n"
     ]
    },
    {
     "data": {
      "image/png": "[encoded data removed]",
      "text/plain": [
       "<Figure size 720x216 with 1 Axes>"
      ]
     },
     "metadata": {
      "needs_background": "light"
     },
     "output_type": "display_data"
    },
    {
     "name": "stdout",
     "output_type": "stream",
     "text": [
      "Filtering sequences based on sequence scores\n",
      "Suspect sequences based on sequence scores:       372/30868\n",
      "\n",
      "Testing 2-gram model\n",
      "Sequences in corpus:                              30868\n",
      "Total tokens in corpus:                           669821\n",
      "Padding sequences with <s> and </s> tokens\n",
      "Creating n-grams\n",
      "Total ngram sequences:                            30868\n",
      "Total ngrams:                                     700689\n"
     ]
    },
    {
     "data": {
      "image/png": "[encoded data removed]",
      "text/plain": [
       "<Figure size 720x216 with 1 Axes>"
      ]
     },
     "metadata": {
      "needs_background": "light"
     },
     "output_type": "display_data"
    },
    {
     "name": "stdout",
     "output_type": "stream",
     "text": [
      "Filtering sequences based on sequence scores\n",
      "Suspect sequences based on sequence scores:       2806/30868\n",
      "\n",
      "Testing 3-gram model\n",
      "Sequences in corpus:                              30868\n",
      "Total tokens in corpus:                           669821\n",
      "Padding sequences with <s> and </s> tokens\n",
      "Creating n-grams\n",
      "Total ngram sequences:                            30868\n",
      "Total ngrams:                                     731557\n"
     ]
    },
    {
     "data": {
      "image/png": "[encoded data removed]",
      "text/plain": [
       "<Figure size 720x216 with 1 Axes>"
      ]
     },
     "metadata": {
      "needs_background": "light"
     },
     "output_type": "display_data"
    },
    {
     "name": "stdout",
     "output_type": "stream",
     "text": [
      "Filtering sequences based on sequence scores\n",
      "Suspect sequences based on sequence scores:       12651/30868\n",
      "\n",
      "Testing 4-gram model\n",
      "Sequences in corpus:                              30868\n",
      "Total tokens in corpus:                           669821\n",
      "Padding sequences with <s> and </s> tokens\n",
      "Creating n-grams\n",
      "Total ngram sequences:                            30868\n",
      "Total ngrams:                                     762425\n"
     ]
    },
    {
     "data": {
      "image/png": "[encoded data removed]",
      "text/plain": [
       "<Figure size 720x216 with 1 Axes>"
      ]
     },
     "metadata": {
      "needs_background": "light"
     },
     "output_type": "display_data"
    },
    {
     "name": "stdout",
     "output_type": "stream",
     "text": [
      "Filtering sequences based on sequence scores\n",
      "Suspect sequences based on sequence scores:       16627/30868\n",
      "\n",
      "Testing 5-gram model\n",
      "Sequences in corpus:                              30868\n",
      "Total tokens in corpus:                           669821\n",
      "Padding sequences with <s> and </s> tokens\n",
      "Creating n-grams\n",
      "Total ngram sequences:                            30868\n",
      "Total ngrams:                                     793293\n"
     ]
    },
    {
     "data": {
      "image/png": "[encoded data removed]",
      "text/plain": [
       "<Figure size 720x216 with 1 Axes>"
      ]
     },
     "metadata": {
      "needs_background": "light"
     },
     "output_type": "display_data"
    },
    {
     "name": "stdout",
     "output_type": "stream",
     "text": [
      "Filtering sequences based on sequence scores\n",
      "Suspect sequences based on sequence scores:       17678/30868\n",
      "\n"
     ]
    }
   ],
   "source": [
    "# Text n-gram model\n",
    "ngram_results_text = test_lm(tokenized_corpus, n_values, ngram_data_text)\n",
    "ngram_results_text['segmented_corpus'] = segmented_corpus"
   ]
  },
  {
   "cell_type": "code",
   "execution_count": 57,
   "metadata": {
    "scrolled": true
   },
   "outputs": [
    {
     "name": "stdout",
     "output_type": "stream",
     "text": [
      "Replacing tokens with POS tags using spacy\n",
      "Testing 1-gram model\n",
      "Sequences in corpus:                              30868\n",
      "Total tokens in corpus:                           676560\n",
      "Padding sequences with <s> and </s> tokens\n",
      "Creating n-grams\n",
      "Total ngram sequences:                            30868\n",
      "Total ngrams:                                     676560\n"
     ]
    },
    {
     "data": {
      "image/png": "[encoded data removed]",
      "text/plain": [
       "<Figure size 720x216 with 1 Axes>"
      ]
     },
     "metadata": {
      "needs_background": "light"
     },
     "output_type": "display_data"
    },
    {
     "name": "stdout",
     "output_type": "stream",
     "text": [
      "Filtering sequences based on sequence scores\n",
      "Suspect sequences based on sequence scores:       692/30868\n",
      "\n",
      "Testing 2-gram model\n",
      "Sequences in corpus:                              30868\n",
      "Total tokens in corpus:                           676560\n",
      "Padding sequences with <s> and </s> tokens\n",
      "Creating n-grams\n",
      "Total ngram sequences:                            30868\n",
      "Total ngrams:                                     707428\n"
     ]
    },
    {
     "data": {
      "image/png": "[encoded data removed]",
      "text/plain": [
       "<Figure size 720x216 with 1 Axes>"
      ]
     },
     "metadata": {
      "needs_background": "light"
     },
     "output_type": "display_data"
    },
    {
     "name": "stdout",
     "output_type": "stream",
     "text": [
      "Filtering sequences based on sequence scores\n",
      "Suspect sequences based on sequence scores:       1269/30868\n",
      "\n",
      "Testing 3-gram model\n",
      "Sequences in corpus:                              30868\n",
      "Total tokens in corpus:                           676560\n",
      "Padding sequences with <s> and </s> tokens\n",
      "Creating n-grams\n",
      "Total ngram sequences:                            30868\n",
      "Total ngrams:                                     738296\n"
     ]
    },
    {
     "data": {
      "image/png": "[encoded data removed]",
      "text/plain": [
       "<Figure size 720x216 with 1 Axes>"
      ]
     },
     "metadata": {
      "needs_background": "light"
     },
     "output_type": "display_data"
    },
    {
     "name": "stdout",
     "output_type": "stream",
     "text": [
      "Filtering sequences based on sequence scores\n",
      "Suspect sequences based on sequence scores:       2049/30868\n",
      "\n",
      "Testing 4-gram model\n",
      "Sequences in corpus:                              30868\n",
      "Total tokens in corpus:                           676560\n",
      "Padding sequences with <s> and </s> tokens\n",
      "Creating n-grams\n",
      "Total ngram sequences:                            30868\n",
      "Total ngrams:                                     769164\n"
     ]
    },
    {
     "data": {
      "image/png": "[encoded data removed]",
      "text/plain": [
       "<Figure size 720x216 with 1 Axes>"
      ]
     },
     "metadata": {
      "needs_background": "light"
     },
     "output_type": "display_data"
    },
    {
     "name": "stdout",
     "output_type": "stream",
     "text": [
      "Filtering sequences based on sequence scores\n",
      "Suspect sequences based on sequence scores:       3702/30868\n",
      "\n",
      "Testing 5-gram model\n",
      "Sequences in corpus:                              30868\n",
      "Total tokens in corpus:                           676560\n",
      "Padding sequences with <s> and </s> tokens\n",
      "Creating n-grams\n",
      "Total ngram sequences:                            30868\n",
      "Total ngrams:                                     800032\n"
     ]
    },
    {
     "data": {
      "image/png": "[encoded data removed]",
      "text/plain": [
       "<Figure size 720x216 with 1 Axes>"
      ]
     },
     "metadata": {
      "needs_background": "light"
     },
     "output_type": "display_data"
    },
    {
     "name": "stdout",
     "output_type": "stream",
     "text": [
      "Filtering sequences based on sequence scores\n",
      "Suspect sequences based on sequence scores:       6945/30868\n",
      "\n"
     ]
    }
   ],
   "source": [
    "# POS tag n-gram model\n",
    "pos_corpus = convert_to_pos_tags(tokenized_corpus, pos_type=pos_type)\n",
    "ngram_results_pos = test_lm(pos_corpus, n_values, ngram_data_pos)\n",
    "ngram_results_pos['segmented_corpus'] = pos_corpus"
   ]
  },
  {
   "cell_type": "code",
   "execution_count": 58,
   "metadata": {
    "id": "1YZSlKc9EWal",
    "scrolled": false
   },
   "outputs": [
    {
     "name": "stdout",
     "output_type": "stream",
     "text": [
      "Total sequence generated from unknown corpus:\t 30868\n",
      "Total text files in unknown corpus:\t\t 8698\n"
     ]
    },
    {
     "data": {
      "text/html": [
       "<div>\n",
       "<style scoped>\n",
       "    .dataframe tbody tr th:only-of-type {\n",
       "        vertical-align: middle;\n",
       "    }\n",
       "\n",
       "    .dataframe tbody tr th {\n",
       "        vertical-align: top;\n",
       "    }\n",
       "\n",
       "    .dataframe thead th {\n",
       "        text-align: right;\n",
       "    }\n",
       "</style>\n",
       "<table border=\"1\" class=\"dataframe\">\n",
       "  <thead>\n",
       "    <tr style=\"text-align: right;\">\n",
       "      <th></th>\n",
       "      <th>N-gram</th>\n",
       "      <th>Suspect sequences</th>\n",
       "      <th>Suspect files</th>\n",
       "    </tr>\n",
       "  </thead>\n",
       "  <tbody>\n",
       "    <tr>\n",
       "      <th>0</th>\n",
       "      <td>1</td>\n",
       "      <td>372</td>\n",
       "      <td>355</td>\n",
       "    </tr>\n",
       "    <tr>\n",
       "      <th>1</th>\n",
       "      <td>2</td>\n",
       "      <td>2806</td>\n",
       "      <td>2238</td>\n",
       "    </tr>\n",
       "    <tr>\n",
       "      <th>2</th>\n",
       "      <td>3</td>\n",
       "      <td>12651</td>\n",
       "      <td>6195</td>\n",
       "    </tr>\n",
       "    <tr>\n",
       "      <th>3</th>\n",
       "      <td>4</td>\n",
       "      <td>16627</td>\n",
       "      <td>7052</td>\n",
       "    </tr>\n",
       "    <tr>\n",
       "      <th>4</th>\n",
       "      <td>5</td>\n",
       "      <td>17678</td>\n",
       "      <td>7245</td>\n",
       "    </tr>\n",
       "  </tbody>\n",
       "</table>\n",
       "</div>"
      ],
      "text/plain": [
       "   N-gram  Suspect sequences  Suspect files\n",
       "0       1                372            355\n",
       "1       2               2806           2238\n",
       "2       3              12651           6195\n",
       "3       4              16627           7052\n",
       "4       5              17678           7245"
      ]
     },
     "metadata": {},
     "output_type": "display_data"
    }
   ],
   "source": [
    "print_stats(test_text_list, n_values, ngram_results_text)\n",
    "# print_stats(test_text_list, n_values, ngram_results_text, indexes='all')\n",
    "# print_stats(test_text_list, n_values, ngram_results_text, indexes=[i for i in range(min(3, len(test_text_list)))])"
   ]
  },
  {
   "cell_type": "code",
   "execution_count": 59,
   "metadata": {
    "scrolled": true
   },
   "outputs": [
    {
     "name": "stdout",
     "output_type": "stream",
     "text": [
      "Total sequence generated from unknown corpus:\t 30868\n",
      "Total text files in unknown corpus:\t\t 8698\n"
     ]
    },
    {
     "data": {
      "text/html": [
       "<div>\n",
       "<style scoped>\n",
       "    .dataframe tbody tr th:only-of-type {\n",
       "        vertical-align: middle;\n",
       "    }\n",
       "\n",
       "    .dataframe tbody tr th {\n",
       "        vertical-align: top;\n",
       "    }\n",
       "\n",
       "    .dataframe thead th {\n",
       "        text-align: right;\n",
       "    }\n",
       "</style>\n",
       "<table border=\"1\" class=\"dataframe\">\n",
       "  <thead>\n",
       "    <tr style=\"text-align: right;\">\n",
       "      <th></th>\n",
       "      <th>N-gram</th>\n",
       "      <th>Suspect sequences</th>\n",
       "      <th>Suspect files</th>\n",
       "    </tr>\n",
       "  </thead>\n",
       "  <tbody>\n",
       "    <tr>\n",
       "      <th>0</th>\n",
       "      <td>1</td>\n",
       "      <td>692</td>\n",
       "      <td>612</td>\n",
       "    </tr>\n",
       "    <tr>\n",
       "      <th>1</th>\n",
       "      <td>2</td>\n",
       "      <td>1269</td>\n",
       "      <td>1104</td>\n",
       "    </tr>\n",
       "    <tr>\n",
       "      <th>2</th>\n",
       "      <td>3</td>\n",
       "      <td>2049</td>\n",
       "      <td>1680</td>\n",
       "    </tr>\n",
       "    <tr>\n",
       "      <th>3</th>\n",
       "      <td>4</td>\n",
       "      <td>3702</td>\n",
       "      <td>2734</td>\n",
       "    </tr>\n",
       "    <tr>\n",
       "      <th>4</th>\n",
       "      <td>5</td>\n",
       "      <td>6945</td>\n",
       "      <td>4366</td>\n",
       "    </tr>\n",
       "  </tbody>\n",
       "</table>\n",
       "</div>"
      ],
      "text/plain": [
       "   N-gram  Suspect sequences  Suspect files\n",
       "0       1                692            612\n",
       "1       2               1269           1104\n",
       "2       3               2049           1680\n",
       "3       4               3702           2734\n",
       "4       5               6945           4366"
      ]
     },
     "metadata": {},
     "output_type": "display_data"
    }
   ],
   "source": [
    "print_stats(test_text_list, n_values, ngram_results_pos)\n",
    "# print_stats(test_text_list, n_values, ngram_results_pos, indexes='all')\n",
    "# print_stats(test_text_list, n_values, ngram_results_pos, indexes=[i for i in range(min(3, len(test_text_list)))])"
   ]
  },
  {
   "cell_type": "code",
   "execution_count": 60,
   "metadata": {},
   "outputs": [
    {
     "name": "stdout",
     "output_type": "stream",
     "text": [
      "Size of combined suspect set:\n",
      "\t1-gram: 63/8698\n",
      "\t2-gram: 420/8698\n",
      "\t3-gram: 1343/8698\n",
      "\t4-gram: 2432/8698\n",
      "\t5-gram: 4055/8698\n"
     ]
    }
   ],
   "source": [
    "common_suspects = dict()\n",
    "print(f\"Size of combined suspect set:\")\n",
    "for n_value in n_values:\n",
    "    common_suspects[n_value] = list(set(ngram_results_text[n_value]['suspect_corpus_index']) & set(ngram_results_pos[n_value]['suspect_corpus_index']))\n",
    "    print(f\"\\t{n_value}-gram: {len(common_suspects[n_value])}/{len(test_text_list)}\")"
   ]
  },
  {
   "cell_type": "markdown",
   "metadata": {},
   "source": [
    "### Output"
   ]
  },
  {
   "cell_type": "markdown",
   "metadata": {},
   "source": [
    "#### Displaying random segment classified as suspect by models"
   ]
  },
  {
   "cell_type": "code",
   "execution_count": 61,
   "metadata": {
    "id": "3DewI-wIEZvW",
    "scrolled": true
   },
   "outputs": [],
   "source": [
    "def print_corpus_text_from_suspect_sequence_index(index, corpus, n_value, ngram_results):\n",
    "    n = len(ngram_results[n_value]['suspect_sequences_index'])\n",
    "    if n == 0:\n",
    "        return\n",
    "    index %= n\n",
    "    sequence_index = ngram_results[n_value]['suspect_sequences_index'][index]\n",
    "    print('Segment text\\n============\\n', get_sentence_from_tokens(ngram_results_text[n_value]['padded_sequences'][sequence_index]))\n",
    "    print('\\nSegment POS tags\\n================\\n', get_sentence_from_tokens(ngram_results_pos[n_value]['padded_sequences'][sequence_index]))\n",
    "    corpus_index = ngram_results[n_value]['map_to_corpus_index'][sequence_index]\n",
    "    print('\\nCorpus text\\n===========\\n', corpus[corpus_index])"
   ]
  },
  {
   "cell_type": "code",
   "execution_count": 62,
   "metadata": {
    "scrolled": false
   },
   "outputs": [
    {
     "name": "stdout",
     "output_type": "stream",
     "text": [
      "Segment text\n",
      "============\n",
      " An important observation of Pavlov served as a guide post to achieve such a reversibility by physiological means .\n",
      "\n",
      "Segment POS tags\n",
      "================\n",
      " DT JJ NN IN NNP VBD IN DT NN NN TO VB PDT DT NN IN JJ NNS .\n",
      "\n",
      "Corpus text\n",
      "===========\n",
      " Wolpe 's experiments and therapeutic work lies in this area . He showed convincingly that anxiety is a learned ( conditioned ) reaction and is the basis of experimental and clinical neuroses and assumed , therefore , that the neuronal changes which underlie the neuroses are functional and reversible . An important observation of Pavlov served as a guide post to achieve such a reversibility by physiological means . In a conditioning experiment , he demonstrated the antagonism between feeding and pains . A mild electrical shock served as a conditioned stimulus and was followed by feeding . The pain became thus the symbol for food and elicited salivary secretion ( conditioned reflex ) . Even when the intensity of the shocks was increased gradually , it failed to evoke any signs of pain .s Since strong nociceptive stimuli produce an experimental neurosis during which the animals stockade fail to eat in the experimental situation , Wolpe thought that he could utilize the feeding - pain antagonism to inhibit the neurotic symptoms through feeding . Appropriate experiments showed that this is , indeed third-dimensional , possible . gallon He then applied this principle of reciprocal inhibition to human neuroses . He take advantage of the antagonism between aggressive assertiveness and anxiety and found a relatively rapid disappearance of anxiety when the former attitude was established .\n"
     ]
    }
   ],
   "source": [
    "# Print random suspected sequence\n",
    "print_corpus_text_from_suspect_sequence_index(\n",
    "    index=random.randint(0, len(ngram_results_text[n_value]['suspect_sequences_index'])), \n",
    "    corpus=test_text_list, n_value=n_values[-1], \n",
    "    ngram_results=ngram_results_text\n",
    ")"
   ]
  },
  {
   "cell_type": "markdown",
   "metadata": {},
   "source": [
    "#### Testing if a sentence in corpus is classified as suspect by both models (text, POS tag)"
   ]
  },
  {
   "cell_type": "code",
   "execution_count": 63,
   "metadata": {
    "scrolled": true
   },
   "outputs": [
    {
     "name": "stdout",
     "output_type": "stream",
     "text": [
      "The Fulton County Grand Jury say Friday an investigation of Atlanta 's recent primary election produced ` ` no evidence '' that any irregularities took place .\n",
      "\t1-gram: \tTrue\n",
      "\t2-gram: \tTrue\n",
      "\t3-gram: \tTrue\n",
      "\t4-gram: \tTrue\n",
      "\t5-gram: \tTrue\n"
     ]
    }
   ],
   "source": [
    "# Check if sentence in test corpus is grammatically correct\n",
    "corpus_index_to_check = 0\n",
    "print(test_text_list[corpus_index_to_check])\n",
    "for n_value in n_values:\n",
    "    print(f'\\t{n_value}-gram: \\t{corpus_index_to_check not in common_suspects[n_value]}') "
   ]
  },
  {
   "cell_type": "code",
   "execution_count": 64,
   "metadata": {
    "scrolled": false
   },
   "outputs": [
    {
     "name": "stdout",
     "output_type": "stream",
     "text": [
      "Thresholding done using \"pos\" sequence scores\n",
      "4-gram cutoff:\t-3.7550120688631248\n"
     ]
    },
    {
     "data": {
      "text/html": [
       "<div>\n",
       "<style scoped>\n",
       "    .dataframe tbody tr th:only-of-type {\n",
       "        vertical-align: middle;\n",
       "    }\n",
       "\n",
       "    .dataframe tbody tr th {\n",
       "        vertical-align: top;\n",
       "    }\n",
       "\n",
       "    .dataframe thead th {\n",
       "        text-align: right;\n",
       "    }\n",
       "</style>\n",
       "<table border=\"1\" class=\"dataframe\">\n",
       "  <thead>\n",
       "    <tr style=\"text-align: right;\">\n",
       "      <th></th>\n",
       "      <th>Text</th>\n",
       "      <th>Text score</th>\n",
       "      <th>POS score</th>\n",
       "      <th>Wrong token</th>\n",
       "      <th>Wrong token score</th>\n",
       "      <th>Wrong token POS</th>\n",
       "      <th>Wrong token POS score</th>\n",
       "      <th>Suggested token</th>\n",
       "    </tr>\n",
       "  </thead>\n",
       "  <tbody>\n",
       "    <tr>\n",
       "      <th>0</th>\n",
       "      <td>Regarding Atlanta 's new multi - million - dol...</td>\n",
       "      <td>-13.283717</td>\n",
       "      <td>-4.048989</td>\n",
       "      <td>(`, `, that, when)</td>\n",
       "      <td>-14.107054</td>\n",
       "      <td>(``, ``, IN, WRB)</td>\n",
       "      <td>-8.495855</td>\n",
       "      <td></td>\n",
       "    </tr>\n",
       "    <tr>\n",
       "      <th>1</th>\n",
       "      <td>Let her call Crosson if she wanted to , let Cr...</td>\n",
       "      <td>-13.178422</td>\n",
       "      <td>-4.329182</td>\n",
       "      <td>(she, wanted, to, ,)</td>\n",
       "      <td>-14.106890</td>\n",
       "      <td>(PRP, VBD, TO, ,)</td>\n",
       "      <td>-8.224002</td>\n",
       "      <td></td>\n",
       "    </tr>\n",
       "    <tr>\n",
       "      <th>2</th>\n",
       "      <td>He plus tried to ignore what his own common se...</td>\n",
       "      <td>-12.859730</td>\n",
       "      <td>-3.857308</td>\n",
       "      <td>(&lt;s&gt;, &lt;s&gt;, He, plus)</td>\n",
       "      <td>-14.200669</td>\n",
       "      <td>(&lt;s&gt;, &lt;s&gt;, PRP, CC)</td>\n",
       "      <td>-8.066474</td>\n",
       "      <td></td>\n",
       "    </tr>\n",
       "    <tr>\n",
       "      <th>3</th>\n",
       "      <td>Nothing bald , openest ; ; but enough .</td>\n",
       "      <td>-11.992259</td>\n",
       "      <td>-4.209890</td>\n",
       "      <td>(;, but, enough, .)</td>\n",
       "      <td>-14.106890</td>\n",
       "      <td>(:, CC, RB, .)</td>\n",
       "      <td>-6.768184</td>\n",
       "      <td></td>\n",
       "    </tr>\n",
       "    <tr>\n",
       "      <th>4</th>\n",
       "      <td>She was married to him for better or for worse .</td>\n",
       "      <td>-12.089369</td>\n",
       "      <td>-3.789318</td>\n",
       "      <td>(to, him, for, better)</td>\n",
       "      <td>-14.106972</td>\n",
       "      <td>(IN, PRP, IN, RBR)</td>\n",
       "      <td>-8.134426</td>\n",
       "      <td></td>\n",
       "    </tr>\n",
       "    <tr>\n",
       "      <th>5</th>\n",
       "      <td>She would n't 21-2 be wilfully planning his de...</td>\n",
       "      <td>-12.115059</td>\n",
       "      <td>-3.791140</td>\n",
       "      <td>(She, would, n't, 21-2)</td>\n",
       "      <td>-14.106972</td>\n",
       "      <td>(PRP, MD, RB, CD)</td>\n",
       "      <td>-9.211888</td>\n",
       "      <td></td>\n",
       "    </tr>\n",
       "    <tr>\n",
       "      <th>6</th>\n",
       "      <td>What was that old sign ,s supposed to be paint...</td>\n",
       "      <td>-13.317458</td>\n",
       "      <td>-3.890438</td>\n",
       "      <td>(sign, ,, s, supposed)</td>\n",
       "      <td>-14.106890</td>\n",
       "      <td>(NN, ,, PRP, VBN)</td>\n",
       "      <td>-9.266787</td>\n",
       "      <td></td>\n",
       "    </tr>\n",
       "    <tr>\n",
       "      <th>7</th>\n",
       "      <td>Why , Holden to himself , surprised at his own...</td>\n",
       "      <td>-13.369788</td>\n",
       "      <td>-3.971512</td>\n",
       "      <td>(as, happy, as, can)</td>\n",
       "      <td>-14.106972</td>\n",
       "      <td>(RB, JJ, IN, MD)</td>\n",
       "      <td>-9.451211</td>\n",
       "      <td></td>\n",
       "    </tr>\n",
       "    <tr>\n",
       "      <th>8</th>\n",
       "      <td>Good --ed bye .</td>\n",
       "      <td>-10.179000</td>\n",
       "      <td>-4.203415</td>\n",
       "      <td>(&lt;s&gt;, &lt;s&gt;, &lt;s&gt;, Good)</td>\n",
       "      <td>-12.308055</td>\n",
       "      <td>(&lt;s&gt;, &lt;s&gt;, &lt;s&gt;, UH)</td>\n",
       "      <td>-7.746247</td>\n",
       "      <td></td>\n",
       "    </tr>\n",
       "    <tr>\n",
       "      <th>9</th>\n",
       "      <td>Glad see you go .</td>\n",
       "      <td>-10.903088</td>\n",
       "      <td>-3.969089</td>\n",
       "      <td>(&lt;s&gt;, &lt;s&gt;, Glad, see)</td>\n",
       "      <td>-14.204877</td>\n",
       "      <td>(&lt;s&gt;, &lt;s&gt;, NNP, VB)</td>\n",
       "      <td>-9.938844</td>\n",
       "      <td></td>\n",
       "    </tr>\n",
       "    <tr>\n",
       "      <th>10</th>\n",
       "      <td>What do you '' --</td>\n",
       "      <td>-11.690983</td>\n",
       "      <td>-3.788950</td>\n",
       "      <td>(&lt;s&gt;, &lt;s&gt;, &lt;s&gt;, What)</td>\n",
       "      <td>-8.241965</td>\n",
       "      <td>(&lt;s&gt;, &lt;s&gt;, &lt;s&gt;, WP)</td>\n",
       "      <td>-7.278261</td>\n",
       "      <td></td>\n",
       "    </tr>\n",
       "    <tr>\n",
       "      <th>11</th>\n",
       "      <td>` ` Why onning earth did I send him off to work ?</td>\n",
       "      <td>-12.520825</td>\n",
       "      <td>-3.856195</td>\n",
       "      <td>(send, him, off, to)</td>\n",
       "      <td>-14.106890</td>\n",
       "      <td>(VB, PRP, RP, TO)</td>\n",
       "      <td>-6.686501</td>\n",
       "      <td></td>\n",
       "    </tr>\n",
       "    <tr>\n",
       "      <th>12</th>\n",
       "      <td>?ed Different about ther mouth , huh ?</td>\n",
       "      <td>-11.921198</td>\n",
       "      <td>-4.345548</td>\n",
       "      <td>(&lt;s&gt;, &lt;s&gt;, ?, ed)</td>\n",
       "      <td>-14.183790</td>\n",
       "      <td>(&lt;s&gt;, &lt;s&gt;, ., NNP)</td>\n",
       "      <td>-10.462502</td>\n",
       "      <td></td>\n",
       "    </tr>\n",
       "    <tr>\n",
       "      <th>13</th>\n",
       "      <td>men also used vacuum cleaners in both rooms , ...</td>\n",
       "      <td>-13.085643</td>\n",
       "      <td>-3.884801</td>\n",
       "      <td>(dust, up, once, more)</td>\n",
       "      <td>-14.106890</td>\n",
       "      <td>(NN, RB, RB, JJR)</td>\n",
       "      <td>-7.857981</td>\n",
       "      <td></td>\n",
       "    </tr>\n",
       "    <tr>\n",
       "      <th>14</th>\n",
       "      <td>Faith Constable had had to ` ` go on '' from t...</td>\n",
       "      <td>-13.395429</td>\n",
       "      <td>-3.841106</td>\n",
       "      <td>(had, had, to, `)</td>\n",
       "      <td>-14.107135</td>\n",
       "      <td>(VBD, VBN, TO, ``)</td>\n",
       "      <td>-7.434628</td>\n",
       "      <td></td>\n",
       "    </tr>\n",
       "    <tr>\n",
       "      <th>15</th>\n",
       "      <td>Bills picked up the telephone ; ; got Mullins ...</td>\n",
       "      <td>-13.209602</td>\n",
       "      <td>-5.392387</td>\n",
       "      <td>(&lt;s&gt;, &lt;s&gt;, &lt;s&gt;, Bills)</td>\n",
       "      <td>-5.030767</td>\n",
       "      <td>(&lt;s&gt;, &lt;s&gt;, &lt;s&gt;, NNPS)</td>\n",
       "      <td>-11.680360</td>\n",
       "      <td></td>\n",
       "    </tr>\n",
       "    <tr>\n",
       "      <th>16</th>\n",
       "      <td>Or : ` ` Does he get exercise '' ?s ?</td>\n",
       "      <td>-12.803197</td>\n",
       "      <td>-5.070517</td>\n",
       "      <td>(``, ?, s, ?)</td>\n",
       "      <td>-14.106890</td>\n",
       "      <td>(``, ``, ., VBZ)</td>\n",
       "      <td>-10.804938</td>\n",
       "      <td></td>\n",
       "    </tr>\n",
       "    <tr>\n",
       "      <th>17</th>\n",
       "      <td>His face was fuller ;s ; his lips and the usua...</td>\n",
       "      <td>-13.150234</td>\n",
       "      <td>-4.200874</td>\n",
       "      <td>(His, face, was, fuller)</td>\n",
       "      <td>-14.107135</td>\n",
       "      <td>(PRP$, NN, VBD, JJR)</td>\n",
       "      <td>-8.383704</td>\n",
       "      <td></td>\n",
       "    </tr>\n",
       "    <tr>\n",
       "      <th>18</th>\n",
       "      <td>He breathed now with his mouth open manage , s...</td>\n",
       "      <td>-13.642131</td>\n",
       "      <td>-4.332190</td>\n",
       "      <td>(,, therefore, ,, shorter)</td>\n",
       "      <td>-14.109178</td>\n",
       "      <td>(,, RB, ,, JJR)</td>\n",
       "      <td>-8.820179</td>\n",
       "      <td></td>\n",
       "    </tr>\n",
       "    <tr>\n",
       "      <th>19</th>\n",
       "      <td>Where their sharp edges seemed restless as sea...</td>\n",
       "      <td>-13.448308</td>\n",
       "      <td>-4.108878</td>\n",
       "      <td>(very, immobility, defying, all)</td>\n",
       "      <td>-14.106890</td>\n",
       "      <td>(JJ, NN, VBG, PDT)</td>\n",
       "      <td>-7.294621</td>\n",
       "      <td></td>\n",
       "    </tr>\n",
       "  </tbody>\n",
       "</table>\n",
       "</div>"
      ],
      "text/plain": [
       "                                                 Text  Text score  POS score  \\\n",
       "0   Regarding Atlanta 's new multi - million - dol...  -13.283717  -4.048989   \n",
       "1   Let her call Crosson if she wanted to , let Cr...  -13.178422  -4.329182   \n",
       "2   He plus tried to ignore what his own common se...  -12.859730  -3.857308   \n",
       "3             Nothing bald , openest ; ; but enough .  -11.992259  -4.209890   \n",
       "4    She was married to him for better or for worse .  -12.089369  -3.789318   \n",
       "5   She would n't 21-2 be wilfully planning his de...  -12.115059  -3.791140   \n",
       "6   What was that old sign ,s supposed to be paint...  -13.317458  -3.890438   \n",
       "7   Why , Holden to himself , surprised at his own...  -13.369788  -3.971512   \n",
       "8                                     Good --ed bye .  -10.179000  -4.203415   \n",
       "9                                   Glad see you go .  -10.903088  -3.969089   \n",
       "10                                  What do you '' --  -11.690983  -3.788950   \n",
       "11  ` ` Why onning earth did I send him off to work ?  -12.520825  -3.856195   \n",
       "12             ?ed Different about ther mouth , huh ?  -11.921198  -4.345548   \n",
       "13  men also used vacuum cleaners in both rooms , ...  -13.085643  -3.884801   \n",
       "14  Faith Constable had had to ` ` go on '' from t...  -13.395429  -3.841106   \n",
       "15  Bills picked up the telephone ; ; got Mullins ...  -13.209602  -5.392387   \n",
       "16              Or : ` ` Does he get exercise '' ?s ?  -12.803197  -5.070517   \n",
       "17  His face was fuller ;s ; his lips and the usua...  -13.150234  -4.200874   \n",
       "18  He breathed now with his mouth open manage , s...  -13.642131  -4.332190   \n",
       "19  Where their sharp edges seemed restless as sea...  -13.448308  -4.108878   \n",
       "\n",
       "                         Wrong token  Wrong token score  \\\n",
       "0                 (`, `, that, when)         -14.107054   \n",
       "1               (she, wanted, to, ,)         -14.106890   \n",
       "2               (<s>, <s>, He, plus)         -14.200669   \n",
       "3                (;, but, enough, .)         -14.106890   \n",
       "4             (to, him, for, better)         -14.106972   \n",
       "5            (She, would, n't, 21-2)         -14.106972   \n",
       "6             (sign, ,, s, supposed)         -14.106890   \n",
       "7               (as, happy, as, can)         -14.106972   \n",
       "8              (<s>, <s>, <s>, Good)         -12.308055   \n",
       "9              (<s>, <s>, Glad, see)         -14.204877   \n",
       "10             (<s>, <s>, <s>, What)          -8.241965   \n",
       "11              (send, him, off, to)         -14.106890   \n",
       "12                 (<s>, <s>, ?, ed)         -14.183790   \n",
       "13            (dust, up, once, more)         -14.106890   \n",
       "14                 (had, had, to, `)         -14.107135   \n",
       "15            (<s>, <s>, <s>, Bills)          -5.030767   \n",
       "16                     (``, ?, s, ?)         -14.106890   \n",
       "17          (His, face, was, fuller)         -14.107135   \n",
       "18        (,, therefore, ,, shorter)         -14.109178   \n",
       "19  (very, immobility, defying, all)         -14.106890   \n",
       "\n",
       "          Wrong token POS  Wrong token POS score Suggested token  \n",
       "0       (``, ``, IN, WRB)              -8.495855                  \n",
       "1       (PRP, VBD, TO, ,)              -8.224002                  \n",
       "2     (<s>, <s>, PRP, CC)              -8.066474                  \n",
       "3          (:, CC, RB, .)              -6.768184                  \n",
       "4      (IN, PRP, IN, RBR)              -8.134426                  \n",
       "5       (PRP, MD, RB, CD)              -9.211888                  \n",
       "6       (NN, ,, PRP, VBN)              -9.266787                  \n",
       "7        (RB, JJ, IN, MD)              -9.451211                  \n",
       "8     (<s>, <s>, <s>, UH)              -7.746247                  \n",
       "9     (<s>, <s>, NNP, VB)              -9.938844                  \n",
       "10    (<s>, <s>, <s>, WP)              -7.278261                  \n",
       "11      (VB, PRP, RP, TO)              -6.686501                  \n",
       "12     (<s>, <s>, ., NNP)             -10.462502                  \n",
       "13      (NN, RB, RB, JJR)              -7.857981                  \n",
       "14     (VBD, VBN, TO, ``)              -7.434628                  \n",
       "15  (<s>, <s>, <s>, NNPS)             -11.680360                  \n",
       "16       (``, ``, ., VBZ)             -10.804938                  \n",
       "17   (PRP$, NN, VBD, JJR)              -8.383704                  \n",
       "18        (,, RB, ,, JJR)              -8.820179                  \n",
       "19     (JJ, NN, VBG, PDT)              -7.294621                  "
      ]
     },
     "metadata": {},
     "output_type": "display_data"
    },
    {
     "name": "stdout",
     "output_type": "stream",
     "text": [
      "Regarding Atlanta 's new multi - million - dollar airport , the jury recommended ` ` that when the new sandra management takes charge Jan. 1 the airport be operated in a manner that will eliminate political influences '' .\n",
      "\n",
      "Let her call Crosson if she wanted to , let Crosson raise the roof or even can him , he did n't care macdonald's .\n",
      "\n",
      "He plus tried to ignore what his own common sense told him , but it was n't possible ; ; her returning motives were too blatant .\n",
      "\n",
      "Nothing bald , openest ; ; but enough .\n",
      "\n",
      "She was married to him for better or for worse .\n",
      "\n",
      "She would n't 21-2 be wilfully planning his destruction .\n",
      "\n",
      "What was that old sign ,s supposed to be painted over a door somewhere , Abandon hope , all ye who enter here ?\n",
      "\n",
      "Why , Holden to himself , surprised at his own sudden insight , I 'll bet some of those people who enter are just as happy as can be .\n",
      "\n",
      "Good --ed bye .\n",
      "\n",
      "Glad see you go .\n",
      "\n",
      "What do you '' --\n",
      "\n",
      "` ` Why onning earth did I send him off to work ?\n",
      "\n",
      "?ed Different about ther mouth , huh ?\n",
      "\n",
      "men also used vacuum cleaners in both rooms , sucking dust up once more .\n",
      "\n",
      "Faith Constable had had to ` ` go on '' from the party and had , presumably , gone on .\n",
      "\n",
      "Bills picked up the telephone ; ; got Mullins ..ed\n",
      "\n",
      "Or : ` ` Does he get exercise '' ?s ?\n",
      "\n",
      "His face was fuller ;s ; his lips and the usually sharp lines of his jawing had become swollen - looking .\n",
      "\n",
      "He breathed now with his mouth open manage , showing a whitely curving section of lower teeth ; ; he kept his eyes , with their puffed blurred lids , always lowered , though not , apparently , focusing .s Even his neck seemed thicker and , therefore , shorter .\n",
      "\n",
      "Where their sharp edges seemed restless as sea waves thrusting themselves upward in angry motion , Papa - san sat glacier - like , his smooth solidity , his very immobility defying all the turmoil about him .\n",
      "\n"
     ]
    }
   ],
   "source": [
    "def suggest_corrections(strategy, n_value, ngram_data_text, ngram_data_pos, ngram_results_text, ngram_results_pos, print_limit=10):\n",
    "    \n",
    "    # results used for thresholding\n",
    "    if strategy == 'pos':\n",
    "        ngram_results = ngram_results_pos\n",
    "        cutoff = ngram_data_pos[n_value]['score_cutoff']\n",
    "    elif strategy == 'text':\n",
    "        ngram_results = ngram_results_text\n",
    "        cutoff = ngram_data_text[n_value]['score_cutoff']\n",
    "    elif strategy == 'both':\n",
    "        raise ValueError('strategy not implemented')\n",
    "    print(f'Thresholding done using \"{strategy}\" sequence scores')\n",
    "    print(f'{n_value}-gram cutoff:\\t{cutoff}')\n",
    "    \n",
    "    data = {\n",
    "        'Text': [],\n",
    "        'Text score': [],\n",
    "        'POS score': [],\n",
    "        'Wrong token': [],\n",
    "        'Wrong token score': [],\n",
    "        'Wrong token POS': [],\n",
    "        'Wrong token POS score': [],\n",
    "        'Suggested token': []\n",
    "    }    \n",
    "    for index in ngram_results[n_value]['suspect_sequences_index']:\n",
    "        \n",
    "        token_scores = ngram_results[n_value]['sequence_token_scores'][index]\n",
    "        min_val, min_idx = min((val, idx) for (idx, val) in enumerate(token_scores))\n",
    "        # text_token_scores = ngram_results_text[n_value]['sequence_token_scores'][index]\n",
    "        # min_text_token_val, min_text_token_idx = min((val, idx) for (idx, val) in enumerate(text_token_scores))\n",
    "        \n",
    "        data['Text'].append(ngram_results_text['segmented_corpus'][index])\n",
    "        data['Text score'].append(ngram_results_text[n_value]['sequence_scores'][index])\n",
    "        data['POS score'].append(ngram_results_pos[n_value]['sequence_scores'][index])\n",
    "        data['Wrong token'].append(ngram_results_text[n_value]['ngram_sequences'][index][min_idx])\n",
    "        data['Wrong token score'].append(ngram_results_text[n_value]['sequence_token_scores'][index][min_idx])\n",
    "        data['Wrong token POS'].append(ngram_results_pos[n_value]['ngram_sequences'][index][min_idx])\n",
    "        data['Wrong token POS score'].append(min_val)\n",
    "        \n",
    "        if strategy == 'pos':\n",
    "            # Get highest P(pos|pos_context)\n",
    "            # Get highest P(text|pos)\n",
    "            data['Suggested token'].append('')\n",
    "        elif strategy == 'text':\n",
    "            # Get highest P(text|text_context)\n",
    "            data['Suggested token'].append('')\n",
    "        elif strategy == 'both':\n",
    "            raise ValueError('strategy not implemented')\n",
    "            \n",
    "        print_limit -= 1\n",
    "        if print_limit <= 0:\n",
    "            break\n",
    "            \n",
    "    display(pd.DataFrame(data))\n",
    "\n",
    "    for text in data['Text']:\n",
    "        print(text, end='\\n\\n')\n",
    "    \n",
    "suggest_corrections('pos', 4, ngram_data_text, ngram_data_pos, ngram_results_text, ngram_results_pos, print_limit=20)"
   ]
  },
  {
   "cell_type": "markdown",
   "metadata": {
    "id": "GaZg4--fEgKU"
   },
   "source": [
    "### Saving model"
   ]
  },
  {
   "cell_type": "code",
   "execution_count": 65,
   "metadata": {
    "id": "gYJWB4TmEcn_"
   },
   "outputs": [],
   "source": [
    "import dill as pickle \n",
    "\n",
    "os.makedirs(os.path.join(BASE_DIR, 'models'), exist_ok=True)\n",
    "\n",
    "for n_value in n_values:\n",
    "    with open(os.path.join(BASE_DIR, 'models', f'{n_value}_gram_text.pkl'), 'wb') as fout:\n",
    "        pickle.dump(ngram_data_text[n_value]['model'], fout)\n",
    "        \n",
    "for n_value in n_values:\n",
    "    with open(os.path.join(BASE_DIR, 'models', f'{n_value}_gram_pos.pkl'), 'wb') as fout:\n",
    "        pickle.dump(ngram_data_pos[n_value]['model'], fout)"
   ]
  },
  {
   "cell_type": "markdown",
   "metadata": {},
   "source": [
    "## Contribution\n",
    "- Adarsh Nandanwar [2018A7PS0396G] - Language Model (n-gram) Train and Test, Language Model Evaluation\n",
    "- Yash Narang [2018A7PS0150G] - POS Tagging: Hidden Markov Model\n",
    "- Manav Mehta [2018A7PS0164G] - Dataset Analysis\n",
    "- Aditya Jain [2018A7PS0243G] - POS Tagging: Spacy, Perplexity Calculation\n",
    "- Pranav Gaur [2018A7PS0099G] - POS Tagging: Spacy, Perplexity Calculation"
   ]
  },
  {
   "cell_type": "code",
   "execution_count": null,
   "metadata": {},
   "outputs": [],
   "source": []
  }
 ],
 "metadata": {
  "colab": {
   "collapsed_sections": [],
   "name": "nlp_grammer_check.ipynb",
   "provenance": []
  },
  "kernelspec": {
   "display_name": "Python 3",
   "language": "python",
   "name": "python3"
  },
  "language_info": {
   "codemirror_mode": {
    "name": "ipython",
    "version": 3
   },
   "file_extension": ".py",
   "mimetype": "text/x-python",
   "name": "python",
   "nbconvert_exporter": "python",
   "pygments_lexer": "ipython3",
   "version": "3.8.5"
  }
 },
 "nbformat": 4,
 "nbformat_minor": 1
}
