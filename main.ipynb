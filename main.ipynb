{
 "cells": [
  {
   "cell_type": "markdown",
   "metadata": {
    "id": "jIsfO_moCaDW"
   },
   "source": [
    "# CS F429 - NLP Project\n",
    "Project 1: Grammar Check for English Language"
   ]
  },
  {
   "cell_type": "markdown",
   "metadata": {
    "id": "uQLL6GOSCiai"
   },
   "source": [
    "## Problem Statement\n",
    "Part 1: Build a grammar checker using the concepts taught in class, you will be given a corpus with some paragraphs labeled\n",
    "correct and unknown; correct paragraphs have no grammatical errors, while unknown may/may not have sentences\n",
    "which have grammatical errors in them. The task is to find all the sentences that have these errors. For example: “In the\n",
    "country there lived a fox. The quick brown fox jump over the fence. Farmer Shaun was terrified.” In this paragraph, the\n",
    "sentence “The quick brown fox jump over the fence” is grammatically incorrect."
   ]
  },
  {
   "cell_type": "markdown",
   "metadata": {},
   "source": [
    "## Introduction"
   ]
  },
  {
   "cell_type": "markdown",
   "metadata": {
    "id": "WI8Xvqk7CvHz"
   },
   "source": [
    "### Importing libraries"
   ]
  },
  {
   "cell_type": "code",
   "execution_count": 1,
   "metadata": {},
   "outputs": [
    {
     "name": "stdout",
     "output_type": "stream",
     "text": [
      "Requirement already satisfied: dill in /home/adarshnandanwar/.local/lib/python3.8/site-packages (0.3.4)\n",
      "Requirement already satisfied: nltk in /home/adarshnandanwar/.local/lib/python3.8/site-packages (3.6.5)\n",
      "Requirement already satisfied: tqdm in /home/adarshnandanwar/.local/lib/python3.8/site-packages (from nltk) (4.62.3)\n",
      "Requirement already satisfied: regex>=2021.8.3 in /home/adarshnandanwar/.local/lib/python3.8/site-packages (from nltk) (2021.10.21)\n",
      "Requirement already satisfied: joblib in /home/adarshnandanwar/.local/lib/python3.8/site-packages (from nltk) (1.1.0)\n",
      "Requirement already satisfied: click in /home/adarshnandanwar/anaconda3/lib/python3.8/site-packages (from nltk) (7.1.2)\n"
     ]
    }
   ],
   "source": [
    "!pip install dill\n",
    "!pip install -U nltk"
   ]
  },
  {
   "cell_type": "code",
   "execution_count": 2,
   "metadata": {
    "colab": {
     "base_uri": "https://localhost:8080/"
    },
    "id": "lBj1j2-RCZnz",
    "outputId": "e362cb07-2a4f-4abe-f09e-8f761c9432ef"
   },
   "outputs": [
    {
     "name": "stderr",
     "output_type": "stream",
     "text": [
      "[nltk_data] Downloading package punkt to\n",
      "[nltk_data]     /home/adarshnandanwar/nltk_data...\n",
      "[nltk_data]   Package punkt is already up-to-date!\n",
      "[nltk_data] Downloading package brown to\n",
      "[nltk_data]     /home/adarshnandanwar/nltk_data...\n",
      "[nltk_data]   Package brown is already up-to-date!\n",
      "[nltk_data] Downloading package stopwords to\n",
      "[nltk_data]     /home/adarshnandanwar/nltk_data...\n",
      "[nltk_data]   Package stopwords is already up-to-date!\n",
      "[nltk_data] Downloading package words to\n",
      "[nltk_data]     /home/adarshnandanwar/nltk_data...\n",
      "[nltk_data]   Package words is already up-to-date!\n"
     ]
    }
   ],
   "source": [
    "import csv\n",
    "import matplotlib.pyplot as plt\n",
    "%matplotlib inline\n",
    "import numpy as np\n",
    "import os\n",
    "import pandas as pd\n",
    "import random\n",
    "import time\n",
    "import nltk\n",
    "import random\n",
    "import spacy\n",
    "import ssl\n",
    "from numpy import inf\n",
    "\n",
    "try:\n",
    "    _create_unverified_https_context = ssl._create_unverified_context\n",
    "except AttributeError:\n",
    "    pass\n",
    "else:\n",
    "    ssl._create_default_https_context = _create_unverified_https_context\n",
    "    \n",
    "nltk.download('punkt')\n",
    "nltk.download('brown')\n",
    "nltk.download('stopwords')\n",
    "nltk.download('words')\n",
    "from nltk.corpus import brown\n",
    "\n",
    "# from google.colab import drive\n",
    "# drive.mount('/content/gdrive')"
   ]
  },
  {
   "cell_type": "code",
   "execution_count": 3,
   "metadata": {},
   "outputs": [],
   "source": [
    "# BASE_DIR = 'gdrive/MyDrive/nlp_project'\n",
    "BASE_DIR = os.getcwd()\n",
    "DATASET_PATH = os.path.join(BASE_DIR, 'dataset', 'NLP_Q1')\n",
    "CLEAN_DATASET_PATH = os.path.join(DATASET_PATH, 'clean')\n",
    "UNKNOWN_DATASET_PATH = os.path.join(DATASET_PATH, 'unknown')\n",
    "\n",
    "PRINT_LIMIT = 3"
   ]
  },
  {
   "cell_type": "markdown",
   "metadata": {
    "id": "P12cWugID_if"
   },
   "source": [
    "### Importing dataset"
   ]
  },
  {
   "cell_type": "code",
   "execution_count": 4,
   "metadata": {
    "colab": {
     "base_uri": "https://localhost:8080/"
    },
    "id": "uDQe_dUCDbaf",
    "outputId": "19c01787-af90-4925-8c80-ef4e04faf564"
   },
   "outputs": [
    {
     "name": "stdout",
     "output_type": "stream",
     "text": [
      "Dataset already extracted\n"
     ]
    }
   ],
   "source": [
    "# Extracting dataset\n",
    "from zipfile import ZipFile\n",
    "\n",
    "if not os.path.isdir(DATASET_PATH):\n",
    "    dataset_zip_path = os.path.join(BASE_DIR, 'dataset', 'Topic 1.zip')\n",
    "    dataset_extrat_path = os.path.join(BASE_DIR, 'dataset')\n",
    "    with ZipFile(dataset_zip_path, 'r') as zip:\n",
    "        zip.printdir()\n",
    "        zip.extractall(dataset_extrat_path)\n",
    "        print('Done!')\n",
    "else:\n",
    "    print('Dataset already extracted')"
   ]
  },
  {
   "cell_type": "code",
   "execution_count": 5,
   "metadata": {},
   "outputs": [
    {
     "name": "stdout",
     "output_type": "stream",
     "text": [
      "Size of clean dataset: 6969\n",
      "===========================\n",
      "\n",
      "`` Mr. Hearst '' , Lane replied as he left , `` if you ever get a telegram from me asking you to do anything , you can put the telegram down as a forgery '' .\n",
      "\n",
      "He cleaned his shovel , left it against the fence , picked up his Winchester , and started downstream . His visitors had crawled through the south fence and were crossing the meadow , angling toward the house . Now he saw that both the man and woman were moving slowly and irregularly , staggering , as if they found it a struggle to remain on their feet .\n",
      "\n",
      "Only in its final scene , where Beatie Bryant ( Mary Doyle ) shakes off the disappointment of being jilted by her intellectual lover and proclaims her emancipation do we get much which makes worthwhile the series of boorish rustic happenings we have had to watch for most of the first two and one-half acts .\n"
     ]
    }
   ],
   "source": [
    "# Reading clean dataset\n",
    "clean_text_list = []\n",
    "for file_name in os.listdir(CLEAN_DATASET_PATH):\n",
    "    text = open(os.path.join(CLEAN_DATASET_PATH, file_name)).read()\n",
    "    clean_text_list.append(text)\n",
    "\n",
    "print(f'Size of clean dataset: {len(clean_text_list)}')\n",
    "print(f'===========================\\n')\n",
    "print('\\n\\n'.join(random.sample(clean_text_list, PRINT_LIMIT)))"
   ]
  },
  {
   "cell_type": "code",
   "execution_count": 6,
   "metadata": {},
   "outputs": [
    {
     "name": "stdout",
     "output_type": "stream",
     "text": [
      "Size of unknown dataset: 8698\n",
      "=============================\n",
      "\n",
      "``er ` All these kind of things weaken us '' , Perlman said .\n",
      "\n",
      "The telephone ranger .\n",
      "\n",
      "Suddenly there was a commotion upstairs , a despairing boyish shriek , and the strains of the waltz faltered and died as the musicians and guests gaped at an apparition descending thest marble staircase .\n"
     ]
    }
   ],
   "source": [
    "# Reading unknown dataset\n",
    "unknown_text_list = []\n",
    "for file_name in os.listdir(UNKNOWN_DATASET_PATH):\n",
    "    text = open(os.path.join(UNKNOWN_DATASET_PATH, file_name)).read()\n",
    "    unknown_text_list.append(text)\n",
    "\n",
    "print(f'Size of unknown dataset: {len(unknown_text_list)}')\n",
    "print(f'=============================\\n')\n",
    "print('\\n\\n'.join(random.sample(unknown_text_list, PRINT_LIMIT)))"
   ]
  },
  {
   "cell_type": "code",
   "execution_count": 7,
   "metadata": {},
   "outputs": [],
   "source": [
    "from nltk.tokenize import sent_tokenize\n",
    "\n",
    "def segmentation(corpus):\n",
    "    segmented_corpus = []\n",
    "    map_to_corpus_index = []\n",
    "    for i, text in enumerate(corpus):\n",
    "        splits = sent_tokenize(text)\n",
    "        segmented_corpus.extend(splits)\n",
    "        map_to_corpus_index.extend([i for x in range(len(splits))])\n",
    "    return segmented_corpus, map_to_corpus_index"
   ]
  },
  {
   "cell_type": "code",
   "execution_count": 8,
   "metadata": {},
   "outputs": [],
   "source": [
    "from nltk.tokenize import word_tokenize\n",
    "\n",
    "def tokenization(segmented_corpus):\n",
    "    tokenized_corpus = []\n",
    "    for text in segmented_corpus:\n",
    "        tokenized_corpus.append(word_tokenize(text))\n",
    "    return tokenized_corpus"
   ]
  },
  {
   "cell_type": "code",
   "execution_count": 9,
   "metadata": {},
   "outputs": [
    {
     "name": "stdout",
     "output_type": "stream",
     "text": [
      "Segmentation of clean data\n",
      "==========================\n",
      "\n",
      "The jury further said in term-end presentments that the City Executive Committee , which had over-all charge of the election , `` deserves the praise and thanks of the City of Atlanta '' for the manner in which the election was conducted .\n",
      "\n",
      "It urged that the next Legislature `` provide enabling funds and re-set the effective date so that an orderly implementation of the law may be effected '' .\n",
      "\n",
      "The grand jury took a swipe at the State Welfare Department's handling of federal funds granted for child welfare services in foster homes .\n",
      "\n",
      "\n",
      "Tokenization of clean data\n",
      "==========================\n",
      "\n",
      "['The', 'jury', 'further', 'said', 'in', 'term-end', 'presentments', 'that', 'the', 'City', 'Executive', 'Committee', ',', 'which', 'had', 'over-all', 'charge', 'of', 'the', 'election', ',', '``', 'deserves', 'the', 'praise', 'and', 'thanks', 'of', 'the', 'City', 'of', 'Atlanta', '``', 'for', 'the', 'manner', 'in', 'which', 'the', 'election', 'was', 'conducted', '.']\n",
      "\n",
      "['It', 'urged', 'that', 'the', 'next', 'Legislature', '``', 'provide', 'enabling', 'funds', 'and', 're-set', 'the', 'effective', 'date', 'so', 'that', 'an', 'orderly', 'implementation', 'of', 'the', 'law', 'may', 'be', 'effected', '``', '.']\n",
      "\n",
      "['The', 'grand', 'jury', 'took', 'a', 'swipe', 'at', 'the', 'State', 'Welfare', 'Department', \"'s\", 'handling', 'of', 'federal', 'funds', 'granted', 'for', 'child', 'welfare', 'services', 'in', 'foster', 'homes', '.']\n",
      "\n"
     ]
    }
   ],
   "source": [
    "segmented_clean_text_list, map_to_corpus_index = segmentation(clean_text_list)\n",
    "tokenized_clean_text_list = tokenization(segmented_clean_text_list)\n",
    "\n",
    "print('Segmentation of clean data')\n",
    "print('==========================\\n')\n",
    "print('\\n\\n'.join(segmented_clean_text_list[:PRINT_LIMIT]))\n",
    "print('\\n\\nTokenization of clean data')\n",
    "print('==========================\\n')\n",
    "for i in range(PRINT_LIMIT):\n",
    "    print(tokenized_clean_text_list[i], end='\\n\\n')"
   ]
  },
  {
   "cell_type": "code",
   "execution_count": 10,
   "metadata": {},
   "outputs": [
    {
     "name": "stdout",
     "output_type": "stream",
     "text": [
      "Segmentation of unknown data\n",
      "============================\n",
      "\n",
      "The Fulton County Grand Jury say Friday an investigation of Atlanta 's recent primary election produced ` ` no evidence '' that any irregularities took place .\n",
      "\n",
      "` ` This is one of the major items in the Fulton County general assistance program '' , the jury said , but the State Welfare Department ` ` has seen fit to distribute these funds through the welfare departments of all the counties in the state with the exception of Fulton County , which receives reform none of this money .\n",
      "\n",
      "The jurors said they realize ` ` a proportionate distribution of these funder might disable this program in our less populous counties '' .\n",
      "\n",
      "\n",
      "Tokenization of unknown data\n",
      "============================\n",
      "\n",
      "['The', 'Fulton', 'County', 'Grand', 'Jury', 'say', 'Friday', 'an', 'investigation', 'of', 'Atlanta', \"'s\", 'recent', 'primary', 'election', 'produced', '`', '`', 'no', 'evidence', '``', 'that', 'any', 'irregularities', 'took', 'place', '.']\n",
      "\n",
      "['`', '`', 'This', 'is', 'one', 'of', 'the', 'major', 'items', 'in', 'the', 'Fulton', 'County', 'general', 'assistance', 'program', '``', ',', 'the', 'jury', 'said', ',', 'but', 'the', 'State', 'Welfare', 'Department', '`', '`', 'has', 'seen', 'fit', 'to', 'distribute', 'these', 'funds', 'through', 'the', 'welfare', 'departments', 'of', 'all', 'the', 'counties', 'in', 'the', 'state', 'with', 'the', 'exception', 'of', 'Fulton', 'County', ',', 'which', 'receives', 'reform', 'none', 'of', 'this', 'money', '.']\n",
      "\n",
      "['The', 'jurors', 'said', 'they', 'realize', '`', '`', 'a', 'proportionate', 'distribution', 'of', 'these', 'funder', 'might', 'disable', 'this', 'program', 'in', 'our', 'less', 'populous', 'counties', '``', '.']\n",
      "\n"
     ]
    }
   ],
   "source": [
    "segmented_unknown_text_list, map_to_corpus_index = segmentation(unknown_text_list)\n",
    "tokenized_unknown_text_list = tokenization(segmented_unknown_text_list)\n",
    "\n",
    "print('Segmentation of unknown data')\n",
    "print('============================\\n')\n",
    "print('\\n\\n'.join(segmented_unknown_text_list[:PRINT_LIMIT]))\n",
    "print('\\n\\nTokenization of unknown data')\n",
    "print('============================\\n')\n",
    "for i in range(PRINT_LIMIT):\n",
    "    print(tokenized_unknown_text_list[i], end='\\n\\n')"
   ]
  },
  {
   "cell_type": "markdown",
   "metadata": {},
   "source": [
    "### Dataset Analysis"
   ]
  },
  {
   "cell_type": "code",
   "execution_count": 11,
   "metadata": {
    "id": "G_uoPaPa6f6z"
   },
   "outputs": [],
   "source": [
    "# Building list of all tokens in clean data\n",
    "token_list_clean = list()\n",
    "for i in range(len(tokenized_clean_text_list)):\n",
    "    token = tokenized_clean_text_list[i]\n",
    "    for j in range(len(token)):\n",
    "        token_list_clean.append(token[j])\n",
    "        \n",
    "# Building set of all tokens in clean data\n",
    "token_set_clean = set()\n",
    "for i in range(len(tokenized_clean_text_list)):\n",
    "    token = tokenized_clean_text_list[i]\n",
    "    for j in range(len(token)):\n",
    "        token_set_clean.add(token[j])"
   ]
  },
  {
   "cell_type": "code",
   "execution_count": 12,
   "metadata": {
    "id": "YmM1Ibew-fO6"
   },
   "outputs": [],
   "source": [
    "# Building list of all tokens in unknown data\n",
    "token_list_unknown = list()\n",
    "for i in range(len(tokenized_unknown_text_list)):\n",
    "    token = tokenized_unknown_text_list[i]\n",
    "    for j in range(len(token)):\n",
    "        token_list_unknown.append(token[j])\n",
    "\n",
    "# Building set of all tokens in unknown data\n",
    "token_set_unknown = set()\n",
    "for i in range(len(tokenized_unknown_text_list)):\n",
    "    token = tokenized_unknown_text_list[i]\n",
    "    for j in range(len(token)):\n",
    "        token_set_unknown.add(token[j])"
   ]
  },
  {
   "cell_type": "code",
   "execution_count": 13,
   "metadata": {
    "id": "Ty-DW9Dw-fXv",
    "scrolled": true
   },
   "outputs": [
    {
     "name": "stdout",
     "output_type": "stream",
     "text": [
      "Number of function words: 192960\n",
      "Number of content words: 171816\n"
     ]
    }
   ],
   "source": [
    "# Calculating function words in clean set\n",
    "from nltk.corpus import stopwords\n",
    "from nltk.corpus import words\n",
    "stop_words = set(stopwords.words('english'))\n",
    "unclassified_words = set(words.words())\n",
    "content_words = unclassified_words-stop_words\n",
    "num_function_words = 0\n",
    "num_content_words = 0\n",
    "for i in range(len(token_list_clean)):\n",
    "    if(token_list_clean[i] in stop_words):\n",
    "        num_function_words+=1\n",
    "    elif(token_list_clean[i] in content_words):\n",
    "        num_content_words+=1\n",
    "num_total_words = num_function_words+num_content_words\n",
    "\n",
    "print(f\"Number of function words:\", num_function_words)\n",
    "print(f\"Number of content words:\", num_content_words)"
   ]
  },
  {
   "cell_type": "code",
   "execution_count": 14,
   "metadata": {
    "id": "1vOYavxC-fac"
   },
   "outputs": [
    {
     "data": {
      "image/png": "[encoded data removed]",
      "text/plain": [
       "<Figure size 432x288 with 1 Axes>"
      ]
     },
     "metadata": {},
     "output_type": "display_data"
    }
   ],
   "source": [
    "import matplotlib.pyplot as plt\n",
    "import numpy as np\n",
    "function_word_percent = round(num_function_words/num_total_words * 100,2)\n",
    "content_word_percent = round(num_content_words/num_total_words * 100,2)\n",
    "y = np.array([num_function_words, num_content_words])\n",
    "mylabels = [\"Function Words \"+str(function_word_percent)+\"%\", \"Content words \"+str(content_word_percent)+\"%\"]\n",
    "\n",
    "plt.pie(y, labels = mylabels)\n",
    "plt.title('Word type distribution in \"Clean\" corpus')\n",
    "plt.show()"
   ]
  },
  {
   "cell_type": "code",
   "execution_count": 15,
   "metadata": {
    "id": "NtAZZDLE-fc_"
   },
   "outputs": [],
   "source": [
    "# Demonstrating Zipf's law\n",
    "def CountFrequency(my_list):\n",
    "    freq = {}\n",
    "    for item in my_list:\n",
    "        if (item in freq):\n",
    "            freq[item] += 1\n",
    "        else:\n",
    "            freq[item] = 1\n",
    "    return freq"
   ]
  },
  {
   "cell_type": "code",
   "execution_count": 16,
   "metadata": {
    "id": "wuwLYwFa-o9H"
   },
   "outputs": [],
   "source": [
    "mp = CountFrequency(token_list_unknown)\n",
    "\n",
    "num_list = []\n",
    "for key in mp.keys():\n",
    "    num_list.append(mp[key])\n",
    "\n",
    "num_list.sort(reverse = True)\n",
    "num_list = num_list[:80]"
   ]
  },
  {
   "cell_type": "code",
   "execution_count": 17,
   "metadata": {
    "id": "SXulUcNx-pBc"
   },
   "outputs": [
    {
     "data": {
      "image/png": "[encoded data removed]",
      "text/plain": [
       "<Figure size 432x288 with 1 Axes>"
      ]
     },
     "metadata": {
      "needs_background": "light"
     },
     "output_type": "display_data"
    }
   ],
   "source": [
    "plt.bar(list(range(len(num_list))),num_list)\n",
    "plt.xlabel(\"Words\")\n",
    "plt.ylabel(\"Frequency of words\")\n",
    "plt.title(\"Demonstration of Zipf's Law\")\n",
    "plt.show()"
   ]
  },
  {
   "cell_type": "code",
   "execution_count": 18,
   "metadata": {
    "id": "8JYn9P73-pKg"
   },
   "outputs": [
    {
     "name": "stdout",
     "output_type": "stream",
     "text": [
      "Number of unknown words:  45107\n",
      "OOV words detected!\n"
     ]
    }
   ],
   "source": [
    "# Calculation of unknown words in test set\n",
    "\n",
    "num_unknown_words = 0\n",
    "test_tokens = list(token_set_unknown)\n",
    "clean_tokens = list(token_set_clean)\n",
    "for i in range(len(test_tokens)):\n",
    "    if(test_tokens[i] not in clean_tokens):\n",
    "        num_unknown_words+= mp[test_tokens[i]]\n",
    "\n",
    "print(f\"Number of unknown words: \", num_unknown_words)\n",
    "if num_unknown_words > 0:\n",
    "    print(\"OOV words detected!\")"
   ]
  },
  {
   "cell_type": "code",
   "execution_count": 19,
   "metadata": {},
   "outputs": [
    {
     "data": {
      "image/png": "[encoded data removed]",
      "text/plain": [
       "<Figure size 432x288 with 1 Axes>"
      ]
     },
     "metadata": {},
     "output_type": "display_data"
    }
   ],
   "source": [
    "unknown_word_percent = round(num_unknown_words/(len(token_list_unknown)) * 100,2)\n",
    "known_word_percent = round((len(token_list_unknown)-num_unknown_words)/(len(token_list_unknown)) * 100,2)\n",
    "y = np.array([num_unknown_words, len(token_list_unknown)-num_unknown_words])\n",
    "mylabels = [\"Unknown Words \"+str(unknown_word_percent)+\"%\", \"Known words \"+str(known_word_percent)+\"%\"]\n",
    "plt.pie(y, labels = mylabels)\n",
    "plt.title('\"Unknown\" corpus vocabulary distribution')\n",
    "plt.show()"
   ]
  },
  {
   "cell_type": "markdown",
   "metadata": {
    "id": "F8OrYSNFeXVI"
   },
   "source": [
    "## POS Tagging\n",
    "- We have implemented 2 methods to do POS tagging"
   ]
  },
  {
   "cell_type": "markdown",
   "metadata": {},
   "source": [
    "### 1. Hiden Markov Model\n",
    "We can use hidden markov model to do POS tagging on the token. In the below function, we first find the required probabilities (emission probability, transition probability) using the brown corpus made available by nltk library and use these probabilities to do POS tagging on the given training and testing dataset using Viterbi algorithm."
   ]
  },
  {
   "cell_type": "code",
   "execution_count": 20,
   "metadata": {
    "id": "rgZF9Xo8dqPu"
   },
   "outputs": [],
   "source": [
    "def training_hmm():\n",
    "    \n",
    "    print('Training HMM model ......')\n",
    "    \n",
    "    sent_tag = brown.tagged_sents()\n",
    "    train_data=[]\n",
    "    for s in sent_tag:\n",
    "        s.insert(0,('<s>','<s>'))\n",
    "        s.append(('</s>','</s>'))\n",
    "        train_data.append(s)\n",
    "    \n",
    "    train_word_tag = {}\n",
    "    for s in train_data:\n",
    "        for (w,t) in s:\n",
    "            w=w.lower()\n",
    "            try:\n",
    "                try:\n",
    "                    train_word_tag[t][w]+=1\n",
    "                except:\n",
    "                    train_word_tag[t][w]=1\n",
    "            except:\n",
    "                train_word_tag[t]={w:1}\n",
    "        \n",
    "    train_emission_prob={}\n",
    "    for k in train_word_tag.keys():\n",
    "        train_emission_prob[k]={}\n",
    "        count = sum(train_word_tag[k].values())\n",
    "        for k2 in train_word_tag[k].keys():\n",
    "            train_emission_prob[k][k2]=train_word_tag[k][k2]/count\n",
    "            \n",
    "    print('Calculated emission probability .........')\n",
    "            \n",
    "    bigram_tag_data = {}\n",
    "    for s in train_data:\n",
    "        bi=list(nltk.bigrams(s))\n",
    "        for b1,b2 in bi:\n",
    "            try:\n",
    "                try:\n",
    "                    bigram_tag_data[b1[1]][b2[1]]+=1\n",
    "                except:\n",
    "                    bigram_tag_data[b1[1]][b2[1]]=1\n",
    "            except:\n",
    "                bigram_tag_data[b1[1]]={b2[1]:1}\n",
    "                \n",
    "    bigram_tag_prob={}\n",
    "    for k in bigram_tag_data.keys():\n",
    "        bigram_tag_prob[k]={}\n",
    "        count=sum(bigram_tag_data[k].values())\n",
    "        for k2 in bigram_tag_data[k].keys():\n",
    "            bigram_tag_prob[k][k2]=bigram_tag_data[k][k2]/count\n",
    "            \n",
    "    print('Calculated bigram transition probability .........')\n",
    "            \n",
    "    \n",
    "    tags_of_tokens = {}\n",
    "    count=0\n",
    "    for s in train_data:\n",
    "        for (w,t) in s:\n",
    "            w=w.lower()\n",
    "            try:\n",
    "                if t not in tags_of_tokens[w]:\n",
    "                    tags_of_tokens[w].append(t)\n",
    "            except:\n",
    "                l = []\n",
    "                l.append(t)\n",
    "                tags_of_tokens[w] = l\n",
    "    \n",
    "    print('Model training completed .........')\n",
    "    \n",
    "    return bigram_tag_prob, train_emission_prob, tags_of_tokens"
   ]
  },
  {
   "cell_type": "code",
   "execution_count": 21,
   "metadata": {
    "id": "HusPsm-hdrhz"
   },
   "outputs": [],
   "source": [
    "def find_pos_tags_hmm(bigram_tag_prob, train_emission_prob, tags_of_tokens, string_seq):\n",
    "    string_seq.append('</s>')\n",
    "    string_seq.insert(0,'<s>')\n",
    "    s = string_seq\n",
    "    # storing_values is a dictionary which stores the required values          \n",
    "    storing_values = {}              \n",
    "    for q in range(len(s)):\n",
    "        step = s[q]\n",
    "        # for the starting word of the sentence\n",
    "        if q == 1:                \n",
    "            storing_values[q] = {}\n",
    "            try:\n",
    "                tags = tags_of_tokens[step]\n",
    "            except:\n",
    "                # print(step+'.....')\n",
    "                tags = ['UNK']\n",
    "            for t in tags:\n",
    "                # this is applied since we do not know whether the word in the test data is present in train data or not\n",
    "                try:\n",
    "                    storing_values[q][t] = ['<s>',bigram_tag_prob['<s>'][t]*train_emission_prob[t][step]]\n",
    "                # if word is not present in the train data but present in test data we assign a very low probability of 0.0001\n",
    "                except:\n",
    "                    storing_values[q][t] = ['<s>',0.0001]\n",
    "    \n",
    "        # if the word is not at the start of the sentence\n",
    "        if q>1:\n",
    "            storing_values[q] = {}\n",
    "            previous_states = list(storing_values[q-1].keys())  \n",
    "            try:\n",
    "                current_states  = tags_of_tokens[step]      \n",
    "            except:\n",
    "                current_states = ['UNK']\n",
    "            # calculation of the best previous state for each current state and then storing it in storing_values\n",
    "            for t in current_states:                             \n",
    "                temp = []\n",
    "                for pt in previous_states:                         \n",
    "                    try:\n",
    "                        temp.append(storing_values[q-1][pt][1]*bigram_tag_prob[pt][t]*train_emission_prob[t][step])\n",
    "                    except:\n",
    "                        temp.append(storing_values[q-1][pt][1]*0.0001)\n",
    "                max_temp_index = temp.index(max(temp))\n",
    "                best_pt = previous_states[max_temp_index]\n",
    "                storing_values[q][t]=[best_pt,max(temp)]\n",
    "\n",
    "    # Backtracing to extract the best possible tags for the sentence\n",
    "    pred_tags = []\n",
    "    total_steps_num = storing_values.keys()\n",
    "    last_step_num = max(total_steps_num)\n",
    "    for bs in range(len(total_steps_num)):\n",
    "        step_num = last_step_num - bs\n",
    "        if step_num == last_step_num:\n",
    "            pred_tags.append('</s>')\n",
    "            pred_tags.append(storing_values[step_num]['</s>'][0])\n",
    "        if step_num<last_step_num and step_num>0:\n",
    "            pred_tags.append(storing_values[step_num][pred_tags[len(pred_tags)-1]][0])\n",
    "    return list(reversed(pred_tags[1:-1]))"
   ]
  },
  {
   "cell_type": "code",
   "execution_count": 22,
   "metadata": {
    "id": "EKwE1UKMd4BB"
   },
   "outputs": [
    {
     "name": "stdout",
     "output_type": "stream",
     "text": [
      "Training HMM model ......\n",
      "Calculated emission probability .........\n",
      "Calculated bigram transition probability .........\n",
      "Model training completed .........\n"
     ]
    }
   ],
   "source": [
    "bigram_tag_prob, train_emission_prob, tags_of_tokens = training_hmm()"
   ]
  },
  {
   "cell_type": "code",
   "execution_count": 23,
   "metadata": {
    "id": "SbWfA5JZd_TA",
    "scrolled": true
   },
   "outputs": [
    {
     "data": {
      "text/plain": [
       "['DT', 'BEZ', 'AT', 'JJ']"
      ]
     },
     "execution_count": 23,
     "metadata": {},
     "output_type": "execute_result"
    }
   ],
   "source": [
    "find_pos_tags_hmm(bigram_tag_prob, train_emission_prob, tags_of_tokens, ['that','is','a','human'])"
   ]
  },
  {
   "cell_type": "markdown",
   "metadata": {},
   "source": [
    "### Method 2. Spacy Library\n",
    "We can use spacy `en_core_web_sm` which is a english pipeline trained on various corpora to do POS tagging on the given training and testing dataset."
   ]
  },
  {
   "cell_type": "code",
   "execution_count": 24,
   "metadata": {
    "id": "Jcb3u2W5dvEJ"
   },
   "outputs": [],
   "source": [
    "def train_spacy_pos():\n",
    "    print('Training spacy model ......')\n",
    "    nlp_spacy = spacy.load(\"en_core_web_sm\")\n",
    "    print('Training spacy model completed ......')\n",
    "    return nlp_spacy"
   ]
  },
  {
   "cell_type": "code",
   "execution_count": 25,
   "metadata": {},
   "outputs": [],
   "source": [
    "def find_pos_tags_spacy(nlp_spacy , text):\n",
    "    text = ' '.join(text)\n",
    "    doc = nlp_spacy(text)\n",
    "    token = [token.tag_  for token in doc]    \n",
    "    return token"
   ]
  },
  {
   "cell_type": "code",
   "execution_count": 26,
   "metadata": {
    "id": "dCjLSCLDeAMP"
   },
   "outputs": [
    {
     "name": "stdout",
     "output_type": "stream",
     "text": [
      "Training spacy model ......\n",
      "Training spacy model completed ......\n"
     ]
    }
   ],
   "source": [
    "nlp_spacy = train_spacy_pos()"
   ]
  },
  {
   "cell_type": "code",
   "execution_count": 27,
   "metadata": {
    "id": "FqsubC8EeEYH",
    "scrolled": true
   },
   "outputs": [
    {
     "data": {
      "text/plain": [
       "['DT', 'VBZ', 'DT', 'JJ']"
      ]
     },
     "execution_count": 27,
     "metadata": {},
     "output_type": "execute_result"
    }
   ],
   "source": [
    "find_pos_tags_spacy(nlp_spacy , ['that','is','a','sample', 'text'])\n",
    "find_pos_tags_spacy(nlp_spacy , ['that','is','a','human'])"
   ]
  },
  {
   "cell_type": "markdown",
   "metadata": {
    "id": "mTBbki2jCfYU"
   },
   "source": [
    "## Language Model"
   ]
  },
  {
   "cell_type": "markdown",
   "metadata": {
    "id": "8JFXTiEEDPMP"
   },
   "source": [
    "### Importing dataset"
   ]
  },
  {
   "cell_type": "code",
   "execution_count": 28,
   "metadata": {
    "id": "kmGfZeIHDZoE"
   },
   "outputs": [
    {
     "name": "stdout",
     "output_type": "stream",
     "text": [
      "Size of clean train set:\t6272\n",
      "Size of clean dev set:\t\t697\n"
     ]
    }
   ],
   "source": [
    "from sklearn.model_selection import train_test_split\n",
    "clean_text_list, clean_text_dev_list = train_test_split(clean_text_list, test_size=0.1)\n",
    "\n",
    "print(f'Size of clean train set:\\t{len(clean_text_list)}')\n",
    "print(f'Size of clean dev set:\\t\\t{len(clean_text_dev_list)}')"
   ]
  },
  {
   "cell_type": "markdown",
   "metadata": {
    "id": "1tqYNDxWDnzO"
   },
   "source": [
    "### N-gram Model"
   ]
  },
  {
   "cell_type": "code",
   "execution_count": 29,
   "metadata": {
    "id": "5JBryUCADm70"
   },
   "outputs": [],
   "source": [
    "from nltk.util import bigrams\n",
    "from nltk.util import ngrams\n",
    "from nltk.util import everygrams\n",
    "from nltk.util import pad_sequence\n",
    "from nltk.lm import Laplace\n",
    "from nltk.lm import MLE\n",
    "from nltk.lm import Vocabulary\n",
    "from nltk.lm.preprocessing import pad_both_ends\n",
    "from nltk.lm.preprocessing import flatten"
   ]
  },
  {
   "cell_type": "code",
   "execution_count": 30,
   "metadata": {},
   "outputs": [],
   "source": [
    "def convert_to_pos_tags(tokenized_corpus, pos_type=None):\n",
    "    # POS tagging\n",
    "    pos_tag_corpus = []\n",
    "    if pos_type == 'hmm':\n",
    "        print(\"Replacing tokens with POS tags using HMM\")\n",
    "        for sequence in tokenized_corpus:\n",
    "            pos_tag_corpus.append(find_pos_tags_hmm(bigram_tag_prob, train_emission_prob, tags_of_tokens, sequence))\n",
    "        return pos_tag_corpus\n",
    "    elif pos_type == 'spacy':\n",
    "        print(\"Replacing tokens with POS tags using spacy\")\n",
    "        for sequence in tokenized_corpus:\n",
    "            pos_tag_corpus.append(find_pos_tags_spacy(nlp_spacy, sequence))\n",
    "        return pos_tag_corpus\n",
    "    else:\n",
    "        print(\"POS tagging method not selected. No changes made.\")\n",
    "        return tokenized_corpus"
   ]
  },
  {
   "cell_type": "code",
   "execution_count": 31,
   "metadata": {
    "id": "lu8z7EmADqzk"
   },
   "outputs": [],
   "source": [
    "def train_ngram_model(n_value, tokenized_corpus, verbose=False):\n",
    "    print(f'{\"Sequences in corpus:\":50}{len(tokenized_corpus)}')\n",
    "    total_tokens = 0\n",
    "    for sequence in tokenized_corpus:\n",
    "        total_tokens += len(sequence)\n",
    "    print(f'{\"Total tokens in corpus:\":50}{total_tokens}')\n",
    "    \n",
    "    # padding <s> and </s>\n",
    "    print(\"Padding sequences with <s> and </s> tokens\")\n",
    "    padded_sequences = []\n",
    "    for i in range(len(tokenized_corpus)):\n",
    "        padded_tokens = list(pad_sequence(tokenized_corpus[i],\n",
    "                                          pad_left=True, left_pad_symbol=\"<s>\",\n",
    "                                          pad_right=True, right_pad_symbol=\"</s>\",\n",
    "                                          n=n_value))\n",
    "        padded_sequences.append(padded_tokens)\n",
    "    if verbose:\n",
    "        print('eg.', padded_sequences[0])\n",
    "            \n",
    "    # create vocabulary\n",
    "    print(\"Creating vocabulary\")\n",
    "    vocabulary = list(flatten(padded_sequences))\n",
    "    print(f'{\"Flattened sequence size\":50}{len(vocabulary)}')\n",
    "    print(f'{\"Flattened sequence set size\":50}{len(set(vocabulary))}')\n",
    "    # replace tokens below cutoff freq with <UNK> token\n",
    "    vocab = Vocabulary(vocabulary, unk_cutoff=2)\n",
    "    print(f'{\"Vocabulary with <UNK> cutoff size\":50}{len(vocab)}')\n",
    "    \n",
    "    # grouping into group size of `n_value`\n",
    "    print(\"Creating n-grams\")\n",
    "    ngram_sequences = []\n",
    "    for text in padded_sequences:\n",
    "        ngram_sequences.append(list(ngrams(text, n=n_value)))\n",
    "    if verbose:\n",
    "        print('eg.', ngram_sequences[0][:PRINT_LIMIT])\n",
    "    \n",
    "    total_ngrams = 0\n",
    "    for sequence in ngram_sequences:\n",
    "        total_ngrams += len(sequence)\n",
    "    print(f'{\"Total ngram sequences:\":50}{len(ngram_sequences)}\\n{\"Total ngrams:\":50}{total_ngrams}')\n",
    "        \n",
    "    # language model\n",
    "    print(\"Creating language model\")\n",
    "    model = Laplace(n_value)\n",
    "    model.fit(ngram_sequences, vocab)\n",
    "    print(f'{\"Model vocab size:\":50}{len(model.vocab)}')\n",
    "    # print(f\"Grand total number of ngrams stored:\\t{model.N()}\")\n",
    "    # print(f'{\"Total n-grams of size \"+str(n_value)+\" in model:\":50}{len(model.counts[n_value].items())}')\n",
    "    \n",
    "    sequence_scores = []\n",
    "    sequence_token_scores = []\n",
    "    for ngram_sequence in ngram_sequences:\n",
    "        sequence_score = 0\n",
    "        sequence_token_score = []\n",
    "        for group in ngram_sequence:\n",
    "            score = model.logscore(group[-1], group[:-1])\n",
    "            sequence_score += score\n",
    "            sequence_token_score.append(score)\n",
    "        # sequence_scores.append(sequence_score)\n",
    "        sequence_scores.append(sequence_score/len(ngram_sequence))\n",
    "        sequence_token_scores.append(sequence_token_score)\n",
    "        \n",
    "    return {\n",
    "        'padded_sequences': padded_sequences,\n",
    "        'vocabulary': vocab,\n",
    "        'ngram_sequences': ngram_sequences,\n",
    "        'model': model,\n",
    "        'sequence_scores': sequence_scores,\n",
    "        'sequence_token_scores': sequence_token_scores\n",
    "    }    "
   ]
  },
  {
   "cell_type": "code",
   "execution_count": 32,
   "metadata": {
    "id": "P8DkYJemDt_T"
   },
   "outputs": [],
   "source": [
    "# def filter_using_token_score(n_value, model, ngram_sequences, log_cutoff, verbose=False):\n",
    "#     # finding suspect ngrams using individual token cutoffs\n",
    "    \n",
    "#     print('Filtering sequences based on individual token scores')\n",
    "#     suspect_entries = []\n",
    "#     suspect_sequences = []\n",
    "#     for ngram_sequence in ngram_sequences:\n",
    "#         is_suspect = False\n",
    "#         for group in ngram_sequence:\n",
    "#             score = model.logscore(group[-1], group[:-1])\n",
    "#             if score < log_cutoff:\n",
    "#                 is_suspect = True\n",
    "#                 suspect_entries.append({\n",
    "#                     'token': group[-1],\n",
    "#                     'context': group[:-1],\n",
    "#                     'sequence': ngram_sequence,\n",
    "#                     'score': score\n",
    "#                 })\n",
    "#         if is_suspect:\n",
    "#             suspect_sequences.append(ngram_sequence)\n",
    "#     if verbose:\n",
    "#         print(f'Suspect sequences based on individual token scores:\\t{len(suspect_sequences)}/{len(ngram_sequences)}')\n",
    "#     return suspect_entries, suspect_sequences"
   ]
  },
  {
   "cell_type": "code",
   "execution_count": 33,
   "metadata": {
    "id": "yvxDZFoSDvmb"
   },
   "outputs": [],
   "source": [
    "def filter_using_sequence_score(n_value, ngram_sequences, sequence_scores, log_cutoff, verbose=False):\n",
    "    # finding suspect sequences using sequence cutoffs\n",
    "    \n",
    "    print('Filtering sequences based on sequence scores')\n",
    "    suspect_indexes = []\n",
    "    for i in range(len(ngram_sequences)):\n",
    "        if sequence_scores[i] < log_cutoff:\n",
    "            suspect_indexes.append(i)\n",
    "    if verbose:\n",
    "        print(f'{\"Suspect sequences based on sequence scores:\":50}{len(suspect_indexes)}/{len(ngram_sequences)}')\n",
    "    return suspect_indexes"
   ]
  },
  {
   "cell_type": "code",
   "execution_count": 34,
   "metadata": {
    "id": "9LY-Qk9NDxDm"
   },
   "outputs": [],
   "source": [
    "def plot_continuous_freq_dist(values, xlabel, ylabel, title, bins=50, cutoff=None):\n",
    "    # plot freq distribution for cutoff visualization\n",
    "    plt.rcParams.update({'figure.figsize':(10, 3)})\n",
    "    plt.hist(values, bins=bins)\n",
    "    if cutoff:\n",
    "        plt.axvline(x=cutoff, color='red')\n",
    "    plt.gca().set(title=title, xlabel=xlabel, ylabel=ylabel);\n",
    "    plt.show()"
   ]
  },
  {
   "cell_type": "code",
   "execution_count": 35,
   "metadata": {
    "id": "_g32uNTFDyXp"
   },
   "outputs": [],
   "source": [
    "def get_sequence_score_cutoff(sequence_scores, alpha=0.05):\n",
    "    scores = sequence_scores.copy()\n",
    "    n = len(scores)\n",
    "    scores.sort()\n",
    "    index = max(0, min(n-1, int(n*alpha)))\n",
    "    return scores[index]"
   ]
  },
  {
   "cell_type": "code",
   "execution_count": 36,
   "metadata": {
    "id": "euMAzvclDzDe"
   },
   "outputs": [],
   "source": [
    "n_values = [i+1 for i in range(5)]\n",
    "# token_log_cutoffs = {1: -30, 2: -21, 3: -30, 4: -25}\n",
    "# alpha: used to calculate score cutoff\n",
    "alpha = 0.02\n",
    "pos_type = 'spacy'"
   ]
  },
  {
   "cell_type": "code",
   "execution_count": 37,
   "metadata": {
    "id": "IdVFz_urD0if",
    "scrolled": false
   },
   "outputs": [],
   "source": [
    "def train_lm(n_values, train_corpus, alpha):\n",
    "    ngram_data = dict()\n",
    "    for n_value in n_values:\n",
    "        print(f\"Training {n_value}-gram model\")\n",
    "        ngram_model_info = train_ngram_model(n_value, train_corpus, verbose=False)\n",
    "        ngram_data[n_value] = ngram_model_info\n",
    "\n",
    "        # filter_using_token_score(n_value, ngram_model_info['model'], ngram_model_info['ngram_sequences'], token_log_cutoffs[n_value], verbose=True)\n",
    "\n",
    "        sequence_score_log_cutoff = get_sequence_score_cutoff(ngram_model_info['sequence_scores'], alpha=alpha)\n",
    "        filter_using_sequence_score(n_value, ngram_model_info['ngram_sequences'], ngram_model_info['sequence_scores'], \n",
    "                                    sequence_score_log_cutoff, verbose=True)\n",
    "        print(f'{\"Sequence score cutoff:\":50}{sequence_score_log_cutoff}\\n')\n",
    "        ngram_data[n_value]['score_cutoff'] = sequence_score_log_cutoff\n",
    "\n",
    "        plot_continuous_freq_dist(ngram_model_info['sequence_scores'], xlabel='Sequence score', \n",
    "                                  ylabel='Frequency', title='Sequence score frequency distribution', bins=200, \n",
    "                                  cutoff=sequence_score_log_cutoff)\n",
    "    return ngram_data"
   ]
  },
  {
   "cell_type": "code",
   "execution_count": 38,
   "metadata": {
    "scrolled": true
   },
   "outputs": [
    {
     "name": "stdout",
     "output_type": "stream",
     "text": [
      "Training 1-gram model\n",
      "Sequences in corpus:                              25396\n",
      "Total tokens in corpus:                           519936\n",
      "Padding sequences with <s> and </s> tokens\n",
      "Creating vocabulary\n",
      "Flattened sequence size                           519936\n",
      "Flattened sequence set size                       35849\n",
      "Vocabulary with <UNK> cutoff size                 18672\n",
      "Creating n-grams\n",
      "Total ngram sequences:                            25396\n",
      "Total ngrams:                                     519936\n",
      "Creating language model\n",
      "Model vocab size:                                 18673\n",
      "Filtering sequences based on sequence scores\n",
      "Suspect sequences based on sequence scores:       507/25396\n",
      "Sequence score cutoff:                            -11.563575703587231\n",
      "\n"
     ]
    },
    {
     "data": {
      "image/png": "[encoded data removed]",
      "text/plain": [
       "<Figure size 720x216 with 1 Axes>"
      ]
     },
     "metadata": {
      "needs_background": "light"
     },
     "output_type": "display_data"
    },
    {
     "name": "stdout",
     "output_type": "stream",
     "text": [
      "Training 2-gram model\n",
      "Sequences in corpus:                              25396\n",
      "Total tokens in corpus:                           519936\n",
      "Padding sequences with <s> and </s> tokens\n",
      "Creating vocabulary\n",
      "Flattened sequence size                           570728\n",
      "Flattened sequence set size                       35851\n",
      "Vocabulary with <UNK> cutoff size                 18674\n",
      "Creating n-grams\n",
      "Total ngram sequences:                            25396\n",
      "Total ngrams:                                     545332\n",
      "Creating language model\n",
      "Model vocab size:                                 18675\n",
      "Filtering sequences based on sequence scores\n",
      "Suspect sequences based on sequence scores:       507/25396\n",
      "Sequence score cutoff:                            -11.679081553782094\n",
      "\n"
     ]
    },
    {
     "data": {
      "image/png": "[encoded data removed]",
      "text/plain": [
       "<Figure size 720x216 with 1 Axes>"
      ]
     },
     "metadata": {
      "needs_background": "light"
     },
     "output_type": "display_data"
    },
    {
     "name": "stdout",
     "output_type": "stream",
     "text": [
      "Training 3-gram model\n",
      "Sequences in corpus:                              25396\n",
      "Total tokens in corpus:                           519936\n",
      "Padding sequences with <s> and </s> tokens\n",
      "Creating vocabulary\n",
      "Flattened sequence size                           621520\n",
      "Flattened sequence set size                       35851\n",
      "Vocabulary with <UNK> cutoff size                 18674\n",
      "Creating n-grams\n",
      "Total ngram sequences:                            25396\n",
      "Total ngrams:                                     570728\n",
      "Creating language model\n",
      "Model vocab size:                                 18675\n",
      "Filtering sequences based on sequence scores\n",
      "Suspect sequences based on sequence scores:       507/25396\n",
      "Sequence score cutoff:                            -12.611090158815314\n",
      "\n"
     ]
    },
    {
     "data": {
      "image/png": "[encoded data removed]",
      "text/plain": [
       "<Figure size 720x216 with 1 Axes>"
      ]
     },
     "metadata": {
      "needs_background": "light"
     },
     "output_type": "display_data"
    },
    {
     "name": "stdout",
     "output_type": "stream",
     "text": [
      "Training 4-gram model\n",
      "Sequences in corpus:                              25396\n",
      "Total tokens in corpus:                           519936\n",
      "Padding sequences with <s> and </s> tokens\n",
      "Creating vocabulary\n",
      "Flattened sequence size                           672312\n",
      "Flattened sequence set size                       35851\n",
      "Vocabulary with <UNK> cutoff size                 18674\n",
      "Creating n-grams\n",
      "Total ngram sequences:                            25396\n",
      "Total ngrams:                                     596124\n",
      "Creating language model\n",
      "Model vocab size:                                 18675\n",
      "Filtering sequences based on sequence scores\n",
      "Suspect sequences based on sequence scores:       507/25396\n",
      "Sequence score cutoff:                            -12.824683729798359\n",
      "\n"
     ]
    },
    {
     "data": {
      "image/png": "[encoded data removed]",
      "text/plain": [
       "<Figure size 720x216 with 1 Axes>"
      ]
     },
     "metadata": {
      "needs_background": "light"
     },
     "output_type": "display_data"
    },
    {
     "name": "stdout",
     "output_type": "stream",
     "text": [
      "Training 5-gram model\n",
      "Sequences in corpus:                              25396\n",
      "Total tokens in corpus:                           519936\n",
      "Padding sequences with <s> and </s> tokens\n",
      "Creating vocabulary\n",
      "Flattened sequence size                           723104\n",
      "Flattened sequence set size                       35851\n",
      "Vocabulary with <UNK> cutoff size                 18674\n",
      "Creating n-grams\n",
      "Total ngram sequences:                            25396\n",
      "Total ngrams:                                     621520\n",
      "Creating language model\n",
      "Model vocab size:                                 18675\n",
      "Filtering sequences based on sequence scores\n",
      "Suspect sequences based on sequence scores:       507/25396\n",
      "Sequence score cutoff:                            -12.873724621771752\n",
      "\n"
     ]
    },
    {
     "data": {
      "image/png": "[encoded data removed]",
      "text/plain": [
       "<Figure size 720x216 with 1 Axes>"
      ]
     },
     "metadata": {
      "needs_background": "light"
     },
     "output_type": "display_data"
    }
   ],
   "source": [
    "# Text n-gram model\n",
    "ngram_data_text = train_lm(n_values, tokenized_clean_text_list, alpha=alpha)"
   ]
  },
  {
   "cell_type": "code",
   "execution_count": 39,
   "metadata": {
    "scrolled": true
   },
   "outputs": [],
   "source": [
    "wrong = np.array(ngram_data_text[2]['sequence_scores']) == -4.383958736781427\n",
    "for i in np.array(segmented_clean_text_list)[wrong]:\n",
    "    print(i, end=\"\\n\\n\")"
   ]
  },
  {
   "cell_type": "code",
   "execution_count": 40,
   "metadata": {},
   "outputs": [
    {
     "name": "stdout",
     "output_type": "stream",
     "text": [
      "Replacing tokens with POS tags using spacy\n",
      "Training 1-gram model\n",
      "Sequences in corpus:                              25396\n",
      "Total tokens in corpus:                           535128\n",
      "Padding sequences with <s> and </s> tokens\n",
      "Creating vocabulary\n",
      "Flattened sequence size                           535128\n",
      "Flattened sequence set size                       49\n",
      "Vocabulary with <UNK> cutoff size                 48\n",
      "Creating n-grams\n",
      "Total ngram sequences:                            25396\n",
      "Total ngrams:                                     535128\n",
      "Creating language model\n",
      "Model vocab size:                                 49\n",
      "Filtering sequences based on sequence scores\n",
      "Suspect sequences based on sequence scores:       507/25396\n",
      "Sequence score cutoff:                            -5.493683275892282\n",
      "\n"
     ]
    },
    {
     "data": {
      "image/png": "[encoded data removed]",
      "text/plain": [
       "<Figure size 720x216 with 1 Axes>"
      ]
     },
     "metadata": {
      "needs_background": "light"
     },
     "output_type": "display_data"
    },
    {
     "name": "stdout",
     "output_type": "stream",
     "text": [
      "Training 2-gram model\n",
      "Sequences in corpus:                              25396\n",
      "Total tokens in corpus:                           535128\n",
      "Padding sequences with <s> and </s> tokens\n",
      "Creating vocabulary\n",
      "Flattened sequence size                           585920\n",
      "Flattened sequence set size                       51\n",
      "Vocabulary with <UNK> cutoff size                 50\n",
      "Creating n-grams\n",
      "Total ngram sequences:                            25396\n",
      "Total ngrams:                                     560524\n",
      "Creating language model\n",
      "Model vocab size:                                 51\n",
      "Filtering sequences based on sequence scores\n",
      "Suspect sequences based on sequence scores:       504/25396\n",
      "Sequence score cutoff:                            -4.301213455026503\n",
      "\n"
     ]
    },
    {
     "data": {
      "image/png": "[encoded data removed]",
      "text/plain": [
       "<Figure size 720x216 with 1 Axes>"
      ]
     },
     "metadata": {
      "needs_background": "light"
     },
     "output_type": "display_data"
    },
    {
     "name": "stdout",
     "output_type": "stream",
     "text": [
      "Training 3-gram model\n",
      "Sequences in corpus:                              25396\n",
      "Total tokens in corpus:                           535128\n",
      "Padding sequences with <s> and </s> tokens\n",
      "Creating vocabulary\n",
      "Flattened sequence size                           636712\n",
      "Flattened sequence set size                       51\n",
      "Vocabulary with <UNK> cutoff size                 50\n",
      "Creating n-grams\n",
      "Total ngram sequences:                            25396\n",
      "Total ngrams:                                     585920\n",
      "Creating language model\n",
      "Model vocab size:                                 51\n",
      "Filtering sequences based on sequence scores\n",
      "Suspect sequences based on sequence scores:       507/25396\n",
      "Sequence score cutoff:                            -3.7886768843864425\n",
      "\n"
     ]
    },
    {
     "data": {
      "image/png": "[encoded data removed]",
      "text/plain": [
       "<Figure size 720x216 with 1 Axes>"
      ]
     },
     "metadata": {
      "needs_background": "light"
     },
     "output_type": "display_data"
    },
    {
     "name": "stdout",
     "output_type": "stream",
     "text": [
      "Training 4-gram model\n",
      "Sequences in corpus:                              25396\n",
      "Total tokens in corpus:                           535128\n",
      "Padding sequences with <s> and </s> tokens\n",
      "Creating vocabulary\n",
      "Flattened sequence size                           687504\n",
      "Flattened sequence set size                       51\n",
      "Vocabulary with <UNK> cutoff size                 50\n",
      "Creating n-grams\n",
      "Total ngram sequences:                            25396\n",
      "Total ngrams:                                     611316\n",
      "Creating language model\n",
      "Model vocab size:                                 51\n",
      "Filtering sequences based on sequence scores\n",
      "Suspect sequences based on sequence scores:       507/25396\n",
      "Sequence score cutoff:                            -3.7514930873713044\n",
      "\n"
     ]
    },
    {
     "data": {
      "image/png": "[encoded data removed]",
      "text/plain": [
       "<Figure size 720x216 with 1 Axes>"
      ]
     },
     "metadata": {
      "needs_background": "light"
     },
     "output_type": "display_data"
    },
    {
     "name": "stdout",
     "output_type": "stream",
     "text": [
      "Training 5-gram model\n",
      "Sequences in corpus:                              25396\n",
      "Total tokens in corpus:                           535128\n",
      "Padding sequences with <s> and </s> tokens\n",
      "Creating vocabulary\n",
      "Flattened sequence size                           738296\n",
      "Flattened sequence set size                       51\n",
      "Vocabulary with <UNK> cutoff size                 50\n",
      "Creating n-grams\n",
      "Total ngram sequences:                            25396\n",
      "Total ngrams:                                     636712\n",
      "Creating language model\n",
      "Model vocab size:                                 51\n",
      "Filtering sequences based on sequence scores\n",
      "Suspect sequences based on sequence scores:       507/25396\n",
      "Sequence score cutoff:                            -3.9470893568207073\n",
      "\n"
     ]
    },
    {
     "data": {
      "image/png": "[encoded data removed]",
      "text/plain": [
       "<Figure size 720x216 with 1 Axes>"
      ]
     },
     "metadata": {
      "needs_background": "light"
     },
     "output_type": "display_data"
    }
   ],
   "source": [
    "# POS tag n-gram model\n",
    "clean_pos_tag_list = convert_to_pos_tags(tokenized_clean_text_list, pos_type=pos_type)\n",
    "ngram_data_pos = train_lm(n_values, clean_pos_tag_list, alpha=alpha)"
   ]
  },
  {
   "cell_type": "code",
   "execution_count": 41,
   "metadata": {
    "scrolled": true
   },
   "outputs": [
    {
     "data": {
      "text/html": [
       "<div>\n",
       "<style scoped>\n",
       "    .dataframe tbody tr th:only-of-type {\n",
       "        vertical-align: middle;\n",
       "    }\n",
       "\n",
       "    .dataframe tbody tr th {\n",
       "        vertical-align: top;\n",
       "    }\n",
       "\n",
       "    .dataframe thead th {\n",
       "        text-align: right;\n",
       "    }\n",
       "</style>\n",
       "<table border=\"1\" class=\"dataframe\">\n",
       "  <thead>\n",
       "    <tr style=\"text-align: right;\">\n",
       "      <th></th>\n",
       "      <th>N-gram</th>\n",
       "      <th>Context</th>\n",
       "      <th>Token</th>\n",
       "      <th>Count</th>\n",
       "      <th>Score</th>\n",
       "      <th>Log Score</th>\n",
       "    </tr>\n",
       "  </thead>\n",
       "  <tbody>\n",
       "    <tr>\n",
       "      <th>0</th>\n",
       "      <td>1</td>\n",
       "      <td></td>\n",
       "      <td>&lt;s&gt;</td>\n",
       "      <td>0</td>\n",
       "      <td>0.031895</td>\n",
       "      <td>-4.970520</td>\n",
       "    </tr>\n",
       "    <tr>\n",
       "      <th>1</th>\n",
       "      <td>1</td>\n",
       "      <td></td>\n",
       "      <td>of</td>\n",
       "      <td>15977</td>\n",
       "      <td>0.029665</td>\n",
       "      <td>-5.075080</td>\n",
       "    </tr>\n",
       "    <tr>\n",
       "      <th>2</th>\n",
       "      <td>1</td>\n",
       "      <td></td>\n",
       "      <td>the</td>\n",
       "      <td>27816</td>\n",
       "      <td>0.051646</td>\n",
       "      <td>-4.275200</td>\n",
       "    </tr>\n",
       "    <tr>\n",
       "      <th>3</th>\n",
       "      <td>1</td>\n",
       "      <td></td>\n",
       "      <td>The</td>\n",
       "      <td>3161</td>\n",
       "      <td>0.005871</td>\n",
       "      <td>-7.412257</td>\n",
       "    </tr>\n",
       "    <tr>\n",
       "      <th>4</th>\n",
       "      <td>1</td>\n",
       "      <td></td>\n",
       "      <td>&lt;UNK&gt;</td>\n",
       "      <td>17178</td>\n",
       "      <td>0.031895</td>\n",
       "      <td>-4.970520</td>\n",
       "    </tr>\n",
       "    <tr>\n",
       "      <th>5</th>\n",
       "      <td>2</td>\n",
       "      <td>&lt;s&gt;</td>\n",
       "      <td>The</td>\n",
       "      <td>2783</td>\n",
       "      <td>0.063171</td>\n",
       "      <td>-3.984599</td>\n",
       "    </tr>\n",
       "    <tr>\n",
       "      <th>6</th>\n",
       "      <td>2</td>\n",
       "      <td>of</td>\n",
       "      <td>the</td>\n",
       "      <td>4218</td>\n",
       "      <td>0.121753</td>\n",
       "      <td>-3.037966</td>\n",
       "    </tr>\n",
       "    <tr>\n",
       "      <th>7</th>\n",
       "      <td>2</td>\n",
       "      <td>is</td>\n",
       "      <td>a</td>\n",
       "      <td>383</td>\n",
       "      <td>0.016572</td>\n",
       "      <td>-5.915132</td>\n",
       "    </tr>\n",
       "    <tr>\n",
       "      <th>8</th>\n",
       "      <td>3</td>\n",
       "      <td>This is</td>\n",
       "      <td>a</td>\n",
       "      <td>18</td>\n",
       "      <td>0.001012</td>\n",
       "      <td>-9.948905</td>\n",
       "    </tr>\n",
       "    <tr>\n",
       "      <th>9</th>\n",
       "      <td>3</td>\n",
       "      <td>this is</td>\n",
       "      <td>a</td>\n",
       "      <td>13</td>\n",
       "      <td>0.000746</td>\n",
       "      <td>-10.388632</td>\n",
       "    </tr>\n",
       "    <tr>\n",
       "      <th>10</th>\n",
       "      <td>3</td>\n",
       "      <td>&lt;s&gt; &lt;s&gt;</td>\n",
       "      <td>The</td>\n",
       "      <td>2783</td>\n",
       "      <td>0.063171</td>\n",
       "      <td>-3.984599</td>\n",
       "    </tr>\n",
       "    <tr>\n",
       "      <th>11</th>\n",
       "      <td>3</td>\n",
       "      <td>What is</td>\n",
       "      <td>&lt;UNK&gt;</td>\n",
       "      <td>1</td>\n",
       "      <td>0.000107</td>\n",
       "      <td>-13.190828</td>\n",
       "    </tr>\n",
       "  </tbody>\n",
       "</table>\n",
       "</div>"
      ],
      "text/plain": [
       "   N-gram  Context  Token  Count     Score  Log Score\n",
       "0       1             <s>      0  0.031895  -4.970520\n",
       "1       1              of  15977  0.029665  -5.075080\n",
       "2       1             the  27816  0.051646  -4.275200\n",
       "3       1             The   3161  0.005871  -7.412257\n",
       "4       1           <UNK>  17178  0.031895  -4.970520\n",
       "5       2      <s>    The   2783  0.063171  -3.984599\n",
       "6       2       of    the   4218  0.121753  -3.037966\n",
       "7       2       is      a    383  0.016572  -5.915132\n",
       "8       3  This is      a     18  0.001012  -9.948905\n",
       "9       3  this is      a     13  0.000746 -10.388632\n",
       "10      3  <s> <s>    The   2783  0.063171  -3.984599\n",
       "11      3  What is  <UNK>      1  0.000107 -13.190828"
      ]
     },
     "metadata": {},
     "output_type": "display_data"
    }
   ],
   "source": [
    "# Print sample information learned from model\n",
    "\n",
    "unigram_list = ['<s>', 'of', 'the', 'The', '<UNK>']\n",
    "# [token, context]\n",
    "ngram_list = [\n",
    "    ['The', '<s>'], \n",
    "    ['the', 'of'], \n",
    "    ['a', 'is'],\n",
    "    ['a', 'This is'],\n",
    "    ['a', 'this is'],\n",
    "    ['The', '<s> <s>'], \n",
    "    ['<UNK>', 'What is']\n",
    "]\n",
    "\n",
    "heading_df = ['N-gram', 'Context', 'Token', 'Count', 'Score', 'Log Score']\n",
    "list_to_df = []\n",
    "for token in unigram_list:\n",
    "    list_to_df.append([\n",
    "        '1', '', token, \n",
    "        ngram_data_text[1]['model'].counts[token], \n",
    "        ngram_data_text[1]['model'].score(token), \n",
    "        ngram_data_text[1]['model'].logscore(token)\n",
    "    ])\n",
    "for token in ngram_list:\n",
    "    n_value = len(token[1].split())+1\n",
    "    if n_value not in n_values:\n",
    "        raise ValueError(f'{n_value}-gram model not available for the given context size {n_value-1} of \"{token[1]}\".')\n",
    "    list_to_df.append([\n",
    "        n_value, token[1], token[0], \n",
    "        ngram_data_text[n_value]['model'].counts[token[1].split()][token[0]], \n",
    "        ngram_data_text[n_value]['model'].score(token[0], token[1].split()), \n",
    "        ngram_data_text[n_value]['model'].logscore(token[0], token[1].split())\n",
    "    ])\n",
    "\n",
    "display(pd.DataFrame(list_to_df, columns = heading_df))"
   ]
  },
  {
   "cell_type": "markdown",
   "metadata": {
    "id": "S0DpH1t7D7kz"
   },
   "source": [
    "## Model Evaluation"
   ]
  },
  {
   "cell_type": "markdown",
   "metadata": {
    "id": "nzobZsrID_qP"
   },
   "source": [
    "### Shannon Visualization"
   ]
  },
  {
   "cell_type": "code",
   "execution_count": 42,
   "metadata": {},
   "outputs": [],
   "source": [
    "def get_sentence_from_tokens(tokens):\n",
    "    filtered_tokens = []\n",
    "    for token in tokens:\n",
    "        if token in ['<s>', '</s>']:\n",
    "            continue\n",
    "        else:\n",
    "            filtered_tokens.append(token)\n",
    "    return ' '.join(filtered_tokens)"
   ]
  },
  {
   "cell_type": "code",
   "execution_count": 43,
   "metadata": {
    "id": "A0fn7GMBD-BX"
   },
   "outputs": [],
   "source": [
    "from nltk.probability import MLEProbDist\n",
    "\n",
    "def shannon_visualization(n_value, model, max_len=50, verbose=False):\n",
    "    sentence = \"\"\n",
    "    if n_value == 1:\n",
    "        # Unigram\n",
    "        tokens = model.generate(max_len, random_seed=None)\n",
    "        sentence = get_sentence_from_tokens(tokens)\n",
    "        if verbose:\n",
    "            print('1-gram:', sentence)\n",
    "    else:\n",
    "        if verbose:\n",
    "            print(f'{n_value}-gram: ', end='')\n",
    "        cur_tokens = ['<s>']*(n_value-1)\n",
    "        sequence = []\n",
    "        for _ in range(max_len):\n",
    "            freq_dist = model.counts[cur_tokens]\n",
    "            prob_dist = MLEProbDist(freq_dist)\n",
    "            next_token = prob_dist.generate()\n",
    "            if next_token == '</s>':\n",
    "                break\n",
    "            sequence.append(next_token)\n",
    "            if verbose:\n",
    "                print(next_token, end=' ')\n",
    "            cur_tokens.pop(0)\n",
    "            cur_tokens.append(next_token)\n",
    "        sentence = ' '.join(sequence)\n",
    "        if verbose:\n",
    "            print()\n",
    "    return sentence"
   ]
  },
  {
   "cell_type": "code",
   "execution_count": 44,
   "metadata": {
    "id": "ypefYfieEJCK",
    "scrolled": false
   },
   "outputs": [
    {
     "name": "stdout",
     "output_type": "stream",
     "text": [
      "1-gram\n",
      "======\n",
      "took weapon trains and replies flash terms see it . , irregularly stalls and effective Adjusted division his was fact the an the stated structure New reminded members ordinance Dollar with hypothalamic-cortical student supposed opposed each delegates book numbering feed Get east . the far his who that of at\n",
      "\n",
      "2-gram\n",
      "======\n",
      "Is forgiveness comes with most a social status in his 27 million dollars a certain <UNK> myself , <UNK> in an entirely , or temperatures are side , simply ca n't feel length in the airport and almost be less than unity can use of the field . ) that\n",
      "\n",
      "3-gram\n",
      "======\n",
      "Thou art God `` .\n",
      "\n",
      "4-gram\n",
      "======\n",
      "His chief discovery was important -- the Great North River had disposed of it at Lewisohn Stadium on Saturday night .\n",
      "\n",
      "5-gram\n",
      "======\n",
      "This was the same , except that it was the same point we were making .\n",
      "\n"
     ]
    }
   ],
   "source": [
    "for n_value in n_values:\n",
    "    sent = shannon_visualization(n_value, ngram_data_text[n_value]['model'], 50, verbose=False)\n",
    "    print(f'{n_value}-gram')\n",
    "    print(f'======')\n",
    "    print(sent, end='\\n\\n')"
   ]
  },
  {
   "cell_type": "markdown",
   "metadata": {},
   "source": [
    "## Evaluation functions"
   ]
  },
  {
   "cell_type": "code",
   "execution_count": 45,
   "metadata": {
    "id": "VyrLw9w4EOXg"
   },
   "outputs": [],
   "source": [
    "def analyse_test_corpus(tokenized_corpus, n_value, model, verbose=False):\n",
    "    \n",
    "    if verbose:\n",
    "        print(f'{\"Sequences in corpus:\":50}{len(tokenized_corpus)}')\n",
    "    total_tokens = 0\n",
    "    for sequence in tokenized_corpus:\n",
    "        total_tokens += len(sequence)\n",
    "    if verbose:\n",
    "        print(f'{\"Total tokens in corpus:\":50}{total_tokens}')\n",
    "    \n",
    "    # padding <s> and </s>\n",
    "    if verbose:\n",
    "        print(\"Padding sequences with <s> and </s> tokens\")\n",
    "    padded_sequences = []\n",
    "    total_tokens_with_padding = 0\n",
    "    for i in range(len(tokenized_corpus)):\n",
    "        padded_tokens = list(pad_sequence(tokenized_corpus[i],\n",
    "                                          pad_left=True, left_pad_symbol=\"<s>\",\n",
    "                                          pad_right=True, right_pad_symbol=\"</s>\",\n",
    "                                          n=n_value))\n",
    "        padded_sequences.append(padded_tokens)\n",
    "        total_tokens_with_padding += len(padded_tokens)\n",
    "    # if verbose:\n",
    "    #     print('eg.', padded_sequences[0])\n",
    "    \n",
    "    # grouping into group size of `n_value`\n",
    "    if verbose:\n",
    "        print(\"Creating n-grams\")\n",
    "    ngram_sequences = []\n",
    "    for text in padded_sequences:\n",
    "        ngram_sequences.append(list(ngrams(text, n=n_value)))\n",
    "    # if verbose:\n",
    "    #     print('eg.', ngram_sequences[0][:PRINT_LIMIT])\n",
    "    \n",
    "    total_ngrams = 0\n",
    "    for sequence in ngram_sequences:\n",
    "        total_ngrams += len(sequence)\n",
    "    if verbose:\n",
    "        print(f'{\"Total ngram sequences:\":50}{len(ngram_sequences)}\\n{\"Total ngrams:\":50}{total_ngrams}')    \n",
    "    \n",
    "    \n",
    "    sequence_scores = []\n",
    "    sequence_token_scores = []\n",
    "    total_score = 0\n",
    "    for ngram_sequence in ngram_sequences:\n",
    "        sequence_score = 0\n",
    "        sequence_token_score = []\n",
    "        for group in ngram_sequence:\n",
    "            score = model.logscore(group[-1], group[:-1])\n",
    "            sequence_score += score\n",
    "            sequence_token_score.append(score)\n",
    "        # sequence_scores.append(sequence_score)\n",
    "        sequence_scores.append(sequence_score/len(ngram_sequence))\n",
    "        total_score += sequence_score\n",
    "        sequence_token_scores.append(sequence_token_score)\n",
    "    log_perplexity = -total_score/total_tokens_with_padding\n",
    "    \n",
    "    return {\n",
    "        'padded_sequences': padded_sequences,\n",
    "        'ngram_sequences': ngram_sequences,\n",
    "        'sequence_scores': sequence_scores,\n",
    "        'map_to_corpus_index': map_to_corpus_index,\n",
    "        'perplexity': log_perplexity,\n",
    "        'sequence_token_scores': sequence_token_scores\n",
    "    }"
   ]
  },
  {
   "cell_type": "code",
   "execution_count": 46,
   "metadata": {},
   "outputs": [],
   "source": [
    "def test_lm(test_corpus, n_values, ngram_data):\n",
    "    ngram_results = dict()\n",
    "    for n_value in n_values:\n",
    "        print(f\"Testing {n_value}-gram model\")\n",
    "        ngram_test_info = analyse_test_corpus(test_corpus, n_value, ngram_data[n_value]['model'], verbose=True)\n",
    "        plot_continuous_freq_dist(ngram_test_info['sequence_scores'], xlabel='Sequence score', \n",
    "                                  ylabel='Frequency', title='Sequence score frequency distribution', bins=200,\n",
    "                                  cutoff=ngram_data[n_value]['score_cutoff'])\n",
    "        # filter_using_token_score(n_value, ngram_data[n_value]['model'], ngram_test_info['ngram_sequences'], token_log_cutoffs[n_value], verbose=True)\n",
    "        suspect_sequences_indexes = filter_using_sequence_score(n_value, \n",
    "                                                   ngram_test_info['ngram_sequences'], \n",
    "                                                   ngram_test_info['sequence_scores'], \n",
    "                                                   ngram_data[n_value]['score_cutoff'], verbose=True)\n",
    "        suspect_corpus_index = []\n",
    "        for index in suspect_sequences_indexes:\n",
    "            suspect_corpus_index.append(ngram_test_info['map_to_corpus_index'][index])\n",
    "        suspect_corpus_index = set(suspect_corpus_index)\n",
    "\n",
    "        ngram_results[n_value] = dict()\n",
    "        ngram_results[n_value] = {\n",
    "            'suspect_corpus_index': suspect_corpus_index,\n",
    "            'padded_sequences': ngram_test_info['padded_sequences'],\n",
    "            'ngram_sequences': ngram_test_info['ngram_sequences'],\n",
    "            'suspect_sequences_index': suspect_sequences_indexes,\n",
    "            'map_to_corpus_index': ngram_test_info['map_to_corpus_index'],\n",
    "            'log_perplexity': ngram_test_info['perplexity'],\n",
    "            'sequence_scores': ngram_test_info['sequence_scores'],\n",
    "            'sequence_token_scores': ngram_test_info['sequence_token_scores']\n",
    "        }\n",
    "        print()\n",
    "    return ngram_results"
   ]
  },
  {
   "cell_type": "code",
   "execution_count": 47,
   "metadata": {
    "id": "m9DSjNE5EVCU"
   },
   "outputs": [],
   "source": [
    "def print_stats(text_list, n_values, ngram_results, indexes=None):\n",
    "    for n_value in n_values:\n",
    "        if indexes is None:\n",
    "            continue\n",
    "        elif indexes == 'all':\n",
    "            print(f'{n_value}-gram')\n",
    "            for index in range(len(text_list)):\n",
    "                print(f\"\\t{index}:\\t{index in ngram_results[n_value]['suspect_corpus_index']}\")\n",
    "        else:\n",
    "            print(f'{n_value}-gram')\n",
    "            for index in indexes:\n",
    "                print(f\"\\t{index}:\\t{index in ngram_results[n_value]['suspect_corpus_index']}\")\n",
    "    \n",
    "    print('Total sequence generated from unknown corpus:\\t', len(ngram_results[n_values[-1]]['padded_sequences']))\n",
    "    print('Total text files in unknown corpus:\\t\\t', len(text_list))\n",
    "    heading_df = ['N-gram', 'Suspect sequences', 'Suspect files']\n",
    "    list_to_df = []\n",
    "    for n_value in n_values:\n",
    "        list_to_df.append([\n",
    "            n_value,\n",
    "            len(ngram_results[n_value]['suspect_sequences_index']), \n",
    "            len(ngram_results[n_value]['suspect_corpus_index'])\n",
    "        ])\n",
    "    display(pd.DataFrame(list_to_df, columns = heading_df))"
   ]
  },
  {
   "cell_type": "markdown",
   "metadata": {},
   "source": [
    "## Log Perplexity Calculation"
   ]
  },
  {
   "cell_type": "code",
   "execution_count": 48,
   "metadata": {},
   "outputs": [],
   "source": [
    "def calculate_log_perplexity(text_dev_list, n_values, ngram_data):   \n",
    "    perplexity = dict()\n",
    "    for n_value in n_values:\n",
    "        ngram_test_info = analyse_test_corpus(tokenized_corpus, n_value, \n",
    "                                              ngram_data[n_value]['model'], verbose=False)\n",
    "        perplexity[n_value] = ngram_test_info['perplexity']\n",
    "    return perplexity"
   ]
  },
  {
   "cell_type": "code",
   "execution_count": 49,
   "metadata": {},
   "outputs": [
    {
     "name": "stdout",
     "output_type": "stream",
     "text": [
      "Text n-gram model log perplexities:\n",
      "\t1-gram perplexity = 9.715929942654313\n",
      "\t2-gram perplexity = 9.964832284547809\n",
      "\t3-gram perplexity = 10.883863636156077\n",
      "\t4-gram perplexity = 10.787502847140454\n",
      "\t5-gram perplexity = 10.515385954833848\n",
      "\n",
      "Replacing tokens with POS tags using spacy\n",
      "POS tag n-gram model log perplexities:\n",
      "\t1-gram perplexity = 16.004500020645384\n",
      "\t2-gram perplexity = 6.098026774153984\n",
      "\t3-gram perplexity = 5.353391293656211\n",
      "\t4-gram perplexity = 5.156615009952698\n",
      "\t5-gram perplexity = 4.995560579706979\n"
     ]
    }
   ],
   "source": [
    "segmented_corpus, map_to_corpus_index = segmentation(clean_text_dev_list)\n",
    "tokenized_corpus = tokenization(segmented_corpus)\n",
    "\n",
    "# Perplexity of clean text dev set\n",
    "print(\"Text n-gram model log perplexities:\")\n",
    "clean_text_dev_perplexity = calculate_log_perplexity(tokenized_corpus, n_values, ngram_data_text)\n",
    "for n_value in n_values:\n",
    "    print(f\"\\t{n_value}-gram perplexity =\", clean_text_dev_perplexity[n_value])\n",
    "\n",
    "print()\n",
    "# Perplexity of clean text POS dev set\n",
    "tokenized_pos_corpus = convert_to_pos_tags(tokenized_corpus, pos_type=pos_type)\n",
    "print(\"POS tag n-gram model log perplexities:\")\n",
    "clean_text_dev_pos_perplexity = calculate_log_perplexity(tokenized_pos_corpus, n_values, ngram_data_pos)\n",
    "for n_value in n_values:\n",
    "    print(f\"\\t{n_value}-gram perplexity =\", clean_text_dev_pos_perplexity[n_value])"
   ]
  },
  {
   "cell_type": "code",
   "execution_count": 50,
   "metadata": {},
   "outputs": [
    {
     "data": {
      "image/png": "[encoded data removed]",
      "text/plain": [
       "<Figure size 720x360 with 1 Axes>"
      ]
     },
     "metadata": {
      "needs_background": "light"
     },
     "output_type": "display_data"
    }
   ],
   "source": [
    "text_n_gram_perplexities = []\n",
    "for n_value in n_values:\n",
    "    text_n_gram_perplexities.append(clean_text_dev_perplexity[n_value])\n",
    "\n",
    "freq_series = pd.Series(text_n_gram_perplexities)\n",
    "x_labels = [f'{n_value}-gram' for n_value in n_values]\n",
    "plt.figure(figsize=(10, 5))\n",
    "ax = freq_series.plot(kind=\"bar\")\n",
    "ax.set_title(\"Comparision of text n-gram model perplexities\")\n",
    "ax.set_xlabel(\"nth-gram\")\n",
    "ax.set_ylabel(\"Perplexity\")\n",
    "ax.set_xticklabels(x_labels)\n",
    "rects = ax.patches\n",
    "plt.show()"
   ]
  },
  {
   "cell_type": "code",
   "execution_count": 51,
   "metadata": {
    "scrolled": false
   },
   "outputs": [
    {
     "data": {
      "image/png": "[encoded data removed]",
      "text/plain": [
       "<Figure size 720x360 with 1 Axes>"
      ]
     },
     "metadata": {
      "needs_background": "light"
     },
     "output_type": "display_data"
    }
   ],
   "source": [
    "pos_perplexities = []\n",
    "for n_value in n_values:\n",
    "    pos_perplexities.append(clean_text_dev_pos_perplexity[n_value])\n",
    "\n",
    "freq_series = pd.Series(pos_perplexities)\n",
    "x_labels = [f'{n_value}-gram' for n_value in n_values]\n",
    "plt.figure(figsize=(10, 5))\n",
    "ax = freq_series.plot(kind=\"bar\")\n",
    "ax.set_title(\"Comparision of POS tag n-gram model perplexities\")\n",
    "ax.set_xlabel(\"nth-gram\")\n",
    "ax.set_ylabel(\"Perplexity\")\n",
    "ax.set_xticklabels(x_labels)\n",
    "rects = ax.patches\n",
    "plt.show()"
   ]
  },
  {
   "cell_type": "markdown",
   "metadata": {
    "id": "Q74Lo3PWEK2U"
   },
   "source": [
    "## Evaluating unknown corpus"
   ]
  },
  {
   "cell_type": "code",
   "execution_count": 52,
   "metadata": {
    "id": "jrNBR7nVES-P"
   },
   "outputs": [],
   "source": [
    "test_text_list = None\n",
    "# test_text_list = [\"In the country there lived a fox. The quick brown fox jump over the fence. \" \\\n",
    "#                    \"Farmer Shaun was terrified.\"]\n",
    "\n",
    "if test_text_list is None:\n",
    "    test_text_list = unknown_text_list\n",
    "segmented_corpus, map_to_corpus_index = segmentation(test_text_list)\n",
    "tokenized_corpus = tokenization(segmented_corpus)"
   ]
  },
  {
   "cell_type": "code",
   "execution_count": 53,
   "metadata": {
    "scrolled": true
   },
   "outputs": [
    {
     "name": "stdout",
     "output_type": "stream",
     "text": [
      "Testing 1-gram model\n",
      "Sequences in corpus:                              30868\n",
      "Total tokens in corpus:                           669821\n",
      "Padding sequences with <s> and </s> tokens\n",
      "Creating n-grams\n",
      "Total ngram sequences:                            30868\n",
      "Total ngrams:                                     669821\n"
     ]
    },
    {
     "data": {
      "image/png": "[encoded data removed]",
      "text/plain": [
       "<Figure size 720x216 with 1 Axes>"
      ]
     },
     "metadata": {
      "needs_background": "light"
     },
     "output_type": "display_data"
    },
    {
     "name": "stdout",
     "output_type": "stream",
     "text": [
      "Filtering sequences based on sequence scores\n",
      "Suspect sequences based on sequence scores:       397/30868\n",
      "\n",
      "Testing 2-gram model\n",
      "Sequences in corpus:                              30868\n",
      "Total tokens in corpus:                           669821\n",
      "Padding sequences with <s> and </s> tokens\n",
      "Creating n-grams\n",
      "Total ngram sequences:                            30868\n",
      "Total ngrams:                                     700689\n"
     ]
    },
    {
     "data": {
      "image/png": "[encoded data removed]",
      "text/plain": [
       "<Figure size 720x216 with 1 Axes>"
      ]
     },
     "metadata": {
      "needs_background": "light"
     },
     "output_type": "display_data"
    },
    {
     "name": "stdout",
     "output_type": "stream",
     "text": [
      "Filtering sequences based on sequence scores\n",
      "Suspect sequences based on sequence scores:       2731/30868\n",
      "\n",
      "Testing 3-gram model\n",
      "Sequences in corpus:                              30868\n",
      "Total tokens in corpus:                           669821\n",
      "Padding sequences with <s> and </s> tokens\n",
      "Creating n-grams\n",
      "Total ngram sequences:                            30868\n",
      "Total ngrams:                                     731557\n"
     ]
    },
    {
     "data": {
      "image/png": "[encoded data removed]",
      "text/plain": [
       "<Figure size 720x216 with 1 Axes>"
      ]
     },
     "metadata": {
      "needs_background": "light"
     },
     "output_type": "display_data"
    },
    {
     "name": "stdout",
     "output_type": "stream",
     "text": [
      "Filtering sequences based on sequence scores\n",
      "Suspect sequences based on sequence scores:       12521/30868\n",
      "\n",
      "Testing 4-gram model\n",
      "Sequences in corpus:                              30868\n",
      "Total tokens in corpus:                           669821\n",
      "Padding sequences with <s> and </s> tokens\n",
      "Creating n-grams\n",
      "Total ngram sequences:                            30868\n",
      "Total ngrams:                                     762425\n"
     ]
    },
    {
     "data": {
      "image/png": "[encoded data removed]",
      "text/plain": [
       "<Figure size 720x216 with 1 Axes>"
      ]
     },
     "metadata": {
      "needs_background": "light"
     },
     "output_type": "display_data"
    },
    {
     "name": "stdout",
     "output_type": "stream",
     "text": [
      "Filtering sequences based on sequence scores\n",
      "Suspect sequences based on sequence scores:       16519/30868\n",
      "\n",
      "Testing 5-gram model\n",
      "Sequences in corpus:                              30868\n",
      "Total tokens in corpus:                           669821\n",
      "Padding sequences with <s> and </s> tokens\n",
      "Creating n-grams\n",
      "Total ngram sequences:                            30868\n",
      "Total ngrams:                                     793293\n"
     ]
    },
    {
     "data": {
      "image/png": "[encoded data removed]",
      "text/plain": [
       "<Figure size 720x216 with 1 Axes>"
      ]
     },
     "metadata": {
      "needs_background": "light"
     },
     "output_type": "display_data"
    },
    {
     "name": "stdout",
     "output_type": "stream",
     "text": [
      "Filtering sequences based on sequence scores\n",
      "Suspect sequences based on sequence scores:       17559/30868\n",
      "\n"
     ]
    }
   ],
   "source": [
    "# Text n-gram model\n",
    "ngram_results_text = test_lm(tokenized_corpus, n_values, ngram_data_text)\n",
    "ngram_results_text['segmented_corpus'] = segmented_corpus"
   ]
  },
  {
   "cell_type": "code",
   "execution_count": 54,
   "metadata": {
    "scrolled": true
   },
   "outputs": [
    {
     "name": "stdout",
     "output_type": "stream",
     "text": [
      "Replacing tokens with POS tags using spacy\n",
      "Testing 1-gram model\n",
      "Sequences in corpus:                              30868\n",
      "Total tokens in corpus:                           676560\n",
      "Padding sequences with <s> and </s> tokens\n",
      "Creating n-grams\n",
      "Total ngram sequences:                            30868\n",
      "Total ngrams:                                     676560\n"
     ]
    },
    {
     "data": {
      "image/png": "[encoded data removed]",
      "text/plain": [
       "<Figure size 720x216 with 1 Axes>"
      ]
     },
     "metadata": {
      "needs_background": "light"
     },
     "output_type": "display_data"
    },
    {
     "name": "stdout",
     "output_type": "stream",
     "text": [
      "Filtering sequences based on sequence scores\n",
      "Suspect sequences based on sequence scores:       703/30868\n",
      "\n",
      "Testing 2-gram model\n",
      "Sequences in corpus:                              30868\n",
      "Total tokens in corpus:                           676560\n",
      "Padding sequences with <s> and </s> tokens\n",
      "Creating n-grams\n",
      "Total ngram sequences:                            30868\n",
      "Total ngrams:                                     707428\n"
     ]
    },
    {
     "data": {
      "image/png": "[encoded data removed]",
      "text/plain": [
       "<Figure size 720x216 with 1 Axes>"
      ]
     },
     "metadata": {
      "needs_background": "light"
     },
     "output_type": "display_data"
    },
    {
     "name": "stdout",
     "output_type": "stream",
     "text": [
      "Filtering sequences based on sequence scores\n",
      "Suspect sequences based on sequence scores:       1262/30868\n",
      "\n",
      "Testing 3-gram model\n",
      "Sequences in corpus:                              30868\n",
      "Total tokens in corpus:                           676560\n",
      "Padding sequences with <s> and </s> tokens\n",
      "Creating n-grams\n",
      "Total ngram sequences:                            30868\n",
      "Total ngrams:                                     738296\n"
     ]
    },
    {
     "data": {
      "image/png": "[encoded data removed]",
      "text/plain": [
       "<Figure size 720x216 with 1 Axes>"
      ]
     },
     "metadata": {
      "needs_background": "light"
     },
     "output_type": "display_data"
    },
    {
     "name": "stdout",
     "output_type": "stream",
     "text": [
      "Filtering sequences based on sequence scores\n",
      "Suspect sequences based on sequence scores:       2031/30868\n",
      "\n",
      "Testing 4-gram model\n",
      "Sequences in corpus:                              30868\n",
      "Total tokens in corpus:                           676560\n",
      "Padding sequences with <s> and </s> tokens\n",
      "Creating n-grams\n",
      "Total ngram sequences:                            30868\n",
      "Total ngrams:                                     769164\n"
     ]
    },
    {
     "data": {
      "image/png": "[encoded data removed]",
      "text/plain": [
       "<Figure size 720x216 with 1 Axes>"
      ]
     },
     "metadata": {
      "needs_background": "light"
     },
     "output_type": "display_data"
    },
    {
     "name": "stdout",
     "output_type": "stream",
     "text": [
      "Filtering sequences based on sequence scores\n",
      "Suspect sequences based on sequence scores:       3607/30868\n",
      "\n",
      "Testing 5-gram model\n",
      "Sequences in corpus:                              30868\n",
      "Total tokens in corpus:                           676560\n",
      "Padding sequences with <s> and </s> tokens\n",
      "Creating n-grams\n",
      "Total ngram sequences:                            30868\n",
      "Total ngrams:                                     800032\n"
     ]
    },
    {
     "data": {
      "image/png": "[encoded data removed]",
      "text/plain": [
       "<Figure size 720x216 with 1 Axes>"
      ]
     },
     "metadata": {
      "needs_background": "light"
     },
     "output_type": "display_data"
    },
    {
     "name": "stdout",
     "output_type": "stream",
     "text": [
      "Filtering sequences based on sequence scores\n",
      "Suspect sequences based on sequence scores:       6618/30868\n",
      "\n"
     ]
    }
   ],
   "source": [
    "# POS tag n-gram model\n",
    "pos_corpus = convert_to_pos_tags(tokenized_corpus, pos_type=pos_type)\n",
    "ngram_results_pos = test_lm(pos_corpus, n_values, ngram_data_pos)\n",
    "ngram_results_pos['segmented_corpus'] = pos_corpus"
   ]
  },
  {
   "cell_type": "code",
   "execution_count": 55,
   "metadata": {
    "id": "1YZSlKc9EWal",
    "scrolled": false
   },
   "outputs": [
    {
     "name": "stdout",
     "output_type": "stream",
     "text": [
      "Total sequence generated from unknown corpus:\t 30868\n",
      "Total text files in unknown corpus:\t\t 8698\n"
     ]
    },
    {
     "data": {
      "text/html": [
       "<div>\n",
       "<style scoped>\n",
       "    .dataframe tbody tr th:only-of-type {\n",
       "        vertical-align: middle;\n",
       "    }\n",
       "\n",
       "    .dataframe tbody tr th {\n",
       "        vertical-align: top;\n",
       "    }\n",
       "\n",
       "    .dataframe thead th {\n",
       "        text-align: right;\n",
       "    }\n",
       "</style>\n",
       "<table border=\"1\" class=\"dataframe\">\n",
       "  <thead>\n",
       "    <tr style=\"text-align: right;\">\n",
       "      <th></th>\n",
       "      <th>N-gram</th>\n",
       "      <th>Suspect sequences</th>\n",
       "      <th>Suspect files</th>\n",
       "    </tr>\n",
       "  </thead>\n",
       "  <tbody>\n",
       "    <tr>\n",
       "      <th>0</th>\n",
       "      <td>1</td>\n",
       "      <td>397</td>\n",
       "      <td>380</td>\n",
       "    </tr>\n",
       "    <tr>\n",
       "      <th>1</th>\n",
       "      <td>2</td>\n",
       "      <td>2731</td>\n",
       "      <td>2191</td>\n",
       "    </tr>\n",
       "    <tr>\n",
       "      <th>2</th>\n",
       "      <td>3</td>\n",
       "      <td>12521</td>\n",
       "      <td>6173</td>\n",
       "    </tr>\n",
       "    <tr>\n",
       "      <th>3</th>\n",
       "      <td>4</td>\n",
       "      <td>16519</td>\n",
       "      <td>7029</td>\n",
       "    </tr>\n",
       "    <tr>\n",
       "      <th>4</th>\n",
       "      <td>5</td>\n",
       "      <td>17559</td>\n",
       "      <td>7225</td>\n",
       "    </tr>\n",
       "  </tbody>\n",
       "</table>\n",
       "</div>"
      ],
      "text/plain": [
       "   N-gram  Suspect sequences  Suspect files\n",
       "0       1                397            380\n",
       "1       2               2731           2191\n",
       "2       3              12521           6173\n",
       "3       4              16519           7029\n",
       "4       5              17559           7225"
      ]
     },
     "metadata": {},
     "output_type": "display_data"
    }
   ],
   "source": [
    "print_stats(test_text_list, n_values, ngram_results_text)\n",
    "# print_stats(test_text_list, n_values, ngram_results_text, indexes='all')\n",
    "# print_stats(test_text_list, n_values, ngram_results_text, indexes=[i for i in range(min(3, len(test_text_list)))])"
   ]
  },
  {
   "cell_type": "code",
   "execution_count": 56,
   "metadata": {
    "scrolled": true
   },
   "outputs": [
    {
     "name": "stdout",
     "output_type": "stream",
     "text": [
      "Total sequence generated from unknown corpus:\t 30868\n",
      "Total text files in unknown corpus:\t\t 8698\n"
     ]
    },
    {
     "data": {
      "text/html": [
       "<div>\n",
       "<style scoped>\n",
       "    .dataframe tbody tr th:only-of-type {\n",
       "        vertical-align: middle;\n",
       "    }\n",
       "\n",
       "    .dataframe tbody tr th {\n",
       "        vertical-align: top;\n",
       "    }\n",
       "\n",
       "    .dataframe thead th {\n",
       "        text-align: right;\n",
       "    }\n",
       "</style>\n",
       "<table border=\"1\" class=\"dataframe\">\n",
       "  <thead>\n",
       "    <tr style=\"text-align: right;\">\n",
       "      <th></th>\n",
       "      <th>N-gram</th>\n",
       "      <th>Suspect sequences</th>\n",
       "      <th>Suspect files</th>\n",
       "    </tr>\n",
       "  </thead>\n",
       "  <tbody>\n",
       "    <tr>\n",
       "      <th>0</th>\n",
       "      <td>1</td>\n",
       "      <td>703</td>\n",
       "      <td>621</td>\n",
       "    </tr>\n",
       "    <tr>\n",
       "      <th>1</th>\n",
       "      <td>2</td>\n",
       "      <td>1262</td>\n",
       "      <td>1100</td>\n",
       "    </tr>\n",
       "    <tr>\n",
       "      <th>2</th>\n",
       "      <td>3</td>\n",
       "      <td>2031</td>\n",
       "      <td>1667</td>\n",
       "    </tr>\n",
       "    <tr>\n",
       "      <th>3</th>\n",
       "      <td>4</td>\n",
       "      <td>3607</td>\n",
       "      <td>2697</td>\n",
       "    </tr>\n",
       "    <tr>\n",
       "      <th>4</th>\n",
       "      <td>5</td>\n",
       "      <td>6618</td>\n",
       "      <td>4216</td>\n",
       "    </tr>\n",
       "  </tbody>\n",
       "</table>\n",
       "</div>"
      ],
      "text/plain": [
       "   N-gram  Suspect sequences  Suspect files\n",
       "0       1                703            621\n",
       "1       2               1262           1100\n",
       "2       3               2031           1667\n",
       "3       4               3607           2697\n",
       "4       5               6618           4216"
      ]
     },
     "metadata": {},
     "output_type": "display_data"
    }
   ],
   "source": [
    "print_stats(test_text_list, n_values, ngram_results_pos)\n",
    "# print_stats(test_text_list, n_values, ngram_results_pos, indexes='all')\n",
    "# print_stats(test_text_list, n_values, ngram_results_pos, indexes=[i for i in range(min(3, len(test_text_list)))])"
   ]
  },
  {
   "cell_type": "code",
   "execution_count": 57,
   "metadata": {},
   "outputs": [
    {
     "name": "stdout",
     "output_type": "stream",
     "text": [
      "Size of combined suspect set:\n",
      "\t1-gram: 66/8698\n",
      "\t2-gram: 415/8698\n",
      "\t3-gram: 1320/8698\n",
      "\t4-gram: 2383/8698\n",
      "\t5-gram: 3910/8698\n"
     ]
    }
   ],
   "source": [
    "common_suspects = dict()\n",
    "print(f\"Size of combined suspect set:\")\n",
    "for n_value in n_values:\n",
    "    common_suspects[n_value] = list(set(ngram_results_text[n_value]['suspect_corpus_index']) & set(ngram_results_pos[n_value]['suspect_corpus_index']))\n",
    "    print(f\"\\t{n_value}-gram: {len(common_suspects[n_value])}/{len(test_text_list)}\")"
   ]
  },
  {
   "cell_type": "markdown",
   "metadata": {},
   "source": [
    "### Output"
   ]
  },
  {
   "cell_type": "markdown",
   "metadata": {},
   "source": [
    "#### Displaying random segment classified as suspect by models"
   ]
  },
  {
   "cell_type": "code",
   "execution_count": 58,
   "metadata": {
    "id": "3DewI-wIEZvW",
    "scrolled": true
   },
   "outputs": [],
   "source": [
    "def print_corpus_text_from_suspect_sequence_index(index, corpus, n_value, ngram_results):\n",
    "    n = len(ngram_results[n_value]['suspect_sequences_index'])\n",
    "    if n == 0:\n",
    "        return\n",
    "    index %= n\n",
    "    sequence_index = ngram_results[n_value]['suspect_sequences_index'][index]\n",
    "    print('Segment text\\n============\\n', get_sentence_from_tokens(ngram_results_text[n_value]['padded_sequences'][sequence_index]))\n",
    "    print('\\nSegment POS tags\\n================\\n', get_sentence_from_tokens(ngram_results_pos[n_value]['padded_sequences'][sequence_index]))\n",
    "    corpus_index = ngram_results[n_value]['map_to_corpus_index'][sequence_index]\n",
    "    print('\\nCorpus text\\n===========\\n', corpus[corpus_index])"
   ]
  },
  {
   "cell_type": "code",
   "execution_count": 59,
   "metadata": {
    "scrolled": false
   },
   "outputs": [
    {
     "name": "stdout",
     "output_type": "stream",
     "text": [
      "Segment text\n",
      "============\n",
      " As for himself , he just did n't have the temperament for it Froms the time he had been at college he had achieved a certain tranquility and composure by accepting the fact that there were certain things he could never know .\n",
      "\n",
      "Segment POS tags\n",
      "================\n",
      " IN IN PRP , PRP RB VBD RB VB DT NN IN PRP VBZ DT NN PRP VBD VBN IN NN PRP VBD VBN DT JJ NN CC NN IN VBG DT NN IN EX VBD JJ NNS PRP MD RB VB .\n",
      "\n",
      "Corpus text\n",
      "===========\n",
      " ` ` I think I 'll sleep in this morning '' , she said drowsily , and as she snuggled against him , he wondered if she ever went to church . Why did he want her to go to churchest ? ? He wondered Probably because it was a place where she might get a feeling of certainty and security . It would bes good for her . It was too bad he had no feeling himself for church . Notter his poor mother 's fault . She would have been better off if she had stuck to her Bible . As for himself , he just did n't have the temperament for it Froms the time he had been at college he had achieved a certain tranquility and composure by accepting the fact that there were certain things he could never know . Then he thought of those Old Testaments figures on the ceiling of the Sistine Chapel . Just figures out of a tribal folklore . Could he honestly believe it would be good for Carla to have those old prophets gripping her imagination now ? ? Being a woman though , she would takes only what she needed from church . It was too bad he ber n't a Catholic himself . Or a Protestant , or one of those amusing dogmatics atheists , or a strict orthodox Communist . What was the matter with him that they all wearied him ? ? It was the times ,er he was sure . All the ideologies changing from day to day , right under his eyes , so how could a man look toer any one of them for an enlargement of his freedom ? ? It was allest too wearying . Look neutralist somewhere else . But where ? ? Just the same , he thought , pondering over it , it would be a good thing for a girl like Carla if she got up and went to church ..ed\n"
     ]
    }
   ],
   "source": [
    "# Print random suspected sequence\n",
    "print_corpus_text_from_suspect_sequence_index(\n",
    "    index=random.randint(0, len(ngram_results_text[n_value]['suspect_sequences_index'])), \n",
    "    corpus=test_text_list, n_value=n_values[-1], \n",
    "    ngram_results=ngram_results_text\n",
    ")"
   ]
  },
  {
   "cell_type": "markdown",
   "metadata": {},
   "source": [
    "#### Testing if a sentence in corpus is classified as suspect by both models (text, POS tag)"
   ]
  },
  {
   "cell_type": "code",
   "execution_count": 60,
   "metadata": {
    "scrolled": true
   },
   "outputs": [
    {
     "name": "stdout",
     "output_type": "stream",
     "text": [
      "The Fulton County Grand Jury say Friday an investigation of Atlanta 's recent primary election produced ` ` no evidence '' that any irregularities took place .\n",
      "\t1-gram: \tTrue\n",
      "\t2-gram: \tTrue\n",
      "\t3-gram: \tTrue\n",
      "\t4-gram: \tTrue\n",
      "\t5-gram: \tTrue\n"
     ]
    }
   ],
   "source": [
    "# Check if sentence in test corpus is grammatically correct\n",
    "corpus_index_to_check = 0\n",
    "print(test_text_list[corpus_index_to_check])\n",
    "for n_value in n_values:\n",
    "    print(f'\\t{n_value}-gram: \\t{corpus_index_to_check not in common_suspects[n_value]}') "
   ]
  },
  {
   "cell_type": "code",
   "execution_count": 61,
   "metadata": {
    "scrolled": true
   },
   "outputs": [
    {
     "name": "stdout",
     "output_type": "stream",
     "text": [
      "Thresholding done using \"pos\" sequence scores\n",
      "4-gram cutoff:\t-3.7514930873713044\n"
     ]
    },
    {
     "data": {
      "text/html": [
       "<div>\n",
       "<style scoped>\n",
       "    .dataframe tbody tr th:only-of-type {\n",
       "        vertical-align: middle;\n",
       "    }\n",
       "\n",
       "    .dataframe tbody tr th {\n",
       "        vertical-align: top;\n",
       "    }\n",
       "\n",
       "    .dataframe thead th {\n",
       "        text-align: right;\n",
       "    }\n",
       "</style>\n",
       "<table border=\"1\" class=\"dataframe\">\n",
       "  <thead>\n",
       "    <tr style=\"text-align: right;\">\n",
       "      <th></th>\n",
       "      <th>Text</th>\n",
       "      <th>Text score</th>\n",
       "      <th>POS score</th>\n",
       "      <th>Wrong token</th>\n",
       "      <th>Wrong token score</th>\n",
       "      <th>Wrong token POS</th>\n",
       "      <th>Wrong token POS score</th>\n",
       "      <th>Suggested token</th>\n",
       "    </tr>\n",
       "  </thead>\n",
       "  <tbody>\n",
       "    <tr>\n",
       "      <th>0</th>\n",
       "      <td>Regarding Atlanta 's new multi - million - dol...</td>\n",
       "      <td>-13.358014</td>\n",
       "      <td>-4.011087</td>\n",
       "      <td>(`, `, that, when)</td>\n",
       "      <td>-14.189130</td>\n",
       "      <td>(``, ``, IN, WRB)</td>\n",
       "      <td>-8.675957</td>\n",
       "      <td>DT</td>\n",
       "    </tr>\n",
       "    <tr>\n",
       "      <th>1</th>\n",
       "      <td>Let her call Crosson if she wanted to , let Cr...</td>\n",
       "      <td>-13.251714</td>\n",
       "      <td>-4.343797</td>\n",
       "      <td>(she, wanted, to, ,)</td>\n",
       "      <td>-14.188821</td>\n",
       "      <td>(PRP, VBD, TO, ,)</td>\n",
       "      <td>-8.383704</td>\n",
       "      <td>VB</td>\n",
       "    </tr>\n",
       "    <tr>\n",
       "      <th>2</th>\n",
       "      <td>He plus tried to ignore what his own common se...</td>\n",
       "      <td>-12.918217</td>\n",
       "      <td>-3.820176</td>\n",
       "      <td>(&lt;s&gt;, &lt;s&gt;, He, plus)</td>\n",
       "      <td>-14.286774</td>\n",
       "      <td>(&lt;s&gt;, &lt;s&gt;, PRP, CC)</td>\n",
       "      <td>-8.122742</td>\n",
       "      <td>VBD</td>\n",
       "    </tr>\n",
       "    <tr>\n",
       "      <th>3</th>\n",
       "      <td>Nothing bald , openest ; ; but enough .</td>\n",
       "      <td>-12.064161</td>\n",
       "      <td>-4.224297</td>\n",
       "      <td>(;, but, enough, .)</td>\n",
       "      <td>-14.188821</td>\n",
       "      <td>(:, CC, RB, .)</td>\n",
       "      <td>-6.832890</td>\n",
       "      <td>IN</td>\n",
       "    </tr>\n",
       "    <tr>\n",
       "      <th>4</th>\n",
       "      <td>She was married to him for better or for worse .</td>\n",
       "      <td>-12.136678</td>\n",
       "      <td>-3.818515</td>\n",
       "      <td>(to, him, for, better)</td>\n",
       "      <td>-14.188898</td>\n",
       "      <td>(IN, PRP, IN, RBR)</td>\n",
       "      <td>-8.271463</td>\n",
       "      <td>DT</td>\n",
       "    </tr>\n",
       "    <tr>\n",
       "      <th>5</th>\n",
       "      <td>She would n't 21-2 be wilfully planning his de...</td>\n",
       "      <td>-12.123187</td>\n",
       "      <td>-3.787354</td>\n",
       "      <td>(She, would, n't, 21-2)</td>\n",
       "      <td>-14.188898</td>\n",
       "      <td>(PRP, MD, RB, CD)</td>\n",
       "      <td>-9.339850</td>\n",
       "      <td>VB</td>\n",
       "    </tr>\n",
       "    <tr>\n",
       "      <th>6</th>\n",
       "      <td>What was that old sign ,s supposed to be paint...</td>\n",
       "      <td>-13.390245</td>\n",
       "      <td>-3.863370</td>\n",
       "      <td>(sign, ,, s, supposed)</td>\n",
       "      <td>-14.188821</td>\n",
       "      <td>(NN, ,, PRP, VBN)</td>\n",
       "      <td>-9.419960</td>\n",
       "      <td>VBD</td>\n",
       "    </tr>\n",
       "    <tr>\n",
       "      <th>7</th>\n",
       "      <td>Why , Holden to himself , surprised at his own...</td>\n",
       "      <td>-13.438067</td>\n",
       "      <td>-3.967397</td>\n",
       "      <td>(as, happy, as, can)</td>\n",
       "      <td>-14.188898</td>\n",
       "      <td>(RB, JJ, IN, MD)</td>\n",
       "      <td>-9.584963</td>\n",
       "      <td>DT</td>\n",
       "    </tr>\n",
       "    <tr>\n",
       "      <th>8</th>\n",
       "      <td>Good --ed bye .</td>\n",
       "      <td>-10.105562</td>\n",
       "      <td>-4.228737</td>\n",
       "      <td>(&lt;s&gt;, &lt;s&gt;, &lt;s&gt;, Good)</td>\n",
       "      <td>-12.427542</td>\n",
       "      <td>(&lt;s&gt;, &lt;s&gt;, &lt;s&gt;, UH)</td>\n",
       "      <td>-7.740390</td>\n",
       "      <td>DT</td>\n",
       "    </tr>\n",
       "    <tr>\n",
       "      <th>9</th>\n",
       "      <td>Glad see you go .</td>\n",
       "      <td>-10.962142</td>\n",
       "      <td>-3.979735</td>\n",
       "      <td>(&lt;s&gt;, &lt;s&gt;, Glad, see)</td>\n",
       "      <td>-14.288650</td>\n",
       "      <td>(&lt;s&gt;, &lt;s&gt;, NNP, VB)</td>\n",
       "      <td>-10.088788</td>\n",
       "      <td>VBD</td>\n",
       "    </tr>\n",
       "    <tr>\n",
       "      <th>10</th>\n",
       "      <td>`s ` They were all faded .</td>\n",
       "      <td>-11.406668</td>\n",
       "      <td>-3.766672</td>\n",
       "      <td>(&lt;s&gt;, &lt;s&gt;, `, s)</td>\n",
       "      <td>-8.616224</td>\n",
       "      <td>(&lt;s&gt;, &lt;s&gt;, ``, PRP)</td>\n",
       "      <td>-10.859535</td>\n",
       "      <td>``</td>\n",
       "    </tr>\n",
       "    <tr>\n",
       "      <th>11</th>\n",
       "      <td>` ` Why onning earth did I send him off to work ?</td>\n",
       "      <td>-12.587758</td>\n",
       "      <td>-3.884826</td>\n",
       "      <td>(send, him, off, to)</td>\n",
       "      <td>-14.188821</td>\n",
       "      <td>(VB, PRP, RP, TO)</td>\n",
       "      <td>-6.754888</td>\n",
       "      <td>IN</td>\n",
       "    </tr>\n",
       "    <tr>\n",
       "      <th>12</th>\n",
       "      <td>?ed Different about ther mouth , huh ?</td>\n",
       "      <td>-12.025091</td>\n",
       "      <td>-4.343232</td>\n",
       "      <td>(&lt;s&gt;, &lt;s&gt;, ?, ed)</td>\n",
       "      <td>-14.269200</td>\n",
       "      <td>(&lt;s&gt;, &lt;s&gt;, ., NNP)</td>\n",
       "      <td>-10.610102</td>\n",
       "      <td>&lt;/s&gt;</td>\n",
       "    </tr>\n",
       "    <tr>\n",
       "      <th>13</th>\n",
       "      <td>men also used vacuum cleaners in both rooms , ...</td>\n",
       "      <td>-13.152705</td>\n",
       "      <td>-3.862187</td>\n",
       "      <td>(dust, up, once, more)</td>\n",
       "      <td>-14.188821</td>\n",
       "      <td>(NN, RB, RB, JJR)</td>\n",
       "      <td>-7.965784</td>\n",
       "      <td>IN</td>\n",
       "    </tr>\n",
       "    <tr>\n",
       "      <th>14</th>\n",
       "      <td>Faith Constable had had to ` ` go on '' from t...</td>\n",
       "      <td>-13.467550</td>\n",
       "      <td>-3.785796</td>\n",
       "      <td>(had, had, to, `)</td>\n",
       "      <td>-14.189130</td>\n",
       "      <td>(VBD, VBN, TO, ``)</td>\n",
       "      <td>-7.562242</td>\n",
       "      <td>VB</td>\n",
       "    </tr>\n",
       "    <tr>\n",
       "      <th>15</th>\n",
       "      <td>Bills picked up the telephone ; ; got Mullins ...</td>\n",
       "      <td>-13.286510</td>\n",
       "      <td>-5.371987</td>\n",
       "      <td>(&lt;s&gt;, &lt;s&gt;, &lt;s&gt;, Bills)</td>\n",
       "      <td>-5.040602</td>\n",
       "      <td>(&lt;s&gt;, &lt;s&gt;, &lt;s&gt;, NNPS)</td>\n",
       "      <td>-11.050245</td>\n",
       "      <td>DT</td>\n",
       "    </tr>\n",
       "    <tr>\n",
       "      <th>16</th>\n",
       "      <td>Or : ` ` Does he get exercise '' ?s ?</td>\n",
       "      <td>-12.866427</td>\n",
       "      <td>-5.005610</td>\n",
       "      <td>(``, ?, s, ?)</td>\n",
       "      <td>-14.188821</td>\n",
       "      <td>(``, ``, ., VBZ)</td>\n",
       "      <td>-10.956376</td>\n",
       "      <td>&lt;/s&gt;</td>\n",
       "    </tr>\n",
       "    <tr>\n",
       "      <th>17</th>\n",
       "      <td>His face was fuller ;s ; his lips and the usua...</td>\n",
       "      <td>-13.225625</td>\n",
       "      <td>-4.235054</td>\n",
       "      <td>(His, face, was, fuller)</td>\n",
       "      <td>-14.189052</td>\n",
       "      <td>(PRP$, NN, VBD, JJR)</td>\n",
       "      <td>-8.507795</td>\n",
       "      <td>VBN</td>\n",
       "    </tr>\n",
       "    <tr>\n",
       "      <th>18</th>\n",
       "      <td>He breathed now with his mouth open manage , s...</td>\n",
       "      <td>-13.709203</td>\n",
       "      <td>-4.364066</td>\n",
       "      <td>(,, therefore, ,, shorter)</td>\n",
       "      <td>-14.191059</td>\n",
       "      <td>(,, RB, ,, JJR)</td>\n",
       "      <td>-8.968667</td>\n",
       "      <td>IN</td>\n",
       "    </tr>\n",
       "    <tr>\n",
       "      <th>19</th>\n",
       "      <td>Where their sharp edges seemed restless as sea...</td>\n",
       "      <td>-13.520227</td>\n",
       "      <td>-4.024420</td>\n",
       "      <td>(very, immobility, defying, all)</td>\n",
       "      <td>-14.188821</td>\n",
       "      <td>(JJ, NN, VBG, PDT)</td>\n",
       "      <td>-7.392317</td>\n",
       "      <td>IN</td>\n",
       "    </tr>\n",
       "  </tbody>\n",
       "</table>\n",
       "</div>"
      ],
      "text/plain": [
       "                                                 Text  Text score  POS score  \\\n",
       "0   Regarding Atlanta 's new multi - million - dol...  -13.358014  -4.011087   \n",
       "1   Let her call Crosson if she wanted to , let Cr...  -13.251714  -4.343797   \n",
       "2   He plus tried to ignore what his own common se...  -12.918217  -3.820176   \n",
       "3             Nothing bald , openest ; ; but enough .  -12.064161  -4.224297   \n",
       "4    She was married to him for better or for worse .  -12.136678  -3.818515   \n",
       "5   She would n't 21-2 be wilfully planning his de...  -12.123187  -3.787354   \n",
       "6   What was that old sign ,s supposed to be paint...  -13.390245  -3.863370   \n",
       "7   Why , Holden to himself , surprised at his own...  -13.438067  -3.967397   \n",
       "8                                     Good --ed bye .  -10.105562  -4.228737   \n",
       "9                                   Glad see you go .  -10.962142  -3.979735   \n",
       "10                         `s ` They were all faded .  -11.406668  -3.766672   \n",
       "11  ` ` Why onning earth did I send him off to work ?  -12.587758  -3.884826   \n",
       "12             ?ed Different about ther mouth , huh ?  -12.025091  -4.343232   \n",
       "13  men also used vacuum cleaners in both rooms , ...  -13.152705  -3.862187   \n",
       "14  Faith Constable had had to ` ` go on '' from t...  -13.467550  -3.785796   \n",
       "15  Bills picked up the telephone ; ; got Mullins ...  -13.286510  -5.371987   \n",
       "16              Or : ` ` Does he get exercise '' ?s ?  -12.866427  -5.005610   \n",
       "17  His face was fuller ;s ; his lips and the usua...  -13.225625  -4.235054   \n",
       "18  He breathed now with his mouth open manage , s...  -13.709203  -4.364066   \n",
       "19  Where their sharp edges seemed restless as sea...  -13.520227  -4.024420   \n",
       "\n",
       "                         Wrong token  Wrong token score  \\\n",
       "0                 (`, `, that, when)         -14.189130   \n",
       "1               (she, wanted, to, ,)         -14.188821   \n",
       "2               (<s>, <s>, He, plus)         -14.286774   \n",
       "3                (;, but, enough, .)         -14.188821   \n",
       "4             (to, him, for, better)         -14.188898   \n",
       "5            (She, would, n't, 21-2)         -14.188898   \n",
       "6             (sign, ,, s, supposed)         -14.188821   \n",
       "7               (as, happy, as, can)         -14.188898   \n",
       "8              (<s>, <s>, <s>, Good)         -12.427542   \n",
       "9              (<s>, <s>, Glad, see)         -14.288650   \n",
       "10                  (<s>, <s>, `, s)          -8.616224   \n",
       "11              (send, him, off, to)         -14.188821   \n",
       "12                 (<s>, <s>, ?, ed)         -14.269200   \n",
       "13            (dust, up, once, more)         -14.188821   \n",
       "14                 (had, had, to, `)         -14.189130   \n",
       "15            (<s>, <s>, <s>, Bills)          -5.040602   \n",
       "16                     (``, ?, s, ?)         -14.188821   \n",
       "17          (His, face, was, fuller)         -14.189052   \n",
       "18        (,, therefore, ,, shorter)         -14.191059   \n",
       "19  (very, immobility, defying, all)         -14.188821   \n",
       "\n",
       "          Wrong token POS  Wrong token POS score Suggested token  \n",
       "0       (``, ``, IN, WRB)              -8.675957              DT  \n",
       "1       (PRP, VBD, TO, ,)              -8.383704              VB  \n",
       "2     (<s>, <s>, PRP, CC)              -8.122742             VBD  \n",
       "3          (:, CC, RB, .)              -6.832890              IN  \n",
       "4      (IN, PRP, IN, RBR)              -8.271463              DT  \n",
       "5       (PRP, MD, RB, CD)              -9.339850              VB  \n",
       "6       (NN, ,, PRP, VBN)              -9.419960             VBD  \n",
       "7        (RB, JJ, IN, MD)              -9.584963              DT  \n",
       "8     (<s>, <s>, <s>, UH)              -7.740390              DT  \n",
       "9     (<s>, <s>, NNP, VB)             -10.088788             VBD  \n",
       "10    (<s>, <s>, ``, PRP)             -10.859535              ``  \n",
       "11      (VB, PRP, RP, TO)              -6.754888              IN  \n",
       "12     (<s>, <s>, ., NNP)             -10.610102            </s>  \n",
       "13      (NN, RB, RB, JJR)              -7.965784              IN  \n",
       "14     (VBD, VBN, TO, ``)              -7.562242              VB  \n",
       "15  (<s>, <s>, <s>, NNPS)             -11.050245              DT  \n",
       "16       (``, ``, ., VBZ)             -10.956376            </s>  \n",
       "17   (PRP$, NN, VBD, JJR)              -8.507795             VBN  \n",
       "18        (,, RB, ,, JJR)              -8.968667              IN  \n",
       "19     (JJ, NN, VBG, PDT)              -7.392317              IN  "
      ]
     },
     "metadata": {},
     "output_type": "display_data"
    },
    {
     "name": "stdout",
     "output_type": "stream",
     "text": [
      "Regarding Atlanta 's new multi - million - dollar airport , the jury recommended ` ` that when the new sandra management takes charge Jan. 1 the airport be operated in a manner that will eliminate political influences '' .\n",
      "\n",
      "Let her call Crosson if she wanted to , let Crosson raise the roof or even can him , he did n't care macdonald's .\n",
      "\n",
      "He plus tried to ignore what his own common sense told him , but it was n't possible ; ; her returning motives were too blatant .\n",
      "\n",
      "Nothing bald , openest ; ; but enough .\n",
      "\n",
      "She was married to him for better or for worse .\n",
      "\n",
      "She would n't 21-2 be wilfully planning his destruction .\n",
      "\n",
      "What was that old sign ,s supposed to be painted over a door somewhere , Abandon hope , all ye who enter here ?\n",
      "\n",
      "Why , Holden to himself , surprised at his own sudden insight , I 'll bet some of those people who enter are just as happy as can be .\n",
      "\n",
      "Good --ed bye .\n",
      "\n",
      "Glad see you go .\n",
      "\n",
      "`s ` They were all faded .\n",
      "\n",
      "` ` Why onning earth did I send him off to work ?\n",
      "\n",
      "?ed Different about ther mouth , huh ?\n",
      "\n",
      "men also used vacuum cleaners in both rooms , sucking dust up once more .\n",
      "\n",
      "Faith Constable had had to ` ` go on '' from the party and had , presumably , gone on .\n",
      "\n",
      "Bills picked up the telephone ; ; got Mullins ..ed\n",
      "\n",
      "Or : ` ` Does he get exercise '' ?s ?\n",
      "\n",
      "His face was fuller ;s ; his lips and the usually sharp lines of his jawing had become swollen - looking .\n",
      "\n",
      "He breathed now with his mouth open manage , showing a whitely curving section of lower teeth ; ; he kept his eyes , with their puffed blurred lids , always lowered , though not , apparently , focusing .s Even his neck seemed thicker and , therefore , shorter .\n",
      "\n",
      "Where their sharp edges seemed restless as sea waves thrusting themselves upward in angry motion , Papa - san sat glacier - like , his smooth solidity , his very immobility defying all the turmoil about him .\n",
      "\n"
     ]
    }
   ],
   "source": [
    "def suggest_corrections(strategy, n_value, ngram_data_text, ngram_data_pos, ngram_results_text, ngram_results_pos, print_limit=10):\n",
    "    \n",
    "    # results used for thresholding\n",
    "    if strategy == 'pos':\n",
    "        ngram_results = ngram_results_pos\n",
    "        cutoff = ngram_data_pos[n_value]['score_cutoff']\n",
    "    elif strategy == 'text':\n",
    "        ngram_results = ngram_results_text\n",
    "        cutoff = ngram_data_text[n_value]['score_cutoff']\n",
    "    elif strategy == 'both':\n",
    "        raise ValueError('strategy not implemented')\n",
    "    print(f'Thresholding done using \"{strategy}\" sequence scores')\n",
    "    print(f'{n_value}-gram cutoff:\\t{cutoff}')\n",
    "    \n",
    "    data = {\n",
    "        'Text': [],\n",
    "        'Text score': [],\n",
    "        'POS score': [],\n",
    "        'Wrong token': [],\n",
    "        'Wrong token score': [],\n",
    "        'Wrong token POS': [],\n",
    "        'Wrong token POS score': [],\n",
    "        'Suggested token': []\n",
    "    }    \n",
    "    for index in ngram_results[n_value]['suspect_sequences_index']:\n",
    "        \n",
    "        token_scores = ngram_results[n_value]['sequence_token_scores'][index]\n",
    "        min_val, min_idx = min((val, idx) for (idx, val) in enumerate(token_scores))\n",
    "        # text_token_scores = ngram_results_text[n_value]['sequence_token_scores'][index]\n",
    "        # min_text_token_val, min_text_token_idx = min((val, idx) for (idx, val) in enumerate(text_token_scores))\n",
    "        \n",
    "        data['Text'].append(ngram_results_text['segmented_corpus'][index])\n",
    "        data['Text score'].append(ngram_results_text[n_value]['sequence_scores'][index])\n",
    "        data['POS score'].append(ngram_results_pos[n_value]['sequence_scores'][index])\n",
    "        data['Wrong token'].append(ngram_results_text[n_value]['ngram_sequences'][index][min_idx])\n",
    "        data['Wrong token score'].append(ngram_results_text[n_value]['sequence_token_scores'][index][min_idx])\n",
    "        data['Wrong token POS'].append(ngram_results_pos[n_value]['ngram_sequences'][index][min_idx])\n",
    "        data['Wrong token POS score'].append(min_val)\n",
    "        \n",
    "        if strategy == 'pos':\n",
    "            # Get highest P(pos|pos_context)\n",
    "            pos_gram = ngram_results_pos[n_value]['ngram_sequences'][index][min_idx]\n",
    "            try:\n",
    "                suggested_pos_token = ngram_data_pos[n_value]['model'].counts[pos_gram[:-1]].max()\n",
    "            except:\n",
    "                suggested_pos_token = None\n",
    "            # Get highest P(text|pos)\n",
    "            suggested_text_token = suggested_pos_token\n",
    "            data['Suggested token'].append(suggested_text_token)\n",
    "        elif strategy == 'text':\n",
    "            # Get highest P(text|text_context)\n",
    "            text_gram = ngram_results_text[n_value]['ngram_sequences'][index][min_idx]\n",
    "            try:\n",
    "                suggested_text_token = ngram_data_text[n_value]['model'].counts[text_gram[:-1]].max()\n",
    "            except:\n",
    "                suggested_text_token = None\n",
    "            data['Suggested token'].append(suggested_text_token)\n",
    "        elif strategy == 'both':\n",
    "            raise ValueError('strategy not implemented')\n",
    "            \n",
    "        print_limit -= 1\n",
    "        if print_limit <= 0:\n",
    "            break\n",
    "            \n",
    "    display(pd.DataFrame(data))\n",
    "\n",
    "    for text in data['Text']:\n",
    "        print(text, end='\\n\\n')\n",
    "    \n",
    "suggest_corrections('pos', 4, ngram_data_text, ngram_data_pos, ngram_results_text, ngram_results_pos, print_limit=20)"
   ]
  },
  {
   "cell_type": "markdown",
   "metadata": {
    "id": "GaZg4--fEgKU"
   },
   "source": [
    "### Saving model"
   ]
  },
  {
   "cell_type": "code",
   "execution_count": 62,
   "metadata": {
    "id": "gYJWB4TmEcn_"
   },
   "outputs": [],
   "source": [
    "import dill as pickle \n",
    "\n",
    "os.makedirs(os.path.join(BASE_DIR, 'models'), exist_ok=True)\n",
    "\n",
    "for n_value in n_values:\n",
    "    with open(os.path.join(BASE_DIR, 'models', f'{n_value}_gram_text.pkl'), 'wb') as fout:\n",
    "        pickle.dump(ngram_data_text[n_value]['model'], fout)\n",
    "        \n",
    "for n_value in n_values:\n",
    "    with open(os.path.join(BASE_DIR, 'models', f'{n_value}_gram_pos.pkl'), 'wb') as fout:\n",
    "        pickle.dump(ngram_data_pos[n_value]['model'], fout)"
   ]
  },
  {
   "cell_type": "markdown",
   "metadata": {},
   "source": [
    "## Contribution\n",
    "- Adarsh Nandanwar [2018A7PS0396G] - Language Model (n-gram) Train and Test, Language Model Evaluation\n",
    "- Yash Narang [2018A7PS0150G] - POS Tagging: Hidden Markov Model\n",
    "- Manav Mehta [2018A7PS0164G] - Dataset Analysis\n",
    "- Aditya Jain [2018A7PS0243G] - POS Tagging: Spacy, Perplexity Calculation\n",
    "- Pranav Gaur [2018A7PS0099G] - POS Tagging: Spacy, Perplexity Calculation"
   ]
  },
  {
   "cell_type": "code",
   "execution_count": null,
   "metadata": {},
   "outputs": [],
   "source": []
  }
 ],
 "metadata": {
  "colab": {
   "collapsed_sections": [],
   "name": "nlp_grammer_check.ipynb",
   "provenance": []
  },
  "kernelspec": {
   "display_name": "Python 3",
   "language": "python",
   "name": "python3"
  },
  "language_info": {
   "codemirror_mode": {
    "name": "ipython",
    "version": 3
   },
   "file_extension": ".py",
   "mimetype": "text/x-python",
   "name": "python",
   "nbconvert_exporter": "python",
   "pygments_lexer": "ipython3",
   "version": "3.8.5"
  }
 },
 "nbformat": 4,
 "nbformat_minor": 1
}
