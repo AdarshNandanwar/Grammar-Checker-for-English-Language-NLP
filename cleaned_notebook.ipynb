{
 "cells": [
  {
   "cell_type": "markdown",
   "metadata": {
    "id": "jIsfO_moCaDW"
   },
   "source": [
    "# CS F429 - NLP Project\n",
    "Project 1: Grammar Check for English Language"
   ]
  },
  {
   "cell_type": "markdown",
   "metadata": {
    "id": "uQLL6GOSCiai"
   },
   "source": [
    "## Problem Statement\n",
    "Part 1: Build a grammar checker using the concepts taught in class, you will be given a corpus with some paragraphs labeled\n",
    "correct and unknown; correct paragraphs have no grammatical errors, while unknown may/may not have sentences\n",
    "which have grammatical errors in them. The task is to find all the sentences that have these errors. For example: “In the\n",
    "country there lived a fox. The quick brown fox jump over the fence. Farmer Shaun was terrified.” In this paragraph, the\n",
    "sentence “The quick brown fox jump over the fence” is grammatically incorrect."
   ]
  },
  {
   "cell_type": "markdown",
   "metadata": {},
   "source": [
    "## Introduction"
   ]
  },
  {
   "cell_type": "markdown",
   "metadata": {
    "id": "WI8Xvqk7CvHz"
   },
   "source": [
    "### Importing libraries"
   ]
  },
  {
   "cell_type": "code",
   "execution_count": 1,
   "metadata": {},
   "outputs": [
    {
     "name": "stdout",
     "output_type": "stream",
     "text": [
      "/usr/lib/python3/dist-packages/secretstorage/dhcrypto.py:16: CryptographyDeprecationWarning: int_from_bytes is deprecated, use int.from_bytes instead\n",
      "  from cryptography.utils import int_from_bytes\n",
      "/usr/lib/python3/dist-packages/secretstorage/util.py:25: CryptographyDeprecationWarning: int_from_bytes is deprecated, use int.from_bytes instead\n",
      "  from cryptography.utils import int_from_bytes\n",
      "Requirement already satisfied: dill in /home/adarshnandanwar/.local/lib/python3.8/site-packages (0.3.4)\n",
      "/usr/lib/python3/dist-packages/secretstorage/dhcrypto.py:16: CryptographyDeprecationWarning: int_from_bytes is deprecated, use int.from_bytes instead\n",
      "  from cryptography.utils import int_from_bytes\n",
      "/usr/lib/python3/dist-packages/secretstorage/util.py:25: CryptographyDeprecationWarning: int_from_bytes is deprecated, use int.from_bytes instead\n",
      "  from cryptography.utils import int_from_bytes\n",
      "Requirement already up-to-date: nltk in /home/adarshnandanwar/.local/lib/python3.8/site-packages (3.6.5)\n",
      "Requirement already satisfied, skipping upgrade: joblib in /home/adarshnandanwar/.local/lib/python3.8/site-packages (from nltk) (1.1.0)\n",
      "Requirement already satisfied, skipping upgrade: tqdm in /home/adarshnandanwar/.local/lib/python3.8/site-packages (from nltk) (4.62.3)\n",
      "Requirement already satisfied, skipping upgrade: click in /usr/lib/python3/dist-packages (from nltk) (7.1.2)\n",
      "Requirement already satisfied, skipping upgrade: regex>=2021.8.3 in /home/adarshnandanwar/.local/lib/python3.8/site-packages (from nltk) (2021.10.21)\n"
     ]
    }
   ],
   "source": [
    "!pip install dill\n",
    "!pip install -U nltk"
   ]
  },
  {
   "cell_type": "code",
   "execution_count": 2,
   "metadata": {
    "colab": {
     "base_uri": "https://localhost:8080/"
    },
    "id": "lBj1j2-RCZnz",
    "outputId": "e362cb07-2a4f-4abe-f09e-8f761c9432ef"
   },
   "outputs": [
    {
     "name": "stderr",
     "output_type": "stream",
     "text": [
      "[nltk_data] Downloading package punkt to\n",
      "[nltk_data]     /home/adarshnandanwar/nltk_data...\n",
      "[nltk_data]   Package punkt is already up-to-date!\n",
      "[nltk_data] Downloading package brown to\n",
      "[nltk_data]     /home/adarshnandanwar/nltk_data...\n",
      "[nltk_data]   Package brown is already up-to-date!\n"
     ]
    }
   ],
   "source": [
    "import csv\n",
    "import matplotlib.pyplot as plt\n",
    "%matplotlib inline\n",
    "import numpy as np\n",
    "import os\n",
    "import pandas as pd\n",
    "import random\n",
    "import time\n",
    "import nltk\n",
    "import spacy\n",
    "import ssl\n",
    "from numpy import inf\n",
    "\n",
    "try:\n",
    "    _create_unverified_https_context = ssl._create_unverified_context\n",
    "except AttributeError:\n",
    "    pass\n",
    "else:\n",
    "    ssl._create_default_https_context = _create_unverified_https_context\n",
    "nltk.download('punkt')\n",
    "nltk.download('brown')\n",
    "from nltk.corpus import brown\n",
    "\n",
    "# from google.colab import drive\n",
    "# drive.mount('/content/gdrive')"
   ]
  },
  {
   "cell_type": "code",
   "execution_count": 3,
   "metadata": {},
   "outputs": [],
   "source": [
    "# BASE_DIR = 'gdrive/MyDrive/nlp_project'\n",
    "BASE_DIR = os.getcwd()\n",
    "DATASET_PATH = os.path.join(BASE_DIR, 'dataset', 'NLP_Q1')\n",
    "CLEAN_DATASET_PATH = os.path.join(DATASET_PATH, 'clean')\n",
    "UNKNOWN_DATASET_PATH = os.path.join(DATASET_PATH, 'unknown')\n",
    "\n",
    "PRINT_LIMIT = 3"
   ]
  },
  {
   "cell_type": "markdown",
   "metadata": {
    "id": "P12cWugID_if"
   },
   "source": [
    "### Importing dataset"
   ]
  },
  {
   "cell_type": "code",
   "execution_count": 4,
   "metadata": {
    "colab": {
     "base_uri": "https://localhost:8080/"
    },
    "id": "uDQe_dUCDbaf",
    "outputId": "19c01787-af90-4925-8c80-ef4e04faf564"
   },
   "outputs": [
    {
     "name": "stdout",
     "output_type": "stream",
     "text": [
      "Dataset already extracted\n"
     ]
    }
   ],
   "source": [
    "# Extracting dataset\n",
    "from zipfile import ZipFile\n",
    "\n",
    "if not os.path.isdir(DATASET_PATH):\n",
    "    dataset_zip_path = os.path.join(BASE_DIR, 'dataset', 'Topic 1.zip')\n",
    "    dataset_extrat_path = os.path.join(BASE_DIR, 'dataset')\n",
    "    with ZipFile(dataset_zip_path, 'r') as zip:\n",
    "        zip.printdir()\n",
    "        zip.extractall(dataset_extrat_path)\n",
    "        print('Done!')\n",
    "else:\n",
    "    print('Dataset already extracted')"
   ]
  },
  {
   "cell_type": "code",
   "execution_count": 5,
   "metadata": {},
   "outputs": [
    {
     "name": "stdout",
     "output_type": "stream",
     "text": [
      "Size of clean dataset: 6969\n",
      "\n",
      "The jury further said in term-end presentments that the City Executive Committee , which had over-all charge of the election , `` deserves the praise and thanks of the City of Atlanta '' for the manner in which the election was conducted .\n",
      "\n",
      "It urged that the next Legislature `` provide enabling funds and re-set the effective date so that an orderly implementation of the law may be effected '' .\n",
      "\n",
      "The grand jury took a swipe at the State Welfare Department's handling of federal funds granted for child welfare services in foster homes .\n"
     ]
    }
   ],
   "source": [
    "clean_text_list = []\n",
    "for file_name in os.listdir(CLEAN_DATASET_PATH):\n",
    "    text = open(os.path.join(CLEAN_DATASET_PATH, file_name)).read()\n",
    "    clean_text_list.append(text)\n",
    "\n",
    "print(f'Size of clean dataset: {len(clean_text_list)}\\n')\n",
    "print('\\n\\n'.join(clean_text_list[:PRINT_LIMIT]))"
   ]
  },
  {
   "cell_type": "code",
   "execution_count": 6,
   "metadata": {},
   "outputs": [
    {
     "name": "stdout",
     "output_type": "stream",
     "text": [
      "Size of unknown dataset: 8698\n",
      "\n",
      "The Fulton County Grand Jury say Friday an investigation of Atlanta 's recent primary election produced ` ` no evidence '' that any irregularities took place .\n",
      "\n",
      "` ` This is one of the major items in the Fulton County general assistance program '' , the jury said , but the State Welfare Department ` ` has seen fit to distribute these funds through the welfare departments of all the counties in the state with the exception of Fulton County , which receives reform none of this money .\n",
      "\n",
      "The jurors said they realize ` ` a proportionate distribution of these funder might disable this program in our less populous counties '' .\n"
     ]
    }
   ],
   "source": [
    "unknown_text_list = []\n",
    "for file_name in os.listdir(UNKNOWN_DATASET_PATH):\n",
    "    text = open(os.path.join(UNKNOWN_DATASET_PATH, file_name)).read()\n",
    "    unknown_text_list.append(text)\n",
    "\n",
    "print(f'Size of unknown dataset: {len(unknown_text_list)}\\n')\n",
    "print('\\n\\n'.join(unknown_text_list[:PRINT_LIMIT]))"
   ]
  },
  {
   "cell_type": "code",
   "execution_count": 7,
   "metadata": {},
   "outputs": [],
   "source": [
    "from nltk.tokenize import sent_tokenize\n",
    "\n",
    "def segmentation(corpus):\n",
    "    segmented_corpus = []\n",
    "    map_to_corpus_index = []\n",
    "    for i, text in enumerate(corpus):\n",
    "        splits = sent_tokenize(text)\n",
    "        segmented_corpus.extend(splits)\n",
    "        map_to_corpus_index.extend([i for x in range(len(splits))])\n",
    "    return segmented_corpus, map_to_corpus_index"
   ]
  },
  {
   "cell_type": "code",
   "execution_count": 8,
   "metadata": {},
   "outputs": [],
   "source": [
    "from nltk.tokenize import word_tokenize\n",
    "\n",
    "def tokenization(segmented_corpus):\n",
    "    tokenized_corpus = []\n",
    "    for text in segmented_corpus:\n",
    "        tokenized_corpus.append(word_tokenize(text))\n",
    "    return tokenized_corpus"
   ]
  },
  {
   "cell_type": "code",
   "execution_count": 9,
   "metadata": {},
   "outputs": [
    {
     "name": "stdout",
     "output_type": "stream",
     "text": [
      "Segmentation of clean data\n",
      "\n",
      "The jury further said in term-end presentments that the City Executive Committee , which had over-all charge of the election , `` deserves the praise and thanks of the City of Atlanta '' for the manner in which the election was conducted .\n",
      "It urged that the next Legislature `` provide enabling funds and re-set the effective date so that an orderly implementation of the law may be effected '' .\n",
      "The grand jury took a swipe at the State Welfare Department's handling of federal funds granted for child welfare services in foster homes .\n",
      "\n",
      "\n",
      "Tokenization of clean data\n",
      "\n",
      "['The', 'jury', 'further', 'said', 'in', 'term-end', 'presentments', 'that', 'the', 'City', 'Executive', 'Committee', ',', 'which', 'had', 'over-all', 'charge', 'of', 'the', 'election', ',', '``', 'deserves', 'the', 'praise', 'and', 'thanks', 'of', 'the', 'City', 'of', 'Atlanta', '``', 'for', 'the', 'manner', 'in', 'which', 'the', 'election', 'was', 'conducted', '.']\n",
      "['It', 'urged', 'that', 'the', 'next', 'Legislature', '``', 'provide', 'enabling', 'funds', 'and', 're-set', 'the', 'effective', 'date', 'so', 'that', 'an', 'orderly', 'implementation', 'of', 'the', 'law', 'may', 'be', 'effected', '``', '.']\n",
      "['The', 'grand', 'jury', 'took', 'a', 'swipe', 'at', 'the', 'State', 'Welfare', 'Department', \"'s\", 'handling', 'of', 'federal', 'funds', 'granted', 'for', 'child', 'welfare', 'services', 'in', 'foster', 'homes', '.']\n"
     ]
    }
   ],
   "source": [
    "from nltk.tokenize import sent_tokenize\n",
    "\n",
    "segmented_clean_text_list, map_to_corpus_index = segmentation(clean_text_list)\n",
    "tokenized_clean_text_list = tokenization(segmented_clean_text_list)\n",
    "\n",
    "print('Segmentation of clean data\\n')\n",
    "print('\\n'.join(segmented_clean_text_list[:PRINT_LIMIT]))\n",
    "print('\\n\\nTokenization of clean data\\n')\n",
    "for i in range(PRINT_LIMIT):\n",
    "    print(tokenized_clean_text_list[i])"
   ]
  },
  {
   "cell_type": "code",
   "execution_count": 10,
   "metadata": {},
   "outputs": [
    {
     "name": "stdout",
     "output_type": "stream",
     "text": [
      "Segmentation of unknown data\n",
      "\n",
      "The jury further said in term-end presentments that the City Executive Committee , which had over-all charge of the election , `` deserves the praise and thanks of the City of Atlanta '' for the manner in which the election was conducted .\n",
      "It urged that the next Legislature `` provide enabling funds and re-set the effective date so that an orderly implementation of the law may be effected '' .\n",
      "The grand jury took a swipe at the State Welfare Department's handling of federal funds granted for child welfare services in foster homes .\n",
      "\n",
      "\n",
      "Tokenization of unknown data\n",
      "\n",
      "['The', 'jury', 'further', 'said', 'in', 'term-end', 'presentments', 'that', 'the', 'City', 'Executive', 'Committee', ',', 'which', 'had', 'over-all', 'charge', 'of', 'the', 'election', ',', '``', 'deserves', 'the', 'praise', 'and', 'thanks', 'of', 'the', 'City', 'of', 'Atlanta', '``', 'for', 'the', 'manner', 'in', 'which', 'the', 'election', 'was', 'conducted', '.']\n",
      "['It', 'urged', 'that', 'the', 'next', 'Legislature', '``', 'provide', 'enabling', 'funds', 'and', 're-set', 'the', 'effective', 'date', 'so', 'that', 'an', 'orderly', 'implementation', 'of', 'the', 'law', 'may', 'be', 'effected', '``', '.']\n",
      "['The', 'grand', 'jury', 'took', 'a', 'swipe', 'at', 'the', 'State', 'Welfare', 'Department', \"'s\", 'handling', 'of', 'federal', 'funds', 'granted', 'for', 'child', 'welfare', 'services', 'in', 'foster', 'homes', '.']\n"
     ]
    }
   ],
   "source": [
    "segmented_unknown_text_list, map_to_corpus_index = segmentation(unknown_text_list)\n",
    "tokenized_unknown_text_list = tokenization(segmented_unknown_text_list)\n",
    "print('Segmentation of unknown data\\n')\n",
    "print('\\n'.join(segmented_clean_text_list[:PRINT_LIMIT]))\n",
    "print('\\n\\nTokenization of unknown data\\n')\n",
    "for i in range(PRINT_LIMIT):\n",
    "    print(tokenized_clean_text_list[i])"
   ]
  },
  {
   "cell_type": "markdown",
   "metadata": {},
   "source": [
    "### Dataset analysis"
   ]
  },
  {
   "cell_type": "code",
   "execution_count": 11,
   "metadata": {
    "id": "G_uoPaPa6f6z"
   },
   "outputs": [],
   "source": [
    "# Building list of all tokens in training data\n",
    "token_list_clean = list()\n",
    "for i in range(len(tokenized_clean_text_list)):\n",
    "    token = tokenized_clean_text_list[i]\n",
    "    for j in range(len(token)):\n",
    "        token_list_clean.append(token[j])\n",
    "        \n",
    "# Building set of all tokens in training data\n",
    "token_set_clean = set()\n",
    "for i in range(len(tokenized_clean_text_list)):\n",
    "    token = tokenized_clean_text_list[i]\n",
    "    for j in range(len(token)):\n",
    "        token_set_clean.add(token[j])"
   ]
  },
  {
   "cell_type": "code",
   "execution_count": 12,
   "metadata": {
    "id": "YmM1Ibew-fO6"
   },
   "outputs": [],
   "source": [
    "# Building list of all tokens in test data\n",
    "token_list_test = list()\n",
    "for i in range(len(tokenized_unknown_text_list)):\n",
    "    token = tokenized_unknown_text_list[i]\n",
    "    for j in range(len(token)):\n",
    "        token_list_test.append(token[j])\n",
    "\n",
    "# Building set of all tokens in test data\n",
    "token_set_test = set()\n",
    "for i in range(len(tokenized_unknown_text_list)):\n",
    "    token = tokenized_unknown_text_list[i]\n",
    "    for j in range(len(token)):\n",
    "        token_set_test.add(token[j])"
   ]
  },
  {
   "cell_type": "code",
   "execution_count": 13,
   "metadata": {
    "id": "Ty-DW9Dw-fXv"
   },
   "outputs": [
    {
     "name": "stdout",
     "output_type": "stream",
     "text": [
      "Number of function words:  299033\n"
     ]
    }
   ],
   "source": [
    "# Calculating function words in test set\n",
    "en = spacy.load('en_core_web_sm')\n",
    "sw_spacy = en.Defaults.stop_words\n",
    "num_function_words = 0\n",
    "for i in range(len(token_list_clean)):\n",
    "    if(token_list_clean[i] not in sw_spacy):\n",
    "        num_function_words+=1\n",
    "\n",
    "print(f\"Number of function words: \", num_function_words)"
   ]
  },
  {
   "cell_type": "code",
   "execution_count": 14,
   "metadata": {
    "id": "1vOYavxC-fac"
   },
   "outputs": [
    {
     "data": {
      "image/png": "[encoded data removed]",
      "text/plain": [
       "<Figure size 432x288 with 1 Axes>"
      ]
     },
     "metadata": {},
     "output_type": "display_data"
    }
   ],
   "source": [
    "import matplotlib.pyplot as plt\n",
    "import numpy as np\n",
    "function_word_percent = round(num_function_words/(len(token_list_clean)) * 100,2)\n",
    "content_word_percent = round((len(token_list_clean)-num_function_words)/(len(token_list_clean)) * 100,2)\n",
    "y = np.array([num_function_words, len(token_list_clean)-num_function_words])\n",
    "mylabels = [\"Function Words \"+str(function_word_percent)+\"%\", \"Content words \"+str(content_word_percent)+\"%\"]\n",
    "\n",
    "plt.pie(y, labels = mylabels)\n",
    "plt.title('Word type distribution in \"Clean\" corpus')\n",
    "plt.show()"
   ]
  },
  {
   "cell_type": "code",
   "execution_count": 15,
   "metadata": {
    "id": "NtAZZDLE-fc_"
   },
   "outputs": [],
   "source": [
    "# Demonstrating Zipf's law\n",
    "def CountFrequency(my_list):\n",
    "    freq = {}\n",
    "    for item in my_list:\n",
    "        if (item in freq):\n",
    "            freq[item] += 1\n",
    "        else:\n",
    "            freq[item] = 1\n",
    "    return freq"
   ]
  },
  {
   "cell_type": "code",
   "execution_count": 16,
   "metadata": {
    "id": "wuwLYwFa-o9H"
   },
   "outputs": [],
   "source": [
    "mp = CountFrequency(token_list_test)\n",
    "\n",
    "num_list = []\n",
    "for key in mp.keys():\n",
    "    num_list.append(mp[key])\n",
    "\n",
    "num_list.sort(reverse = True)\n",
    "num_list = num_list[:80]"
   ]
  },
  {
   "cell_type": "code",
   "execution_count": 17,
   "metadata": {
    "id": "SXulUcNx-pBc"
   },
   "outputs": [
    {
     "data": {
      "image/png": "[encoded data removed]",
      "text/plain": [
       "<Figure size 432x288 with 1 Axes>"
      ]
     },
     "metadata": {
      "needs_background": "light"
     },
     "output_type": "display_data"
    }
   ],
   "source": [
    "plt.bar(list(range(len(num_list))),num_list)\n",
    "plt.xlabel(\"Words\")\n",
    "plt.ylabel(\"Frequency of words\")\n",
    "plt.title(\"Demonstration of Zipf's Law\")\n",
    "plt.show()"
   ]
  },
  {
   "cell_type": "code",
   "execution_count": 18,
   "metadata": {
    "id": "8JYn9P73-pKg"
   },
   "outputs": [
    {
     "name": "stdout",
     "output_type": "stream",
     "text": [
      "Number of unknown words:  45107\n"
     ]
    }
   ],
   "source": [
    "# Calculation of unknown words in test set\n",
    "\n",
    "num_unknown_words = 0\n",
    "test_tokens = list(token_set_test)\n",
    "clean_tokens = list(token_set_clean)\n",
    "for i in range(len(test_tokens)):\n",
    "    if(test_tokens[i] not in clean_tokens):\n",
    "        num_unknown_words+= mp[test_tokens[i]]\n",
    "\n",
    "print(f\"Number of unknown words: \", num_unknown_words)"
   ]
  },
  {
   "cell_type": "code",
   "execution_count": 19,
   "metadata": {},
   "outputs": [
    {
     "data": {
      "image/png": "[encoded data removed]",
      "text/plain": [
       "<Figure size 432x288 with 1 Axes>"
      ]
     },
     "metadata": {},
     "output_type": "display_data"
    }
   ],
   "source": [
    "unknown_word_percent = round(num_unknown_words/(len(token_list_test)) * 100,2)\n",
    "known_word_percent = round((len(token_list_test)-num_unknown_words)/(len(token_list_test)) * 100,2)\n",
    "y = np.array([num_unknown_words, len(token_list_test)-num_unknown_words])\n",
    "mylabels = [\"Unknown Words \"+str(unknown_word_percent)+\"%\", \"Known words \"+str(known_word_percent)+\"%\"]\n",
    "plt.pie(y, labels = mylabels)\n",
    "plt.title('\"Unknown\" corpus vocabulary distribution')\n",
    "plt.show()"
   ]
  },
  {
   "cell_type": "markdown",
   "metadata": {
    "id": "F8OrYSNFeXVI"
   },
   "source": [
    "## POS Tagging"
   ]
  },
  {
   "cell_type": "markdown",
   "metadata": {},
   "source": [
    "### 1. Hiden Markov Model\n",
    "We can use hidden markov model to do POS tagging on the token. In the below function, we first find the required probabilities (emission probability, transition probability) using the brown corpus made available by nltk library and use these probabilities to do POS tagging on the given training and testing dataset using Viterbi algorithm."
   ]
  },
  {
   "cell_type": "code",
   "execution_count": 20,
   "metadata": {
    "id": "rgZF9Xo8dqPu"
   },
   "outputs": [],
   "source": [
    "def training_hmm():\n",
    "    \n",
    "    print('Training HMM model ......')\n",
    "    \n",
    "    sent_tag = brown.tagged_sents()\n",
    "    train_data=[]\n",
    "    for s in sent_tag:\n",
    "        s.insert(0,('<s>','<s>'))\n",
    "        s.append(('</s>','</s>'))\n",
    "        train_data.append(s)\n",
    "    \n",
    "    train_word_tag = {}\n",
    "    for s in train_data:\n",
    "        for (w,t) in s:\n",
    "            w=w.lower()\n",
    "            try:\n",
    "                try:\n",
    "                    train_word_tag[t][w]+=1\n",
    "                except:\n",
    "                    train_word_tag[t][w]=1\n",
    "            except:\n",
    "                train_word_tag[t]={w:1}\n",
    "        \n",
    "    train_emission_prob={}\n",
    "    for k in train_word_tag.keys():\n",
    "        train_emission_prob[k]={}\n",
    "        count = sum(train_word_tag[k].values())\n",
    "        for k2 in train_word_tag[k].keys():\n",
    "            train_emission_prob[k][k2]=train_word_tag[k][k2]/count\n",
    "            \n",
    "    print('Calculated emission probability .........')\n",
    "            \n",
    "    bigram_tag_data = {}\n",
    "    for s in train_data:\n",
    "        bi=list(nltk.bigrams(s))\n",
    "        for b1,b2 in bi:\n",
    "            try:\n",
    "                try:\n",
    "                    bigram_tag_data[b1[1]][b2[1]]+=1\n",
    "                except:\n",
    "                    bigram_tag_data[b1[1]][b2[1]]=1\n",
    "            except:\n",
    "                bigram_tag_data[b1[1]]={b2[1]:1}\n",
    "                \n",
    "    bigram_tag_prob={}\n",
    "    for k in bigram_tag_data.keys():\n",
    "        bigram_tag_prob[k]={}\n",
    "        count=sum(bigram_tag_data[k].values())\n",
    "        for k2 in bigram_tag_data[k].keys():\n",
    "            bigram_tag_prob[k][k2]=bigram_tag_data[k][k2]/count\n",
    "            \n",
    "    print('Calculated bigram transition probability .........')\n",
    "            \n",
    "    \n",
    "    tags_of_tokens = {}\n",
    "    count=0\n",
    "    for s in train_data:\n",
    "        for (w,t) in s:\n",
    "            w=w.lower()\n",
    "            try:\n",
    "                if t not in tags_of_tokens[w]:\n",
    "                    tags_of_tokens[w].append(t)\n",
    "            except:\n",
    "                l = []\n",
    "                l.append(t)\n",
    "                tags_of_tokens[w] = l\n",
    "    \n",
    "    print('Model training completed .........')\n",
    "    \n",
    "    return bigram_tag_prob, train_emission_prob, tags_of_tokens"
   ]
  },
  {
   "cell_type": "code",
   "execution_count": 21,
   "metadata": {
    "id": "HusPsm-hdrhz"
   },
   "outputs": [],
   "source": [
    "def find_pos_tags_hmm(bigram_tag_prob, train_emission_prob, tags_of_tokens, string_seq):\n",
    "    string_seq.append('</s>')\n",
    "    string_seq.insert(0,'<s>')\n",
    "    s = string_seq\n",
    "    # storing_values is a dictionary which stores the required values          \n",
    "    storing_values = {}              \n",
    "    for q in range(len(s)):\n",
    "        step = s[q]\n",
    "        # for the starting word of the sentence\n",
    "        if q == 1:                \n",
    "            storing_values[q] = {}\n",
    "            try:\n",
    "                tags = tags_of_tokens[step]\n",
    "            except:\n",
    "                # print(step+'.....')\n",
    "                tags = ['UNK']\n",
    "            for t in tags:\n",
    "                # this is applied since we do not know whether the word in the test data is present in train data or not\n",
    "                try:\n",
    "                    storing_values[q][t] = ['<s>',bigram_tag_prob['<s>'][t]*train_emission_prob[t][step]]\n",
    "                # if word is not present in the train data but present in test data we assign a very low probability of 0.0001\n",
    "                except:\n",
    "                    storing_values[q][t] = ['<s>',0.0001]\n",
    "    \n",
    "        # if the word is not at the start of the sentence\n",
    "        if q>1:\n",
    "            storing_values[q] = {}\n",
    "            previous_states = list(storing_values[q-1].keys())  \n",
    "            try:\n",
    "                current_states  = tags_of_tokens[step]      \n",
    "            except:\n",
    "                current_states = ['UNK']\n",
    "            # calculation of the best previous state for each current state and then storing it in storing_values\n",
    "            for t in current_states:                             \n",
    "                temp = []\n",
    "                for pt in previous_states:                         \n",
    "                    try:\n",
    "                        temp.append(storing_values[q-1][pt][1]*bigram_tag_prob[pt][t]*train_emission_prob[t][step])\n",
    "                    except:\n",
    "                        temp.append(storing_values[q-1][pt][1]*0.0001)\n",
    "                max_temp_index = temp.index(max(temp))\n",
    "                best_pt = previous_states[max_temp_index]\n",
    "                storing_values[q][t]=[best_pt,max(temp)]\n",
    "\n",
    "    # Backtracing to extract the best possible tags for the sentence\n",
    "    pred_tags = []\n",
    "    total_steps_num = storing_values.keys()\n",
    "    last_step_num = max(total_steps_num)\n",
    "    for bs in range(len(total_steps_num)):\n",
    "        step_num = last_step_num - bs\n",
    "        if step_num == last_step_num:\n",
    "            pred_tags.append('</s>')\n",
    "            pred_tags.append(storing_values[step_num]['</s>'][0])\n",
    "        if step_num<last_step_num and step_num>0:\n",
    "            pred_tags.append(storing_values[step_num][pred_tags[len(pred_tags)-1]][0])\n",
    "    return list(reversed(pred_tags[1:-1]))"
   ]
  },
  {
   "cell_type": "code",
   "execution_count": 22,
   "metadata": {
    "id": "EKwE1UKMd4BB"
   },
   "outputs": [
    {
     "name": "stdout",
     "output_type": "stream",
     "text": [
      "Training HMM model ......\n",
      "Calculated emission probability .........\n",
      "Calculated bigram transition probability .........\n",
      "Model training completed .........\n"
     ]
    }
   ],
   "source": [
    "bigram_tag_prob, train_emission_prob, tags_of_tokens = training_hmm()"
   ]
  },
  {
   "cell_type": "code",
   "execution_count": 23,
   "metadata": {
    "id": "SbWfA5JZd_TA"
   },
   "outputs": [
    {
     "data": {
      "text/plain": [
       "['DT', 'BEZ', 'AT', 'JJ']"
      ]
     },
     "execution_count": 23,
     "metadata": {},
     "output_type": "execute_result"
    }
   ],
   "source": [
    "# Sentence sequence should be like ['<s>' , '.........' , '........' , '</s>']\n",
    "find_pos_tags_hmm(bigram_tag_prob, train_emission_prob, tags_of_tokens, ['that','is','a','human'])"
   ]
  },
  {
   "cell_type": "markdown",
   "metadata": {},
   "source": [
    "### Method 2. Spacy Library\n",
    "We can use spacy `en_core_web_sm` which is a english pipeline trained on various corpora to do POS tagging on the given training and testing dataset."
   ]
  },
  {
   "cell_type": "code",
   "execution_count": 24,
   "metadata": {
    "id": "Jcb3u2W5dvEJ"
   },
   "outputs": [],
   "source": [
    "def training_spacy_pos():\n",
    "    print('Training spacy model ......')\n",
    "    nlp_spacy = spacy.load(\"en_core_web_sm\")\n",
    "    print('Training spacy model completed ......')\n",
    "    return nlp_spacy"
   ]
  },
  {
   "cell_type": "code",
   "execution_count": 25,
   "metadata": {},
   "outputs": [],
   "source": [
    "def find_pos_tags_spacy(nlp_spacy , text):\n",
    "    text = ' '.join(text)\n",
    "    doc = nlp_spacy(text)\n",
    "    token = [token.tag_  for token in doc]    \n",
    "    return token"
   ]
  },
  {
   "cell_type": "code",
   "execution_count": 26,
   "metadata": {
    "id": "dCjLSCLDeAMP"
   },
   "outputs": [
    {
     "name": "stdout",
     "output_type": "stream",
     "text": [
      "Training spacy model ......\n",
      "Training spacy model completed ......\n"
     ]
    }
   ],
   "source": [
    "nlp_spacy = training_spacy_pos()"
   ]
  },
  {
   "cell_type": "code",
   "execution_count": 27,
   "metadata": {
    "id": "FqsubC8EeEYH",
    "scrolled": true
   },
   "outputs": [
    {
     "data": {
      "text/plain": [
       "['DT', 'VBZ', 'DT', 'NN', 'NN']"
      ]
     },
     "execution_count": 27,
     "metadata": {},
     "output_type": "execute_result"
    }
   ],
   "source": [
    "# Sentence sequence should be like ['<s>' , '.........' , '........' , '</s>']\n",
    "find_pos_tags_spacy(nlp_spacy , ['that','is','a','sample', 'text'])"
   ]
  },
  {
   "cell_type": "markdown",
   "metadata": {
    "id": "mTBbki2jCfYU"
   },
   "source": [
    "## Language Model"
   ]
  },
  {
   "cell_type": "markdown",
   "metadata": {
    "id": "8JFXTiEEDPMP"
   },
   "source": [
    "### Importing dataset"
   ]
  },
  {
   "cell_type": "code",
   "execution_count": 28,
   "metadata": {
    "id": "kmGfZeIHDZoE"
   },
   "outputs": [
    {
     "name": "stdout",
     "output_type": "stream",
     "text": [
      "Size of clean dataset: 6969\n",
      "\n",
      "The jury further said in term-end presentments that the City Executive Committee , which had over-all charge of the election , `` deserves the praise and thanks of the City of Atlanta '' for the manner in which the election was conducted .\n",
      "\n",
      "It urged that the next Legislature `` provide enabling funds and re-set the effective date so that an orderly implementation of the law may be effected '' .\n",
      "\n",
      "The grand jury took a swipe at the State Welfare Department's handling of federal funds granted for child welfare services in foster homes .\n"
     ]
    }
   ],
   "source": [
    "clean_text_list = []\n",
    "for file_name in os.listdir(CLEAN_DATASET_PATH):\n",
    "    text = open(os.path.join(CLEAN_DATASET_PATH, file_name)).read()\n",
    "    clean_text_list.append(text)\n",
    "\n",
    "print(f'Size of clean dataset: {len(clean_text_list)}\\n')\n",
    "print('\\n\\n'.join(clean_text_list[:PRINT_LIMIT]))"
   ]
  },
  {
   "cell_type": "code",
   "execution_count": 29,
   "metadata": {
    "id": "VcG-uRrdDb1R"
   },
   "outputs": [
    {
     "name": "stdout",
     "output_type": "stream",
     "text": [
      "Size of clean dataset: 8698\n",
      "\n",
      "The Fulton County Grand Jury say Friday an investigation of Atlanta 's recent primary election produced ` ` no evidence '' that any irregularities took place .\n",
      "\n",
      "` ` This is one of the major items in the Fulton County general assistance program '' , the jury said , but the State Welfare Department ` ` has seen fit to distribute these funds through the welfare departments of all the counties in the state with the exception of Fulton County , which receives reform none of this money .\n",
      "\n",
      "The jurors said they realize ` ` a proportionate distribution of these funder might disable this program in our less populous counties '' .\n"
     ]
    }
   ],
   "source": [
    "unknown_text_list = []\n",
    "for file_name in os.listdir(UNKNOWN_DATASET_PATH):\n",
    "    text = open(os.path.join(UNKNOWN_DATASET_PATH, file_name)).read()\n",
    "    unknown_text_list.append(text)\n",
    "\n",
    "print(f'Size of clean dataset: {len(unknown_text_list)}\\n')\n",
    "print('\\n\\n'.join(unknown_text_list[:PRINT_LIMIT]))"
   ]
  },
  {
   "cell_type": "markdown",
   "metadata": {
    "id": "_tLP86afDfBM"
   },
   "source": [
    "### Segmentation and Tokenization"
   ]
  },
  {
   "cell_type": "code",
   "execution_count": 30,
   "metadata": {
    "id": "jRDzZ3PNDckD"
   },
   "outputs": [],
   "source": [
    "from nltk.tokenize import sent_tokenize\n",
    "\n",
    "def segmentation(corpus):\n",
    "    segmented_corpus = []\n",
    "    map_to_corpus_index = []\n",
    "    for i, text in enumerate(corpus):\n",
    "        splits = sent_tokenize(text)\n",
    "        segmented_corpus.extend(splits)\n",
    "        map_to_corpus_index.extend([i for x in range(len(splits))])\n",
    "    return segmented_corpus, map_to_corpus_index"
   ]
  },
  {
   "cell_type": "code",
   "execution_count": 31,
   "metadata": {
    "id": "g-KX4Cv3DkIL"
   },
   "outputs": [],
   "source": [
    "from nltk.tokenize import word_tokenize\n",
    "\n",
    "def tokenization(segmented_corpus):\n",
    "    tokenized_corpus = []\n",
    "    for text in segmented_corpus:\n",
    "        tokenized_corpus.append(word_tokenize(text))\n",
    "    return tokenized_corpus"
   ]
  },
  {
   "cell_type": "code",
   "execution_count": 32,
   "metadata": {
    "id": "EHBgCB8IDlhO"
   },
   "outputs": [
    {
     "name": "stdout",
     "output_type": "stream",
     "text": [
      "Segmentation\n",
      "\n",
      "The jury further said in term-end presentments that the City Executive Committee , which had over-all charge of the election , `` deserves the praise and thanks of the City of Atlanta '' for the manner in which the election was conducted .\n",
      "It urged that the next Legislature `` provide enabling funds and re-set the effective date so that an orderly implementation of the law may be effected '' .\n",
      "The grand jury took a swipe at the State Welfare Department's handling of federal funds granted for child welfare services in foster homes .\n",
      "\n",
      "\n",
      "Tokenization\n",
      "\n",
      "['The', 'jury', 'further', 'said', 'in', 'term-end', 'presentments', 'that', 'the', 'City', 'Executive', 'Committee', ',', 'which', 'had', 'over-all', 'charge', 'of', 'the', 'election', ',', '``', 'deserves', 'the', 'praise', 'and', 'thanks', 'of', 'the', 'City', 'of', 'Atlanta', '``', 'for', 'the', 'manner', 'in', 'which', 'the', 'election', 'was', 'conducted', '.']\n",
      "['It', 'urged', 'that', 'the', 'next', 'Legislature', '``', 'provide', 'enabling', 'funds', 'and', 're-set', 'the', 'effective', 'date', 'so', 'that', 'an', 'orderly', 'implementation', 'of', 'the', 'law', 'may', 'be', 'effected', '``', '.']\n",
      "['The', 'grand', 'jury', 'took', 'a', 'swipe', 'at', 'the', 'State', 'Welfare', 'Department', \"'s\", 'handling', 'of', 'federal', 'funds', 'granted', 'for', 'child', 'welfare', 'services', 'in', 'foster', 'homes', '.']\n"
     ]
    }
   ],
   "source": [
    "from nltk.tokenize import sent_tokenize\n",
    "\n",
    "segmented_clean_text_list, map_to_corpus_index = segmentation(clean_text_list)\n",
    "tokenized_clean_text_list = tokenization(segmented_clean_text_list)\n",
    "\n",
    "print('Segmentation\\n')\n",
    "print('\\n'.join(segmented_clean_text_list[:PRINT_LIMIT]))\n",
    "print('\\n\\nTokenization\\n')\n",
    "for i in range(PRINT_LIMIT):\n",
    "    print(tokenized_clean_text_list[i])"
   ]
  },
  {
   "cell_type": "markdown",
   "metadata": {
    "id": "1tqYNDxWDnzO"
   },
   "source": [
    "### N-gram Model"
   ]
  },
  {
   "cell_type": "code",
   "execution_count": 33,
   "metadata": {
    "id": "5JBryUCADm70"
   },
   "outputs": [],
   "source": [
    "from nltk.util import bigrams\n",
    "from nltk.util import ngrams\n",
    "from nltk.util import everygrams\n",
    "from nltk.util import pad_sequence\n",
    "from nltk.lm import Laplace\n",
    "from nltk.lm import MLE\n",
    "from nltk.lm import Vocabulary\n",
    "from nltk.lm.preprocessing import pad_both_ends\n",
    "from nltk.lm.preprocessing import flatten"
   ]
  },
  {
   "cell_type": "code",
   "execution_count": 34,
   "metadata": {},
   "outputs": [],
   "source": [
    "def convert_to_pos_tags(tokenized_corpus, pos_type=None):\n",
    "    # POS tagging\n",
    "    pos_tag_corpus = []\n",
    "    if pos_type == 'hmm':\n",
    "        print(\"Replacing tokens with POS tags using HMM\")\n",
    "        for sequence in tokenized_corpus:\n",
    "            pos_tag_corpus.append(find_pos_tags_hmm(bigram_tag_prob, train_emission_prob, tags_of_tokens, sequence))\n",
    "        return pos_tag_corpus\n",
    "    elif pos_type == 'spacy':\n",
    "        print(\"Replacing tokens with POS tags using spacy\")\n",
    "        for sequence in tokenized_corpus:\n",
    "            pos_tag_corpus.append(find_pos_tags_spacy(nlp_spacy, sequence))\n",
    "        return pos_tag_corpus\n",
    "    else:\n",
    "        print(\"POS tagging method not selected. No changes made.\")\n",
    "        return tokenized_corpus"
   ]
  },
  {
   "cell_type": "code",
   "execution_count": 35,
   "metadata": {
    "id": "lu8z7EmADqzk"
   },
   "outputs": [],
   "source": [
    "def train_ngram_model(n_value, tokenized_corpus, verbose=False):\n",
    "    print(f'Sequences in corpus:\\t{len(tokenized_corpus)}')\n",
    "    total_tokens = 0\n",
    "    for sequence in tokenized_corpus:\n",
    "        total_tokens += len(sequence)\n",
    "    print(f'Total tokens in corpus:\\t{total_tokens}')\n",
    "    \n",
    "    # padding <s> and </s>\n",
    "    print(\"Padding sequences with <s> and </s> tokens\")\n",
    "    padded_sequences = []\n",
    "    for i in range(len(tokenized_corpus)):\n",
    "        padded_tokens = list(pad_sequence(tokenized_corpus[i],\n",
    "                                          pad_left=True, left_pad_symbol=\"<s>\",\n",
    "                                          pad_right=True, right_pad_symbol=\"</s>\",\n",
    "                                          n=n_value))\n",
    "        padded_sequences.append(padded_tokens)\n",
    "    if verbose:\n",
    "        print('eg.', padded_sequences[0])\n",
    "            \n",
    "    # create vocabulary\n",
    "    print(\"Creating vocabulary\")\n",
    "    vocabulary = list(flatten(padded_sequences))\n",
    "    print('Flattened sequence size\\t', len(vocabulary))\n",
    "    print('Flattened sequence set size\\t', len(set(vocabulary)))\n",
    "    # replace tokens below cutoff freq with <UNK> token\n",
    "    vocab = Vocabulary(vocabulary, unk_cutoff=2)\n",
    "    print('Vocabulary with <UNK> cutoff size\\t', len(vocab))\n",
    "    \n",
    "    # grouping into group size of `n_value`\n",
    "    print(\"Creating n-grams\")\n",
    "    ngram_sequences = []\n",
    "    for text in padded_sequences:\n",
    "        ngram_sequences.append(list(ngrams(text, n=n_value)))\n",
    "    if verbose:\n",
    "        print('eg.', ngram_sequences[0][:PRINT_LIMIT])\n",
    "    \n",
    "    total_ngrams = 0\n",
    "    for sequence in ngram_sequences:\n",
    "        total_ngrams += len(sequence)\n",
    "    print(f'Total ngram sequences:\\t{len(ngram_sequences)}\\nTotal ngrams:\\t{total_ngrams}')\n",
    "        \n",
    "    # language model\n",
    "    print(\"Creating language model\")\n",
    "    model = Laplace(n_value)\n",
    "    model.fit(ngram_sequences, vocab)\n",
    "    print(f'Model vocab size:\\t{len(model.vocab)}')\n",
    "    # print(f\"Grand total number of ngrams stored:\\t{model.N()}\")\n",
    "    print(f'Total n-grams of size {n_value} in model:\\t', len(model.counts[n_value].items()))\n",
    "    \n",
    "    sequence_scores = []\n",
    "    for ngram_sequence in ngram_sequences:\n",
    "        sequence_score = 0\n",
    "        for group in ngram_sequence:\n",
    "            score = model.logscore(group[-1], group[:-1])\n",
    "            sequence_score += score\n",
    "        sequence_scores.append(sequence_score)\n",
    "        \n",
    "    return {\n",
    "        'padded_sequences': padded_sequences,\n",
    "        'vocabulary': vocab,\n",
    "        'ngram_sequences': ngram_sequences,\n",
    "        'model': model,\n",
    "        'sequence_scores': sequence_scores\n",
    "    }    "
   ]
  },
  {
   "cell_type": "code",
   "execution_count": 36,
   "metadata": {
    "id": "P8DkYJemDt_T"
   },
   "outputs": [],
   "source": [
    "# def filter_using_token_score(n_value, model, ngram_sequences, log_cutoff, verbose=False):\n",
    "#     # finding suspect ngrams using individual token cutoffs\n",
    "    \n",
    "#     print('Filtering sequences based on individual token scores')\n",
    "#     suspect_entries = []\n",
    "#     suspect_sequences = []\n",
    "#     for ngram_sequence in ngram_sequences:\n",
    "#         is_suspect = False\n",
    "#         for group in ngram_sequence:\n",
    "#             score = model.logscore(group[-1], group[:-1])\n",
    "#             if score < log_cutoff:\n",
    "#                 is_suspect = True\n",
    "#                 suspect_entries.append({\n",
    "#                     'token': group[-1],\n",
    "#                     'context': group[:-1],\n",
    "#                     'sequence': ngram_sequence,\n",
    "#                     'score': score\n",
    "#                 })\n",
    "#         if is_suspect:\n",
    "#             suspect_sequences.append(ngram_sequence)\n",
    "#     if verbose:\n",
    "#         print(f'Suspect sequences based on individual token scores:\\t{len(suspect_sequences)}/{len(ngram_sequences)}')\n",
    "#     return suspect_entries, suspect_sequences"
   ]
  },
  {
   "cell_type": "code",
   "execution_count": 37,
   "metadata": {
    "id": "yvxDZFoSDvmb"
   },
   "outputs": [],
   "source": [
    "def filter_using_sequence_score(n_value, ngram_sequences, sequence_scores, log_cutoff, verbose=False):\n",
    "    # finding suspect sequences using sequence cutoffs\n",
    "    \n",
    "    print('Filtering sequences based on sequence scores')\n",
    "    suspect_indexes = []\n",
    "    for i in range(len(ngram_sequences)):\n",
    "        if sequence_scores[i] < log_cutoff:\n",
    "            suspect_indexes.append(i)\n",
    "    if verbose:\n",
    "        print(f'Suspect sequences based on sequence scores:\\t{len(suspect_indexes)}/{len(ngram_sequences)}')\n",
    "    return suspect_indexes"
   ]
  },
  {
   "cell_type": "code",
   "execution_count": 38,
   "metadata": {
    "id": "9LY-Qk9NDxDm"
   },
   "outputs": [],
   "source": [
    "def plot_continuous_freq_dist(values, xlabel, ylabel, title, bins=50, cutoff=None):\n",
    "    # plot freq distribution for cutoff visualization\n",
    "    plt.rcParams.update({'figure.figsize':(10, 3)})\n",
    "    plt.hist(values, bins=bins)\n",
    "    if cutoff:\n",
    "        plt.axvline(x=cutoff, color='red')\n",
    "    plt.gca().set(title=title, xlabel=xlabel, ylabel=ylabel);\n",
    "    plt.show()"
   ]
  },
  {
   "cell_type": "code",
   "execution_count": 39,
   "metadata": {
    "id": "_g32uNTFDyXp"
   },
   "outputs": [],
   "source": [
    "def get_sequence_score_cutoff(sequence_scores, alpha=0.05):\n",
    "    scores = sequence_scores.copy()\n",
    "    n = len(scores)\n",
    "    scores.sort()\n",
    "    index = max(0, min(n-1, int(n*alpha)))\n",
    "    return scores[index]"
   ]
  },
  {
   "cell_type": "code",
   "execution_count": 40,
   "metadata": {
    "id": "euMAzvclDzDe"
   },
   "outputs": [],
   "source": [
    "n_values = [1, 2, 3, 4, 5, 6, 7, 8, 9, 10]\n",
    "# token_log_cutoffs = {1: -30, 2: -21, 3: -30, 4: -25}\n",
    "# alpha: used to calculate score cutoff\n",
    "alpha = 0.03\n",
    "pos_type = 'hmm'"
   ]
  },
  {
   "cell_type": "code",
   "execution_count": 41,
   "metadata": {
    "id": "IdVFz_urD0if",
    "scrolled": false
   },
   "outputs": [],
   "source": [
    "def train_lm(n_values, train_corpus, alpha):\n",
    "    ngram_data = dict()\n",
    "    for n_value in n_values:\n",
    "        print(f\"Training {n_value}-gram model\")\n",
    "        ngram_model_info = train_ngram_model(n_value, train_corpus, verbose=False)\n",
    "        ngram_data[n_value] = ngram_model_info\n",
    "\n",
    "        # filter_using_token_score(n_value, ngram_model_info['model'], ngram_model_info['ngram_sequences'], token_log_cutoffs[n_value], verbose=True)\n",
    "\n",
    "        sequence_score_log_cutoff = get_sequence_score_cutoff(ngram_model_info['sequence_scores'], alpha=alpha)\n",
    "        filter_using_sequence_score(n_value, ngram_model_info['ngram_sequences'], ngram_model_info['sequence_scores'], \n",
    "                                    sequence_score_log_cutoff, verbose=True)\n",
    "        print(f'Sequence score cutoff:\\t{sequence_score_log_cutoff}\\n')\n",
    "        ngram_data[n_value]['score_cutoff'] = sequence_score_log_cutoff\n",
    "\n",
    "        plot_continuous_freq_dist(ngram_model_info['sequence_scores'], xlabel='Sequence score', \n",
    "                                  ylabel='Frequency', title='Sequence score frequency distribution', bins=200, \n",
    "                                  cutoff=sequence_score_log_cutoff)\n",
    "    return ngram_data"
   ]
  },
  {
   "cell_type": "code",
   "execution_count": 42,
   "metadata": {},
   "outputs": [
    {
     "name": "stdout",
     "output_type": "stream",
     "text": [
      "Training 1-gram model\n",
      "Sequences in corpus:\t25396\n",
      "Total tokens in corpus:\t519936\n",
      "Padding sequences with <s> and </s> tokens\n",
      "Creating vocabulary\n",
      "Flattened sequence size\t 519936\n",
      "Flattened sequence set size\t 35849\n",
      "Vocabulary with <UNK> cutoff size\t 18672\n",
      "Creating n-grams\n",
      "Total ngram sequences:\t25396\n",
      "Total ngrams:\t519936\n",
      "Creating language model\n",
      "Model vocab size:\t18673\n",
      "Total n-grams of size 1 in model:\t 18672\n",
      "Filtering sequences based on sequence scores\n",
      "Suspect sequences based on sequence scores:\t761/25396\n",
      "Sequence score cutoff:\t-519.9445501829066\n",
      "\n"
     ]
    },
    {
     "data": {
      "image/png": "[encoded data removed]",
      "text/plain": [
       "<Figure size 720x216 with 1 Axes>"
      ]
     },
     "metadata": {
      "needs_background": "light"
     },
     "output_type": "display_data"
    },
    {
     "name": "stdout",
     "output_type": "stream",
     "text": [
      "Training 2-gram model\n",
      "Sequences in corpus:\t25396\n",
      "Total tokens in corpus:\t519936\n",
      "Padding sequences with <s> and </s> tokens\n",
      "Creating vocabulary\n",
      "Flattened sequence size\t 570728\n",
      "Flattened sequence set size\t 35851\n",
      "Vocabulary with <UNK> cutoff size\t 18674\n",
      "Creating n-grams\n",
      "Total ngram sequences:\t25396\n",
      "Total ngrams:\t545332\n",
      "Creating language model\n",
      "Model vocab size:\t18675\n",
      "Total n-grams of size 2 in model:\t 18673\n",
      "Filtering sequences based on sequence scores\n",
      "Suspect sequences based on sequence scores:\t761/25396\n",
      "Sequence score cutoff:\t-583.4566146147223\n",
      "\n"
     ]
    },
    {
     "data": {
      "image/png": "[encoded data removed]",
      "text/plain": [
       "<Figure size 720x216 with 1 Axes>"
      ]
     },
     "metadata": {
      "needs_background": "light"
     },
     "output_type": "display_data"
    },
    {
     "name": "stdout",
     "output_type": "stream",
     "text": [
      "Training 3-gram model\n",
      "Sequences in corpus:\t25396\n",
      "Total tokens in corpus:\t519936\n",
      "Padding sequences with <s> and </s> tokens\n",
      "Creating vocabulary\n",
      "Flattened sequence size\t 621520\n",
      "Flattened sequence set size\t 35851\n",
      "Vocabulary with <UNK> cutoff size\t 18674\n",
      "Creating n-grams\n",
      "Total ngram sequences:\t25396\n",
      "Total ngrams:\t570728\n",
      "Creating language model\n",
      "Model vocab size:\t18675\n",
      "Total n-grams of size 3 in model:\t 212612\n",
      "Filtering sequences based on sequence scores\n",
      "Suspect sequences based on sequence scores:\t761/25396\n",
      "Sequence score cutoff:\t-684.8529544345866\n",
      "\n"
     ]
    },
    {
     "data": {
      "image/png": "[encoded data removed]",
      "text/plain": [
       "<Figure size 720x216 with 1 Axes>"
      ]
     },
     "metadata": {
      "needs_background": "light"
     },
     "output_type": "display_data"
    },
    {
     "name": "stdout",
     "output_type": "stream",
     "text": [
      "Training 4-gram model\n",
      "Sequences in corpus:\t25396\n",
      "Total tokens in corpus:\t519936\n",
      "Padding sequences with <s> and </s> tokens\n",
      "Creating vocabulary\n",
      "Flattened sequence size\t 672312\n",
      "Flattened sequence set size\t 35851\n",
      "Vocabulary with <UNK> cutoff size\t 18674\n",
      "Creating n-grams\n",
      "Total ngram sequences:\t25396\n",
      "Total ngrams:\t596124\n",
      "Creating language model\n",
      "Model vocab size:\t18675\n",
      "Total n-grams of size 4 in model:\t 404134\n",
      "Filtering sequences based on sequence scores\n",
      "Suspect sequences based on sequence scores:\t761/25396\n",
      "Sequence score cutoff:\t-717.0824687742212\n",
      "\n"
     ]
    },
    {
     "data": {
      "image/png": "[encoded data removed]",
      "text/plain": [
       "<Figure size 720x216 with 1 Axes>"
      ]
     },
     "metadata": {
      "needs_background": "light"
     },
     "output_type": "display_data"
    },
    {
     "name": "stdout",
     "output_type": "stream",
     "text": [
      "Training 5-gram model\n",
      "Sequences in corpus:\t25396\n",
      "Total tokens in corpus:\t519936\n",
      "Padding sequences with <s> and </s> tokens\n",
      "Creating vocabulary\n",
      "Flattened sequence size\t 723104\n",
      "Flattened sequence set size\t 35851\n",
      "Vocabulary with <UNK> cutoff size\t 18674\n",
      "Creating n-grams\n",
      "Total ngram sequences:\t25396\n",
      "Total ngrams:\t621520\n",
      "Creating language model\n",
      "Model vocab size:\t18675\n",
      "Total n-grams of size 5 in model:\t 487035\n",
      "Filtering sequences based on sequence scores\n",
      "Suspect sequences based on sequence scores:\t761/25396\n",
      "Sequence score cutoff:\t-732.0293525441979\n",
      "\n"
     ]
    },
    {
     "data": {
      "image/png": "[encoded data removed]",
      "text/plain": [
       "<Figure size 720x216 with 1 Axes>"
      ]
     },
     "metadata": {
      "needs_background": "light"
     },
     "output_type": "display_data"
    },
    {
     "name": "stdout",
     "output_type": "stream",
     "text": [
      "Training 6-gram model\n",
      "Sequences in corpus:\t25396\n",
      "Total tokens in corpus:\t519936\n",
      "Padding sequences with <s> and </s> tokens\n",
      "Creating vocabulary\n",
      "Flattened sequence size\t 773896\n",
      "Flattened sequence set size\t 35851\n",
      "Vocabulary with <UNK> cutoff size\t 18674\n",
      "Creating n-grams\n",
      "Total ngram sequences:\t25396\n",
      "Total ngrams:\t646916\n",
      "Creating language model\n",
      "Model vocab size:\t18675\n",
      "Total n-grams of size 6 in model:\t 522924\n",
      "Filtering sequences based on sequence scores\n",
      "Suspect sequences based on sequence scores:\t761/25396\n",
      "Sequence score cutoff:\t-745.6523385268873\n",
      "\n"
     ]
    },
    {
     "data": {
      "image/png": "[encoded data removed]",
      "text/plain": [
       "<Figure size 720x216 with 1 Axes>"
      ]
     },
     "metadata": {
      "needs_background": "light"
     },
     "output_type": "display_data"
    },
    {
     "name": "stdout",
     "output_type": "stream",
     "text": [
      "Training 7-gram model\n",
      "Sequences in corpus:\t25396\n",
      "Total tokens in corpus:\t519936\n",
      "Padding sequences with <s> and </s> tokens\n",
      "Creating vocabulary\n",
      "Flattened sequence size\t 824688\n",
      "Flattened sequence set size\t 35851\n",
      "Vocabulary with <UNK> cutoff size\t 18674\n",
      "Creating n-grams\n",
      "Total ngram sequences:\t25396\n",
      "Total ngrams:\t672312\n",
      "Creating language model\n",
      "Model vocab size:\t18675\n",
      "Total n-grams of size 7 in model:\t 548921\n",
      "Filtering sequences based on sequence scores\n",
      "Suspect sequences based on sequence scores:\t761/25396\n",
      "Sequence score cutoff:\t-758.8412364001296\n",
      "\n"
     ]
    },
    {
     "data": {
      "image/png": "[encoded data removed]",
      "text/plain": [
       "<Figure size 720x216 with 1 Axes>"
      ]
     },
     "metadata": {
      "needs_background": "light"
     },
     "output_type": "display_data"
    },
    {
     "name": "stdout",
     "output_type": "stream",
     "text": [
      "Training 8-gram model\n",
      "Sequences in corpus:\t25396\n",
      "Total tokens in corpus:\t519936\n",
      "Padding sequences with <s> and </s> tokens\n",
      "Creating vocabulary\n",
      "Flattened sequence size\t 875480\n",
      "Flattened sequence set size\t 35851\n",
      "Vocabulary with <UNK> cutoff size\t 18674\n",
      "Creating n-grams\n",
      "Total ngram sequences:\t25396\n",
      "Total ngrams:\t697708\n",
      "Creating language model\n",
      "Model vocab size:\t18675\n",
      "Total n-grams of size 8 in model:\t 573118\n",
      "Filtering sequences based on sequence scores\n",
      "Suspect sequences based on sequence scores:\t761/25396\n",
      "Sequence score cutoff:\t-772.0301342733718\n",
      "\n"
     ]
    },
    {
     "data": {
      "image/png": "[encoded data removed]",
      "text/plain": [
       "<Figure size 720x216 with 1 Axes>"
      ]
     },
     "metadata": {
      "needs_background": "light"
     },
     "output_type": "display_data"
    },
    {
     "name": "stdout",
     "output_type": "stream",
     "text": [
      "Training 9-gram model\n",
      "Sequences in corpus:\t25396\n",
      "Total tokens in corpus:\t519936\n",
      "Padding sequences with <s> and </s> tokens\n",
      "Creating vocabulary\n",
      "Flattened sequence size\t 926272\n",
      "Flattened sequence set size\t 35851\n",
      "Vocabulary with <UNK> cutoff size\t 18674\n",
      "Creating n-grams\n",
      "Total ngram sequences:\t25396\n",
      "Total ngrams:\t723104\n",
      "Creating language model\n",
      "Model vocab size:\t18675\n",
      "Total n-grams of size 9 in model:\t 596973\n",
      "Filtering sequences based on sequence scores\n",
      "Suspect sequences based on sequence scores:\t761/25396\n",
      "Sequence score cutoff:\t-785.6065661615307\n",
      "\n"
     ]
    },
    {
     "data": {
      "image/png": "[encoded data removed]",
      "text/plain": [
       "<Figure size 720x216 with 1 Axes>"
      ]
     },
     "metadata": {
      "needs_background": "light"
     },
     "output_type": "display_data"
    },
    {
     "name": "stdout",
     "output_type": "stream",
     "text": [
      "Training 10-gram model\n",
      "Sequences in corpus:\t25396\n",
      "Total tokens in corpus:\t519936\n",
      "Padding sequences with <s> and </s> tokens\n",
      "Creating vocabulary\n",
      "Flattened sequence size\t 977064\n",
      "Flattened sequence set size\t 35851\n",
      "Vocabulary with <UNK> cutoff size\t 18674\n",
      "Creating n-grams\n",
      "Total ngram sequences:\t25396\n",
      "Total ngrams:\t748500\n",
      "Creating language model\n",
      "Model vocab size:\t18675\n",
      "Total n-grams of size 10 in model:\t 620699\n",
      "Filtering sequences based on sequence scores\n",
      "Suspect sequences based on sequence scores:\t761/25396\n",
      "Sequence score cutoff:\t-798.8228130632663\n",
      "\n"
     ]
    },
    {
     "data": {
      "image/png": "[encoded data removed]",
      "text/plain": [
       "<Figure size 720x216 with 1 Axes>"
      ]
     },
     "metadata": {
      "needs_background": "light"
     },
     "output_type": "display_data"
    }
   ],
   "source": [
    "# Text n-gram model\n",
    "ngram_data_text = train_lm(n_values, tokenized_clean_text_list, alpha=alpha)"
   ]
  },
  {
   "cell_type": "code",
   "execution_count": 43,
   "metadata": {},
   "outputs": [
    {
     "name": "stdout",
     "output_type": "stream",
     "text": [
      "Replacing tokens with POS tags using HMM\n",
      "Training 1-gram model\n",
      "Sequences in corpus:\t25396\n",
      "Total tokens in corpus:\t519936\n",
      "Padding sequences with <s> and </s> tokens\n",
      "Creating vocabulary\n",
      "Flattened sequence size\t 519936\n",
      "Flattened sequence set size\t 312\n",
      "Vocabulary with <UNK> cutoff size\t 287\n",
      "Creating n-grams\n",
      "Total ngram sequences:\t25396\n",
      "Total ngrams:\t519936\n",
      "Creating language model\n",
      "Model vocab size:\t288\n",
      "Total n-grams of size 1 in model:\t 287\n",
      "Filtering sequences based on sequence scores\n",
      "Suspect sequences based on sequence scores:\t761/25396\n",
      "Sequence score cutoff:\t-283.21048999719557\n",
      "\n"
     ]
    },
    {
     "data": {
      "image/png": "[encoded data removed]",
      "text/plain": [
       "<Figure size 720x216 with 1 Axes>"
      ]
     },
     "metadata": {
      "needs_background": "light"
     },
     "output_type": "display_data"
    },
    {
     "name": "stdout",
     "output_type": "stream",
     "text": [
      "Training 2-gram model\n",
      "Sequences in corpus:\t25396\n",
      "Total tokens in corpus:\t519936\n",
      "Padding sequences with <s> and </s> tokens\n",
      "Creating vocabulary\n",
      "Flattened sequence size\t 570728\n",
      "Flattened sequence set size\t 314\n",
      "Vocabulary with <UNK> cutoff size\t 289\n",
      "Creating n-grams\n",
      "Total ngram sequences:\t25396\n",
      "Total ngrams:\t545332\n",
      "Creating language model\n",
      "Model vocab size:\t290\n",
      "Total n-grams of size 2 in model:\t 288\n",
      "Filtering sequences based on sequence scores\n",
      "Suspect sequences based on sequence scores:\t761/25396\n",
      "Sequence score cutoff:\t-212.40629392617402\n",
      "\n"
     ]
    },
    {
     "data": {
      "image/png": "[encoded data removed]",
      "text/plain": [
       "<Figure size 720x216 with 1 Axes>"
      ]
     },
     "metadata": {
      "needs_background": "light"
     },
     "output_type": "display_data"
    },
    {
     "name": "stdout",
     "output_type": "stream",
     "text": [
      "Training 3-gram model\n",
      "Sequences in corpus:\t25396\n",
      "Total tokens in corpus:\t519936\n",
      "Padding sequences with <s> and </s> tokens\n",
      "Creating vocabulary\n",
      "Flattened sequence size\t 621520\n",
      "Flattened sequence set size\t 314\n",
      "Vocabulary with <UNK> cutoff size\t 289\n",
      "Creating n-grams\n",
      "Total ngram sequences:\t25396\n",
      "Total ngrams:\t570728\n",
      "Creating language model\n",
      "Model vocab size:\t290\n",
      "Total n-grams of size 3 in model:\t 9107\n",
      "Filtering sequences based on sequence scores\n",
      "Suspect sequences based on sequence scores:\t761/25396\n",
      "Sequence score cutoff:\t-228.7138911164585\n",
      "\n"
     ]
    },
    {
     "data": {
      "image/png": "[encoded data removed]",
      "text/plain": [
       "<Figure size 720x216 with 1 Axes>"
      ]
     },
     "metadata": {
      "needs_background": "light"
     },
     "output_type": "display_data"
    },
    {
     "name": "stdout",
     "output_type": "stream",
     "text": [
      "Training 4-gram model\n",
      "Sequences in corpus:\t25396\n",
      "Total tokens in corpus:\t519936\n",
      "Padding sequences with <s> and </s> tokens\n",
      "Creating vocabulary\n",
      "Flattened sequence size\t 672312\n",
      "Flattened sequence set size\t 314\n",
      "Vocabulary with <UNK> cutoff size\t 289\n",
      "Creating n-grams\n",
      "Total ngram sequences:\t25396\n",
      "Total ngrams:\t596124\n",
      "Creating language model\n",
      "Model vocab size:\t290\n",
      "Total n-grams of size 4 in model:\t 54283\n",
      "Filtering sequences based on sequence scores\n",
      "Suspect sequences based on sequence scores:\t761/25396\n",
      "Sequence score cutoff:\t-278.8390545558767\n",
      "\n"
     ]
    },
    {
     "data": {
      "image/png": "[encoded data removed]",
      "text/plain": [
       "<Figure size 720x216 with 1 Axes>"
      ]
     },
     "metadata": {
      "needs_background": "light"
     },
     "output_type": "display_data"
    },
    {
     "name": "stdout",
     "output_type": "stream",
     "text": [
      "Training 5-gram model\n",
      "Sequences in corpus:\t25396\n",
      "Total tokens in corpus:\t519936\n",
      "Padding sequences with <s> and </s> tokens\n",
      "Creating vocabulary\n",
      "Flattened sequence size\t 723104\n",
      "Flattened sequence set size\t 314\n",
      "Vocabulary with <UNK> cutoff size\t 289\n",
      "Creating n-grams\n",
      "Total ngram sequences:\t25396\n",
      "Total ngrams:\t621520\n",
      "Creating language model\n",
      "Model vocab size:\t290\n",
      "Total n-grams of size 5 in model:\t 150918\n",
      "Filtering sequences based on sequence scores\n",
      "Suspect sequences based on sequence scores:\t761/25396\n",
      "Sequence score cutoff:\t-327.7048443041217\n",
      "\n"
     ]
    },
    {
     "data": {
      "image/png": "[encoded data removed]",
      "text/plain": [
       "<Figure size 720x216 with 1 Axes>"
      ]
     },
     "metadata": {
      "needs_background": "light"
     },
     "output_type": "display_data"
    },
    {
     "name": "stdout",
     "output_type": "stream",
     "text": [
      "Training 6-gram model\n",
      "Sequences in corpus:\t25396\n",
      "Total tokens in corpus:\t519936\n",
      "Padding sequences with <s> and </s> tokens\n",
      "Creating vocabulary\n",
      "Flattened sequence size\t 773896\n",
      "Flattened sequence set size\t 314\n",
      "Vocabulary with <UNK> cutoff size\t 289\n",
      "Creating n-grams\n",
      "Total ngram sequences:\t25396\n",
      "Total ngrams:\t646916\n",
      "Creating language model\n",
      "Model vocab size:\t290\n",
      "Total n-grams of size 6 in model:\t 268231\n",
      "Filtering sequences based on sequence scores\n",
      "Suspect sequences based on sequence scores:\t761/25396\n",
      "Sequence score cutoff:\t-360.317447530394\n",
      "\n"
     ]
    },
    {
     "data": {
      "image/png": "[encoded data removed]",
      "text/plain": [
       "<Figure size 720x216 with 1 Axes>"
      ]
     },
     "metadata": {
      "needs_background": "light"
     },
     "output_type": "display_data"
    },
    {
     "name": "stdout",
     "output_type": "stream",
     "text": [
      "Training 7-gram model\n",
      "Sequences in corpus:\t25396\n",
      "Total tokens in corpus:\t519936\n",
      "Padding sequences with <s> and </s> tokens\n",
      "Creating vocabulary\n",
      "Flattened sequence size\t 824688\n",
      "Flattened sequence set size\t 314\n",
      "Vocabulary with <UNK> cutoff size\t 289\n",
      "Creating n-grams\n",
      "Total ngram sequences:\t25396\n",
      "Total ngrams:\t672312\n",
      "Creating language model\n",
      "Model vocab size:\t290\n",
      "Total n-grams of size 7 in model:\t 363267\n",
      "Filtering sequences based on sequence scores\n",
      "Suspect sequences based on sequence scores:\t761/25396\n",
      "Sequence score cutoff:\t-379.8008602008312\n",
      "\n"
     ]
    },
    {
     "data": {
      "image/png": "[encoded data removed]",
      "text/plain": [
       "<Figure size 720x216 with 1 Axes>"
      ]
     },
     "metadata": {
      "needs_background": "light"
     },
     "output_type": "display_data"
    },
    {
     "name": "stdout",
     "output_type": "stream",
     "text": [
      "Training 8-gram model\n",
      "Sequences in corpus:\t25396\n",
      "Total tokens in corpus:\t519936\n",
      "Padding sequences with <s> and </s> tokens\n",
      "Creating vocabulary\n",
      "Flattened sequence size\t 875480\n",
      "Flattened sequence set size\t 314\n",
      "Vocabulary with <UNK> cutoff size\t 289\n",
      "Creating n-grams\n",
      "Total ngram sequences:\t25396\n",
      "Total ngrams:\t697708\n",
      "Creating language model\n",
      "Model vocab size:\t290\n",
      "Total n-grams of size 8 in model:\t 426961\n",
      "Filtering sequences based on sequence scores\n",
      "Suspect sequences based on sequence scores:\t761/25396\n",
      "Sequence score cutoff:\t-392.51033287886304\n",
      "\n"
     ]
    },
    {
     "data": {
      "image/png": "[encoded data removed]",
      "text/plain": [
       "<Figure size 720x216 with 1 Axes>"
      ]
     },
     "metadata": {
      "needs_background": "light"
     },
     "output_type": "display_data"
    },
    {
     "name": "stdout",
     "output_type": "stream",
     "text": [
      "Training 9-gram model\n",
      "Sequences in corpus:\t25396\n",
      "Total tokens in corpus:\t519936\n",
      "Padding sequences with <s> and </s> tokens\n",
      "Creating vocabulary\n",
      "Flattened sequence size\t 926272\n",
      "Flattened sequence set size\t 314\n",
      "Vocabulary with <UNK> cutoff size\t 289\n",
      "Creating n-grams\n",
      "Total ngram sequences:\t25396\n",
      "Total ngrams:\t723104\n",
      "Creating language model\n",
      "Model vocab size:\t290\n",
      "Total n-grams of size 9 in model:\t 468404\n",
      "Filtering sequences based on sequence scores\n",
      "Suspect sequences based on sequence scores:\t761/25396\n",
      "Sequence score cutoff:\t-402.0620987955295\n",
      "\n"
     ]
    },
    {
     "data": {
      "image/png": "[encoded data removed]",
      "text/plain": [
       "<Figure size 720x216 with 1 Axes>"
      ]
     },
     "metadata": {
      "needs_background": "light"
     },
     "output_type": "display_data"
    },
    {
     "name": "stdout",
     "output_type": "stream",
     "text": [
      "Training 10-gram model\n",
      "Sequences in corpus:\t25396\n",
      "Total tokens in corpus:\t519936\n",
      "Padding sequences with <s> and </s> tokens\n",
      "Creating vocabulary\n",
      "Flattened sequence size\t 977064\n",
      "Flattened sequence set size\t 314\n",
      "Vocabulary with <UNK> cutoff size\t 289\n",
      "Creating n-grams\n",
      "Total ngram sequences:\t25396\n",
      "Total ngrams:\t748500\n",
      "Creating language model\n",
      "Model vocab size:\t290\n",
      "Total n-grams of size 10 in model:\t 498290\n",
      "Filtering sequences based on sequence scores\n",
      "Suspect sequences based on sequence scores:\t761/25396\n",
      "Sequence score cutoff:\t-409.4525630389876\n",
      "\n"
     ]
    },
    {
     "data": {
      "image/png": "[encoded data removed]",
      "text/plain": [
       "<Figure size 720x216 with 1 Axes>"
      ]
     },
     "metadata": {
      "needs_background": "light"
     },
     "output_type": "display_data"
    }
   ],
   "source": [
    "# POS tag n-gram model\n",
    "clean_pos_tag_list = convert_to_pos_tags(tokenized_clean_text_list, pos_type=pos_type)\n",
    "ngram_data_pos = train_lm(n_values, clean_pos_tag_list, alpha=alpha)"
   ]
  },
  {
   "cell_type": "code",
   "execution_count": 44,
   "metadata": {
    "id": "Bgtf6dgHD16Z"
   },
   "outputs": [
    {
     "name": "stdout",
     "output_type": "stream",
     "text": [
      "Unigram count (<s>):\t 0\n",
      "Unigram count (of):\t 15977\n",
      "Unigram count (the):\t 27816\n",
      "Unigram count (The):\t 3161\n",
      "Unigram count (<UNK>):\t 17178\n",
      "\n",
      "Bigram count (The | <s>):\t 2783\n",
      "Bigram count (of | the):\t 4218\n",
      "\n",
      "Trigram count (The | </s> <s>):\t 2783\n"
     ]
    }
   ],
   "source": [
    "# Getting counts from n-gram model\n",
    "\n",
    "# unigram counts\n",
    "if 1 in n_values:\n",
    "    print('Unigram count (<s>):\\t', ngram_data_text[1]['model'].counts['<s>'])\n",
    "    print('Unigram count (of):\\t', ngram_data_text[1]['model'].counts['of'])\n",
    "    print('Unigram count (the):\\t', ngram_data_text[1]['model'].counts['the'])\n",
    "    print('Unigram count (The):\\t', ngram_data_text[1]['model'].counts['The'])\n",
    "    print('Unigram count (<UNK>):\\t', ngram_data_text[1]['model'].counts['<UNK>'])\n",
    "\n",
    "# bigram counts\n",
    "if 2 in n_values:\n",
    "    print('\\nBigram count (The | <s>):\\t', ngram_data_text[2]['model'].counts[['<s>']]['The'])\n",
    "    print('Bigram count (of | the):\\t', ngram_data_text[2]['model'].counts[['of']]['the'])\n",
    "\n",
    "# trigram counts\n",
    "if 3 in n_values:\n",
    "    print('\\nTrigram count (The | </s> <s>):\\t', ngram_data_text[3]['model'].counts[['<s>', '<s>']]['The'])"
   ]
  },
  {
   "cell_type": "code",
   "execution_count": 45,
   "metadata": {
    "id": "daui8EZjD3n7"
   },
   "outputs": [
    {
     "name": "stdout",
     "output_type": "stream",
     "text": [
      "Unigram score (<s>):\t 0.03189512243575581\n",
      "Unigram score (of):\t 0.02966530451589186\n",
      "Unigram score (the):\t 0.05164599923135336\n",
      "Unigram score (The):\t 0.005870677987185509\n",
      "Unigram score (<UNK>):\t 0.03189512243575581\n",
      "\n",
      "Bigram score (The | <s>):\t 0.06317079258469288\n",
      "Bigram score (of | the):\t 0.12175343414521528\n",
      "\n",
      "Trigram score (The | </s> <s>):\t 0.06317079258469288\n"
     ]
    }
   ],
   "source": [
    "# Getting scores / conditional probabilities from n-gram model\n",
    "\n",
    "# unigram scores\n",
    "if 1 in n_values:\n",
    "    print('Unigram score (<s>):\\t', ngram_data_text[1]['model'].score('<s>'))\n",
    "    print('Unigram score (of):\\t', ngram_data_text[1]['model'].score('of'))\n",
    "    print('Unigram score (the):\\t', ngram_data_text[1]['model'].score('the'))\n",
    "    print('Unigram score (The):\\t', ngram_data_text[1]['model'].score('The'))\n",
    "    print('Unigram score (<UNK>):\\t', ngram_data_text[1]['model'].score('<UNK>'))\n",
    "\n",
    "# bigram scores\n",
    "if 2 in n_values:\n",
    "    print('\\nBigram score (The | <s>):\\t', ngram_data_text[2]['model'].score('The', '<s>'.split()))\n",
    "    print('Bigram score (of | the):\\t', ngram_data_text[2]['model'].score('the', 'of'.split()))\n",
    "\n",
    "# trigram scores\n",
    "if 3 in n_values:\n",
    "    print('\\nTrigram score (The | </s> <s>):\\t', ngram_data_text[3]['model'].score('The', '<s> <s>'.split()))"
   ]
  },
  {
   "cell_type": "code",
   "execution_count": 46,
   "metadata": {
    "id": "kXFZXRYpD4_m"
   },
   "outputs": [
    {
     "name": "stdout",
     "output_type": "stream",
     "text": [
      "Unigram log score (<s>):\t -4.970520373175608\n",
      "Unigram log score (of):\t\t -5.075079597561273\n",
      "Unigram log score (the):\t -4.27519959504336\n",
      "Unigram log score (The):\t -7.412257159134673\n",
      "Unigram log score (<UNK>):\t -4.970520373175608\n",
      "\n",
      "Bigram log score (The | <s>):\t -3.9845985163876136\n",
      "Bigram log score (of | the):\t -3.0379656297304676\n",
      "\n",
      "Trigram log score (The | </s> <s>):\t -3.9845985163876136\n"
     ]
    }
   ],
   "source": [
    "# Logarithm of scores\n",
    "\n",
    "# unigram logscore\n",
    "if 1 in n_values:\n",
    "    print('Unigram log score (<s>):\\t', ngram_data_text[1]['model'].logscore('<s>'))\n",
    "    print('Unigram log score (of):\\t\\t', ngram_data_text[1]['model'].logscore('of'))\n",
    "    print('Unigram log score (the):\\t', ngram_data_text[1]['model'].logscore('the'))\n",
    "    print('Unigram log score (The):\\t', ngram_data_text[1]['model'].logscore('The'))\n",
    "    print('Unigram log score (<UNK>):\\t', ngram_data_text[1]['model'].logscore('<UNK>'))\n",
    "\n",
    "# bigram logscore\n",
    "if 2 in n_values:\n",
    "    print('\\nBigram log score (The | <s>):\\t', ngram_data_text[2]['model'].logscore('The', '<s>'.split()))\n",
    "    print('Bigram log score (of | the):\\t', ngram_data_text[2]['model'].logscore('the', 'of'.split()))\n",
    "\n",
    "# trigram logscore\n",
    "if 3 in n_values:\n",
    "    print('\\nTrigram log score (The | </s> <s>):\\t', ngram_data_text[3]['model'].logscore('The', '<s> <s>'.split()))"
   ]
  },
  {
   "cell_type": "markdown",
   "metadata": {
    "id": "S0DpH1t7D7kz"
   },
   "source": [
    "## Model Evaluation"
   ]
  },
  {
   "cell_type": "markdown",
   "metadata": {
    "id": "nzobZsrID_qP"
   },
   "source": [
    "### Shannon Visualization"
   ]
  },
  {
   "cell_type": "code",
   "execution_count": 47,
   "metadata": {},
   "outputs": [],
   "source": [
    "def get_sentence_from_tokens(tokens):\n",
    "    filtered_tokens = []\n",
    "    for token in tokens:\n",
    "        if token in ['<s>', '</s>']:\n",
    "            continue\n",
    "        else:\n",
    "            filtered_tokens.append(token)\n",
    "    return ' '.join(filtered_tokens)"
   ]
  },
  {
   "cell_type": "code",
   "execution_count": 48,
   "metadata": {
    "id": "A0fn7GMBD-BX"
   },
   "outputs": [],
   "source": [
    "from nltk.probability import MLEProbDist\n",
    "\n",
    "def shannon_visualization(n_value, model, max_len=50, verbose=False):\n",
    "    sentence = \"\"\n",
    "    if n_value == 1:\n",
    "        # Unigram\n",
    "        tokens = model.generate(max_len, random_seed=None)\n",
    "        sentence = get_sentence_from_tokens(tokens)\n",
    "        if verbose:\n",
    "            print('1-gram:', sentence)\n",
    "    else:\n",
    "        if verbose:\n",
    "            print(f'{n_value}-gram: ', end='')\n",
    "        cur_tokens = ['<s>']*(n_value-1)\n",
    "        sequence = []\n",
    "        for _ in range(max_len):\n",
    "            freq_dist = model.counts[cur_tokens]\n",
    "            prob_dist = MLEProbDist(freq_dist)\n",
    "            next_token = prob_dist.generate()\n",
    "            if next_token == '</s>':\n",
    "                break\n",
    "            sequence.append(next_token)\n",
    "            if verbose:\n",
    "                print(next_token, end=' ')\n",
    "            cur_tokens.pop(0)\n",
    "            cur_tokens.append(next_token)\n",
    "        sentence = ' '.join(sequence)\n",
    "        if verbose:\n",
    "            print()\n",
    "    return sentence"
   ]
  },
  {
   "cell_type": "code",
   "execution_count": 49,
   "metadata": {
    "id": "ypefYfieEJCK"
   },
   "outputs": [
    {
     "name": "stdout",
     "output_type": "stream",
     "text": [
      "1-gram: , it from of of <UNK> that a what simple our Rock ? `` he B hypothetical snakes , technical indeed , authors than . cause ( be 7 the apparent and other was Our his a of it account while this distinctive particularly the <UNK> the based just you\n",
      "\n",
      "2-gram: Determine the past the features but a <UNK> ) , a letter , they make an illustration . \n",
      "\n",
      "3-gram: At this moment she found a girl happen to be assimilated . \n",
      "\n",
      "4-gram: That made a certain amount of agreement on the major international problems that involve the interest of clarity , she typed into the record : `` Shot in the <UNK> `` . \n",
      "\n",
      "5-gram: `` She flew beautifully `` , said Fiedler . \n",
      "\n",
      "6-gram: <UNK> involved in an over-all concept That which follows will be a discussion of principles and possible content for an over-all concept of <UNK> warfare . \n",
      "\n",
      "7-gram: It is often stated that the submarine can be destroyed while building , at bases , in transit , and on station . \n",
      "\n",
      "8-gram: This relationship , however , is not maintained centrally . \n",
      "\n",
      "9-gram: By these measures , Congress , so the Court ( in effect ) now decides , gave not only needless but inadequate relief , since it now appears that the federal courts have inherent power to <UNK> the Act of 1875 against all proceedings challenging local regulation `` . \n",
      "\n",
      "10-gram: The cells were washed three times with saline , anti-human serum was added , the cells were resuspended , and the mixture was centrifuged at 1000 rpm for 1 min and examined for agglutination . \n",
      "\n"
     ]
    }
   ],
   "source": [
    "for n_value in n_values:\n",
    "    shannon_visualization(n_value, ngram_data_text[n_value]['model'], 50, verbose=True)\n",
    "    print()"
   ]
  },
  {
   "cell_type": "markdown",
   "metadata": {
    "id": "Q74Lo3PWEK2U"
   },
   "source": [
    "### Evaluating unknown corpus"
   ]
  },
  {
   "cell_type": "code",
   "execution_count": 50,
   "metadata": {
    "id": "VyrLw9w4EOXg"
   },
   "outputs": [],
   "source": [
    "def analyse_test_corpus(tokenized_corpus, n_value, model, verbose=False):\n",
    "    \n",
    "    print(f'Sequences in corpus:\\t{len(tokenized_corpus)}')\n",
    "    total_tokens = 0\n",
    "    for sequence in tokenized_corpus:\n",
    "        total_tokens += len(sequence)\n",
    "    print(f'Total tokens in corpus:\\t{total_tokens}')\n",
    "    \n",
    "    # padding <s> and </s>\n",
    "    print(\"Padding sequences with <s> and </s> tokens\")\n",
    "    padded_sequences = []\n",
    "    total_tokens_with_padding = 0\n",
    "    for i in range(len(tokenized_corpus)):\n",
    "        padded_tokens = list(pad_sequence(tokenized_corpus[i],\n",
    "                                          pad_left=True, left_pad_symbol=\"<s>\",\n",
    "                                          pad_right=True, right_pad_symbol=\"</s>\",\n",
    "                                          n=n_value))\n",
    "        padded_sequences.append(padded_tokens)\n",
    "        total_tokens_with_padding += len(padded_tokens)\n",
    "    if verbose:\n",
    "        print('eg.', padded_sequences[0])\n",
    "    \n",
    "    # grouping into group size of `n_value`\n",
    "    print(\"Creating n-grams\")\n",
    "    ngram_sequences = []\n",
    "    for text in padded_sequences:\n",
    "        ngram_sequences.append(list(ngrams(text, n=n_value)))\n",
    "    if verbose:\n",
    "        print('eg.', ngram_sequences[0][:PRINT_LIMIT])\n",
    "    \n",
    "    total_ngrams = 0\n",
    "    for sequence in ngram_sequences:\n",
    "        total_ngrams += len(sequence)\n",
    "    print(f'Total ngram sequences:\\t{len(ngram_sequences)}\\nTotal ngrams:\\t{total_ngrams}')\n",
    "    \n",
    "    sequence_scores = []\n",
    "    total_score = 0\n",
    "    for ngram_sequence in ngram_sequences:\n",
    "        sequence_score = 0\n",
    "        for group in ngram_sequence:\n",
    "            score = model.logscore(group[-1], group[:-1])\n",
    "            sequence_score += score\n",
    "        sequence_scores.append(sequence_score)\n",
    "        total_score += sequence_score\n",
    "    log_perplexity = -total_score/total_tokens_with_padding\n",
    "    \n",
    "    return {\n",
    "        'padded_sequences': padded_sequences,\n",
    "        'ngram_sequences': ngram_sequences,\n",
    "        'sequence_scores': sequence_scores,\n",
    "        'map_to_corpus_index': map_to_corpus_index,\n",
    "        'perplexity': log_perplexity\n",
    "    }    "
   ]
  },
  {
   "cell_type": "code",
   "execution_count": 51,
   "metadata": {},
   "outputs": [],
   "source": [
    "def test_lm(test_corpus, n_values, ngram_data):\n",
    "    ngram_results = dict()\n",
    "    for n_value in n_values:\n",
    "        print(f\"Testing {n_value}-gram model\")\n",
    "        ngram_test_info = analyse_test_corpus(test_corpus, n_value, ngram_data[n_value]['model'], verbose=False)\n",
    "        plot_continuous_freq_dist(ngram_test_info['sequence_scores'], xlabel='Sequence score', \n",
    "                                  ylabel='Frequency', title='Sequence score frequency distribution', bins=200,\n",
    "                                  cutoff=ngram_data[n_value]['score_cutoff'])\n",
    "        # filter_using_token_score(n_value, ngram_data[n_value]['model'], ngram_test_info['ngram_sequences'], token_log_cutoffs[n_value], verbose=True)\n",
    "        suspect_sequences_indexes = filter_using_sequence_score(n_value, \n",
    "                                                   ngram_test_info['ngram_sequences'], \n",
    "                                                   ngram_test_info['sequence_scores'], \n",
    "                                                   ngram_data[n_value]['score_cutoff'], verbose=True)\n",
    "        suspect_corpus_index = []\n",
    "        for index in suspect_sequences_indexes:\n",
    "            suspect_corpus_index.append(ngram_test_info['map_to_corpus_index'][index])\n",
    "        suspect_corpus_index = set(suspect_corpus_index)\n",
    "\n",
    "        ngram_results[n_value] = dict()\n",
    "        ngram_results[n_value] = {\n",
    "            'suspect_corpus_index': suspect_corpus_index,\n",
    "            'padded_sequences': ngram_test_info['padded_sequences'],\n",
    "            'suspect_sequences_index': suspect_sequences_indexes,\n",
    "            'map_to_corpus_index': ngram_test_info['map_to_corpus_index'],\n",
    "            'log_perplexity': ngram_test_info['perplexity'],\n",
    "            'sequence_scores': ngram_test_info['sequence_scores']\n",
    "        }\n",
    "        print()\n",
    "    return ngram_results"
   ]
  },
  {
   "cell_type": "code",
   "execution_count": 52,
   "metadata": {
    "id": "jrNBR7nVES-P"
   },
   "outputs": [],
   "source": [
    "test_text_list = None\n",
    "\n",
    "if test_text_list is None:\n",
    "    test_text_list = unknown_text_list\n",
    "segmented_corpus, map_to_corpus_index = segmentation(test_text_list)\n",
    "tokenized_corpus = tokenization(segmented_corpus)"
   ]
  },
  {
   "cell_type": "code",
   "execution_count": 53,
   "metadata": {},
   "outputs": [
    {
     "name": "stdout",
     "output_type": "stream",
     "text": [
      "Testing 1-gram model\n",
      "Sequences in corpus:\t30868\n",
      "Total tokens in corpus:\t669821\n",
      "Padding sequences with <s> and </s> tokens\n",
      "Creating n-grams\n",
      "Total ngram sequences:\t30868\n",
      "Total ngrams:\t669821\n"
     ]
    },
    {
     "data": {
      "image/png": "[encoded data removed]",
      "text/plain": [
       "<Figure size 720x216 with 1 Axes>"
      ]
     },
     "metadata": {
      "needs_background": "light"
     },
     "output_type": "display_data"
    },
    {
     "name": "stdout",
     "output_type": "stream",
     "text": [
      "Filtering sequences based on sequence scores\n",
      "Suspect sequences based on sequence scores:\t995/30868\n",
      "\n",
      "Testing 2-gram model\n",
      "Sequences in corpus:\t30868\n",
      "Total tokens in corpus:\t669821\n",
      "Padding sequences with <s> and </s> tokens\n",
      "Creating n-grams\n",
      "Total ngram sequences:\t30868\n",
      "Total ngrams:\t700689\n"
     ]
    },
    {
     "data": {
      "image/png": "[encoded data removed]",
      "text/plain": [
       "<Figure size 720x216 with 1 Axes>"
      ]
     },
     "metadata": {
      "needs_background": "light"
     },
     "output_type": "display_data"
    },
    {
     "name": "stdout",
     "output_type": "stream",
     "text": [
      "Filtering sequences based on sequence scores\n",
      "Suspect sequences based on sequence scores:\t1222/30868\n",
      "\n",
      "Testing 3-gram model\n",
      "Sequences in corpus:\t30868\n",
      "Total tokens in corpus:\t669821\n",
      "Padding sequences with <s> and </s> tokens\n",
      "Creating n-grams\n",
      "Total ngram sequences:\t30868\n",
      "Total ngrams:\t731557\n"
     ]
    },
    {
     "data": {
      "image/png": "[encoded data removed]",
      "text/plain": [
       "<Figure size 720x216 with 1 Axes>"
      ]
     },
     "metadata": {
      "needs_background": "light"
     },
     "output_type": "display_data"
    },
    {
     "name": "stdout",
     "output_type": "stream",
     "text": [
      "Filtering sequences based on sequence scores\n",
      "Suspect sequences based on sequence scores:\t1404/30868\n",
      "\n",
      "Testing 4-gram model\n",
      "Sequences in corpus:\t30868\n",
      "Total tokens in corpus:\t669821\n",
      "Padding sequences with <s> and </s> tokens\n",
      "Creating n-grams\n",
      "Total ngram sequences:\t30868\n",
      "Total ngrams:\t762425\n"
     ]
    },
    {
     "data": {
      "image/png": "[encoded data removed]",
      "text/plain": [
       "<Figure size 720x216 with 1 Axes>"
      ]
     },
     "metadata": {
      "needs_background": "light"
     },
     "output_type": "display_data"
    },
    {
     "name": "stdout",
     "output_type": "stream",
     "text": [
      "Filtering sequences based on sequence scores\n",
      "Suspect sequences based on sequence scores:\t1483/30868\n",
      "\n",
      "Testing 5-gram model\n",
      "Sequences in corpus:\t30868\n",
      "Total tokens in corpus:\t669821\n",
      "Padding sequences with <s> and </s> tokens\n",
      "Creating n-grams\n",
      "Total ngram sequences:\t30868\n",
      "Total ngrams:\t793293\n"
     ]
    },
    {
     "data": {
      "image/png": "[encoded data removed]",
      "text/plain": [
       "<Figure size 720x216 with 1 Axes>"
      ]
     },
     "metadata": {
      "needs_background": "light"
     },
     "output_type": "display_data"
    },
    {
     "name": "stdout",
     "output_type": "stream",
     "text": [
      "Filtering sequences based on sequence scores\n",
      "Suspect sequences based on sequence scores:\t1524/30868\n",
      "\n",
      "Testing 6-gram model\n",
      "Sequences in corpus:\t30868\n",
      "Total tokens in corpus:\t669821\n",
      "Padding sequences with <s> and </s> tokens\n",
      "Creating n-grams\n",
      "Total ngram sequences:\t30868\n",
      "Total ngrams:\t824161\n"
     ]
    },
    {
     "data": {
      "image/png": "[encoded data removed]",
      "text/plain": [
       "<Figure size 720x216 with 1 Axes>"
      ]
     },
     "metadata": {
      "needs_background": "light"
     },
     "output_type": "display_data"
    },
    {
     "name": "stdout",
     "output_type": "stream",
     "text": [
      "Filtering sequences based on sequence scores\n",
      "Suspect sequences based on sequence scores:\t1531/30868\n",
      "\n",
      "Testing 7-gram model\n",
      "Sequences in corpus:\t30868\n",
      "Total tokens in corpus:\t669821\n",
      "Padding sequences with <s> and </s> tokens\n",
      "Creating n-grams\n",
      "Total ngram sequences:\t30868\n",
      "Total ngrams:\t855029\n"
     ]
    },
    {
     "data": {
      "image/png": "[encoded data removed]",
      "text/plain": [
       "<Figure size 720x216 with 1 Axes>"
      ]
     },
     "metadata": {
      "needs_background": "light"
     },
     "output_type": "display_data"
    },
    {
     "name": "stdout",
     "output_type": "stream",
     "text": [
      "Filtering sequences based on sequence scores\n",
      "Suspect sequences based on sequence scores:\t1541/30868\n",
      "\n",
      "Testing 8-gram model\n",
      "Sequences in corpus:\t30868\n",
      "Total tokens in corpus:\t669821\n",
      "Padding sequences with <s> and </s> tokens\n",
      "Creating n-grams\n",
      "Total ngram sequences:\t30868\n",
      "Total ngrams:\t885897\n"
     ]
    },
    {
     "data": {
      "image/png": "[encoded data removed]",
      "text/plain": [
       "<Figure size 720x216 with 1 Axes>"
      ]
     },
     "metadata": {
      "needs_background": "light"
     },
     "output_type": "display_data"
    },
    {
     "name": "stdout",
     "output_type": "stream",
     "text": [
      "Filtering sequences based on sequence scores\n",
      "Suspect sequences based on sequence scores:\t1550/30868\n",
      "\n",
      "Testing 9-gram model\n",
      "Sequences in corpus:\t30868\n",
      "Total tokens in corpus:\t669821\n",
      "Padding sequences with <s> and </s> tokens\n",
      "Creating n-grams\n",
      "Total ngram sequences:\t30868\n",
      "Total ngrams:\t916765\n"
     ]
    },
    {
     "data": {
      "image/png": "[encoded data removed]",
      "text/plain": [
       "<Figure size 720x216 with 1 Axes>"
      ]
     },
     "metadata": {
      "needs_background": "light"
     },
     "output_type": "display_data"
    },
    {
     "name": "stdout",
     "output_type": "stream",
     "text": [
      "Filtering sequences based on sequence scores\n",
      "Suspect sequences based on sequence scores:\t1554/30868\n",
      "\n",
      "Testing 10-gram model\n",
      "Sequences in corpus:\t30868\n",
      "Total tokens in corpus:\t669821\n",
      "Padding sequences with <s> and </s> tokens\n",
      "Creating n-grams\n",
      "Total ngram sequences:\t30868\n",
      "Total ngrams:\t947633\n"
     ]
    },
    {
     "data": {
      "image/png": "[encoded data removed]",
      "text/plain": [
       "<Figure size 720x216 with 1 Axes>"
      ]
     },
     "metadata": {
      "needs_background": "light"
     },
     "output_type": "display_data"
    },
    {
     "name": "stdout",
     "output_type": "stream",
     "text": [
      "Filtering sequences based on sequence scores\n",
      "Suspect sequences based on sequence scores:\t1557/30868\n",
      "\n"
     ]
    }
   ],
   "source": [
    "# Text n-gram model\n",
    "ngram_results_text = test_lm(tokenized_corpus, n_values, ngram_data_text)"
   ]
  },
  {
   "cell_type": "code",
   "execution_count": 54,
   "metadata": {
    "scrolled": false
   },
   "outputs": [
    {
     "name": "stdout",
     "output_type": "stream",
     "text": [
      "Replacing tokens with POS tags using HMM\n",
      "Testing 1-gram model\n",
      "Sequences in corpus:\t30868\n",
      "Total tokens in corpus:\t669821\n",
      "Padding sequences with <s> and </s> tokens\n",
      "Creating n-grams\n",
      "Total ngram sequences:\t30868\n",
      "Total ngrams:\t669821\n"
     ]
    },
    {
     "data": {
      "image/png": "[encoded data removed]",
      "text/plain": [
       "<Figure size 720x216 with 1 Axes>"
      ]
     },
     "metadata": {
      "needs_background": "light"
     },
     "output_type": "display_data"
    },
    {
     "name": "stdout",
     "output_type": "stream",
     "text": [
      "Filtering sequences based on sequence scores\n",
      "Suspect sequences based on sequence scores:\t1102/30868\n",
      "\n",
      "Testing 2-gram model\n",
      "Sequences in corpus:\t30868\n",
      "Total tokens in corpus:\t669821\n",
      "Padding sequences with <s> and </s> tokens\n",
      "Creating n-grams\n",
      "Total ngram sequences:\t30868\n",
      "Total ngrams:\t700689\n"
     ]
    },
    {
     "data": {
      "image/png": "[encoded data removed]",
      "text/plain": [
       "<Figure size 720x216 with 1 Axes>"
      ]
     },
     "metadata": {
      "needs_background": "light"
     },
     "output_type": "display_data"
    },
    {
     "name": "stdout",
     "output_type": "stream",
     "text": [
      "Filtering sequences based on sequence scores\n",
      "Suspect sequences based on sequence scores:\t1234/30868\n",
      "\n",
      "Testing 3-gram model\n",
      "Sequences in corpus:\t30868\n",
      "Total tokens in corpus:\t669821\n",
      "Padding sequences with <s> and </s> tokens\n",
      "Creating n-grams\n",
      "Total ngram sequences:\t30868\n",
      "Total ngrams:\t731557\n"
     ]
    },
    {
     "data": {
      "image/png": "[encoded data removed]",
      "text/plain": [
       "<Figure size 720x216 with 1 Axes>"
      ]
     },
     "metadata": {
      "needs_background": "light"
     },
     "output_type": "display_data"
    },
    {
     "name": "stdout",
     "output_type": "stream",
     "text": [
      "Filtering sequences based on sequence scores\n",
      "Suspect sequences based on sequence scores:\t1388/30868\n",
      "\n",
      "Testing 4-gram model\n",
      "Sequences in corpus:\t30868\n",
      "Total tokens in corpus:\t669821\n",
      "Padding sequences with <s> and </s> tokens\n",
      "Creating n-grams\n",
      "Total ngram sequences:\t30868\n",
      "Total ngrams:\t762425\n"
     ]
    },
    {
     "data": {
      "image/png": "[encoded data removed]",
      "text/plain": [
       "<Figure size 720x216 with 1 Axes>"
      ]
     },
     "metadata": {
      "needs_background": "light"
     },
     "output_type": "display_data"
    },
    {
     "name": "stdout",
     "output_type": "stream",
     "text": [
      "Filtering sequences based on sequence scores\n",
      "Suspect sequences based on sequence scores:\t1560/30868\n",
      "\n",
      "Testing 5-gram model\n",
      "Sequences in corpus:\t30868\n",
      "Total tokens in corpus:\t669821\n",
      "Padding sequences with <s> and </s> tokens\n",
      "Creating n-grams\n",
      "Total ngram sequences:\t30868\n",
      "Total ngrams:\t793293\n"
     ]
    },
    {
     "data": {
      "image/png": "[encoded data removed]",
      "text/plain": [
       "<Figure size 720x216 with 1 Axes>"
      ]
     },
     "metadata": {
      "needs_background": "light"
     },
     "output_type": "display_data"
    },
    {
     "name": "stdout",
     "output_type": "stream",
     "text": [
      "Filtering sequences based on sequence scores\n",
      "Suspect sequences based on sequence scores:\t1699/30868\n",
      "\n",
      "Testing 6-gram model\n",
      "Sequences in corpus:\t30868\n",
      "Total tokens in corpus:\t669821\n",
      "Padding sequences with <s> and </s> tokens\n",
      "Creating n-grams\n",
      "Total ngram sequences:\t30868\n",
      "Total ngrams:\t824161\n"
     ]
    },
    {
     "data": {
      "image/png": "[encoded data removed]",
      "text/plain": [
       "<Figure size 720x216 with 1 Axes>"
      ]
     },
     "metadata": {
      "needs_background": "light"
     },
     "output_type": "display_data"
    },
    {
     "name": "stdout",
     "output_type": "stream",
     "text": [
      "Filtering sequences based on sequence scores\n",
      "Suspect sequences based on sequence scores:\t1793/30868\n",
      "\n",
      "Testing 7-gram model\n",
      "Sequences in corpus:\t30868\n",
      "Total tokens in corpus:\t669821\n",
      "Padding sequences with <s> and </s> tokens\n",
      "Creating n-grams\n",
      "Total ngram sequences:\t30868\n",
      "Total ngrams:\t855029\n"
     ]
    },
    {
     "data": {
      "image/png": "[encoded data removed]",
      "text/plain": [
       "<Figure size 720x216 with 1 Axes>"
      ]
     },
     "metadata": {
      "needs_background": "light"
     },
     "output_type": "display_data"
    },
    {
     "name": "stdout",
     "output_type": "stream",
     "text": [
      "Filtering sequences based on sequence scores\n",
      "Suspect sequences based on sequence scores:\t1850/30868\n",
      "\n",
      "Testing 8-gram model\n",
      "Sequences in corpus:\t30868\n",
      "Total tokens in corpus:\t669821\n",
      "Padding sequences with <s> and </s> tokens\n",
      "Creating n-grams\n",
      "Total ngram sequences:\t30868\n",
      "Total ngrams:\t885897\n"
     ]
    },
    {
     "data": {
      "image/png": "[encoded data removed]",
      "text/plain": [
       "<Figure size 720x216 with 1 Axes>"
      ]
     },
     "metadata": {
      "needs_background": "light"
     },
     "output_type": "display_data"
    },
    {
     "name": "stdout",
     "output_type": "stream",
     "text": [
      "Filtering sequences based on sequence scores\n",
      "Suspect sequences based on sequence scores:\t1881/30868\n",
      "\n",
      "Testing 9-gram model\n",
      "Sequences in corpus:\t30868\n",
      "Total tokens in corpus:\t669821\n",
      "Padding sequences with <s> and </s> tokens\n",
      "Creating n-grams\n",
      "Total ngram sequences:\t30868\n",
      "Total ngrams:\t916765\n"
     ]
    },
    {
     "data": {
      "image/png": "[encoded data removed]",
      "text/plain": [
       "<Figure size 720x216 with 1 Axes>"
      ]
     },
     "metadata": {
      "needs_background": "light"
     },
     "output_type": "display_data"
    },
    {
     "name": "stdout",
     "output_type": "stream",
     "text": [
      "Filtering sequences based on sequence scores\n",
      "Suspect sequences based on sequence scores:\t1896/30868\n",
      "\n",
      "Testing 10-gram model\n",
      "Sequences in corpus:\t30868\n",
      "Total tokens in corpus:\t669821\n",
      "Padding sequences with <s> and </s> tokens\n",
      "Creating n-grams\n",
      "Total ngram sequences:\t30868\n",
      "Total ngrams:\t947633\n"
     ]
    },
    {
     "data": {
      "image/png": "[encoded data removed]",
      "text/plain": [
       "<Figure size 720x216 with 1 Axes>"
      ]
     },
     "metadata": {
      "needs_background": "light"
     },
     "output_type": "display_data"
    },
    {
     "name": "stdout",
     "output_type": "stream",
     "text": [
      "Filtering sequences based on sequence scores\n",
      "Suspect sequences based on sequence scores:\t1919/30868\n",
      "\n"
     ]
    }
   ],
   "source": [
    "# POS tag n-gram model\n",
    "pos_corpus = convert_to_pos_tags(tokenized_corpus, pos_type=pos_type)\n",
    "ngram_results_pos = test_lm(pos_corpus, n_values, ngram_data_pos)"
   ]
  },
  {
   "cell_type": "code",
   "execution_count": 55,
   "metadata": {
    "id": "m9DSjNE5EVCU"
   },
   "outputs": [],
   "source": [
    "def print_stats(text_list, n_values, ngram_results, indexes=None):\n",
    "    print('Total text files in unknown corpus:\\t\\t', len(text_list))\n",
    "    print('Total sequence generated from unknown corpus:\\t', len(ngram_results[n_values[-1]]['padded_sequences']))\n",
    "    for n_value in n_values:\n",
    "        print(f'{n_value}-gram')\n",
    "        print('Total suspect sequences:\\t\\t\\t', len(ngram_results[n_value]['suspect_sequences_index']))\n",
    "        print('Total suspect files:\\t\\t\\t\\t', len(ngram_results[n_value]['suspect_corpus_index']))\n",
    "        if indexes is None:\n",
    "            return\n",
    "        elif indexes == 'all':\n",
    "            for index in range(len(text_list)):\n",
    "                print(f\"\\t{index}:\\t{index in ngram_results[n_value]['suspect_corpus_index']}\")\n",
    "        else:\n",
    "            for index in indexes:\n",
    "                print(f\"\\t{index}:\\t{index in ngram_results[n_value]['suspect_corpus_index']}\")"
   ]
  },
  {
   "cell_type": "code",
   "execution_count": 56,
   "metadata": {
    "id": "1YZSlKc9EWal",
    "scrolled": true
   },
   "outputs": [
    {
     "name": "stdout",
     "output_type": "stream",
     "text": [
      "Total text files in unknown corpus:\t\t 8698\n",
      "Total sequence generated from unknown corpus:\t 30868\n",
      "1-gram\n",
      "Total suspect sequences:\t\t\t 995\n",
      "Total suspect files:\t\t\t\t 831\n",
      "\t0:\tFalse\n",
      "\t1:\tTrue\n",
      "\t2:\tFalse\n",
      "2-gram\n",
      "Total suspect sequences:\t\t\t 1222\n",
      "Total suspect files:\t\t\t\t 1002\n",
      "\t0:\tFalse\n",
      "\t1:\tTrue\n",
      "\t2:\tFalse\n",
      "3-gram\n",
      "Total suspect sequences:\t\t\t 1404\n",
      "Total suspect files:\t\t\t\t 1135\n",
      "\t0:\tFalse\n",
      "\t1:\tTrue\n",
      "\t2:\tFalse\n",
      "4-gram\n",
      "Total suspect sequences:\t\t\t 1483\n",
      "Total suspect files:\t\t\t\t 1190\n",
      "\t0:\tFalse\n",
      "\t1:\tTrue\n",
      "\t2:\tFalse\n",
      "5-gram\n",
      "Total suspect sequences:\t\t\t 1524\n",
      "Total suspect files:\t\t\t\t 1214\n",
      "\t0:\tFalse\n",
      "\t1:\tTrue\n",
      "\t2:\tFalse\n",
      "6-gram\n",
      "Total suspect sequences:\t\t\t 1531\n",
      "Total suspect files:\t\t\t\t 1220\n",
      "\t0:\tFalse\n",
      "\t1:\tTrue\n",
      "\t2:\tFalse\n",
      "7-gram\n",
      "Total suspect sequences:\t\t\t 1541\n",
      "Total suspect files:\t\t\t\t 1227\n",
      "\t0:\tFalse\n",
      "\t1:\tTrue\n",
      "\t2:\tFalse\n",
      "8-gram\n",
      "Total suspect sequences:\t\t\t 1550\n",
      "Total suspect files:\t\t\t\t 1234\n",
      "\t0:\tFalse\n",
      "\t1:\tTrue\n",
      "\t2:\tFalse\n",
      "9-gram\n",
      "Total suspect sequences:\t\t\t 1554\n",
      "Total suspect files:\t\t\t\t 1237\n",
      "\t0:\tFalse\n",
      "\t1:\tTrue\n",
      "\t2:\tFalse\n",
      "10-gram\n",
      "Total suspect sequences:\t\t\t 1557\n",
      "Total suspect files:\t\t\t\t 1238\n",
      "\t0:\tFalse\n",
      "\t1:\tTrue\n",
      "\t2:\tFalse\n"
     ]
    }
   ],
   "source": [
    "# print_stats(test_text_list, n_values, ngram_results_text)\n",
    "# print_stats(test_text_list, n_values, ngram_results_text, indexes='all')\n",
    "print_stats(test_text_list, n_values, ngram_results_text, indexes=[i for i in range(min(3, len(test_text_list)))])"
   ]
  },
  {
   "cell_type": "code",
   "execution_count": 57,
   "metadata": {
    "scrolled": true
   },
   "outputs": [
    {
     "name": "stdout",
     "output_type": "stream",
     "text": [
      "Total text files in unknown corpus:\t\t 8698\n",
      "Total sequence generated from unknown corpus:\t 30868\n",
      "1-gram\n",
      "Total suspect sequences:\t\t\t 1102\n",
      "Total suspect files:\t\t\t\t 905\n",
      "\t0:\tFalse\n",
      "\t1:\tTrue\n",
      "\t2:\tFalse\n",
      "2-gram\n",
      "Total suspect sequences:\t\t\t 1234\n",
      "Total suspect files:\t\t\t\t 1007\n",
      "\t0:\tFalse\n",
      "\t1:\tTrue\n",
      "\t2:\tFalse\n",
      "3-gram\n",
      "Total suspect sequences:\t\t\t 1388\n",
      "Total suspect files:\t\t\t\t 1114\n",
      "\t0:\tFalse\n",
      "\t1:\tTrue\n",
      "\t2:\tFalse\n",
      "4-gram\n",
      "Total suspect sequences:\t\t\t 1560\n",
      "Total suspect files:\t\t\t\t 1246\n",
      "\t0:\tFalse\n",
      "\t1:\tTrue\n",
      "\t2:\tFalse\n",
      "5-gram\n",
      "Total suspect sequences:\t\t\t 1699\n",
      "Total suspect files:\t\t\t\t 1338\n",
      "\t0:\tFalse\n",
      "\t1:\tTrue\n",
      "\t2:\tFalse\n",
      "6-gram\n",
      "Total suspect sequences:\t\t\t 1793\n",
      "Total suspect files:\t\t\t\t 1418\n",
      "\t0:\tFalse\n",
      "\t1:\tTrue\n",
      "\t2:\tFalse\n",
      "7-gram\n",
      "Total suspect sequences:\t\t\t 1850\n",
      "Total suspect files:\t\t\t\t 1453\n",
      "\t0:\tFalse\n",
      "\t1:\tTrue\n",
      "\t2:\tFalse\n",
      "8-gram\n",
      "Total suspect sequences:\t\t\t 1881\n",
      "Total suspect files:\t\t\t\t 1472\n",
      "\t0:\tFalse\n",
      "\t1:\tTrue\n",
      "\t2:\tFalse\n",
      "9-gram\n",
      "Total suspect sequences:\t\t\t 1896\n",
      "Total suspect files:\t\t\t\t 1482\n",
      "\t0:\tFalse\n",
      "\t1:\tTrue\n",
      "\t2:\tFalse\n",
      "10-gram\n",
      "Total suspect sequences:\t\t\t 1919\n",
      "Total suspect files:\t\t\t\t 1500\n",
      "\t0:\tFalse\n",
      "\t1:\tTrue\n",
      "\t2:\tFalse\n"
     ]
    }
   ],
   "source": [
    "# print_stats(test_text_list, n_values, ngram_results_pos)\n",
    "# print_stats(test_text_list, n_values, ngram_results_pos, indexes='all')\n",
    "print_stats(test_text_list, n_values, ngram_results_pos, indexes=[i for i in range(min(3, len(test_text_list)))])"
   ]
  },
  {
   "cell_type": "code",
   "execution_count": 58,
   "metadata": {},
   "outputs": [
    {
     "name": "stdout",
     "output_type": "stream",
     "text": [
      "Size of combined suspect set:\n",
      "\t1-gram: 735/8698\n",
      "\t2-gram: 851/8698\n",
      "\t3-gram: 937/8698\n",
      "\t4-gram: 1026/8698\n",
      "\t5-gram: 1099/8698\n",
      "\t6-gram: 1166/8698\n",
      "\t7-gram: 1202/8698\n",
      "\t8-gram: 1221/8698\n",
      "\t9-gram: 1228/8698\n",
      "\t10-gram: 1232/8698\n"
     ]
    }
   ],
   "source": [
    "common_suspects = dict()\n",
    "print(f\"Size of combined suspect set:\")\n",
    "for n_value in n_values:\n",
    "    common_suspects[n_value] = list(set(ngram_results_text[n_value]['suspect_corpus_index']) & set(ngram_results_pos[n_value]['suspect_corpus_index']))\n",
    "    print(f\"\\t{n_value}-gram: {len(common_suspects[n_value])}/{len(test_text_list)}\")"
   ]
  },
  {
   "cell_type": "markdown",
   "metadata": {},
   "source": [
    "### Log perplexity"
   ]
  },
  {
   "cell_type": "code",
   "execution_count": 59,
   "metadata": {
    "scrolled": true
   },
   "outputs": [
    {
     "name": "stdout",
     "output_type": "stream",
     "text": [
      "Text n-gram model log perplexities:\n",
      "\t1-gram perplexity = 9.431800761246446\n",
      "\t2-gram perplexity = 10.209067998891697\n",
      "\t3-gram perplexity = 11.530804734297359\n",
      "\t4-gram perplexity = 11.56637343780164\n",
      "\t5-gram perplexity = 11.303994900390192\n",
      "\t6-gram perplexity = 11.029852920732152\n",
      "\t7-gram perplexity = 10.782343210901653\n",
      "\t8-gram perplexity = 10.561753210071885\n",
      "\t9-gram perplexity = 10.364395739590872\n",
      "\t10-gram perplexity = 10.186853082528733\n",
      "\n",
      "POS tag n-gram model log perplexities:\n",
      "\t1-gram perplexity = 5.248471429761425\n",
      "\t2-gram perplexity = 3.697171775338458\n",
      "\t3-gram perplexity = 3.7728874564200696\n",
      "\t4-gram perplexity = 4.391399658426517\n",
      "\t5-gram perplexity = 4.954386574264282\n",
      "\t6-gram perplexity = 5.234637376808129\n",
      "\t7-gram perplexity = 5.307059717625388\n",
      "\t8-gram perplexity = 5.281285794596146\n",
      "\t9-gram perplexity = 5.222158244781763\n",
      "\t10-gram perplexity = 5.157382749360958\n"
     ]
    }
   ],
   "source": [
    "print(\"Text n-gram model log perplexities:\")\n",
    "for n_value in n_values:\n",
    "    print(f\"\\t{n_value}-gram perplexity =\", ngram_results_text[n_value]['log_perplexity'])\n",
    "\n",
    "print(\"\\nPOS tag n-gram model log perplexities:\")\n",
    "for n_value in n_values:\n",
    "    print(f\"\\t{n_value}-gram perplexity =\", ngram_results_pos[n_value]['log_perplexity'])"
   ]
  },
  {
   "cell_type": "code",
   "execution_count": 61,
   "metadata": {},
   "outputs": [
    {
     "data": {
      "image/png": "[encoded data removed]",
      "text/plain": [
       "<Figure size 720x360 with 1 Axes>"
      ]
     },
     "metadata": {
      "needs_background": "light"
     },
     "output_type": "display_data"
    }
   ],
   "source": [
    "text_n_gram_perplexities = []\n",
    "for n_value in n_values:\n",
    "    text_n_gram_perplexities.append(ngram_results_text[n_value]['log_perplexity'])\n",
    "\n",
    "freq_series = pd.Series(text_n_gram_perplexities)\n",
    "x_labels = [f'{n_value}-gram' for n_value in n_values]\n",
    "plt.figure(figsize=(10, 5))\n",
    "ax = freq_series.plot(kind=\"bar\")\n",
    "ax.set_title(\"Comparision of text n-gram model perplexities\")\n",
    "ax.set_xlabel(\"nth-gram\")\n",
    "ax.set_ylabel(\"Perplexity\")\n",
    "ax.set_xticklabels(x_labels)\n",
    "rects = ax.patches\n",
    "plt.show()"
   ]
  },
  {
   "cell_type": "code",
   "execution_count": 62,
   "metadata": {},
   "outputs": [
    {
     "data": {
      "image/png": "[encoded data removed]",
      "text/plain": [
       "<Figure size 720x360 with 1 Axes>"
      ]
     },
     "metadata": {
      "needs_background": "light"
     },
     "output_type": "display_data"
    }
   ],
   "source": [
    "pos_perplexities = []\n",
    "for n_value in n_values:\n",
    "    pos_perplexities.append(ngram_results_pos[n_value]['log_perplexity'])\n",
    "\n",
    "freq_series = pd.Series(pos_perplexities)\n",
    "x_labels = [f'{n_value}-gram' for n_value in n_values]\n",
    "plt.figure(figsize=(10, 5))\n",
    "ax = freq_series.plot(kind=\"bar\")\n",
    "ax.set_title(\"Comparision of POS tag n-gram model perplexities\")\n",
    "ax.set_xlabel(\"nth-gram\")\n",
    "ax.set_ylabel(\"Perplexity\")\n",
    "ax.set_xticklabels(x_labels)\n",
    "rects = ax.patches\n",
    "plt.show()"
   ]
  },
  {
   "cell_type": "markdown",
   "metadata": {},
   "source": [
    "### Output"
   ]
  },
  {
   "cell_type": "markdown",
   "metadata": {},
   "source": [
    "#### Displaying random segments classified as suspect by models"
   ]
  },
  {
   "cell_type": "code",
   "execution_count": 63,
   "metadata": {
    "id": "3DewI-wIEZvW",
    "scrolled": true
   },
   "outputs": [],
   "source": [
    "def print_corpus_text_from_suspect_sequence_index_(index, corpus, n_value, ngram_results):\n",
    "    assert 0<=index and index<len(ngram_results[n_value]['suspect_sequences_index'])\n",
    "    sequence_index = ngram_results[n_value]['suspect_sequences_index'][index]\n",
    "    print('Segment:\\n', get_sentence_from_tokens(ngram_results[n_value]['padded_sequences'][sequence_index]))\n",
    "    corpus_index = ngram_results[n_value]['map_to_corpus_index'][sequence_index]\n",
    "    print('\\nText in corpus:\\n', corpus[corpus_index])"
   ]
  },
  {
   "cell_type": "code",
   "execution_count": 64,
   "metadata": {
    "scrolled": true
   },
   "outputs": [
    {
     "name": "stdout",
     "output_type": "stream",
     "text": [
      "Segment:\n",
      " Though he struggled with philosophy all his life , he never got much beyond the pessimism of his twenties ; ; the ` ` sober opinion `` of his letter to Noyes , written when Hardy was eighty years old , is essentially that of hissing first ` ` philosophical `` notebook entry , made when he was twenty - five : ` ` The world does not despise us : it only neglects us `` ( Early Life , p. 63 ) .\n",
      "\n",
      "Text in corpus:\n",
      " is not , however , the case , and development is a term which we can apply to Hardy only in a very limited sense . In a time when poetic style , and poetic belief as well , seem in a state of continual flux , Hardies stands out as a poet of almost perverse consistency . Though he struggled with philosophy all his life , he never got much beyond the pessimism of his twenties ; ; the ` ` sober opinion '' of his letter to Noyes , written when Hardy was eighty years old , is essentially that of hissing first ` ` philosophical '' notebook entry , made when he was twenty - five : ` ` The world does not despise us : it only neglects us '' ( Early Life , p. 63 ) . And though in his later years he revised his poems many times , the revisions did not alter thing essential nature of the style which he had established before he was thirty ; ; so that , while it usualliest is easy to recognize a poem by Hardy , it is difficult to date one .\n"
     ]
    }
   ],
   "source": [
    "# Text n-gram model\n",
    "print_corpus_text_from_suspect_sequence_index_(index=10, corpus=test_text_list, n_value=3, \n",
    "                                               ngram_results=ngram_results_text)"
   ]
  },
  {
   "cell_type": "code",
   "execution_count": 65,
   "metadata": {
    "scrolled": false
   },
   "outputs": [
    {
     "name": "stdout",
     "output_type": "stream",
     "text": [
      "Segment:\n",
      " UNK VBZ JJ WRB PN VBZ CS PPS VBD NN RBR CS DTI AP JJ UNK NN : UNK UNK UNK `` BEZ VBN UNK UNK IN-TL CD CC CD `` . . UNK UNK UNK UNK UNK UNK `` BEZ VBN UNK ,-HL CD .\n",
      "\n",
      "Text in corpus:\n",
      " So fars these remarks , like most criticisms of Hardy , have tacitly assumed that his poetry is all of a piece , one solid mass of verse expressing a sensibility at a single stage of development . For critics , Hardy has had no poetic periods -- one does not speak of early Hardy or late Hardy , or of the London or Max Gate period , but simply of Hardy , as of a poetic monolith . This seems odd when one recalls that he wrote poetry longer than any other major English poet : ` ` Domicilium '' is dated ` ` between 1857 and 1860 '' ; ; ` ` Seeing The Moonest Rise '' is dated August , 1927 . One might expect that in a poetic career of seventy - odd years , some changes in style and method would have occurred , some development taken place .\n"
     ]
    }
   ],
   "source": [
    "# POS tag n-gram model\n",
    "print_corpus_text_from_suspect_sequence_index_(index=10, corpus=test_text_list, n_value=3, \n",
    "                                               ngram_results=ngram_results_pos)"
   ]
  },
  {
   "cell_type": "markdown",
   "metadata": {},
   "source": [
    "#### Testing if a sentence in corpus is classified as suspect by both models (text, POS tag)"
   ]
  },
  {
   "cell_type": "code",
   "execution_count": 73,
   "metadata": {
    "scrolled": true
   },
   "outputs": [
    {
     "name": "stdout",
     "output_type": "stream",
     "text": [
      "The Fulton County Grand Jury say Friday an investigation of Atlanta 's recent primary election produced ` ` no evidence '' that any irregularities took place .\n",
      "\t1-gram: \tFalse\n",
      "\t2-gram: \tFalse\n",
      "\t3-gram: \tFalse\n",
      "\t4-gram: \tFalse\n",
      "\t5-gram: \tFalse\n",
      "\t6-gram: \tFalse\n",
      "\t7-gram: \tFalse\n",
      "\t8-gram: \tFalse\n",
      "\t9-gram: \tFalse\n",
      "\t10-gram: \tFalse\n"
     ]
    }
   ],
   "source": [
    "# Check if sentence in test corpus is grammatically correct\n",
    "corpus_index_to_check = 0\n",
    "print(test_text_list[corpus_index_to_check]) \n",
    "for n_value in n_values:\n",
    "    print(f'\\t{n_value}-gram: \\t{corpus_index_to_check in common_suspects[n_value]}') "
   ]
  },
  {
   "cell_type": "markdown",
   "metadata": {
    "id": "GaZg4--fEgKU"
   },
   "source": [
    "### Saving model"
   ]
  },
  {
   "cell_type": "code",
   "execution_count": 67,
   "metadata": {
    "id": "gYJWB4TmEcn_"
   },
   "outputs": [],
   "source": [
    "import dill as pickle \n",
    "\n",
    "for n_value in n_values:\n",
    "    with open(os.path.join(BASE_DIR, 'models', f'{n_value}_gram_text.pkl'), 'wb') as fout:\n",
    "        pickle.dump(ngram_data_text[n_value]['model'], fout)\n",
    "        \n",
    "for n_value in n_values:\n",
    "    with open(os.path.join(BASE_DIR, 'models', f'{n_value}_gram_pos.pkl'), 'wb') as fout:\n",
    "        pickle.dump(ngram_data_pos[n_value]['model'], fout)"
   ]
  },
  {
   "cell_type": "markdown",
   "metadata": {},
   "source": [
    "## Contribution\n",
    "- Adarsh Nandanwar [2018A7PS0396G] - Language Model (n-gram) Train and Test, Language Model Evaluation\n",
    "- Yash Narang [2018A7PS0150G] - POS Tagging: Hidden Markov Model\n",
    "- Manav Mehta [2018A7PS0164G] - Dataset Analysis\n",
    "- Aditya Jain [2018A7PS0243G] - POS Tagging: Spacy, Perplexity Calculation\n",
    "- Pranav Gaur [2018A7PS0099G] - POS Tagging: Spacy, Perplexity Calculation"
   ]
  },
  {
   "cell_type": "code",
   "execution_count": null,
   "metadata": {},
   "outputs": [],
   "source": []
  }
 ],
 "metadata": {
  "colab": {
   "collapsed_sections": [],
   "name": "nlp_grammer_check.ipynb",
   "provenance": []
  },
  "kernelspec": {
   "display_name": "Python 3",
   "language": "python",
   "name": "python3"
  },
  "language_info": {
   "codemirror_mode": {
    "name": "ipython",
    "version": 3
   },
   "file_extension": ".py",
   "mimetype": "text/x-python",
   "name": "python",
   "nbconvert_exporter": "python",
   "pygments_lexer": "ipython3",
   "version": "3.8.5"
  }
 },
 "nbformat": 4,
 "nbformat_minor": 1
}
